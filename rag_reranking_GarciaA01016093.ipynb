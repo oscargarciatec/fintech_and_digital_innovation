{
 "cells": [
  {
   "cell_type": "markdown",
   "id": "341a93e1",
   "metadata": {},
   "source": [
    "# 🎓 **Applied Artificial Intelligence Master**\n",
    "\n",
    "## 🤖 **Course: Fintech and Digital Innovation in Finance (Gpo 10)**\n",
    "\n",
    "### 🏛️ Tecnológico de Monterrey\n",
    "\n",
    "#### 👨‍🏫 **Lead Professor:** Marie-Ève Malette\n",
    "#### 👩‍🏫 **Assistant Professor:** Yetnalezi Quintas Ruiz\n",
    "\n",
    "### 📊 **Project 4 |  Section A: Advanced RAG techniques & Sentiment Analysis on S&P 500 news**\n",
    "\n",
    "#### 📅 **August 13th, 2025**\n",
    "\n",
    "#### **Student:**\n",
    "* 🧑‍💻 Oscar Enrique García García (A01016093)"
   ]
  },
  {
   "cell_type": "markdown",
   "id": "07557e5a",
   "metadata": {},
   "source": [
    "# Introduction to reranking: an advanced RAG technique"
   ]
  },
  {
   "cell_type": "markdown",
   "id": "0b780d1b",
   "metadata": {},
   "source": [
    "In this notebook, you will test an advanced RAG technique: using a reranker (CrossEncoder model) to improve the retrieval of news in a RAG pipeline.\n",
    "\n",
    "The notebook is partially filled with code. You will complete it by writing the missing code, running evaluations, and comparing results."
   ]
  },
  {
   "cell_type": "markdown",
   "id": "dbd78911",
   "metadata": {},
   "source": [
    "# 📌 Objectives\n",
    "\n",
    "By the end of this notebook, students will be able to:\n",
    "\n",
    "1. **Create and Use a Synthetic Evaluation Dataset:**\n",
    "   - Automatically generate natural language questions corresponding to news articles using an LLM.\n",
    "   - Construct a test set to assess the quality of retrieved answers.\n",
    "\n",
    "2. **Evaluate Baseline RAG Performance Without Reranking:**\n",
    "   - Measure how often the original article appears in the top-k results using FAISS alone.\n",
    "   - Record retrieval accuracy and position for each query.\n",
    "\n",
    "3. **Apply a Cross-Encoder Reranker to Improve Retrieval:**\n",
    "   - Use a pretrained CrossEncoder model to rerank top FAISS results.\n",
    "   - Evaluate improvements in the ranking of correct articles after reranking.\n",
    "\n",
    "4. **Compare Retrieval Performance With and Without Reranking:**\n",
    "   - Compute and visualize differences in rank positions before and after reranking.\n",
    "   - Analyze statistical improvements (e.g., average rank, frequency at position 0).\n",
    "\n",
    "5. **Reflect on the Impact of Reranking in RAG Pipelines:**\n",
    "   - Discuss how reranking enhances retrieval quality in a RAG context.\n",
    "   - Identify scenarios where reranking may offer the most value, and propose further improvements.\n"
   ]
  },
  {
   "cell_type": "markdown",
   "id": "fb80062c",
   "metadata": {},
   "source": [
    "## Install and Import librairies\n",
    "Run the following cell to install required libraries. These include `sentence-transformers` for embeddings and reranking, and `faiss-cpu` for vector similarity search."
   ]
  },
  {
   "cell_type": "code",
   "execution_count": 1,
   "id": "8881fdc9",
   "metadata": {},
   "outputs": [
    {
     "name": "stdout",
     "output_type": "stream",
     "text": [
      "Requirement already satisfied: sentence-transformers in /opt/anaconda3/envs/env-pyspark-mna/lib/python3.12/site-packages (5.0.0)\n",
      "Requirement already satisfied: transformers<5.0.0,>=4.41.0 in /opt/anaconda3/envs/env-pyspark-mna/lib/python3.12/site-packages (from sentence-transformers) (4.54.0)\n",
      "Requirement already satisfied: tqdm in /opt/anaconda3/envs/env-pyspark-mna/lib/python3.12/site-packages (from sentence-transformers) (4.67.1)\n",
      "Requirement already satisfied: torch>=1.11.0 in /opt/anaconda3/envs/env-pyspark-mna/lib/python3.12/site-packages (from sentence-transformers) (2.7.1)\n",
      "Requirement already satisfied: scikit-learn in /opt/anaconda3/envs/env-pyspark-mna/lib/python3.12/site-packages (from sentence-transformers) (1.7.1)\n",
      "Requirement already satisfied: scipy in /opt/anaconda3/envs/env-pyspark-mna/lib/python3.12/site-packages (from sentence-transformers) (1.16.1)\n",
      "Requirement already satisfied: huggingface-hub>=0.20.0 in /opt/anaconda3/envs/env-pyspark-mna/lib/python3.12/site-packages (from sentence-transformers) (0.34.1)\n",
      "Requirement already satisfied: Pillow in /opt/anaconda3/envs/env-pyspark-mna/lib/python3.12/site-packages (from sentence-transformers) (11.1.0)\n",
      "Requirement already satisfied: typing_extensions>=4.5.0 in /opt/anaconda3/envs/env-pyspark-mna/lib/python3.12/site-packages (from sentence-transformers) (4.13.2)\n",
      "Requirement already satisfied: filelock in /opt/anaconda3/envs/env-pyspark-mna/lib/python3.12/site-packages (from huggingface-hub>=0.20.0->sentence-transformers) (3.18.0)\n",
      "Requirement already satisfied: fsspec>=2023.5.0 in /opt/anaconda3/envs/env-pyspark-mna/lib/python3.12/site-packages (from huggingface-hub>=0.20.0->sentence-transformers) (2025.7.0)\n",
      "Requirement already satisfied: packaging>=20.9 in /opt/anaconda3/envs/env-pyspark-mna/lib/python3.12/site-packages (from huggingface-hub>=0.20.0->sentence-transformers) (24.2)\n",
      "Requirement already satisfied: pyyaml>=5.1 in /opt/anaconda3/envs/env-pyspark-mna/lib/python3.12/site-packages (from huggingface-hub>=0.20.0->sentence-transformers) (6.0.2)\n",
      "Requirement already satisfied: requests in /opt/anaconda3/envs/env-pyspark-mna/lib/python3.12/site-packages (from huggingface-hub>=0.20.0->sentence-transformers) (2.32.3)\n",
      "Requirement already satisfied: hf-xet<2.0.0,>=1.1.3 in /opt/anaconda3/envs/env-pyspark-mna/lib/python3.12/site-packages (from huggingface-hub>=0.20.0->sentence-transformers) (1.1.5)\n",
      "Requirement already satisfied: setuptools in /opt/anaconda3/envs/env-pyspark-mna/lib/python3.12/site-packages (from torch>=1.11.0->sentence-transformers) (75.8.0)\n",
      "Requirement already satisfied: sympy>=1.13.3 in /opt/anaconda3/envs/env-pyspark-mna/lib/python3.12/site-packages (from torch>=1.11.0->sentence-transformers) (1.14.0)\n",
      "Requirement already satisfied: networkx in /opt/anaconda3/envs/env-pyspark-mna/lib/python3.12/site-packages (from torch>=1.11.0->sentence-transformers) (3.5)\n",
      "Requirement already satisfied: jinja2 in /opt/anaconda3/envs/env-pyspark-mna/lib/python3.12/site-packages (from torch>=1.11.0->sentence-transformers) (3.1.6)\n",
      "Requirement already satisfied: numpy>=1.17 in /opt/anaconda3/envs/env-pyspark-mna/lib/python3.12/site-packages (from transformers<5.0.0,>=4.41.0->sentence-transformers) (1.26.4)\n",
      "Requirement already satisfied: regex!=2019.12.17 in /opt/anaconda3/envs/env-pyspark-mna/lib/python3.12/site-packages (from transformers<5.0.0,>=4.41.0->sentence-transformers) (2024.11.6)\n",
      "Requirement already satisfied: tokenizers<0.22,>=0.21 in /opt/anaconda3/envs/env-pyspark-mna/lib/python3.12/site-packages (from transformers<5.0.0,>=4.41.0->sentence-transformers) (0.21.2)\n",
      "Requirement already satisfied: safetensors>=0.4.3 in /opt/anaconda3/envs/env-pyspark-mna/lib/python3.12/site-packages (from transformers<5.0.0,>=4.41.0->sentence-transformers) (0.5.3)\n",
      "Requirement already satisfied: joblib>=1.2.0 in /opt/anaconda3/envs/env-pyspark-mna/lib/python3.12/site-packages (from scikit-learn->sentence-transformers) (1.5.1)\n",
      "Requirement already satisfied: threadpoolctl>=3.1.0 in /opt/anaconda3/envs/env-pyspark-mna/lib/python3.12/site-packages (from scikit-learn->sentence-transformers) (3.6.0)\n",
      "Requirement already satisfied: mpmath<1.4,>=1.1.0 in /opt/anaconda3/envs/env-pyspark-mna/lib/python3.12/site-packages (from sympy>=1.13.3->torch>=1.11.0->sentence-transformers) (1.3.0)\n",
      "Requirement already satisfied: MarkupSafe>=2.0 in /opt/anaconda3/envs/env-pyspark-mna/lib/python3.12/site-packages (from jinja2->torch>=1.11.0->sentence-transformers) (3.0.2)\n",
      "Requirement already satisfied: charset-normalizer<4,>=2 in /opt/anaconda3/envs/env-pyspark-mna/lib/python3.12/site-packages (from requests->huggingface-hub>=0.20.0->sentence-transformers) (3.3.2)\n",
      "Requirement already satisfied: idna<4,>=2.5 in /opt/anaconda3/envs/env-pyspark-mna/lib/python3.12/site-packages (from requests->huggingface-hub>=0.20.0->sentence-transformers) (3.7)\n",
      "Requirement already satisfied: urllib3<3,>=1.21.1 in /opt/anaconda3/envs/env-pyspark-mna/lib/python3.12/site-packages (from requests->huggingface-hub>=0.20.0->sentence-transformers) (2.3.0)\n",
      "Requirement already satisfied: certifi>=2017.4.17 in /opt/anaconda3/envs/env-pyspark-mna/lib/python3.12/site-packages (from requests->huggingface-hub>=0.20.0->sentence-transformers) (2025.4.26)\n",
      "Note: you may need to restart the kernel to use updated packages.\n",
      "Requirement already satisfied: faiss-cpu in /opt/anaconda3/envs/env-pyspark-mna/lib/python3.12/site-packages (1.12.0)\n",
      "Requirement already satisfied: numpy<3.0,>=1.25.0 in /opt/anaconda3/envs/env-pyspark-mna/lib/python3.12/site-packages (from faiss-cpu) (1.26.4)\n",
      "Requirement already satisfied: packaging in /opt/anaconda3/envs/env-pyspark-mna/lib/python3.12/site-packages (from faiss-cpu) (24.2)\n",
      "Note: you may need to restart the kernel to use updated packages.\n",
      "Requirement already satisfied: openai in /opt/anaconda3/envs/env-pyspark-mna/lib/python3.12/site-packages (1.99.9)\n",
      "Requirement already satisfied: anyio<5,>=3.5.0 in /opt/anaconda3/envs/env-pyspark-mna/lib/python3.12/site-packages (from openai) (4.6.2)\n",
      "Requirement already satisfied: distro<2,>=1.7.0 in /opt/anaconda3/envs/env-pyspark-mna/lib/python3.12/site-packages (from openai) (1.9.0)\n",
      "Requirement already satisfied: httpx<1,>=0.23.0 in /opt/anaconda3/envs/env-pyspark-mna/lib/python3.12/site-packages (from openai) (0.27.0)\n",
      "Requirement already satisfied: jiter<1,>=0.4.0 in /opt/anaconda3/envs/env-pyspark-mna/lib/python3.12/site-packages (from openai) (0.10.0)\n",
      "Requirement already satisfied: pydantic<3,>=1.9.0 in /opt/anaconda3/envs/env-pyspark-mna/lib/python3.12/site-packages (from openai) (2.11.7)\n",
      "Requirement already satisfied: sniffio in /opt/anaconda3/envs/env-pyspark-mna/lib/python3.12/site-packages (from openai) (1.3.0)\n",
      "Requirement already satisfied: tqdm>4 in /opt/anaconda3/envs/env-pyspark-mna/lib/python3.12/site-packages (from openai) (4.67.1)\n",
      "Requirement already satisfied: typing-extensions<5,>=4.11 in /opt/anaconda3/envs/env-pyspark-mna/lib/python3.12/site-packages (from openai) (4.13.2)\n",
      "Requirement already satisfied: idna>=2.8 in /opt/anaconda3/envs/env-pyspark-mna/lib/python3.12/site-packages (from anyio<5,>=3.5.0->openai) (3.7)\n",
      "Requirement already satisfied: certifi in /opt/anaconda3/envs/env-pyspark-mna/lib/python3.12/site-packages (from httpx<1,>=0.23.0->openai) (2025.4.26)\n",
      "Requirement already satisfied: httpcore==1.* in /opt/anaconda3/envs/env-pyspark-mna/lib/python3.12/site-packages (from httpx<1,>=0.23.0->openai) (1.0.2)\n",
      "Requirement already satisfied: h11<0.15,>=0.13 in /opt/anaconda3/envs/env-pyspark-mna/lib/python3.12/site-packages (from httpcore==1.*->httpx<1,>=0.23.0->openai) (0.14.0)\n",
      "Requirement already satisfied: annotated-types>=0.6.0 in /opt/anaconda3/envs/env-pyspark-mna/lib/python3.12/site-packages (from pydantic<3,>=1.9.0->openai) (0.7.0)\n",
      "Requirement already satisfied: pydantic-core==2.33.2 in /opt/anaconda3/envs/env-pyspark-mna/lib/python3.12/site-packages (from pydantic<3,>=1.9.0->openai) (2.33.2)\n",
      "Requirement already satisfied: typing-inspection>=0.4.0 in /opt/anaconda3/envs/env-pyspark-mna/lib/python3.12/site-packages (from pydantic<3,>=1.9.0->openai) (0.4.1)\n",
      "Note: you may need to restart the kernel to use updated packages.\n"
     ]
    }
   ],
   "source": [
    "%pip install sentence-transformers\n",
    "%pip install faiss-cpu\n",
    "%pip install openai"
   ]
  },
  {
   "cell_type": "code",
   "execution_count": 2,
   "id": "b1e3b9a4",
   "metadata": {},
   "outputs": [
    {
     "name": "stderr",
     "output_type": "stream",
     "text": [
      "/opt/anaconda3/envs/env-pyspark-mna/lib/python3.12/site-packages/tqdm/auto.py:21: TqdmWarning: IProgress not found. Please update jupyter and ipywidgets. See https://ipywidgets.readthedocs.io/en/stable/user_install.html\n",
      "  from .autonotebook import tqdm as notebook_tqdm\n"
     ]
    }
   ],
   "source": [
    "from sentence_transformers import SentenceTransformer\n",
    "import faiss\n",
    "import pandas as pd\n",
    "import numpy as np\n",
    "from sklearn.metrics.pairwise import cosine_similarity\n",
    "from collections import Counter\n",
    "import matplotlib.pyplot as plt\n",
    "import faiss\n",
    "import os, random, re, math, json\n",
    "from datetime import datetime"
   ]
  },
  {
   "cell_type": "markdown",
   "id": "d6a240f6",
   "metadata": {},
   "source": [
    "## Load S&P 500 news\n",
    "We will work with a dataset of financial news headlines and summaries. You will:\n",
    " - Load the data\n",
    " - Convert the publication date column to datetime\n",
    " - Drop duplicate summaries"
   ]
  },
  {
   "cell_type": "code",
   "execution_count": 3,
   "id": "2a8fac52",
   "metadata": {},
   "outputs": [
    {
     "data": {
      "application/vnd.microsoft.datawrangler.viewer.v0+json": {
       "columns": [
        {
         "name": "index",
         "rawType": "int64",
         "type": "integer"
        },
        {
         "name": "TICKER",
         "rawType": "object",
         "type": "string"
        },
        {
         "name": "TITLE",
         "rawType": "object",
         "type": "string"
        },
        {
         "name": "SUMMARY",
         "rawType": "object",
         "type": "string"
        },
        {
         "name": "PUBLICATION_DATE",
         "rawType": "object",
         "type": "unknown"
        },
        {
         "name": "PROVIDER",
         "rawType": "object",
         "type": "string"
        },
        {
         "name": "URL",
         "rawType": "object",
         "type": "string"
        }
       ],
       "ref": "28bc0efe-91ff-4dc5-938c-37d2cbe412c8",
       "rows": [
        [
         "0",
         "MMM",
         "2 Dow Jones Stocks with Promising Prospects and 1 to Avoid",
         "The Dow Jones (^DJI) is made up of 30 of the most established and influential companies in the market. But even blue-chip stocks can struggle - some are dealing with slowing growth, outdated business models, or increasing competition.",
         "2025-05-29",
         "StockStory",
         "https://finance.yahoo.com/news/2-dow-jones-stocks-promising-043358884.html"
        ],
        [
         "1",
         "MMM",
         "3 S&P 500 Stocks Skating on Thin Ice",
         "The S&P 500 (^GSPC) is often seen as a benchmark for strong businesses, but that doesn’t mean every stock is worth owning. Some companies face significant challenges, whether it’s stagnating growth, heavy debt, or disruptive new competitors.",
         "2025-05-27",
         "StockStory",
         "https://finance.yahoo.com/news/3-p-500-stocks-skating-043442401.html"
        ],
        [
         "2",
         "MMM",
         "3M Rises 15.8% YTD: Should You Buy the Stock Now or Wait?",
         "MMM is making strides in the aerospace, industrial adhesives and tapes, and electrical markets, which makes the stock worth a watch amid certain headwinds.",
         "2025-05-22",
         "Zacks",
         "https://finance.yahoo.com/news/3m-rises-15-8-ytd-140800754.html"
        ],
        [
         "3",
         "MMM",
         "Q1 Earnings Roundup: 3M (NYSE:MMM) And The Rest Of The General Industrial Machinery Segment",
         "Quarterly earnings results are a good time to check in on a company’s progress, especially compared to its peers in the same sector. Today we are looking at 3M (NYSE:MMM) and the best and worst performers in the general industrial machinery industry.",
         "2025-05-22",
         "StockStory",
         "https://finance.yahoo.com/news/q1-earnings-roundup-3m-nyse-033121824.html"
        ],
        [
         "4",
         "MMM",
         "3 Cash-Producing Stocks with Questionable Fundamentals",
         "While strong cash flow is a key indicator of stability, it doesn’t always translate to superior returns. Some cash-heavy businesses struggle with inefficient spending, slowing demand, or weak competitive positioning.",
         "2025-05-19",
         "StockStory",
         "https://finance.yahoo.com/news/3-cash-producing-stocks-questionable-044132686.html"
        ],
        [
         "5",
         "MMM",
         "Here's Why You Should Retain 3M Stock in Your Portfolio Now",
         "MMM benefits from strength in its business segment, buyouts and shareholder-friendly policies. Softness in the retail market is concerning.",
         "2025-05-15",
         "Zacks",
         "https://finance.yahoo.com/news/heres-why-retain-3m-stock-152600512.html"
        ],
        [
         "6",
         "MMM",
         "3M Co: A company with a sound balance sheet, and mixed shareholder distributions.",
         "R&D spending as a percentage of sales has remained stable at around 6% for the last two decades, but its return on research capital has wavered in recent years.",
         "2025-05-13",
         "GuruFocus.com",
         "https://finance.yahoo.com/news/3m-co-company-sound-balance-114624844.html"
        ],
        [
         "7",
         "MMM",
         "Rogers, Enviri, 3M, Gates Industrial Corporation, and Helios Stocks Trade Up, What You Need To Know",
         "A number of stocks jumped in the afternoon session after the major indices popped (Nasdaq +3.4%, S&P 500 +2.5%) in response to the positive outcome of U.S.-China trade negotiations, as both sides agreed to pause some tariffs for 90 days, signaling a potential turning point in ongoing tensions. This rollback cuts U.S. tariffs on Chinese goods to 30% and Chinese tariffs on U.S. imports to 10%, giving companies breathing room to reset inventories and supply chains.",
         "2025-05-12",
         "StockStory",
         "https://finance.yahoo.com/news/rogers-enviri-3m-gates-industrial-180105331.html"
        ],
        [
         "8",
         "MMM",
         "3 \"Top Picks\" From Wall Street That Are Magnificent Buys Right Now",
         "Another is a building products and controls company that's outperforming expectations.  UBS analyst Amit Mehrotra recently added Honeywell International (NASDAQ: HON) to his list of \"top picks,\" which also includes industrials Johnson Controls (NYSE: JCI) and 3M (NYSE: MMM).  Simply put, Honeywell has the potential to outperform over the near and long term.",
         "2025-05-10",
         "Motley Fool",
         "https://www.fool.com/investing/2025/05/10/3-top-picks-from-wall-street-that-are-magnificent/"
        ],
        [
         "9",
         "MMM",
         "3M vs. Honeywell: Which Industrial Conglomerate has Better Prospects?",
         "Amid a strong foothold in the diversified operations market, which market player - MMM or HON - is a better pick now?",
         "2025-05-08",
         "Zacks",
         "https://finance.yahoo.com/news/3m-vs-honeywell-industrial-conglomerate-152200090.html"
        ],
        [
         "10",
         "AOS",
         "Why Is A.O. Smith (AOS) Down 5.4% Since Last Earnings Report?",
         "A.O. Smith (AOS) reported earnings 30 days ago. What's next for the stock? We take a look at earnings estimates for some clues.",
         "2025-05-29",
         "Zacks",
         "https://finance.yahoo.com/news/why-o-smith-aos-down-153048436.html"
        ],
        [
         "11",
         "AOS",
         "1 Industrials Stock with Solid Fundamentals and 2 to Turn Down",
         "Even if they go mostly unnoticed, industrial businesses are the backbone of our country. Unfortunately, this role also comes with a demand profile tethered to the ebbs and flows of the broader economy, and investors seem to be forecasting a downturn - over the past six months, the industry has pulled back by 11.4%. This performance was worse than the S&P 500’s 2.1% loss.",
         "2025-05-22",
         "StockStory",
         "https://finance.yahoo.com/news/1-industrials-stock-solid-fundamentals-043552792.html"
        ],
        [
         "12",
         "AOS",
         "Is A. O. Smith Corporation's (NYSE:AOS) Latest Stock Performance A Reflection Of Its Financial Health?",
         "A. O. Smith (NYSE:AOS) has had a great run on the share market with its stock up by a significant 12% over the last...",
         "2025-05-19",
         "Simply Wall St.",
         "https://finance.yahoo.com/news/o-smith-corporations-nyse-aos-110909299.html"
        ],
        [
         "13",
         "AOS",
         "AOS Q1 Earnings Call: Tariffs, CEO Transition, and Operational Adjustments Shape Outlook",
         "Water heating and treatment solutions company A.O. Smith (NYSE:AOS) announced better-than-expected revenue in Q1 CY2025, but sales fell by 1.5% year on year to $963.9 million. The company’s full-year revenue guidance of $3.85 billion at the midpoint came in 0.5% above analysts’ estimates. Its non-GAAP profit of $0.95 per share was 3.8% above analysts’ consensus estimates.",
         "2025-05-13",
         "StockStory",
         "https://finance.yahoo.com/news/aos-q1-earnings-call-tariffs-102410285.html"
        ],
        [
         "14",
         "AOS",
         "A. O. Smith Corporation Just Beat Earnings Expectations: Here's What Analysts Think Will Happen Next",
         "Investors in A. O. Smith Corporation ( NYSE:AOS ) had a good week, as its shares rose 3.2% to close at US$67.41...",
         "2025-05-02",
         "Simply Wall St.",
         "https://finance.yahoo.com/news/o-smith-corporation-just-beat-103337630.html"
        ],
        [
         "15",
         "AOS",
         "1 Safe-and-Steady Stock to Target This Week and 2 to Be Wary Of",
         "Low-volatility stocks may offer stability, but that often comes at the cost of slower growth and the upside potential of more dynamic companies.",
         "2025-05-02",
         "StockStory",
         "https://finance.yahoo.com/news/1-safe-steady-stock-target-044354699.html"
        ],
        [
         "16",
         "AOS",
         "Zacks Earnings Trends Highlights: United Air Lines, A.O. Smith and 3M",
         "United Air Lines, A.O. Smith and 3M have been highlighted in this Earnings Trends article.",
         "2025-05-01",
         "Zacks",
         "https://finance.yahoo.com/news/zacks-earnings-trends-highlights-united-085000305.html"
        ],
        [
         "17",
         "AOS",
         "Earnings Expectations Shift Lower: A Closer Look",
         "Uncertainty about the overall macroeconomic picture continues to be a significant drag on the earnings outlook as a whole, prompting analysts to cut their estimates for the current and coming periods.",
         "2025-04-30",
         "Zacks",
         "https://finance.yahoo.com/news/earnings-expectations-shift-lower-closer-222000397.html"
        ],
        [
         "18",
         "AOS",
         "A. O. Smith First Quarter 2025 Earnings: Beats Expectations",
         "A. O. Smith ( NYSE:AOS ) First Quarter 2025 Results Key Financial Results Revenue: US$963.9m (down 1.5% from 1Q 2024...",
         "2025-04-30",
         "Simply Wall St.",
         "https://finance.yahoo.com/news/o-smith-first-quarter-2025-115730715.html"
        ],
        [
         "19",
         "AOS",
         "A.O. Smith Corp (AOS) Q1 2025 Earnings Call Highlights: Navigating Challenges with Strategic ...",
         "A.O. Smith Corp (AOS) reports a mixed quarter with strategic initiatives to counteract sales declines and tariff impacts.",
         "2025-04-30",
         "GuruFocus.com",
         "https://finance.yahoo.com/news/o-smith-corp-aos-q1-071256264.html"
        ],
        [
         "20",
         "ABT",
         "Abbott Benefits From Libre & Biosimilars Amid FX, Cost Headwinds",
         "ABT sees a 21.6% jump in CGM sales and growing global diagnostics demand, while FX and macro pressure temper its outlook.",
         "2025-05-30",
         "Zacks",
         "https://finance.yahoo.com/news/abbott-benefits-libre-biosimilars-amid-140900269.html"
        ],
        [
         "21",
         "ABT",
         "Abbott (ABT) Rises Higher Than Market: Key Facts",
         "Abbott (ABT) closed the most recent trading day at $132.85, moving +0.63% from the previous trading session.",
         "2025-05-29",
         "Zacks",
         "https://finance.yahoo.com/news/abbott-abt-rises-higher-market-215005827.html"
        ],
        [
         "22",
         "ABT",
         "Abbott Laboratories (NYSE:ABT) Gains FDA Nod For Tendyne Mitral Valve System",
         "Abbott Laboratories (NYSE:ABT) recently received FDA approval for its Tendyne™ TMVR system, a significant milestone enhancing its cardiovascular product portfolio. Over the past month, Abbott's stock price moved up by about 3%, which aligns with broader market trends, suggesting that its advancements may have supported this momentum. Alongside this, updates on partnerships and product innovations, such as integrating glucose monitoring data with Epic's health records and collaborating with...",
         "2025-05-28",
         "Simply Wall St.",
         "https://finance.yahoo.com/news/abbott-laboratories-nyse-abt-gains-172355538.html"
        ],
        [
         "23",
         "ABT",
         "How Boston Scientific's Surprise Setback Bolstered Two Of Its Top Rivals",
         "Edwards Lifesciences stock jumped Wednesday after Boston Scientific said it would stop selling its rival heart-valve replacement systems.",
         "2025-05-28",
         "Investor's Business Daily",
         "https://www.investors.com/news/technology/edwards-lifesciences-stock-boston-scientific-tavr/?src=A00220&yptr=yahoo"
        ],
        [
         "24",
         "ABT",
         "Abbott Stock Gains Following FDA Approval of the Tendyne System",
         "ABT wins FDA approval for its Tendyne TMVR system, offering a minimally invasive mitral valve replacement for high-risk patients with severe MAC.",
         "2025-05-28",
         "Zacks",
         "https://finance.yahoo.com/news/abbott-stock-gains-following-fda-132200681.html"
        ],
        [
         "25",
         "ABT",
         "The Zacks Analyst Blog Highlights Coca-Cola, Abbott Laboratories and AT&T",
         "Coca-Cola, Abbott and AT&T shine in Zacks' latest reports, with each outperforming peers year-to-date despite headwinds in key segments.",
         "2025-05-28",
         "Zacks",
         "https://finance.yahoo.com/news/zacks-analyst-blog-highlights-coca-095100767.html"
        ],
        [
         "26",
         "ABT",
         "Abbott Gains FDA Approval for Tendyne™, Strengthening Its Minimally Invasive Heart Portfolio",
         "Abbott Laboratories (NYSE:ABT) has received FDA approval today for its Tendyne™ transcatheter mitral valve replacement (TMVR) system, the first device of its kind approved in the US to treat mitral valve disease without open-heart surgery. Tendyne is specifically designed for patients who are not suitable candidates for surgical valve repair or replacement. The product perfectly […]",
         "2025-05-28",
         "Insider Monkey",
         "https://finance.yahoo.com/news/abbott-gains-fda-approval-tendyne-005846374.html"
        ],
        [
         "27",
         "ABT",
         "Top Stock Reports for Coca-Cola, Abbott & AT&T",
         "Coca-Cola, Abbott, and AT&T beat peers YTD with strong earnings, innovation, and strategic moves, but face headwinds from FX, costs, and competition.",
         "2025-05-27",
         "Zacks",
         "https://finance.yahoo.com/news/top-stock-reports-coca-cola-202100901.html"
        ],
        [
         "28",
         "ABT",
         "A Look At The Intrinsic Value Of Abbott Laboratories (NYSE:ABT)",
         "Key Insights Abbott Laboratories' estimated fair value is US$125 based on 2 Stage Free Cash Flow to Equity With US$131...",
         "2025-05-27",
         "Simply Wall St.",
         "https://finance.yahoo.com/news/look-intrinsic-value-abbott-laboratories-110105803.html"
        ],
        [
         "29",
         "ABT",
         "Boston Scientific (NYSE:BSX) Q1 Earnings: Leading The Medical Devices & Supplies - Diversified Pack",
         "Let’s dig into the relative performance of Boston Scientific (NYSE:BSX) and its peers as we unravel the now-completed Q1 medical devices & supplies - diversified earnings season.",
         "2025-05-26",
         "StockStory",
         "https://finance.yahoo.com/news/boston-scientific-nyse-bsx-q1-033102574.html"
        ],
        [
         "30",
         "ABBV",
         "AbbVie (ABBV) Gains As Market Dips: What You Should Know",
         "The latest trading day saw AbbVie (ABBV) settling at $186.11, representing a +0.26% change from its previous close.",
         "2025-05-30",
         "Zacks",
         "https://finance.yahoo.com/news/abbvie-abbv-gains-market-dips-214503535.html"
        ],
        [
         "31",
         "ABBV",
         "The Zacks Analyst Blog Highlights Berkshire Hathaway, AbbVie, Intuitive Surgical, Hamilton Beach Brands and AXIL Brands",
         "Zacks highlights strong showings from ABBV, ISRG, HBB and AXIL, while BRK.B gains on insurance growth and capital strength despite headwinds.",
         "2025-05-30",
         "Zacks",
         "https://finance.yahoo.com/news/zacks-analyst-blog-highlights-berkshire-100300144.html"
        ],
        [
         "32",
         "ABBV",
         "AbbVie’s ADC win shows how pharma can break through in solid tumors",
         "An oncology pivot recently paid off for the large pharma, which scored a milestone nod for its lead ADC.",
         "2025-05-30",
         "Pharma Voice",
         "https://www.pharmavoice.com/news/abbvie-fda-emrelis-adc-cancer-asco-daiichi/749404/"
        ],
        [
         "33",
         "ABBV",
         "Top Research Reports for Berkshire Hathaway, AbbVie & Intuitive Surgical",
         "Berkshire Hathaway, AbbVie and Intuitive Surgical beat estimates as analysts highlight growth drivers, headwinds and strategic moves in new reports.",
         "2025-05-29",
         "Zacks",
         "https://finance.yahoo.com/news/top-research-reports-berkshire-hathaway-201500160.html"
        ],
        [
         "34",
         "ABBV",
         "AbbVie Stock Down Around 13% in 3 Months: Time to Buy the Dip?",
         "ABBV drops 12.6% in three months, but rising Skyrizi and Rinvoq sales, pipeline strength, and 2025 growth outlook support staying invested.",
         "2025-05-29",
         "Zacks",
         "https://finance.yahoo.com/news/abbvie-stock-down-around-13-133100772.html"
        ],
        [
         "35",
         "ABBV",
         "AbbVie Inc. (ABBV)’s Pipeline Advances with Temab-A and ABBV-706, Shares Flat",
         "AbbVie Inc. (NYSE:ABBV) has spotlighted major advancements in its oncology pipeline at the ASCO 2025 Annual Meeting, unveiling promising clinical data for its next-generation antibody-drug conjugates (ADCs), Temab-A and ABBV-706. Temab-A, a c-Met-targeting ADC, achieved a 63% objective response rate in pre-treated EGFR-mutated non-small cell lung cancer (NSCLC) patients, with over half maintaining their response […]",
         "2025-05-29",
         "Insider Monkey",
         "https://finance.yahoo.com/news/abbvie-inc-abbv-pipeline-advances-041910851.html"
        ],
        [
         "36",
         "ABBV",
         "AbbVie (NYSE:ABBV) Showcases Promising Phase 1 ADC Results For Advanced Cancers",
         "AbbVie (NYSE:ABBV) recently unveiled promising data on its investigational therapies, including the novel c-Met-targeting ADC, Temab-A, and the SEZ6-directed ADC, ABBV-706, indicating progress in their clinical pipelines. Despite these announcements, AbbVie's stock price remained flat, aligned with overall market stability. The market awaited significant financial updates, such as Nvidia's anticipated earnings report, contributing to a general holding pattern in stock movements. While...",
         "2025-05-28",
         "Simply Wall St.",
         "https://finance.yahoo.com/news/abbvie-nyse-abbv-showcases-promising-174726696.html"
        ],
        [
         "37",
         "ABBV",
         "Is Trending Stock AbbVie Inc. (ABBV) a Buy Now?",
         "Recently, Zacks.com users have been paying close attention to AbbVie (ABBV). This makes it worthwhile to examine what the stock has in store.",
         "2025-05-28",
         "Zacks",
         "https://finance.yahoo.com/news/trending-stock-abbvie-inc-abbv-130015107.html"
        ],
        [
         "38",
         "ABBV",
         "Spotting Winners: Myriad Genetics (NASDAQ:MYGN) And Therapeutics Stocks In Q1",
         "Earnings results often indicate what direction a company will take in the months ahead. With Q1 behind us, let’s have a look at Myriad Genetics (NASDAQ:MYGN) and its peers.",
         "2025-05-27",
         "StockStory",
         "https://finance.yahoo.com/news/spotting-winners-myriad-genetics-nasdaq-033428883.html"
        ],
        [
         "39",
         "ABBV",
         "U.S. Pharmaceutical Imports Might Soon Face Tariffs: 3 Stocks That Could Tumble as a Result",
         "There's little doubt these pharmaceutical companies' costs will soon be rising at least a little.",
         "2025-05-24",
         "Motley Fool",
         "https://www.fool.com/investing/2025/05/24/us-pharmaceutical-imports-tariffs-stocks/"
        ],
        [
         "40",
         "ACN",
         "Droga Steps Down as CEO of Accenture Song, the Marketing Unit He Helped Build at Consulting Giant",
         "David Droga’s sale of his namesake agency to Accenture in 2019 gave momentum to consultancies’ move into marketing services.",
         "2025-05-29",
         "The Wall Street Journal",
         "https://www.wsj.com/articles/droga-steps-down-as-ceo-of-accenture-song-the-marketing-unit-he-helped-build-at-consulting-giant-23049fef?siteid=yhoof2&yptr=yahoo"
        ],
        [
         "41",
         "ACN",
         "Nutanix (NTNX) Tops Q3 Earnings and Revenue Estimates",
         "Nutanix (NTNX) delivered earnings and revenue surprises of 10.53% and 2.06%, respectively, for the quarter ended April 2025. Do the numbers hold clues to what lies ahead for the stock?",
         "2025-05-28",
         "Zacks",
         "https://finance.yahoo.com/news/nutanix-ntnx-tops-q3-earnings-211504014.html"
        ],
        [
         "42",
         "ACN",
         "David Droga is stepping down as CEO of Accenture Song",
         "“I am ready to catch my breath,” the award-winning advertising executive said. He will transition to a strategic role in September.",
         "2025-05-28",
         "FastCompany",
         "https://www.fastcompany.com/91341694/david-droga-stepping-down-ceo-accenture-song"
        ],
        [
         "43",
         "ACN",
         "Droga departs Accenture Song CEO post at fluid moment for creativity",
         "The decision marks the close of a chapter for an industry trailblazer whose agency, Droga5, was the cornerstone of Accenture’s bet on creativity.",
         "2025-05-28",
         "Marketing Dive",
         "https://www.marketingdive.com/news/droga-departs-accenture-song-ceo-post-at-fluid-moment-for-creativity/749138/"
        ],
        [
         "44",
         "ACN",
         "Accenture (ACN) Advances But Underperforms Market: Key Facts",
         "The latest trading day saw Accenture (ACN) settling at $315.43, representing a +1.89% change from its previous close.",
         "2025-05-27",
         "Zacks",
         "https://finance.yahoo.com/news/accenture-acn-advances-underperforms-market-215002377.html"
        ],
        [
         "45",
         "ACN",
         "Accenture Gets Buy Rating From TD Cowen Despite Booz Allen Market Signals",
         "On May 24, TD Cowen reiterated its Buy rating for Accenture plc (NYSE:ACN) along with a stable $336 price target. Analyst Bryan Bergin pointed towards the possible effects on Accenture after Booz Allen revealed pressures in its civilian practice, which is thought to reflect the current administration’s goal of optimizing government spending. Despite the lack of […]",
         "2025-05-26",
         "Insider Monkey",
         "https://finance.yahoo.com/news/accenture-gets-buy-rating-td-132231403.html"
        ],
        [
         "46",
         "ACN",
         "Palantir Evades DOGE Fallout As Federal Contractor Booz Allen Hammered",
         "Palantir stock alternated between small gains and losses on Friday as investors hammered Booz Allen Hamilton, a rival government contractor.",
         "2025-05-23",
         "Investor's Business Daily",
         "https://www.investors.com/news/technology/palantir-stock-federal-contractor-booz-allen-hammered/?src=A00220&yptr=yahoo"
        ],
        [
         "47",
         "ACN",
         "Accenture, Nvidia, and Dell Technologies Partner to Capitalize on Growing AI Demand",
         "Accenture plc (NYSE:ACN), a leading provider of systems integration and application management solutions, has inked a strategic collaboration with Dell Technologies (NYSE:DELL) and Nvidia (NASDAQ:NVDA). On May 20, the company confirmed its partnership will result in an AI solution built on Dell Technologies infrastructure, featuring Nvidia’s enterprise AI software. The new AI solution is designed to […]",
         "2025-05-23",
         "Insider Monkey",
         "https://finance.yahoo.com/news/accenture-nvidia-dell-technologies-partner-163524387.html"
        ],
        [
         "48",
         "ACN",
         "IBM vs. Accenture: Which Stock Stands Out in the Consulting Game?",
         "IBM and ACN battle for consulting dominance as AI, cloud and strategic collaborations reshape enterprise digital transformation strategies.",
         "2025-05-23",
         "Zacks",
         "https://finance.yahoo.com/news/ibm-vs-accenture-stock-stands-163500729.html"
        ],
        [
         "49",
         "ACN",
         "Jim Cramer Advises to “Buy Accenture (ACN)”",
         "We recently published a list of Jim Cramer Discussed These 9 Stocks Recently. In this article, we are going to take a look at where Accenture plc (NYSE:ACN)stands against other stocks that Jim Cramer discussed recently. Inquiring about Accenture plc (NYSE:ACN), a caller asked if the strategy of breaking the company up would be a […]",
         "2025-05-23",
         "Insider Monkey",
         "https://finance.yahoo.com/news/jim-cramer-advises-buy-accenture-115132211.html"
        ]
       ],
       "shape": {
        "columns": 6,
        "rows": 4871
       }
      },
      "text/html": [
       "<div>\n",
       "<style scoped>\n",
       "    .dataframe tbody tr th:only-of-type {\n",
       "        vertical-align: middle;\n",
       "    }\n",
       "\n",
       "    .dataframe tbody tr th {\n",
       "        vertical-align: top;\n",
       "    }\n",
       "\n",
       "    .dataframe thead th {\n",
       "        text-align: right;\n",
       "    }\n",
       "</style>\n",
       "<table border=\"1\" class=\"dataframe\">\n",
       "  <thead>\n",
       "    <tr style=\"text-align: right;\">\n",
       "      <th></th>\n",
       "      <th>TICKER</th>\n",
       "      <th>TITLE</th>\n",
       "      <th>SUMMARY</th>\n",
       "      <th>PUBLICATION_DATE</th>\n",
       "      <th>PROVIDER</th>\n",
       "      <th>URL</th>\n",
       "    </tr>\n",
       "  </thead>\n",
       "  <tbody>\n",
       "    <tr>\n",
       "      <th>0</th>\n",
       "      <td>MMM</td>\n",
       "      <td>2 Dow Jones Stocks with Promising Prospects an...</td>\n",
       "      <td>The Dow Jones (^DJI) is made up of 30 of the m...</td>\n",
       "      <td>2025-05-29</td>\n",
       "      <td>StockStory</td>\n",
       "      <td>https://finance.yahoo.com/news/2-dow-jones-sto...</td>\n",
       "    </tr>\n",
       "    <tr>\n",
       "      <th>1</th>\n",
       "      <td>MMM</td>\n",
       "      <td>3 S&amp;P 500 Stocks Skating on Thin Ice</td>\n",
       "      <td>The S&amp;P 500 (^GSPC) is often seen as a benchma...</td>\n",
       "      <td>2025-05-27</td>\n",
       "      <td>StockStory</td>\n",
       "      <td>https://finance.yahoo.com/news/3-p-500-stocks-...</td>\n",
       "    </tr>\n",
       "    <tr>\n",
       "      <th>2</th>\n",
       "      <td>MMM</td>\n",
       "      <td>3M Rises 15.8% YTD: Should You Buy the Stock N...</td>\n",
       "      <td>MMM is making strides in the aerospace, indust...</td>\n",
       "      <td>2025-05-22</td>\n",
       "      <td>Zacks</td>\n",
       "      <td>https://finance.yahoo.com/news/3m-rises-15-8-y...</td>\n",
       "    </tr>\n",
       "    <tr>\n",
       "      <th>3</th>\n",
       "      <td>MMM</td>\n",
       "      <td>Q1 Earnings Roundup: 3M (NYSE:MMM) And The Res...</td>\n",
       "      <td>Quarterly earnings results are a good time to ...</td>\n",
       "      <td>2025-05-22</td>\n",
       "      <td>StockStory</td>\n",
       "      <td>https://finance.yahoo.com/news/q1-earnings-rou...</td>\n",
       "    </tr>\n",
       "    <tr>\n",
       "      <th>4</th>\n",
       "      <td>MMM</td>\n",
       "      <td>3 Cash-Producing Stocks with Questionable Fund...</td>\n",
       "      <td>While strong cash flow is a key indicator of s...</td>\n",
       "      <td>2025-05-19</td>\n",
       "      <td>StockStory</td>\n",
       "      <td>https://finance.yahoo.com/news/3-cash-producin...</td>\n",
       "    </tr>\n",
       "    <tr>\n",
       "      <th>...</th>\n",
       "      <td>...</td>\n",
       "      <td>...</td>\n",
       "      <td>...</td>\n",
       "      <td>...</td>\n",
       "      <td>...</td>\n",
       "      <td>...</td>\n",
       "    </tr>\n",
       "    <tr>\n",
       "      <th>4866</th>\n",
       "      <td>ZTS</td>\n",
       "      <td>2 Dividend Stocks to Buy With $500 and Hold Fo...</td>\n",
       "      <td>Zoetis is a leading animal health company with...</td>\n",
       "      <td>2025-05-23</td>\n",
       "      <td>Motley Fool</td>\n",
       "      <td>https://www.fool.com/investing/2025/05/23/2-di...</td>\n",
       "    </tr>\n",
       "    <tr>\n",
       "      <th>4867</th>\n",
       "      <td>ZTS</td>\n",
       "      <td>Zoetis (NYSE:ZTS) Declares US$0.50 Dividend Pe...</td>\n",
       "      <td>Zoetis (NYSE:ZTS) recently affirmed a dividend...</td>\n",
       "      <td>2025-05-22</td>\n",
       "      <td>Simply Wall St.</td>\n",
       "      <td>https://finance.yahoo.com/news/zoetis-nyse-zts...</td>\n",
       "    </tr>\n",
       "    <tr>\n",
       "      <th>4868</th>\n",
       "      <td>ZTS</td>\n",
       "      <td>Jim Cramer on Zoetis (ZTS): “It Does Seem to B...</td>\n",
       "      <td>We recently published a list of Jim Cramer Tal...</td>\n",
       "      <td>2025-05-21</td>\n",
       "      <td>Insider Monkey</td>\n",
       "      <td>https://finance.yahoo.com/news/jim-cramer-zoet...</td>\n",
       "    </tr>\n",
       "    <tr>\n",
       "      <th>4869</th>\n",
       "      <td>ZTS</td>\n",
       "      <td>Zoetis (ZTS) Upgraded to Buy: Here's Why</td>\n",
       "      <td>Zoetis (ZTS) might move higher on growing opti...</td>\n",
       "      <td>2025-05-21</td>\n",
       "      <td>Zacks</td>\n",
       "      <td>https://finance.yahoo.com/news/zoetis-zts-upgr...</td>\n",
       "    </tr>\n",
       "    <tr>\n",
       "      <th>4870</th>\n",
       "      <td>ZTS</td>\n",
       "      <td>ZTS Q1 Earnings Call: Guidance Raised as Platf...</td>\n",
       "      <td>Animal health company Zoetis (NYSE:ZTS) report...</td>\n",
       "      <td>2025-05-19</td>\n",
       "      <td>StockStory</td>\n",
       "      <td>https://finance.yahoo.com/news/zts-q1-earnings...</td>\n",
       "    </tr>\n",
       "  </tbody>\n",
       "</table>\n",
       "<p>4871 rows × 6 columns</p>\n",
       "</div>"
      ],
      "text/plain": [
       "     TICKER                                              TITLE  \\\n",
       "0       MMM  2 Dow Jones Stocks with Promising Prospects an...   \n",
       "1       MMM               3 S&P 500 Stocks Skating on Thin Ice   \n",
       "2       MMM  3M Rises 15.8% YTD: Should You Buy the Stock N...   \n",
       "3       MMM  Q1 Earnings Roundup: 3M (NYSE:MMM) And The Res...   \n",
       "4       MMM  3 Cash-Producing Stocks with Questionable Fund...   \n",
       "...     ...                                                ...   \n",
       "4866    ZTS  2 Dividend Stocks to Buy With $500 and Hold Fo...   \n",
       "4867    ZTS  Zoetis (NYSE:ZTS) Declares US$0.50 Dividend Pe...   \n",
       "4868    ZTS  Jim Cramer on Zoetis (ZTS): “It Does Seem to B...   \n",
       "4869    ZTS           Zoetis (ZTS) Upgraded to Buy: Here's Why   \n",
       "4870    ZTS  ZTS Q1 Earnings Call: Guidance Raised as Platf...   \n",
       "\n",
       "                                                SUMMARY PUBLICATION_DATE  \\\n",
       "0     The Dow Jones (^DJI) is made up of 30 of the m...       2025-05-29   \n",
       "1     The S&P 500 (^GSPC) is often seen as a benchma...       2025-05-27   \n",
       "2     MMM is making strides in the aerospace, indust...       2025-05-22   \n",
       "3     Quarterly earnings results are a good time to ...       2025-05-22   \n",
       "4     While strong cash flow is a key indicator of s...       2025-05-19   \n",
       "...                                                 ...              ...   \n",
       "4866  Zoetis is a leading animal health company with...       2025-05-23   \n",
       "4867  Zoetis (NYSE:ZTS) recently affirmed a dividend...       2025-05-22   \n",
       "4868  We recently published a list of Jim Cramer Tal...       2025-05-21   \n",
       "4869  Zoetis (ZTS) might move higher on growing opti...       2025-05-21   \n",
       "4870  Animal health company Zoetis (NYSE:ZTS) report...       2025-05-19   \n",
       "\n",
       "             PROVIDER                                                URL  \n",
       "0          StockStory  https://finance.yahoo.com/news/2-dow-jones-sto...  \n",
       "1          StockStory  https://finance.yahoo.com/news/3-p-500-stocks-...  \n",
       "2               Zacks  https://finance.yahoo.com/news/3m-rises-15-8-y...  \n",
       "3          StockStory  https://finance.yahoo.com/news/q1-earnings-rou...  \n",
       "4          StockStory  https://finance.yahoo.com/news/3-cash-producin...  \n",
       "...               ...                                                ...  \n",
       "4866      Motley Fool  https://www.fool.com/investing/2025/05/23/2-di...  \n",
       "4867  Simply Wall St.  https://finance.yahoo.com/news/zoetis-nyse-zts...  \n",
       "4868   Insider Monkey  https://finance.yahoo.com/news/jim-cramer-zoet...  \n",
       "4869            Zacks  https://finance.yahoo.com/news/zoetis-zts-upgr...  \n",
       "4870       StockStory  https://finance.yahoo.com/news/zts-q1-earnings...  \n",
       "\n",
       "[4871 rows x 6 columns]"
      ]
     },
     "metadata": {},
     "output_type": "display_data"
    },
    {
     "name": "stdout",
     "output_type": "stream",
     "text": [
      "(4871, 6)\n",
      "(3976, 6)\n"
     ]
    }
   ],
   "source": [
    "df_news = pd.read_csv('df_news.csv')\n",
    "df_news['PUBLICATION_DATE'] = pd.to_datetime(df_news['PUBLICATION_DATE']).dt.date\n",
    "display(df_news)\n",
    "print(df_news.shape)\n",
    "\n",
    "df_news.drop_duplicates('SUMMARY', inplace=True)\n",
    "print(df_news.shape)"
   ]
  },
  {
   "cell_type": "markdown",
   "id": "6d41868b",
   "metadata": {},
   "source": [
    "## Implement a Faiss Vector Store with Sentence Transfomer embeddings\n",
    "This section is already implemented. It uses a sentence transformer to encode news summaries into vector embeddings and stores them in a FAISS index.\n",
    " \n",
    "We also define a simple class `FaissVectorStore` that allows for efficient retrieval.\n"
   ]
  },
  {
   "cell_type": "code",
   "execution_count": 4,
   "id": "d223f38f",
   "metadata": {},
   "outputs": [],
   "source": [
    "df_news['EMBEDDED_TEXT'] = df_news['TITLE'] + ' : ' + df_news['SUMMARY']"
   ]
  },
  {
   "cell_type": "code",
   "execution_count": 5,
   "id": "edb6ea0b",
   "metadata": {},
   "outputs": [],
   "source": [
    "model = SentenceTransformer('all-MiniLM-L6-v2')"
   ]
  },
  {
   "cell_type": "code",
   "execution_count": 6,
   "id": "9f928034",
   "metadata": {},
   "outputs": [
    {
     "name": "stderr",
     "output_type": "stream",
     "text": [
      "/opt/anaconda3/envs/env-pyspark-mna/lib/python3.12/site-packages/torch/nn/modules/module.py:1762: FutureWarning: `encoder_attention_mask` is deprecated and will be removed in version 4.55.0 for `BertSdpaSelfAttention.forward`.\n",
      "  return forward_call(*args, **kwargs)\n"
     ]
    }
   ],
   "source": [
    "# Load model and compute embeddings\n",
    "text_embeddings = model.encode(df_news['SUMMARY'].tolist(), convert_to_numpy=True)\n",
    "\n",
    "# Normalize embeddings to use cosine similarity (via inner product in FAISS)\n",
    "text_embeddings = text_embeddings / np.linalg.norm(text_embeddings, axis=1, keepdims=True)\n",
    "\n",
    "# Prepare metadata\n",
    "documents = df_news['SUMMARY'].tolist()\n",
    "metadata = [\n",
    "    {\n",
    "        'PUBLICATION_DATE': row['PUBLICATION_DATE'], \n",
    "        'TICKER': row['TICKER'], \n",
    "        'PROVIDER': row['PROVIDER']\n",
    "    }\n",
    "    for _, row in df_news.iterrows()\n",
    "]"
   ]
  },
  {
   "cell_type": "code",
   "execution_count": 7,
   "id": "5fd469c3",
   "metadata": {},
   "outputs": [],
   "source": [
    "embedding_dim = text_embeddings.shape[1]\n",
    "faiss_index = faiss.IndexFlatIP(embedding_dim)  # Cosine similarity via inner product\n",
    "faiss_index.add(text_embeddings)"
   ]
  },
  {
   "cell_type": "code",
   "execution_count": 8,
   "id": "53df2f36",
   "metadata": {},
   "outputs": [],
   "source": [
    "class FaissVectorStore:\n",
    "    def __init__(self, model, index, embeddings, documents, metadata):\n",
    "        self.model = model\n",
    "        self.index = index\n",
    "        self.embeddings = embeddings\n",
    "        self.documents = documents\n",
    "        self.metadata = metadata\n",
    "\n",
    "    def search(self, query, k=5, metadata_filter=None):\n",
    "        query_embedding = self.model.encode([query])\n",
    "        query_embedding = query_embedding / np.linalg.norm(query_embedding)\n",
    "\n",
    "        if metadata_filter:\n",
    "            filtered_indices = [i for i, meta in enumerate(self.metadata) if metadata_filter(meta)]\n",
    "            if not filtered_indices:\n",
    "                return []\n",
    "            filtered_embeddings = self.embeddings[filtered_indices]\n",
    "            temp_index = faiss.IndexFlatIP(filtered_embeddings.shape[1])\n",
    "            temp_index.add(filtered_embeddings)\n",
    "            D, I = temp_index.search(query_embedding, k)\n",
    "            indices = [filtered_indices[i] for i in I[0]]\n",
    "        else:\n",
    "            D, I = self.index.search(query_embedding, k)\n",
    "            indices = I[0]\n",
    "            D = D[0]\n",
    "\n",
    "        results = []\n",
    "        for idx, sim in zip(indices, D):\n",
    "            results.append((self.documents[idx], self.metadata[idx], float(sim)))\n",
    "\n",
    "\n",
    "        return results"
   ]
  },
  {
   "cell_type": "code",
   "execution_count": 9,
   "id": "05d9c741",
   "metadata": {},
   "outputs": [],
   "source": [
    "# Create FAISS-based store\n",
    "faiss_store = FaissVectorStore(\n",
    "    model=model,\n",
    "    index=faiss_index,\n",
    "    embeddings=text_embeddings,\n",
    "    documents=documents,\n",
    "    metadata=metadata\n",
    ")"
   ]
  },
  {
   "cell_type": "markdown",
   "id": "54b342d0",
   "metadata": {},
   "source": [
    "## Creating a dataset to evaluate the reranking\n",
    "\n",
    "👉 **Instructions**:\n",
    "- In this section, we will create an evaluation dataset for reranking by:\n",
    "  - Sampling **100** distinct news articles from the full dataset.\n",
    "  - Generating **one natural question** per article using GPT, where the expected answer is the original article.\n",
    "\n",
    "✅ By the end of this section, you'll have a new DataFrame (`df_news_questions`) with:\n",
    "- `NEWS`: the original summary\n",
    "- `QUESTION`: the corresponding question generated using GPT\n",
    "\n",
    "> ℹ️ The generated questions will simulate user queries in a RAG pipeline."
   ]
  },
  {
   "cell_type": "code",
   "execution_count": 10,
   "id": "99933b8d",
   "metadata": {},
   "outputs": [],
   "source": [
    "df_dedup = df_news.drop_duplicates(subset=['SUMMARY']).reset_index(drop=False).rename(columns={'index': 'DOC_ID'})\n",
    "df_dedup.shape\n",
    "\n",
    "SAMPLE_N = min(100, len(df_dedup))\n",
    "df_sample = df_dedup.sample(n=SAMPLE_N, random_state=42).reset_index(drop=True)"
   ]
  },
  {
   "cell_type": "code",
   "execution_count": 11,
   "id": "26d2e999",
   "metadata": {},
   "outputs": [
    {
     "data": {
      "application/vnd.microsoft.datawrangler.viewer.v0+json": {
       "columns": [
        {
         "name": "index",
         "rawType": "int64",
         "type": "integer"
        },
        {
         "name": "DOC_ID",
         "rawType": "int64",
         "type": "integer"
        },
        {
         "name": "TICKER",
         "rawType": "object",
         "type": "string"
        },
        {
         "name": "TITLE",
         "rawType": "object",
         "type": "string"
        },
        {
         "name": "SUMMARY",
         "rawType": "object",
         "type": "string"
        },
        {
         "name": "PUBLICATION_DATE",
         "rawType": "object",
         "type": "unknown"
        },
        {
         "name": "PROVIDER",
         "rawType": "object",
         "type": "string"
        },
        {
         "name": "URL",
         "rawType": "object",
         "type": "string"
        },
        {
         "name": "EMBEDDED_TEXT",
         "rawType": "object",
         "type": "string"
        }
       ],
       "ref": "310d1f7b-7be6-4754-b11d-93f9433857f4",
       "rows": [
        [
         "0",
         "427",
         "ANET",
         "Broadcom, Arista Networks initiated: Wall Street's top analyst calls",
         "Broadcom, Arista Networks initiated: Wall Street's top analyst calls",
         "2025-05-28",
         "The Fly",
         "https://finance.yahoo.com/news/broadcom-arista-networks-initiated-wall-133658404.html",
         "Broadcom, Arista Networks initiated: Wall Street's top analyst calls : Broadcom, Arista Networks initiated: Wall Street's top analyst calls"
        ],
        [
         "1",
         "1600",
         "EMR",
         "Investors Heavily Search Emerson Electric Co. (EMR): Here is What You Need to Know",
         "Emerson Electric (EMR) has received quite a bit of attention from Zacks.com users lately. Therefore, it is wise to be aware of the facts that can impact the stock's prospects.",
         "2025-05-12",
         "Zacks",
         "https://finance.yahoo.com/news/investors-heavily-search-emerson-electric-130011996.html",
         "Investors Heavily Search Emerson Electric Co. (EMR): Here is What You Need to Know : Emerson Electric (EMR) has received quite a bit of attention from Zacks.com users lately. Therefore, it is wise to be aware of the facts that can impact the stock's prospects."
        ],
        [
         "2",
         "728",
         "BXP",
         "Why Is Ventas (VTR) Down 2.1% Since Last Earnings Report?",
         "Ventas (VTR) reported earnings 30 days ago. What's next for the stock? We take a look at earnings estimates for some clues.",
         "2025-05-30",
         "Zacks",
         "https://finance.yahoo.com/news/why-ventas-vtr-down-2-153111905.html",
         "Why Is Ventas (VTR) Down 2.1% Since Last Earnings Report? : Ventas (VTR) reported earnings 30 days ago. What's next for the stock? We take a look at earnings estimates for some clues."
        ],
        [
         "3",
         "3769",
         "QCOM",
         "3 things Nvidia investors should look out for in its earnings call",
         "Nvidia's earnings call this week will be a market mover. Here are the top things you need to look out for.",
         "2025-05-28",
         "Yahoo Finance",
         "https://finance.yahoo.com/news/3-things-nvidia-investors-should-look-out-for-in-its-earnings-call-140101777.html",
         "3 things Nvidia investors should look out for in its earnings call : Nvidia's earnings call this week will be a market mover. Here are the top things you need to look out for."
        ],
        [
         "4",
         "2711",
         "KR",
         "Inflation-weary Americans queue for toilet paper and cheap Bordeaux",
         "Inflation-scarred American consumers are putting up with long lines and paying cash for the privilege of shopping at members-only stores, which...",
         "2025-05-29",
         "Financial Times",
         "https://finance.yahoo.com/news/inflation-weary-americans-queue-toilet-090031930.html",
         "Inflation-weary Americans queue for toilet paper and cheap Bordeaux : Inflation-scarred American consumers are putting up with long lines and paying cash for the privilege of shopping at members-only stores, which..."
        ]
       ],
       "shape": {
        "columns": 8,
        "rows": 5
       }
      },
      "text/html": [
       "<div>\n",
       "<style scoped>\n",
       "    .dataframe tbody tr th:only-of-type {\n",
       "        vertical-align: middle;\n",
       "    }\n",
       "\n",
       "    .dataframe tbody tr th {\n",
       "        vertical-align: top;\n",
       "    }\n",
       "\n",
       "    .dataframe thead th {\n",
       "        text-align: right;\n",
       "    }\n",
       "</style>\n",
       "<table border=\"1\" class=\"dataframe\">\n",
       "  <thead>\n",
       "    <tr style=\"text-align: right;\">\n",
       "      <th></th>\n",
       "      <th>DOC_ID</th>\n",
       "      <th>TICKER</th>\n",
       "      <th>TITLE</th>\n",
       "      <th>SUMMARY</th>\n",
       "      <th>PUBLICATION_DATE</th>\n",
       "      <th>PROVIDER</th>\n",
       "      <th>URL</th>\n",
       "      <th>EMBEDDED_TEXT</th>\n",
       "    </tr>\n",
       "  </thead>\n",
       "  <tbody>\n",
       "    <tr>\n",
       "      <th>0</th>\n",
       "      <td>427</td>\n",
       "      <td>ANET</td>\n",
       "      <td>Broadcom, Arista Networks initiated: Wall Stre...</td>\n",
       "      <td>Broadcom, Arista Networks initiated: Wall Stre...</td>\n",
       "      <td>2025-05-28</td>\n",
       "      <td>The Fly</td>\n",
       "      <td>https://finance.yahoo.com/news/broadcom-arista...</td>\n",
       "      <td>Broadcom, Arista Networks initiated: Wall Stre...</td>\n",
       "    </tr>\n",
       "    <tr>\n",
       "      <th>1</th>\n",
       "      <td>1600</td>\n",
       "      <td>EMR</td>\n",
       "      <td>Investors Heavily Search Emerson Electric Co. ...</td>\n",
       "      <td>Emerson Electric (EMR) has received quite a bi...</td>\n",
       "      <td>2025-05-12</td>\n",
       "      <td>Zacks</td>\n",
       "      <td>https://finance.yahoo.com/news/investors-heavi...</td>\n",
       "      <td>Investors Heavily Search Emerson Electric Co. ...</td>\n",
       "    </tr>\n",
       "    <tr>\n",
       "      <th>2</th>\n",
       "      <td>728</td>\n",
       "      <td>BXP</td>\n",
       "      <td>Why Is Ventas (VTR) Down 2.1% Since Last Earni...</td>\n",
       "      <td>Ventas (VTR) reported earnings 30 days ago. Wh...</td>\n",
       "      <td>2025-05-30</td>\n",
       "      <td>Zacks</td>\n",
       "      <td>https://finance.yahoo.com/news/why-ventas-vtr-...</td>\n",
       "      <td>Why Is Ventas (VTR) Down 2.1% Since Last Earni...</td>\n",
       "    </tr>\n",
       "    <tr>\n",
       "      <th>3</th>\n",
       "      <td>3769</td>\n",
       "      <td>QCOM</td>\n",
       "      <td>3 things Nvidia investors should look out for ...</td>\n",
       "      <td>Nvidia's earnings call this week will be a mar...</td>\n",
       "      <td>2025-05-28</td>\n",
       "      <td>Yahoo Finance</td>\n",
       "      <td>https://finance.yahoo.com/news/3-things-nvidia...</td>\n",
       "      <td>3 things Nvidia investors should look out for ...</td>\n",
       "    </tr>\n",
       "    <tr>\n",
       "      <th>4</th>\n",
       "      <td>2711</td>\n",
       "      <td>KR</td>\n",
       "      <td>Inflation-weary Americans queue for toilet pap...</td>\n",
       "      <td>Inflation-scarred American consumers are putti...</td>\n",
       "      <td>2025-05-29</td>\n",
       "      <td>Financial Times</td>\n",
       "      <td>https://finance.yahoo.com/news/inflation-weary...</td>\n",
       "      <td>Inflation-weary Americans queue for toilet pap...</td>\n",
       "    </tr>\n",
       "  </tbody>\n",
       "</table>\n",
       "</div>"
      ],
      "text/plain": [
       "   DOC_ID TICKER                                              TITLE  \\\n",
       "0     427   ANET  Broadcom, Arista Networks initiated: Wall Stre...   \n",
       "1    1600    EMR  Investors Heavily Search Emerson Electric Co. ...   \n",
       "2     728    BXP  Why Is Ventas (VTR) Down 2.1% Since Last Earni...   \n",
       "3    3769   QCOM  3 things Nvidia investors should look out for ...   \n",
       "4    2711     KR  Inflation-weary Americans queue for toilet pap...   \n",
       "\n",
       "                                             SUMMARY PUBLICATION_DATE  \\\n",
       "0  Broadcom, Arista Networks initiated: Wall Stre...       2025-05-28   \n",
       "1  Emerson Electric (EMR) has received quite a bi...       2025-05-12   \n",
       "2  Ventas (VTR) reported earnings 30 days ago. Wh...       2025-05-30   \n",
       "3  Nvidia's earnings call this week will be a mar...       2025-05-28   \n",
       "4  Inflation-scarred American consumers are putti...       2025-05-29   \n",
       "\n",
       "          PROVIDER                                                URL  \\\n",
       "0          The Fly  https://finance.yahoo.com/news/broadcom-arista...   \n",
       "1            Zacks  https://finance.yahoo.com/news/investors-heavi...   \n",
       "2            Zacks  https://finance.yahoo.com/news/why-ventas-vtr-...   \n",
       "3    Yahoo Finance  https://finance.yahoo.com/news/3-things-nvidia...   \n",
       "4  Financial Times  https://finance.yahoo.com/news/inflation-weary...   \n",
       "\n",
       "                                       EMBEDDED_TEXT  \n",
       "0  Broadcom, Arista Networks initiated: Wall Stre...  \n",
       "1  Investors Heavily Search Emerson Electric Co. ...  \n",
       "2  Why Is Ventas (VTR) Down 2.1% Since Last Earni...  \n",
       "3  3 things Nvidia investors should look out for ...  \n",
       "4  Inflation-weary Americans queue for toilet pap...  "
      ]
     },
     "execution_count": 11,
     "metadata": {},
     "output_type": "execute_result"
    }
   ],
   "source": [
    "df_sample.head()"
   ]
  },
  {
   "cell_type": "markdown",
   "id": "b110346e",
   "metadata": {},
   "source": [
    "### Create OpenAI connector\n",
    "You’ll use OpenAI’s GPT model to generate natural questions corresponding to each sampled news summary. These questions will be used to test the retrieval system.\n",
    "\n",
    "✅ This cell contains an API key for demonstration purposes. You **must** use your own API key when running this notebook.\n"
   ]
  },
  {
   "cell_type": "code",
   "execution_count": 12,
   "id": "e833ffa9",
   "metadata": {},
   "outputs": [
    {
     "name": "stderr",
     "output_type": "stream",
     "text": [
      "huggingface/tokenizers: The current process just got forked, after parallelism has already been used. Disabling parallelism to avoid deadlocks...\n",
      "To disable this warning, you can either:\n",
      "\t- Avoid using `tokenizers` before the fork if possible\n",
      "\t- Explicitly set the environment variable TOKENIZERS_PARALLELISM=(true | false)\n"
     ]
    },
    {
     "name": "stdout",
     "output_type": "stream",
     "text": [
      "Requirement already satisfied: python-dotenv in /opt/anaconda3/envs/env-pyspark-mna/lib/python3.12/site-packages (1.1.1)\n",
      "Note: you may need to restart the kernel to use updated packages.\n"
     ]
    }
   ],
   "source": [
    "%pip install python-dotenv\n",
    "from dotenv import load_dotenv\n",
    "load_dotenv()\n",
    "\n",
    "api_key = os.getenv(\"OPENAI_API_KEY\")"
   ]
  },
  {
   "cell_type": "code",
   "execution_count": 13,
   "id": "94fab8d1",
   "metadata": {},
   "outputs": [
    {
     "name": "stdout",
     "output_type": "stream",
     "text": [
      "As the moonlight danced on the sparkling lake, Luna the unicorn spread her shimmering wings and soared into the starry sky, sprinkling dreams of magic and wonder over the sleepy forest.\n"
     ]
    }
   ],
   "source": [
    "from openai import OpenAI\n",
    "client = OpenAI(api_key=api_key)\n",
    "\n",
    "response = client.responses.create(\n",
    "    model=\"gpt-4o-mini\",\n",
    "    input=\"Write a one-sentence bedtime story about a unicorn.\"\n",
    ")\n",
    "\n",
    "print(response.output_text)"
   ]
  },
  {
   "cell_type": "markdown",
   "id": "f540204a",
   "metadata": {},
   "source": [
    "### Using GPT to generate a question based on a news\n",
    "Based on the instruction above, you need to use GPT to create a evaluation dataset. \n",
    "\n",
    "**Clarification** Specifically, the goal is to generate a natural question whose correct answer is the news summary. For example, if the news is about a company announcing layoffs, a good question could be: ‘Which company recently announced job cuts in its tech division?\n"
   ]
  },
  {
   "cell_type": "code",
   "execution_count": 28,
   "id": "fbeee0fa",
   "metadata": {},
   "outputs": [],
   "source": [
    "prompt = \"\"\"\n",
    "Given the news headline provided below, \n",
    "give me a question that would justify retrieving this specific news headline in a RAG system\n",
    "\n",
    "News headlines:\n",
    "{news}\n",
    "\n",
    "Give me a question for which the answer is the news headline:\n",
    "QUESTION\n",
    "\n",
    "**Important**\n",
    "dont answer anything else other than the question!\n",
    "\"\"\""
   ]
  },
  {
   "cell_type": "code",
   "execution_count": 29,
   "id": "52c42093",
   "metadata": {},
   "outputs": [],
   "source": [
    "NEWS_FIELD = 'SUMMARY'"
   ]
  },
  {
   "cell_type": "code",
   "execution_count": 30,
   "id": "1ac0ca61",
   "metadata": {},
   "outputs": [],
   "source": [
    "# ---- Function to generate a question from GPT ----\n",
    "def generate_question_for_summary(summary: str,\n",
    "                                   model: str = \"gpt-4o-mini\",\n",
    "                                   max_retries: int = 3,\n",
    "                                   sleep_base: float = 1.5,\n",
    "                                   prompt: str = prompt\n",
    "                                   ) -> str:\n",
    "    prompt = prompt.format(news=summary)\n",
    "    for attempt in range(max_retries):\n",
    "        try:\n",
    "            resp = client.chat.completions.create(\n",
    "                model=model,\n",
    "                messages=[\n",
    "                    {\"role\": \"system\", \"content\": \"You generate one concise question whose correct answer is the given news summary.\"},\n",
    "                    {\"role\": \"user\", \"content\": prompt},\n",
    "                ],\n",
    "                temperature=0.2,\n",
    "                max_tokens=64,\n",
    "            )\n",
    "            text = resp.choices[0].message.content.strip()\n",
    "            text = re.sub(r\"\\s+\", \" \", text)\n",
    "            if \"?\" in text:\n",
    "                text = text.split(\"?\")[0].strip() + \"?\"\n",
    "            elif not text.endswith(\"?\"):\n",
    "                text = text.strip() + \"?\"\n",
    "            return text\n",
    "        except Exception as e:\n",
    "            if attempt == max_retries - 1:\n",
    "                return f\"What event is described by the headline: {headline}?\"\n",
    "            time.sleep(sleep_base * (attempt + 1))\n"
   ]
  },
  {
   "cell_type": "code",
   "execution_count": 31,
   "id": "0bfb9b6a",
   "metadata": {},
   "outputs": [],
   "source": [
    "pd.set_option('display.max_colwidth', None)\n",
    "pd.set_option('display.max_columns', None)"
   ]
  },
  {
   "cell_type": "code",
   "execution_count": 32,
   "id": "199044c4",
   "metadata": {},
   "outputs": [
    {
     "data": {
      "application/vnd.microsoft.datawrangler.viewer.v0+json": {
       "columns": [
        {
         "name": "index",
         "rawType": "int64",
         "type": "integer"
        },
        {
         "name": "NEWS",
         "rawType": "object",
         "type": "string"
        },
        {
         "name": "QUESTION",
         "rawType": "object",
         "type": "string"
        }
       ],
       "ref": "67565cdd-ec8e-41d1-bed6-c1cc44f6dad0",
       "rows": [
        [
         "0",
         "Broadcom, Arista Networks initiated: Wall Street's top analyst calls",
         "What recent analyst calls have been made regarding Broadcom and Arista Networks?"
        ],
        [
         "1",
         "Emerson Electric (EMR) has received quite a bit of attention from Zacks.com users lately. Therefore, it is wise to be aware of the facts that can impact the stock's prospects.",
         "What recent developments have drawn attention to Emerson Electric (EMR) among Zacks.com users?"
        ],
        [
         "2",
         "Ventas (VTR) reported earnings 30 days ago. What's next for the stock? We take a look at earnings estimates for some clues.",
         "What recent developments have occurred regarding Ventas (VTR) earnings and future stock estimates?"
        ],
        [
         "3",
         "Nvidia's earnings call this week will be a market mover. Here are the top things you need to look out for.",
         "What are the key factors to watch for in Nvidia's upcoming earnings call that could impact the market?"
        ],
        [
         "4",
         "Inflation-scarred American consumers are putting up with long lines and paying cash for the privilege of shopping at members-only stores, which...",
         "What are American consumers doing in response to inflation when shopping at members-only stores?"
        ],
        [
         "5",
         "Delivery service DoorDash (DASH) reported its largest quarterly profit to date at $193 million for Q1 2025 — a remarkable swing from a $23 million loss this time last year. Yet, shares have tumbled over 10% as the company also announced two major acquisitions totaling $5 billion, leaving investors wondering whether the food delivery giant is growing too fast for its own good. The answer isn’t immediately clear. Therefore, investors might want to hold off on this one for now and let the dust sett",
         "What were the financial results and market reaction for DoorDash in Q1 2025?"
        ],
        [
         "6",
         "Strong capital efficiency and commercial growth make ELV appealing, but regulatory and cost headwinds keep investors cautious.",
         "What factors contribute to the cautious sentiment among investors regarding ELV despite its strong capital efficiency and commercial growth?"
        ],
        [
         "7",
         "Argus recently lowered the price target on Equinix, Inc. (NASDAQ:EQIX) to $955 from $972 but kept a Buy rating on the shares. Equinix, Inc. (EQIX) is a California-based real estate trust that operates data centers and other technology assets. In an investor note, the analyst highlighted that the stock had been volatile, reflecting Information Technology […]",
         "What recent change did Argus make to the price target for Equinix, Inc. while maintaining its rating?"
        ],
        [
         "8",
         "The Zacks Internet software industry participants like ANET, MNDY and PCTY are benefiting from high demand for SaaS due to the increasing need for hybrid work, learning and diagnosis software, as well as cybersecurity applications.",
         "Which companies in the Zacks Internet software industry are benefiting from the rising demand for SaaS related to hybrid work and cybersecurity?"
        ],
        [
         "9",
         "This marks the ninth time in 37 years this unstoppable company has completed a forward split.",
         "How many times has this company completed a forward split in the last 37 years?"
        ]
       ],
       "shape": {
        "columns": 2,
        "rows": 10
       }
      },
      "text/html": [
       "<div>\n",
       "<style scoped>\n",
       "    .dataframe tbody tr th:only-of-type {\n",
       "        vertical-align: middle;\n",
       "    }\n",
       "\n",
       "    .dataframe tbody tr th {\n",
       "        vertical-align: top;\n",
       "    }\n",
       "\n",
       "    .dataframe thead th {\n",
       "        text-align: right;\n",
       "    }\n",
       "</style>\n",
       "<table border=\"1\" class=\"dataframe\">\n",
       "  <thead>\n",
       "    <tr style=\"text-align: right;\">\n",
       "      <th></th>\n",
       "      <th>NEWS</th>\n",
       "      <th>QUESTION</th>\n",
       "    </tr>\n",
       "  </thead>\n",
       "  <tbody>\n",
       "    <tr>\n",
       "      <th>0</th>\n",
       "      <td>Broadcom, Arista Networks initiated: Wall Street's top analyst calls</td>\n",
       "      <td>What recent analyst calls have been made regarding Broadcom and Arista Networks?</td>\n",
       "    </tr>\n",
       "    <tr>\n",
       "      <th>1</th>\n",
       "      <td>Emerson Electric (EMR) has received quite a bit of attention from Zacks.com users lately. Therefore, it is wise to be aware of the facts that can impact the stock's prospects.</td>\n",
       "      <td>What recent developments have drawn attention to Emerson Electric (EMR) among Zacks.com users?</td>\n",
       "    </tr>\n",
       "    <tr>\n",
       "      <th>2</th>\n",
       "      <td>Ventas (VTR) reported earnings 30 days ago. What's next for the stock? We take a look at earnings estimates for some clues.</td>\n",
       "      <td>What recent developments have occurred regarding Ventas (VTR) earnings and future stock estimates?</td>\n",
       "    </tr>\n",
       "    <tr>\n",
       "      <th>3</th>\n",
       "      <td>Nvidia's earnings call this week will be a market mover. Here are the top things you need to look out for.</td>\n",
       "      <td>What are the key factors to watch for in Nvidia's upcoming earnings call that could impact the market?</td>\n",
       "    </tr>\n",
       "    <tr>\n",
       "      <th>4</th>\n",
       "      <td>Inflation-scarred American consumers are putting up with long lines and paying cash for the privilege of shopping at members-only stores, which...</td>\n",
       "      <td>What are American consumers doing in response to inflation when shopping at members-only stores?</td>\n",
       "    </tr>\n",
       "    <tr>\n",
       "      <th>5</th>\n",
       "      <td>Delivery service DoorDash (DASH) reported its largest quarterly profit to date at $193 million for Q1 2025 — a remarkable swing from a $23 million loss this time last year. Yet, shares have tumbled over 10% as the company also announced two major acquisitions totaling $5 billion, leaving investors wondering whether the food delivery giant is growing too fast for its own good. The answer isn’t immediately clear. Therefore, investors might want to hold off on this one for now and let the dust sett</td>\n",
       "      <td>What were the financial results and market reaction for DoorDash in Q1 2025?</td>\n",
       "    </tr>\n",
       "    <tr>\n",
       "      <th>6</th>\n",
       "      <td>Strong capital efficiency and commercial growth make ELV appealing, but regulatory and cost headwinds keep investors cautious.</td>\n",
       "      <td>What factors contribute to the cautious sentiment among investors regarding ELV despite its strong capital efficiency and commercial growth?</td>\n",
       "    </tr>\n",
       "    <tr>\n",
       "      <th>7</th>\n",
       "      <td>Argus recently lowered the price target on Equinix, Inc. (NASDAQ:EQIX) to $955 from $972 but kept a Buy rating on the shares. Equinix, Inc. (EQIX) is a California-based real estate trust that operates data centers and other technology assets. In an investor note, the analyst highlighted that the stock had been volatile, reflecting Information Technology […]</td>\n",
       "      <td>What recent change did Argus make to the price target for Equinix, Inc. while maintaining its rating?</td>\n",
       "    </tr>\n",
       "    <tr>\n",
       "      <th>8</th>\n",
       "      <td>The Zacks Internet software industry participants like ANET, MNDY and PCTY are benefiting from high demand for SaaS due to the increasing need for hybrid work, learning and diagnosis software, as well as cybersecurity applications.</td>\n",
       "      <td>Which companies in the Zacks Internet software industry are benefiting from the rising demand for SaaS related to hybrid work and cybersecurity?</td>\n",
       "    </tr>\n",
       "    <tr>\n",
       "      <th>9</th>\n",
       "      <td>This marks the ninth time in 37 years this unstoppable company has completed a forward split.</td>\n",
       "      <td>How many times has this company completed a forward split in the last 37 years?</td>\n",
       "    </tr>\n",
       "  </tbody>\n",
       "</table>\n",
       "</div>"
      ],
      "text/plain": [
       "                                                                                                                                                                                                                                                                                                                                                                                                                                                                                                                   NEWS  \\\n",
       "0                                                                                                                                                                                                                                                                                                                                                                                                                                                  Broadcom, Arista Networks initiated: Wall Street's top analyst calls   \n",
       "1                                                                                                                                                                                                                                                                                                                                       Emerson Electric (EMR) has received quite a bit of attention from Zacks.com users lately. Therefore, it is wise to be aware of the facts that can impact the stock's prospects.   \n",
       "2                                                                                                                                                                                                                                                                                                                                                                                           Ventas (VTR) reported earnings 30 days ago. What's next for the stock? We take a look at earnings estimates for some clues.   \n",
       "3                                                                                                                                                                                                                                                                                                                                                                                                            Nvidia's earnings call this week will be a market mover. Here are the top things you need to look out for.   \n",
       "4                                                                                                                                                                                                                                                                                                                                                                    Inflation-scarred American consumers are putting up with long lines and paying cash for the privilege of shopping at members-only stores, which...   \n",
       "5  Delivery service DoorDash (DASH) reported its largest quarterly profit to date at $193 million for Q1 2025 — a remarkable swing from a $23 million loss this time last year. Yet, shares have tumbled over 10% as the company also announced two major acquisitions totaling $5 billion, leaving investors wondering whether the food delivery giant is growing too fast for its own good. The answer isn’t immediately clear. Therefore, investors might want to hold off on this one for now and let the dust sett   \n",
       "6                                                                                                                                                                                                                                                                                                                                                                                        Strong capital efficiency and commercial growth make ELV appealing, but regulatory and cost headwinds keep investors cautious.   \n",
       "7                                                                                                                                               Argus recently lowered the price target on Equinix, Inc. (NASDAQ:EQIX) to $955 from $972 but kept a Buy rating on the shares. Equinix, Inc. (EQIX) is a California-based real estate trust that operates data centers and other technology assets. In an investor note, the analyst highlighted that the stock had been volatile, reflecting Information Technology […]   \n",
       "8                                                                                                                                                                                                                                                                               The Zacks Internet software industry participants like ANET, MNDY and PCTY are benefiting from high demand for SaaS due to the increasing need for hybrid work, learning and diagnosis software, as well as cybersecurity applications.   \n",
       "9                                                                                                                                                                                                                                                                                                                                                                                                                         This marks the ninth time in 37 years this unstoppable company has completed a forward split.   \n",
       "\n",
       "                                                                                                                                           QUESTION  \n",
       "0                                                                  What recent analyst calls have been made regarding Broadcom and Arista Networks?  \n",
       "1                                                    What recent developments have drawn attention to Emerson Electric (EMR) among Zacks.com users?  \n",
       "2                                                What recent developments have occurred regarding Ventas (VTR) earnings and future stock estimates?  \n",
       "3                                            What are the key factors to watch for in Nvidia's upcoming earnings call that could impact the market?  \n",
       "4                                                  What are American consumers doing in response to inflation when shopping at members-only stores?  \n",
       "5                                                                      What were the financial results and market reaction for DoorDash in Q1 2025?  \n",
       "6      What factors contribute to the cautious sentiment among investors regarding ELV despite its strong capital efficiency and commercial growth?  \n",
       "7                                             What recent change did Argus make to the price target for Equinix, Inc. while maintaining its rating?  \n",
       "8  Which companies in the Zacks Internet software industry are benefiting from the rising demand for SaaS related to hybrid work and cybersecurity?  \n",
       "9                                                                   How many times has this company completed a forward split in the last 37 years?  "
      ]
     },
     "metadata": {},
     "output_type": "display_data"
    },
    {
     "name": "stdout",
     "output_type": "stream",
     "text": [
      "Generated 100 question–news pairs using model gpt-4o-mini.\n"
     ]
    }
   ],
   "source": [
    "questions = []\n",
    "for _, row in df_sample.iterrows():\n",
    "    news_text = str(row[NEWS_FIELD])\n",
    "    q = generate_question_for_summary(news_text)\n",
    "    questions.append(q)\n",
    "\n",
    "df_news_questions = pd.DataFrame({\n",
    "    \"NEWS\": df_sample[\"SUMMARY\"].astype(str).values,\n",
    "    \"QUESTION\": questions\n",
    "})\n",
    "\n",
    "display(df_news_questions.head(10))\n",
    "print(f\"Generated {len(df_news_questions)} question–news pairs using model gpt-4o-mini.\")"
   ]
  },
  {
   "cell_type": "markdown",
   "id": "65d5e121",
   "metadata": {},
   "source": [
    "## Evaluating RAG without and with reranking\n",
    "\n",
    "You will now compare a basic RAG pipeline using FAISS with an enhanced version that includes reranking.\n"
   ]
  },
  {
   "cell_type": "markdown",
   "id": "3ce53f22",
   "metadata": {},
   "source": [
    "### RAG without reranking\n",
    "\n",
    "👉 **Instructions**:\n",
    "1. Implement a function that retrieves the **top 5** news summaries for a given question using your FAISS vector store.\n",
    "2. For each `(QUESTION, NEWS)` pair:\n",
    "   - Search using the `QUESTION`\n",
    "   - Check if the corresponding `NEWS` appears in the top 5 retrieved summaries.\n",
    "   - Record the **rank position** (from 0 to 4) in a new column `NO_RERANKER`.\n",
    "   - If the news is **not found**, store `'not found'`.\n",
    "\n",
    "✅ This step helps measure the baseline performance of your vector-based retrieval without reranking.\n",
    "\n",
    "> 💡 Tip: You can store the retrieved results in a dictionary or list to avoid recomputation."
   ]
  },
  {
   "cell_type": "code",
   "execution_count": 36,
   "id": "a2c00503",
   "metadata": {},
   "outputs": [],
   "source": [
    "TOP_K = 5"
   ]
  },
  {
   "cell_type": "code",
   "execution_count": 37,
   "id": "dc80583b",
   "metadata": {},
   "outputs": [],
   "source": [
    "def retrieve_topk(question: str, k: int = TOP_K):\n",
    "    \"\"\"Returns list of (doc_text, meta, score) from the FAISS store.\"\"\"\n",
    "    return faiss_store.search(question, k=k)\n",
    "\n",
    "# Cache to avoid calling FAISS repeatedly if you rerun cells\n",
    "retrieval_cache = {}\n",
    "\n",
    "def rank_of_gold_exact(news_summary: str, results):\n",
    "    \"\"\"\n",
    "    Find the rank (0..k-1) of the gold NEWS in FAISS results via exact string equality.\n",
    "    Handles duplicates by accepting the first exact match.\n",
    "    \"\"\"\n",
    "    gold = str(news_summary)\n",
    "    for idx, (doc_text, meta, score) in enumerate(results):\n",
    "        if gold == str(doc_text):\n",
    "            return idx\n",
    "    return None  # not found in top-k\n"
   ]
  },
  {
   "cell_type": "code",
   "execution_count": 38,
   "id": "6d773ae5",
   "metadata": {},
   "outputs": [
    {
     "name": "stderr",
     "output_type": "stream",
     "text": [
      "/opt/anaconda3/envs/env-pyspark-mna/lib/python3.12/site-packages/torch/nn/modules/module.py:1762: FutureWarning: `encoder_attention_mask` is deprecated and will be removed in version 4.55.0 for `BertSdpaSelfAttention.forward`.\n",
      "  return forward_call(*args, **kwargs)\n"
     ]
    },
    {
     "name": "stdout",
     "output_type": "stream",
     "text": [
      "Baseline (no reranker) over 100 queries\n",
      "- Found rate (Hit@5): 96.00%\n",
      "- Hit@1 (among found): 92.71%\n",
      "- Avg rank (among found): 0.10\n"
     ]
    },
    {
     "data": {
      "application/vnd.microsoft.datawrangler.viewer.v0+json": {
       "columns": [
        {
         "name": "index",
         "rawType": "int64",
         "type": "integer"
        },
        {
         "name": "QUESTION",
         "rawType": "object",
         "type": "string"
        },
        {
         "name": "NEWS",
         "rawType": "object",
         "type": "string"
        },
        {
         "name": "NO_RERANKER",
         "rawType": "object",
         "type": "unknown"
        }
       ],
       "ref": "a4b1ba34-4167-401b-87f5-7b2504588750",
       "rows": [
        [
         "0",
         "What recent analyst calls have been made regarding Broadcom and Arista Networks?",
         "Broadcom, Arista Networks initiated: Wall Street's top analyst calls",
         "0"
        ],
        [
         "1",
         "What recent developments have drawn attention to Emerson Electric (EMR) among Zacks.com users?",
         "Emerson Electric (EMR) has received quite a bit of attention from Zacks.com users lately. Therefore, it is wise to be aware of the facts that can impact the stock's prospects.",
         "0"
        ],
        [
         "2",
         "What recent developments have occurred regarding Ventas (VTR) earnings and future stock estimates?",
         "Ventas (VTR) reported earnings 30 days ago. What's next for the stock? We take a look at earnings estimates for some clues.",
         "0"
        ],
        [
         "3",
         "What are the key factors to watch for in Nvidia's upcoming earnings call that could impact the market?",
         "Nvidia's earnings call this week will be a market mover. Here are the top things you need to look out for.",
         "0"
        ],
        [
         "4",
         "What are American consumers doing in response to inflation when shopping at members-only stores?",
         "Inflation-scarred American consumers are putting up with long lines and paying cash for the privilege of shopping at members-only stores, which...",
         "0"
        ],
        [
         "5",
         "What were the financial results and market reaction for DoorDash in Q1 2025?",
         "Delivery service DoorDash (DASH) reported its largest quarterly profit to date at $193 million for Q1 2025 — a remarkable swing from a $23 million loss this time last year. Yet, shares have tumbled over 10% as the company also announced two major acquisitions totaling $5 billion, leaving investors wondering whether the food delivery giant is growing too fast for its own good. The answer isn’t immediately clear. Therefore, investors might want to hold off on this one for now and let the dust sett",
         "2"
        ],
        [
         "6",
         "What factors contribute to the cautious sentiment among investors regarding ELV despite its strong capital efficiency and commercial growth?",
         "Strong capital efficiency and commercial growth make ELV appealing, but regulatory and cost headwinds keep investors cautious.",
         "0"
        ],
        [
         "7",
         "What recent change did Argus make to the price target for Equinix, Inc. while maintaining its rating?",
         "Argus recently lowered the price target on Equinix, Inc. (NASDAQ:EQIX) to $955 from $972 but kept a Buy rating on the shares. Equinix, Inc. (EQIX) is a California-based real estate trust that operates data centers and other technology assets. In an investor note, the analyst highlighted that the stock had been volatile, reflecting Information Technology […]",
         "0"
        ],
        [
         "8",
         "Which companies in the Zacks Internet software industry are benefiting from the rising demand for SaaS related to hybrid work and cybersecurity?",
         "The Zacks Internet software industry participants like ANET, MNDY and PCTY are benefiting from high demand for SaaS due to the increasing need for hybrid work, learning and diagnosis software, as well as cybersecurity applications.",
         "0"
        ],
        [
         "9",
         "How many times has this company completed a forward split in the last 37 years?",
         "This marks the ninth time in 37 years this unstoppable company has completed a forward split.",
         "0"
        ]
       ],
       "shape": {
        "columns": 3,
        "rows": 10
       }
      },
      "text/html": [
       "<div>\n",
       "<style scoped>\n",
       "    .dataframe tbody tr th:only-of-type {\n",
       "        vertical-align: middle;\n",
       "    }\n",
       "\n",
       "    .dataframe tbody tr th {\n",
       "        vertical-align: top;\n",
       "    }\n",
       "\n",
       "    .dataframe thead th {\n",
       "        text-align: right;\n",
       "    }\n",
       "</style>\n",
       "<table border=\"1\" class=\"dataframe\">\n",
       "  <thead>\n",
       "    <tr style=\"text-align: right;\">\n",
       "      <th></th>\n",
       "      <th>QUESTION</th>\n",
       "      <th>NEWS</th>\n",
       "      <th>NO_RERANKER</th>\n",
       "    </tr>\n",
       "  </thead>\n",
       "  <tbody>\n",
       "    <tr>\n",
       "      <th>0</th>\n",
       "      <td>What recent analyst calls have been made regarding Broadcom and Arista Networks?</td>\n",
       "      <td>Broadcom, Arista Networks initiated: Wall Street's top analyst calls</td>\n",
       "      <td>0</td>\n",
       "    </tr>\n",
       "    <tr>\n",
       "      <th>1</th>\n",
       "      <td>What recent developments have drawn attention to Emerson Electric (EMR) among Zacks.com users?</td>\n",
       "      <td>Emerson Electric (EMR) has received quite a bit of attention from Zacks.com users lately. Therefore, it is wise to be aware of the facts that can impact the stock's prospects.</td>\n",
       "      <td>0</td>\n",
       "    </tr>\n",
       "    <tr>\n",
       "      <th>2</th>\n",
       "      <td>What recent developments have occurred regarding Ventas (VTR) earnings and future stock estimates?</td>\n",
       "      <td>Ventas (VTR) reported earnings 30 days ago. What's next for the stock? We take a look at earnings estimates for some clues.</td>\n",
       "      <td>0</td>\n",
       "    </tr>\n",
       "    <tr>\n",
       "      <th>3</th>\n",
       "      <td>What are the key factors to watch for in Nvidia's upcoming earnings call that could impact the market?</td>\n",
       "      <td>Nvidia's earnings call this week will be a market mover. Here are the top things you need to look out for.</td>\n",
       "      <td>0</td>\n",
       "    </tr>\n",
       "    <tr>\n",
       "      <th>4</th>\n",
       "      <td>What are American consumers doing in response to inflation when shopping at members-only stores?</td>\n",
       "      <td>Inflation-scarred American consumers are putting up with long lines and paying cash for the privilege of shopping at members-only stores, which...</td>\n",
       "      <td>0</td>\n",
       "    </tr>\n",
       "    <tr>\n",
       "      <th>5</th>\n",
       "      <td>What were the financial results and market reaction for DoorDash in Q1 2025?</td>\n",
       "      <td>Delivery service DoorDash (DASH) reported its largest quarterly profit to date at $193 million for Q1 2025 — a remarkable swing from a $23 million loss this time last year. Yet, shares have tumbled over 10% as the company also announced two major acquisitions totaling $5 billion, leaving investors wondering whether the food delivery giant is growing too fast for its own good. The answer isn’t immediately clear. Therefore, investors might want to hold off on this one for now and let the dust sett</td>\n",
       "      <td>2</td>\n",
       "    </tr>\n",
       "    <tr>\n",
       "      <th>6</th>\n",
       "      <td>What factors contribute to the cautious sentiment among investors regarding ELV despite its strong capital efficiency and commercial growth?</td>\n",
       "      <td>Strong capital efficiency and commercial growth make ELV appealing, but regulatory and cost headwinds keep investors cautious.</td>\n",
       "      <td>0</td>\n",
       "    </tr>\n",
       "    <tr>\n",
       "      <th>7</th>\n",
       "      <td>What recent change did Argus make to the price target for Equinix, Inc. while maintaining its rating?</td>\n",
       "      <td>Argus recently lowered the price target on Equinix, Inc. (NASDAQ:EQIX) to $955 from $972 but kept a Buy rating on the shares. Equinix, Inc. (EQIX) is a California-based real estate trust that operates data centers and other technology assets. In an investor note, the analyst highlighted that the stock had been volatile, reflecting Information Technology […]</td>\n",
       "      <td>0</td>\n",
       "    </tr>\n",
       "    <tr>\n",
       "      <th>8</th>\n",
       "      <td>Which companies in the Zacks Internet software industry are benefiting from the rising demand for SaaS related to hybrid work and cybersecurity?</td>\n",
       "      <td>The Zacks Internet software industry participants like ANET, MNDY and PCTY are benefiting from high demand for SaaS due to the increasing need for hybrid work, learning and diagnosis software, as well as cybersecurity applications.</td>\n",
       "      <td>0</td>\n",
       "    </tr>\n",
       "    <tr>\n",
       "      <th>9</th>\n",
       "      <td>How many times has this company completed a forward split in the last 37 years?</td>\n",
       "      <td>This marks the ninth time in 37 years this unstoppable company has completed a forward split.</td>\n",
       "      <td>0</td>\n",
       "    </tr>\n",
       "  </tbody>\n",
       "</table>\n",
       "</div>"
      ],
      "text/plain": [
       "                                                                                                                                           QUESTION  \\\n",
       "0                                                                  What recent analyst calls have been made regarding Broadcom and Arista Networks?   \n",
       "1                                                    What recent developments have drawn attention to Emerson Electric (EMR) among Zacks.com users?   \n",
       "2                                                What recent developments have occurred regarding Ventas (VTR) earnings and future stock estimates?   \n",
       "3                                            What are the key factors to watch for in Nvidia's upcoming earnings call that could impact the market?   \n",
       "4                                                  What are American consumers doing in response to inflation when shopping at members-only stores?   \n",
       "5                                                                      What were the financial results and market reaction for DoorDash in Q1 2025?   \n",
       "6      What factors contribute to the cautious sentiment among investors regarding ELV despite its strong capital efficiency and commercial growth?   \n",
       "7                                             What recent change did Argus make to the price target for Equinix, Inc. while maintaining its rating?   \n",
       "8  Which companies in the Zacks Internet software industry are benefiting from the rising demand for SaaS related to hybrid work and cybersecurity?   \n",
       "9                                                                   How many times has this company completed a forward split in the last 37 years?   \n",
       "\n",
       "                                                                                                                                                                                                                                                                                                                                                                                                                                                                                                                   NEWS  \\\n",
       "0                                                                                                                                                                                                                                                                                                                                                                                                                                                  Broadcom, Arista Networks initiated: Wall Street's top analyst calls   \n",
       "1                                                                                                                                                                                                                                                                                                                                       Emerson Electric (EMR) has received quite a bit of attention from Zacks.com users lately. Therefore, it is wise to be aware of the facts that can impact the stock's prospects.   \n",
       "2                                                                                                                                                                                                                                                                                                                                                                                           Ventas (VTR) reported earnings 30 days ago. What's next for the stock? We take a look at earnings estimates for some clues.   \n",
       "3                                                                                                                                                                                                                                                                                                                                                                                                            Nvidia's earnings call this week will be a market mover. Here are the top things you need to look out for.   \n",
       "4                                                                                                                                                                                                                                                                                                                                                                    Inflation-scarred American consumers are putting up with long lines and paying cash for the privilege of shopping at members-only stores, which...   \n",
       "5  Delivery service DoorDash (DASH) reported its largest quarterly profit to date at $193 million for Q1 2025 — a remarkable swing from a $23 million loss this time last year. Yet, shares have tumbled over 10% as the company also announced two major acquisitions totaling $5 billion, leaving investors wondering whether the food delivery giant is growing too fast for its own good. The answer isn’t immediately clear. Therefore, investors might want to hold off on this one for now and let the dust sett   \n",
       "6                                                                                                                                                                                                                                                                                                                                                                                        Strong capital efficiency and commercial growth make ELV appealing, but regulatory and cost headwinds keep investors cautious.   \n",
       "7                                                                                                                                               Argus recently lowered the price target on Equinix, Inc. (NASDAQ:EQIX) to $955 from $972 but kept a Buy rating on the shares. Equinix, Inc. (EQIX) is a California-based real estate trust that operates data centers and other technology assets. In an investor note, the analyst highlighted that the stock had been volatile, reflecting Information Technology […]   \n",
       "8                                                                                                                                                                                                                                                                               The Zacks Internet software industry participants like ANET, MNDY and PCTY are benefiting from high demand for SaaS due to the increasing need for hybrid work, learning and diagnosis software, as well as cybersecurity applications.   \n",
       "9                                                                                                                                                                                                                                                                                                                                                                                                                         This marks the ninth time in 37 years this unstoppable company has completed a forward split.   \n",
       "\n",
       "  NO_RERANKER  \n",
       "0           0  \n",
       "1           0  \n",
       "2           0  \n",
       "3           0  \n",
       "4           0  \n",
       "5           2  \n",
       "6           0  \n",
       "7           0  \n",
       "8           0  \n",
       "9           0  "
      ]
     },
     "metadata": {},
     "output_type": "display_data"
    }
   ],
   "source": [
    "# Compute ranks for no-reranker\n",
    "no_reranker_ranks = []\n",
    "for _, row in df_news_questions.iterrows():\n",
    "    q = str(row[\"QUESTION\"])\n",
    "    if q not in retrieval_cache:\n",
    "        retrieval_cache[q] = retrieve_topk(q, k=TOP_K)\n",
    "    results = retrieval_cache[q]\n",
    "    r = rank_of_gold_exact(row[\"NEWS\"], results)\n",
    "    no_reranker_ranks.append(r if r is not None else \"not found\")\n",
    "\n",
    "df_news_questions = df_news_questions.copy()\n",
    "df_news_questions[\"NO_RERANKER\"] = no_reranker_ranks\n",
    "\n",
    "# Quick metrics\n",
    "found_mask = df_news_questions[\"NO_RERANKER\"] != \"not found\"\n",
    "found_positions = [r for r in df_news_questions[\"NO_RERANKER\"] if r != \"not found\"]\n",
    "\n",
    "hit_at_1 = float(np.mean([r == 0 for r in found_positions])) if found_positions else 0.0\n",
    "found_rate = float(np.mean(found_mask))\n",
    "avg_rank_found = float(np.mean(found_positions)) if found_positions else float(\"nan\")\n",
    "\n",
    "print(f\"Baseline (no reranker) over {len(df_news_questions)} queries\")\n",
    "print(f\"- Found rate (Hit@5): {found_rate:.2%}\")\n",
    "print(f\"- Hit@1 (among found): {hit_at_1:.2%}\")\n",
    "print(f\"- Avg rank (among found): {avg_rank_found:.2f}\")\n",
    "\n",
    "display(df_news_questions.head(10)[[\"QUESTION\",\"NEWS\",\"NO_RERANKER\"]])"
   ]
  },
  {
   "cell_type": "markdown",
   "id": "68e97722",
   "metadata": {},
   "source": [
    "### RAG with reranking\n",
    "In this section, you will add reranking using a cross-encoder model (`ms-marco-MiniLM-L12-v2`) to improve retrieval.\n",
    "\n",
    "👉 **Instructions**:\n",
    "1. Retrieve the **top 100** summaries from FAISS for each question.\n",
    "2. Rerank these summaries using the CrossEncoder model: `cross-encoder/ms-marco-MiniLM-L12-v2`.\n",
    "For each question, retrieve the top-100 summaries from FAISS, then rerank only those 100 using the CrossEncoder model.\n",
    "3. Return the **top 5** reranked results.\n",
    "4. For each `(QUESTION, NEWS)` pair, record the new rank (0–4) of the correct news in a new column: `WITH_RERANKER`.\n",
    "5. Again, if the news is not found, store `'not found'`.\n",
    "\n",
    "✅ This step lets you evaluate how much the reranker improves the relevance of retrieved results.\n",
    "\n",
    "> ℹ️ The CrossEncoder scores each (question, summary) pair individually, so this step may take longer to run.\n",
    "\n"
   ]
  },
  {
   "cell_type": "code",
   "execution_count": 39,
   "id": "688bc28c",
   "metadata": {},
   "outputs": [
    {
     "name": "stdout",
     "output_type": "stream",
     "text": [
      "[ 9.218914 -4.078029]\n"
     ]
    },
    {
     "name": "stderr",
     "output_type": "stream",
     "text": [
      "/opt/anaconda3/envs/env-pyspark-mna/lib/python3.12/site-packages/torch/nn/modules/module.py:1762: FutureWarning: `encoder_attention_mask` is deprecated and will be removed in version 4.55.0 for `BertSdpaSelfAttention.forward`.\n",
      "  return forward_call(*args, **kwargs)\n"
     ]
    }
   ],
   "source": [
    "from sentence_transformers import CrossEncoder\n",
    "\n",
    "model = CrossEncoder('cross-encoder/ms-marco-MiniLM-L12-v2')\n",
    "scores = model.predict([\n",
    "    (\"How many people live in Berlin?\", \"Berlin had a population of 3,520,031 registered inhabitants in an area of 891.82 square kilometers.\"),\n",
    "    (\"How many people live in Berlin?\", \"Berlin is well known for its museums.\"),\n",
    "])\n",
    "print(scores)"
   ]
  },
  {
   "cell_type": "code",
   "execution_count": 40,
   "id": "4aa6808a",
   "metadata": {},
   "outputs": [],
   "source": [
    "TOP_K_BASE = 100\n",
    "TOP_K_FINAL = 5"
   ]
  },
  {
   "cell_type": "code",
   "execution_count": 41,
   "id": "d4d51da6",
   "metadata": {},
   "outputs": [],
   "source": [
    "retrieval_cache = {}\n",
    "retrieval_cache_100 = {}"
   ]
  },
  {
   "cell_type": "code",
   "execution_count": 42,
   "id": "c1091080",
   "metadata": {},
   "outputs": [],
   "source": [
    "def retrieve_topk_faiss(q: str, k: int = TOP_K_BASE):\n",
    "    \"\"\"Return list of (doc_text, meta, score) from FAISS.\"\"\"\n",
    "    return faiss_store.search(q, k=k)\n",
    "\n",
    "def rerank_with_crossencoder(question: str, candidates, model):\n",
    "    \"\"\"\n",
    "    candidates: list of (doc_text, meta, score_from_faiss)\n",
    "    returns: list of (doc_text, meta, ce_score) sorted by ce_score desc\n",
    "    \"\"\"\n",
    "    if not candidates:\n",
    "        return []\n",
    "    pairs = [(question, doc) for (doc, meta, score) in candidates]\n",
    "    ce_scores = model.predict(pairs).tolist()\n",
    "    rescored = [(doc, meta, float(s)) for (s, (doc, meta, _)) in zip(ce_scores, candidates)]\n",
    "    rescored.sort(key=lambda x: x[2], reverse=True)\n",
    "    return rescored\n",
    "\n",
    "def rank_of_gold_exact(news_summary: str, reranked_topk):\n",
    "    \"\"\"Find 0..TOP_K_FINAL-1 of gold NEWS among reranked_topk via exact string match on doc_text.\"\"\"\n",
    "    gold = str(news_summary)\n",
    "    for idx, (doc_text, meta, ce_score) in enumerate(reranked_topk):\n",
    "        if gold == str(doc_text):\n",
    "            return idx\n",
    "    return None"
   ]
  },
  {
   "cell_type": "code",
   "execution_count": 43,
   "id": "a31f07c0",
   "metadata": {},
   "outputs": [
    {
     "name": "stdout",
     "output_type": "stream",
     "text": [
      "Reranker results over 100 queries\n",
      "- Found rate (Hit@5): 100.00%\n",
      "- Hit@1 (among found): 95.00%\n",
      "- Avg rank (among found): 0.11\n",
      "\n",
      "Δ vs No-Reranker:\n",
      "- Found rate Δ: +4.00% (CE 100.00% vs Base 96.00%)\n",
      "- Hit@1 Δ: +2.29% (CE 95.00% vs Base 92.71%)\n",
      "- Avg rank (found) Δ: +0.01 (lower is better)\n"
     ]
    },
    {
     "data": {
      "application/vnd.microsoft.datawrangler.viewer.v0+json": {
       "columns": [
        {
         "name": "index",
         "rawType": "int64",
         "type": "integer"
        },
        {
         "name": "QUESTION",
         "rawType": "object",
         "type": "string"
        },
        {
         "name": "NEWS",
         "rawType": "object",
         "type": "string"
        },
        {
         "name": "NO_RERANKER",
         "rawType": "object",
         "type": "unknown"
        },
        {
         "name": "WITH_RERANKER",
         "rawType": "int64",
         "type": "integer"
        }
       ],
       "ref": "94b0bb20-0704-4dc8-b428-cf60f51fc116",
       "rows": [
        [
         "0",
         "What recent analyst calls have been made regarding Broadcom and Arista Networks?",
         "Broadcom, Arista Networks initiated: Wall Street's top analyst calls",
         "0",
         "0"
        ],
        [
         "1",
         "What recent developments have drawn attention to Emerson Electric (EMR) among Zacks.com users?",
         "Emerson Electric (EMR) has received quite a bit of attention from Zacks.com users lately. Therefore, it is wise to be aware of the facts that can impact the stock's prospects.",
         "0",
         "0"
        ],
        [
         "2",
         "What recent developments have occurred regarding Ventas (VTR) earnings and future stock estimates?",
         "Ventas (VTR) reported earnings 30 days ago. What's next for the stock? We take a look at earnings estimates for some clues.",
         "0",
         "0"
        ],
        [
         "3",
         "What are the key factors to watch for in Nvidia's upcoming earnings call that could impact the market?",
         "Nvidia's earnings call this week will be a market mover. Here are the top things you need to look out for.",
         "0",
         "0"
        ],
        [
         "4",
         "What are American consumers doing in response to inflation when shopping at members-only stores?",
         "Inflation-scarred American consumers are putting up with long lines and paying cash for the privilege of shopping at members-only stores, which...",
         "0",
         "0"
        ],
        [
         "5",
         "What were the financial results and market reaction for DoorDash in Q1 2025?",
         "Delivery service DoorDash (DASH) reported its largest quarterly profit to date at $193 million for Q1 2025 — a remarkable swing from a $23 million loss this time last year. Yet, shares have tumbled over 10% as the company also announced two major acquisitions totaling $5 billion, leaving investors wondering whether the food delivery giant is growing too fast for its own good. The answer isn’t immediately clear. Therefore, investors might want to hold off on this one for now and let the dust sett",
         "2",
         "0"
        ],
        [
         "6",
         "What factors contribute to the cautious sentiment among investors regarding ELV despite its strong capital efficiency and commercial growth?",
         "Strong capital efficiency and commercial growth make ELV appealing, but regulatory and cost headwinds keep investors cautious.",
         "0",
         "0"
        ],
        [
         "7",
         "What recent change did Argus make to the price target for Equinix, Inc. while maintaining its rating?",
         "Argus recently lowered the price target on Equinix, Inc. (NASDAQ:EQIX) to $955 from $972 but kept a Buy rating on the shares. Equinix, Inc. (EQIX) is a California-based real estate trust that operates data centers and other technology assets. In an investor note, the analyst highlighted that the stock had been volatile, reflecting Information Technology […]",
         "0",
         "0"
        ],
        [
         "8",
         "Which companies in the Zacks Internet software industry are benefiting from the rising demand for SaaS related to hybrid work and cybersecurity?",
         "The Zacks Internet software industry participants like ANET, MNDY and PCTY are benefiting from high demand for SaaS due to the increasing need for hybrid work, learning and diagnosis software, as well as cybersecurity applications.",
         "0",
         "0"
        ],
        [
         "9",
         "How many times has this company completed a forward split in the last 37 years?",
         "This marks the ninth time in 37 years this unstoppable company has completed a forward split.",
         "0",
         "0"
        ]
       ],
       "shape": {
        "columns": 4,
        "rows": 10
       }
      },
      "text/html": [
       "<div>\n",
       "<style scoped>\n",
       "    .dataframe tbody tr th:only-of-type {\n",
       "        vertical-align: middle;\n",
       "    }\n",
       "\n",
       "    .dataframe tbody tr th {\n",
       "        vertical-align: top;\n",
       "    }\n",
       "\n",
       "    .dataframe thead th {\n",
       "        text-align: right;\n",
       "    }\n",
       "</style>\n",
       "<table border=\"1\" class=\"dataframe\">\n",
       "  <thead>\n",
       "    <tr style=\"text-align: right;\">\n",
       "      <th></th>\n",
       "      <th>QUESTION</th>\n",
       "      <th>NEWS</th>\n",
       "      <th>NO_RERANKER</th>\n",
       "      <th>WITH_RERANKER</th>\n",
       "    </tr>\n",
       "  </thead>\n",
       "  <tbody>\n",
       "    <tr>\n",
       "      <th>0</th>\n",
       "      <td>What recent analyst calls have been made regarding Broadcom and Arista Networks?</td>\n",
       "      <td>Broadcom, Arista Networks initiated: Wall Street's top analyst calls</td>\n",
       "      <td>0</td>\n",
       "      <td>0</td>\n",
       "    </tr>\n",
       "    <tr>\n",
       "      <th>1</th>\n",
       "      <td>What recent developments have drawn attention to Emerson Electric (EMR) among Zacks.com users?</td>\n",
       "      <td>Emerson Electric (EMR) has received quite a bit of attention from Zacks.com users lately. Therefore, it is wise to be aware of the facts that can impact the stock's prospects.</td>\n",
       "      <td>0</td>\n",
       "      <td>0</td>\n",
       "    </tr>\n",
       "    <tr>\n",
       "      <th>2</th>\n",
       "      <td>What recent developments have occurred regarding Ventas (VTR) earnings and future stock estimates?</td>\n",
       "      <td>Ventas (VTR) reported earnings 30 days ago. What's next for the stock? We take a look at earnings estimates for some clues.</td>\n",
       "      <td>0</td>\n",
       "      <td>0</td>\n",
       "    </tr>\n",
       "    <tr>\n",
       "      <th>3</th>\n",
       "      <td>What are the key factors to watch for in Nvidia's upcoming earnings call that could impact the market?</td>\n",
       "      <td>Nvidia's earnings call this week will be a market mover. Here are the top things you need to look out for.</td>\n",
       "      <td>0</td>\n",
       "      <td>0</td>\n",
       "    </tr>\n",
       "    <tr>\n",
       "      <th>4</th>\n",
       "      <td>What are American consumers doing in response to inflation when shopping at members-only stores?</td>\n",
       "      <td>Inflation-scarred American consumers are putting up with long lines and paying cash for the privilege of shopping at members-only stores, which...</td>\n",
       "      <td>0</td>\n",
       "      <td>0</td>\n",
       "    </tr>\n",
       "    <tr>\n",
       "      <th>5</th>\n",
       "      <td>What were the financial results and market reaction for DoorDash in Q1 2025?</td>\n",
       "      <td>Delivery service DoorDash (DASH) reported its largest quarterly profit to date at $193 million for Q1 2025 — a remarkable swing from a $23 million loss this time last year. Yet, shares have tumbled over 10% as the company also announced two major acquisitions totaling $5 billion, leaving investors wondering whether the food delivery giant is growing too fast for its own good. The answer isn’t immediately clear. Therefore, investors might want to hold off on this one for now and let the dust sett</td>\n",
       "      <td>2</td>\n",
       "      <td>0</td>\n",
       "    </tr>\n",
       "    <tr>\n",
       "      <th>6</th>\n",
       "      <td>What factors contribute to the cautious sentiment among investors regarding ELV despite its strong capital efficiency and commercial growth?</td>\n",
       "      <td>Strong capital efficiency and commercial growth make ELV appealing, but regulatory and cost headwinds keep investors cautious.</td>\n",
       "      <td>0</td>\n",
       "      <td>0</td>\n",
       "    </tr>\n",
       "    <tr>\n",
       "      <th>7</th>\n",
       "      <td>What recent change did Argus make to the price target for Equinix, Inc. while maintaining its rating?</td>\n",
       "      <td>Argus recently lowered the price target on Equinix, Inc. (NASDAQ:EQIX) to $955 from $972 but kept a Buy rating on the shares. Equinix, Inc. (EQIX) is a California-based real estate trust that operates data centers and other technology assets. In an investor note, the analyst highlighted that the stock had been volatile, reflecting Information Technology […]</td>\n",
       "      <td>0</td>\n",
       "      <td>0</td>\n",
       "    </tr>\n",
       "    <tr>\n",
       "      <th>8</th>\n",
       "      <td>Which companies in the Zacks Internet software industry are benefiting from the rising demand for SaaS related to hybrid work and cybersecurity?</td>\n",
       "      <td>The Zacks Internet software industry participants like ANET, MNDY and PCTY are benefiting from high demand for SaaS due to the increasing need for hybrid work, learning and diagnosis software, as well as cybersecurity applications.</td>\n",
       "      <td>0</td>\n",
       "      <td>0</td>\n",
       "    </tr>\n",
       "    <tr>\n",
       "      <th>9</th>\n",
       "      <td>How many times has this company completed a forward split in the last 37 years?</td>\n",
       "      <td>This marks the ninth time in 37 years this unstoppable company has completed a forward split.</td>\n",
       "      <td>0</td>\n",
       "      <td>0</td>\n",
       "    </tr>\n",
       "  </tbody>\n",
       "</table>\n",
       "</div>"
      ],
      "text/plain": [
       "                                                                                                                                           QUESTION  \\\n",
       "0                                                                  What recent analyst calls have been made regarding Broadcom and Arista Networks?   \n",
       "1                                                    What recent developments have drawn attention to Emerson Electric (EMR) among Zacks.com users?   \n",
       "2                                                What recent developments have occurred regarding Ventas (VTR) earnings and future stock estimates?   \n",
       "3                                            What are the key factors to watch for in Nvidia's upcoming earnings call that could impact the market?   \n",
       "4                                                  What are American consumers doing in response to inflation when shopping at members-only stores?   \n",
       "5                                                                      What were the financial results and market reaction for DoorDash in Q1 2025?   \n",
       "6      What factors contribute to the cautious sentiment among investors regarding ELV despite its strong capital efficiency and commercial growth?   \n",
       "7                                             What recent change did Argus make to the price target for Equinix, Inc. while maintaining its rating?   \n",
       "8  Which companies in the Zacks Internet software industry are benefiting from the rising demand for SaaS related to hybrid work and cybersecurity?   \n",
       "9                                                                   How many times has this company completed a forward split in the last 37 years?   \n",
       "\n",
       "                                                                                                                                                                                                                                                                                                                                                                                                                                                                                                                   NEWS  \\\n",
       "0                                                                                                                                                                                                                                                                                                                                                                                                                                                  Broadcom, Arista Networks initiated: Wall Street's top analyst calls   \n",
       "1                                                                                                                                                                                                                                                                                                                                       Emerson Electric (EMR) has received quite a bit of attention from Zacks.com users lately. Therefore, it is wise to be aware of the facts that can impact the stock's prospects.   \n",
       "2                                                                                                                                                                                                                                                                                                                                                                                           Ventas (VTR) reported earnings 30 days ago. What's next for the stock? We take a look at earnings estimates for some clues.   \n",
       "3                                                                                                                                                                                                                                                                                                                                                                                                            Nvidia's earnings call this week will be a market mover. Here are the top things you need to look out for.   \n",
       "4                                                                                                                                                                                                                                                                                                                                                                    Inflation-scarred American consumers are putting up with long lines and paying cash for the privilege of shopping at members-only stores, which...   \n",
       "5  Delivery service DoorDash (DASH) reported its largest quarterly profit to date at $193 million for Q1 2025 — a remarkable swing from a $23 million loss this time last year. Yet, shares have tumbled over 10% as the company also announced two major acquisitions totaling $5 billion, leaving investors wondering whether the food delivery giant is growing too fast for its own good. The answer isn’t immediately clear. Therefore, investors might want to hold off on this one for now and let the dust sett   \n",
       "6                                                                                                                                                                                                                                                                                                                                                                                        Strong capital efficiency and commercial growth make ELV appealing, but regulatory and cost headwinds keep investors cautious.   \n",
       "7                                                                                                                                               Argus recently lowered the price target on Equinix, Inc. (NASDAQ:EQIX) to $955 from $972 but kept a Buy rating on the shares. Equinix, Inc. (EQIX) is a California-based real estate trust that operates data centers and other technology assets. In an investor note, the analyst highlighted that the stock had been volatile, reflecting Information Technology […]   \n",
       "8                                                                                                                                                                                                                                                                               The Zacks Internet software industry participants like ANET, MNDY and PCTY are benefiting from high demand for SaaS due to the increasing need for hybrid work, learning and diagnosis software, as well as cybersecurity applications.   \n",
       "9                                                                                                                                                                                                                                                                                                                                                                                                                         This marks the ninth time in 37 years this unstoppable company has completed a forward split.   \n",
       "\n",
       "  NO_RERANKER  WITH_RERANKER  \n",
       "0           0              0  \n",
       "1           0              0  \n",
       "2           0              0  \n",
       "3           0              0  \n",
       "4           0              0  \n",
       "5           2              0  \n",
       "6           0              0  \n",
       "7           0              0  \n",
       "8           0              0  \n",
       "9           0              0  "
      ]
     },
     "metadata": {},
     "output_type": "display_data"
    }
   ],
   "source": [
    "with_reranker_ranks = []\n",
    "for _, row in df_news_questions.iterrows():\n",
    "    q = str(row[\"QUESTION\"])\n",
    "    # Fetch or compute FAISS top-100\n",
    "    if q not in retrieval_cache_100:\n",
    "        retrieval_cache_100[q] = retrieve_topk_faiss(q, k=TOP_K_BASE)\n",
    "    top100 = retrieval_cache_100[q]\n",
    "    # Rerank those 100\n",
    "    reranked = rerank_with_crossencoder(q, top100, model)\n",
    "    # Take top-5 for evaluation\n",
    "    top5 = reranked[:TOP_K_FINAL]\n",
    "    r = rank_of_gold_exact(row[\"NEWS\"], top5)\n",
    "    with_reranker_ranks.append(r if r is not None else \"not found\")\n",
    "\n",
    "df_news_questions = df_news_questions.copy()\n",
    "df_news_questions[\"WITH_RERANKER\"] = with_reranker_ranks\n",
    "\n",
    "# 3) Quick metrics\n",
    "def _extract_found_positions(series):\n",
    "    return [r for r in series if r != \"not found\"]\n",
    "\n",
    "found_mask = df_news_questions[\"WITH_RERANKER\"] != \"not found\"\n",
    "found_positions = _extract_found_positions(df_news_questions[\"WITH_RERANKER\"])\n",
    "\n",
    "hit_at_1_ce = float(np.mean([r == 0 for r in found_positions])) if found_positions else 0.0\n",
    "found_rate_ce = float(np.mean(found_mask))\n",
    "avg_rank_found_ce = float(np.mean(found_positions)) if found_positions else float(\"nan\")\n",
    "\n",
    "print(f\"Reranker results over {len(df_news_questions)} queries\")\n",
    "print(f\"- Found rate (Hit@5): {found_rate_ce:.2%}\")\n",
    "print(f\"- Hit@1 (among found): {hit_at_1_ce:.2%}\")\n",
    "print(f\"- Avg rank (among found): {avg_rank_found_ce:.2f}\")\n",
    "\n",
    "# 4) If baseline exists, print simple deltas\n",
    "if \"NO_RERANKER\" in df_news_questions.columns:\n",
    "    base_found = df_news_questions[\"NO_RERANKER\"] != \"not found\"\n",
    "    base_found_positions = _extract_found_positions(df_news_questions[\"NO_RERANKER\"])\n",
    "    hit_at_1_base = float(np.mean([r == 0 for r in base_found_positions])) if base_found_positions else 0.0\n",
    "    found_rate_base = float(np.mean(base_found))\n",
    "    avg_rank_found_base = float(np.mean(base_found_positions)) if base_found_positions else float(\"nan\")\n",
    "\n",
    "    print(\"\\nΔ vs No-Reranker:\")\n",
    "    print(f\"- Found rate Δ: {(found_rate_ce - found_rate_base):+.2%} (CE {found_rate_ce:.2%} vs Base {found_rate_base:.2%})\")\n",
    "    print(f\"- Hit@1 Δ: {(hit_at_1_ce - hit_at_1_base):+.2%} (CE {hit_at_1_ce:.2%} vs Base {hit_at_1_base:.2%})\")\n",
    "    if not (np.isnan(avg_rank_found_ce) or np.isnan(avg_rank_found_base)):\n",
    "        print(f\"- Avg rank (found) Δ: {(avg_rank_found_ce - avg_rank_found_base):+.2f} (lower is better)\")\n",
    "\n",
    "display(df_news_questions[[\"QUESTION\", \"NEWS\", \"NO_RERANKER\",\"WITH_RERANKER\"]].head(10))\n",
    "\n"
   ]
  },
  {
   "cell_type": "markdown",
   "id": "809ec2ce",
   "metadata": {},
   "source": [
    "## Comparison and analysis\n",
    "\n",
    "👉 **Instructions**:\n",
    "- Analyze the impact of reranking using your results.\n",
    "- Write short answers to the following:\n",
    "  1. Did reranking improve the **average position** of the correct news?\n",
    "  2. How often was the correct article at **position 0** with and without reranking?\n",
    "- You may use:\n",
    "  - Value counts (`.value_counts()`)\n",
    "  - Descriptive statistics (`.mean()`, `.median()`)\n",
    "  - Simple plots (e.g. bar charts or histograms)\n",
    "\n",
    "✅ This is your opportunity to reflect on the performance of the reranker and think critically about retrieval quality.\n",
    "\n",
    "> ✨ Optional: You can create a summary table comparing the overall accuracy and coverage between the two methods."
   ]
  },
  {
   "cell_type": "code",
   "execution_count": 44,
   "id": "56463740",
   "metadata": {},
   "outputs": [
    {
     "data": {
      "application/vnd.microsoft.datawrangler.viewer.v0+json": {
       "columns": [
        {
         "name": "index",
         "rawType": "int64",
         "type": "integer"
        },
        {
         "name": "Metric",
         "rawType": "object",
         "type": "string"
        },
        {
         "name": "No Reranker",
         "rawType": "float64",
         "type": "float"
        },
        {
         "name": "Reranker",
         "rawType": "float64",
         "type": "float"
        },
        {
         "name": "Delta (Reranker - Base)",
         "rawType": "float64",
         "type": "float"
        }
       ],
       "ref": "b24f4358-5a22-4aa3-85d5-941dcbd08bda",
       "rows": [
        [
         "0",
         "Found Rate (Hit@5)",
         "0.96",
         "1.0",
         "0.040000000000000036"
        ],
        [
         "1",
         "Hit@1 (overall)",
         "0.89",
         "0.95",
         "0.05999999999999994"
        ],
        [
         "2",
         "Avg Rank (found)",
         "0.10416666666666667",
         "0.11",
         "0.005833333333333329"
        ],
        [
         "3",
         "MRR",
         "0.9583333333333334",
         "0.9666666666666667",
         "0.008333333333333304"
        ]
       ],
       "shape": {
        "columns": 4,
        "rows": 4
       }
      },
      "text/html": [
       "<div>\n",
       "<style scoped>\n",
       "    .dataframe tbody tr th:only-of-type {\n",
       "        vertical-align: middle;\n",
       "    }\n",
       "\n",
       "    .dataframe tbody tr th {\n",
       "        vertical-align: top;\n",
       "    }\n",
       "\n",
       "    .dataframe thead th {\n",
       "        text-align: right;\n",
       "    }\n",
       "</style>\n",
       "<table border=\"1\" class=\"dataframe\">\n",
       "  <thead>\n",
       "    <tr style=\"text-align: right;\">\n",
       "      <th></th>\n",
       "      <th>Metric</th>\n",
       "      <th>No Reranker</th>\n",
       "      <th>Reranker</th>\n",
       "      <th>Delta (Reranker - Base)</th>\n",
       "    </tr>\n",
       "  </thead>\n",
       "  <tbody>\n",
       "    <tr>\n",
       "      <th>0</th>\n",
       "      <td>Found Rate (Hit@5)</td>\n",
       "      <td>0.960000</td>\n",
       "      <td>1.000000</td>\n",
       "      <td>0.040000</td>\n",
       "    </tr>\n",
       "    <tr>\n",
       "      <th>1</th>\n",
       "      <td>Hit@1 (overall)</td>\n",
       "      <td>0.890000</td>\n",
       "      <td>0.950000</td>\n",
       "      <td>0.060000</td>\n",
       "    </tr>\n",
       "    <tr>\n",
       "      <th>2</th>\n",
       "      <td>Avg Rank (found)</td>\n",
       "      <td>0.104167</td>\n",
       "      <td>0.110000</td>\n",
       "      <td>0.005833</td>\n",
       "    </tr>\n",
       "    <tr>\n",
       "      <th>3</th>\n",
       "      <td>MRR</td>\n",
       "      <td>0.958333</td>\n",
       "      <td>0.966667</td>\n",
       "      <td>0.008333</td>\n",
       "    </tr>\n",
       "  </tbody>\n",
       "</table>\n",
       "</div>"
      ],
      "text/plain": [
       "               Metric  No Reranker  Reranker  Delta (Reranker - Base)\n",
       "0  Found Rate (Hit@5)     0.960000  1.000000                 0.040000\n",
       "1     Hit@1 (overall)     0.890000  0.950000                 0.060000\n",
       "2    Avg Rank (found)     0.104167  0.110000                 0.005833\n",
       "3                 MRR     0.958333  0.966667                 0.008333"
      ]
     },
     "metadata": {},
     "output_type": "display_data"
    },
    {
     "data": {
      "image/png": "[encoded data removed]",
      "text/plain": [
       "<Figure size 640x480 with 1 Axes>"
      ]
     },
     "metadata": {},
     "output_type": "display_data"
    },
    {
     "data": {
      "image/png": "[encoded data removed]",
      "text/plain": [
       "<Figure size 640x480 with 1 Axes>"
      ]
     },
     "metadata": {},
     "output_type": "display_data"
    },
    {
     "data": {
      "image/png": "[encoded data removed]",
      "text/plain": [
       "<Figure size 640x480 with 1 Axes>"
      ]
     },
     "metadata": {},
     "output_type": "display_data"
    }
   ],
   "source": [
    "import matplotlib.pyplot as plt\n",
    "\n",
    "cols = [\"NO_RERANKER\", \"WITH_RERANKER\"]\n",
    "\n",
    "def to_numeric_ranks(series):\n",
    "    return pd.to_numeric(series, errors=\"coerce\")\n",
    "\n",
    "def found_rate(ranks):\n",
    "    \"\"\"Share of queries where the correct article appears in the retrieved top-k.\"\"\"\n",
    "    s = to_numeric_ranks(ranks)\n",
    "    return float(1.0- s.isna().mean())\n",
    "\n",
    "def avg_rank_found(ranks):\n",
    "    \"\"\"Average rank among found cases only (lower is better).\"\"\"\n",
    "    s = to_numeric_ranks(ranks).dropna()\n",
    "    return float(s.mean()) if len(s) else float(\"nan\")\n",
    "\n",
    "def hit_at_1_overall(ranks):\n",
    "    \"\"\"Fraction of queries where the correct article is at position 0 (counts not-found as False).\"\"\"\n",
    "    s = to_numeric_ranks(ranks)\n",
    "    return float((s == 0).mean())\n",
    "\n",
    "def mrr(ranks):\n",
    "    \"\"\"Mean Reciprocal Rank over found items (top-k).\"\"\"\n",
    "    s = to_numeric_ranks(ranks)\n",
    "    rr = 1.0 / (s.dropna() + 1.0)\n",
    "    return float(rr.mean()) if len(rr) else 0.0\n",
    "\n",
    "def rank_counts(series, k=5):\n",
    "    \"\"\"Counts for 0..k-1 and 'not found'.\"\"\"\n",
    "    s = to_numeric_ranks(series)\n",
    "    counts = {i: int((s == i).sum()) for i in range(k)}\n",
    "    counts[\"not found\"] = int(s.isna().sum())\n",
    "    return counts\n",
    "\n",
    "# Metrics for both methods\n",
    "no_r = df_news_questions[\"NO_RERANKER\"]\n",
    "ce_r = df_news_questions[\"WITH_RERANKER\"]\n",
    "\n",
    "metrics = {\n",
    "    \"Found Rate (Hit@5)\": (found_rate(no_r), found_rate(ce_r)),\n",
    "    \"Hit@1 (overall)\":    (hit_at_1_overall(no_r), hit_at_1_overall(ce_r)),\n",
    "    \"Avg Rank (found)\":   (avg_rank_found(no_r), avg_rank_found(ce_r)),\n",
    "    \"MRR\":                (mrr(no_r), mrr(ce_r)),\n",
    "}\n",
    "\n",
    "metrics_df = pd.DataFrame(\n",
    "    [{\"Metric\": k, \"No Reranker\": v[0], \"Reranker\": v[1], \"Delta (Reranker - Base)\": v[1] - v[0]} for k, v in metrics.items()]\n",
    ")\n",
    "\n",
    "display(metrics_df)\n",
    "\n",
    "def plot_rank_distribution(series, title, k=5):\n",
    "    counts = rank_counts(series, k=k)\n",
    "    labels = [str(i) for i in range(k)] + [\"not found\"]\n",
    "    values = [counts[i] if isinstance(i, int) else counts[i] for i in list(range(k))] + [counts[\"not found\"]]\n",
    "    plt.figure()\n",
    "    plt.bar(labels, values)\n",
    "    plt.title(title)\n",
    "    plt.xlabel(\"Rank\")\n",
    "    plt.ylabel(\"Count\")\n",
    "    plt.tight_layout()\n",
    "    plt.show()\n",
    "\n",
    "plot_rank_distribution(no_r, \"Rank distribution — No Reranker\", k=5)\n",
    "plot_rank_distribution(ce_r, \"Rank distribution — With Reranker\", k=5)\n",
    "\n",
    "key_metrics = [\"Found Rate (Hit@5)\", \"Hit@1 (overall)\", \"MRR\"]\n",
    "x = np.arange(len(key_metrics))\n",
    "base_vals = [metrics[m][0] for m in key_metrics]\n",
    "ce_vals   = [metrics[m][1] for m in key_metrics]\n",
    "\n",
    "plt.figure()\n",
    "width = 0.35\n",
    "plt.bar(x - width/2, base_vals, width, label=\"No Reranker\")\n",
    "plt.bar(x + width/2, ce_vals,   width, label=\"Reranker\")\n",
    "plt.xticks(x, key_metrics, rotation=20, ha=\"right\")\n",
    "plt.ylabel(\"Score\")\n",
    "plt.title(\"Retrieval Performance: No Reranker vs Reranker\")\n",
    "plt.legend()\n",
    "plt.tight_layout()\n",
    "plt.show()\n"
   ]
  },
  {
   "cell_type": "markdown",
   "id": "4c537c3c",
   "metadata": {},
   "source": [
    "### **Question 1.** Did reranking improve the **average position** of the correct news?\n",
    " "
   ]
  },
  {
   "cell_type": "markdown",
   "id": "636c6156",
   "metadata": {},
   "source": [
    "No, as we can see in the summary table and in the graphs, the average position pass from 0.10 (without reranking) to 0.11 (with reranking). However, the difference is not big enough to think that reranking is worse."
   ]
  },
  {
   "cell_type": "markdown",
   "id": "7202a33c",
   "metadata": {},
   "source": [
    "### **Question 2.** How often was the correct article at **position 0** with and without reranking?\n"
   ]
  },
  {
   "cell_type": "markdown",
   "id": "cad754e7",
   "metadata": {},
   "source": [
    "Also, as we can see in the quick metrics, the summary table and the plots, the article is found at position  89% of the times without reranking (92% without counting the not founds) while 95% of the times with reranking. With this we can enforce the hypothesis that the reranking improves the performance of the RAG model. Also, we can see that with reranking, the articles were found between the top 5 100% of the times."
   ]
  },
  {
   "cell_type": "markdown",
   "id": "7527c4e4",
   "metadata": {},
   "source": []
  }
 ],
 "metadata": {
  "kernelspec": {
   "display_name": "env-pyspark-mna",
   "language": "python",
   "name": "python3"
  },
  "language_info": {
   "codemirror_mode": {
    "name": "ipython",
    "version": 3
   },
   "file_extension": ".py",
   "mimetype": "text/x-python",
   "name": "python",
   "nbconvert_exporter": "python",
   "pygments_lexer": "ipython3",
   "version": "3.12.9"
  }
 },
 "nbformat": 4,
 "nbformat_minor": 5
}
