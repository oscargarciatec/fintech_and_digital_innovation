{
 "cells": [
  {
   "cell_type": "markdown",
   "id": "2f154134",
   "metadata": {},
   "source": [
    "# 🎓 **Applied Artificial Intelligence Master**\n",
    "\n",
    "## 🤖 **Course: Fintech and Digital Innovation in Finance (Gpo 10)**\n",
    "\n",
    "### 🏛️ Tecnológico de Monterrey\n",
    "\n",
    "#### 👨‍🏫 **Lead Professor:** Marie-Ève Malette\n",
    "#### 👩‍🏫 **Assistant Professor:** Yetnalezi Quintas Ruiz\n",
    "\n",
    "### 📊 **Project 1 Section A | Text embeddings on S&P 500 data**\n",
    "\n",
    "#### 📅 **July 24th, 2025**\n",
    "\n",
    "#### **Student:**\n",
    "* 🧑‍💻 Oscar Enrique García García (A01016093)"
   ]
  },
  {
   "cell_type": "markdown",
   "id": "278363b3",
   "metadata": {},
   "source": [
    "# Introduction to text embeddings on S&P 500 news"
   ]
  },
  {
   "cell_type": "markdown",
   "id": "83d6ffde",
   "metadata": {},
   "source": [
    "📌 Objectives\n",
    "\n",
    "By the end of this notebook, students will be able to:\n",
    "\n",
    "1. **Retrieve Financial News:**\n",
    "   - Use the `yfinance` library to gather news headlines for all companies in the S&P 500 index.\n",
    "\n",
    "2. **Clean and Structure Financial Text Data:**\n",
    "   - Extract and organize relevant metadata (e.g., ticker, title, summary, publication date, URL) into a structured pandas DataFrame.\n",
    "\n",
    "3. **Generate Text Embeddings:**\n",
    "   - Apply a pre-trained sentence transformer model (`all-MiniLM-L6-v2`) to convert news headlines and summaries into numerical embeddings.\n",
    "\n",
    "4. **Apply Clustering Techniques:**\n",
    "   - Use K-Means clustering to identify groups of similar news articles based on semantic content.\n",
    "\n",
    "5. **Determine Optimal Number of Clusters:**\n",
    "   - Evaluate clustering quality using silhouette scores to find the best number of clusters.\n",
    "\n",
    "6. **Visualize High-Dimensional Embeddings:**\n",
    "   - Reduce the embedding space using PCA and visualize clusters in two dimensions.\n",
    "\n",
    "7. **Interpret Cluster Themes:**\n",
    "   - Analyze representative news\n"
   ]
  },
  {
   "cell_type": "markdown",
   "id": "fe54247f",
   "metadata": {},
   "source": [
    "## Install and Import important librairies"
   ]
  },
  {
   "cell_type": "code",
   "execution_count": 1,
   "id": "49c4fff2",
   "metadata": {},
   "outputs": [
    {
     "name": "stdout",
     "output_type": "stream",
     "text": [
      "Requirement already satisfied: pandas in /opt/anaconda3/envs/env-pyspark-mna/lib/python3.12/site-packages (2.2.3)\n",
      "Requirement already satisfied: numpy>=1.26.0 in /opt/anaconda3/envs/env-pyspark-mna/lib/python3.12/site-packages (from pandas) (1.26.4)\n",
      "Requirement already satisfied: python-dateutil>=2.8.2 in /opt/anaconda3/envs/env-pyspark-mna/lib/python3.12/site-packages (from pandas) (2.9.0.post0)\n",
      "Requirement already satisfied: pytz>=2020.1 in /opt/anaconda3/envs/env-pyspark-mna/lib/python3.12/site-packages (from pandas) (2024.1)\n",
      "Requirement already satisfied: tzdata>=2022.7 in /opt/anaconda3/envs/env-pyspark-mna/lib/python3.12/site-packages (from pandas) (2023.3)\n",
      "Requirement already satisfied: six>=1.5 in /opt/anaconda3/envs/env-pyspark-mna/lib/python3.12/site-packages (from python-dateutil>=2.8.2->pandas) (1.17.0)\n",
      "Note: you may need to restart the kernel to use updated packages.\n",
      "Collecting yfinance\n",
      "  Downloading yfinance-0.2.65-py2.py3-none-any.whl.metadata (5.8 kB)\n",
      "Requirement already satisfied: pandas>=1.3.0 in /opt/anaconda3/envs/env-pyspark-mna/lib/python3.12/site-packages (from yfinance) (2.2.3)\n",
      "Requirement already satisfied: numpy>=1.16.5 in /opt/anaconda3/envs/env-pyspark-mna/lib/python3.12/site-packages (from yfinance) (1.26.4)\n",
      "Requirement already satisfied: requests>=2.31 in /opt/anaconda3/envs/env-pyspark-mna/lib/python3.12/site-packages (from yfinance) (2.32.3)\n",
      "Collecting multitasking>=0.0.7 (from yfinance)\n",
      "  Downloading multitasking-0.0.12.tar.gz (19 kB)\n",
      "  Preparing metadata (setup.py) ... \u001b[?25ldone\n",
      "\u001b[?25hRequirement already satisfied: platformdirs>=2.0.0 in /opt/anaconda3/envs/env-pyspark-mna/lib/python3.12/site-packages (from yfinance) (4.3.7)\n",
      "Requirement already satisfied: pytz>=2022.5 in /opt/anaconda3/envs/env-pyspark-mna/lib/python3.12/site-packages (from yfinance) (2024.1)\n",
      "Collecting frozendict>=2.3.4 (from yfinance)\n",
      "  Downloading frozendict-2.4.6-py312-none-any.whl.metadata (23 kB)\n",
      "Collecting peewee>=3.16.2 (from yfinance)\n",
      "  Downloading peewee-3.18.2.tar.gz (949 kB)\n",
      "\u001b[2K     \u001b[90m━━━━━━━━━━━━━━━━━━━━━━━━━━━━━━━━━━━━━━━\u001b[0m \u001b[32m949.2/949.2 kB\u001b[0m \u001b[31m9.6 MB/s\u001b[0m eta \u001b[36m0:00:00\u001b[0m\n",
      "\u001b[?25h  Installing build dependencies ... \u001b[?25ldone\n",
      "\u001b[?25h  Getting requirements to build wheel ... \u001b[?25ldone\n",
      "\u001b[?25h  Preparing metadata (pyproject.toml) ... \u001b[?25ldone\n",
      "\u001b[?25hRequirement already satisfied: beautifulsoup4>=4.11.1 in /opt/anaconda3/envs/env-pyspark-mna/lib/python3.12/site-packages (from yfinance) (4.13.3)\n",
      "Collecting curl_cffi>=0.7 (from yfinance)\n",
      "  Downloading curl_cffi-0.12.0-cp39-abi3-macosx_11_0_arm64.whl.metadata (14 kB)\n",
      "Collecting protobuf>=3.19.0 (from yfinance)\n",
      "  Downloading protobuf-6.31.1-cp39-abi3-macosx_10_9_universal2.whl.metadata (593 bytes)\n",
      "Collecting websockets>=13.0 (from yfinance)\n",
      "  Downloading websockets-15.0.1-cp312-cp312-macosx_11_0_arm64.whl.metadata (6.8 kB)\n",
      "Requirement already satisfied: soupsieve>1.2 in /opt/anaconda3/envs/env-pyspark-mna/lib/python3.12/site-packages (from beautifulsoup4>=4.11.1->yfinance) (2.6)\n",
      "Requirement already satisfied: typing-extensions>=4.0.0 in /opt/anaconda3/envs/env-pyspark-mna/lib/python3.12/site-packages (from beautifulsoup4>=4.11.1->yfinance) (4.13.2)\n",
      "Requirement already satisfied: cffi>=1.12.0 in /opt/anaconda3/envs/env-pyspark-mna/lib/python3.12/site-packages (from curl_cffi>=0.7->yfinance) (1.17.1)\n",
      "Requirement already satisfied: certifi>=2024.2.2 in /opt/anaconda3/envs/env-pyspark-mna/lib/python3.12/site-packages (from curl_cffi>=0.7->yfinance) (2025.4.26)\n",
      "Requirement already satisfied: python-dateutil>=2.8.2 in /opt/anaconda3/envs/env-pyspark-mna/lib/python3.12/site-packages (from pandas>=1.3.0->yfinance) (2.9.0.post0)\n",
      "Requirement already satisfied: tzdata>=2022.7 in /opt/anaconda3/envs/env-pyspark-mna/lib/python3.12/site-packages (from pandas>=1.3.0->yfinance) (2023.3)\n",
      "Requirement already satisfied: charset-normalizer<4,>=2 in /opt/anaconda3/envs/env-pyspark-mna/lib/python3.12/site-packages (from requests>=2.31->yfinance) (3.3.2)\n",
      "Requirement already satisfied: idna<4,>=2.5 in /opt/anaconda3/envs/env-pyspark-mna/lib/python3.12/site-packages (from requests>=2.31->yfinance) (3.7)\n",
      "Requirement already satisfied: urllib3<3,>=1.21.1 in /opt/anaconda3/envs/env-pyspark-mna/lib/python3.12/site-packages (from requests>=2.31->yfinance) (2.3.0)\n",
      "Requirement already satisfied: pycparser in /opt/anaconda3/envs/env-pyspark-mna/lib/python3.12/site-packages (from cffi>=1.12.0->curl_cffi>=0.7->yfinance) (2.21)\n",
      "Requirement already satisfied: six>=1.5 in /opt/anaconda3/envs/env-pyspark-mna/lib/python3.12/site-packages (from python-dateutil>=2.8.2->pandas>=1.3.0->yfinance) (1.17.0)\n",
      "Downloading yfinance-0.2.65-py2.py3-none-any.whl (119 kB)\n",
      "Downloading curl_cffi-0.12.0-cp39-abi3-macosx_11_0_arm64.whl (3.0 MB)\n",
      "\u001b[2K   \u001b[90m━━━━━━━━━━━━━━━━━━━━━━━━━━━━━━━━━━━━━━━━\u001b[0m \u001b[32m3.0/3.0 MB\u001b[0m \u001b[31m34.3 MB/s\u001b[0m eta \u001b[36m0:00:00\u001b[0m\n",
      "\u001b[?25hDownloading frozendict-2.4.6-py312-none-any.whl (16 kB)\n",
      "Downloading protobuf-6.31.1-cp39-abi3-macosx_10_9_universal2.whl (425 kB)\n",
      "Downloading websockets-15.0.1-cp312-cp312-macosx_11_0_arm64.whl (173 kB)\n",
      "Building wheels for collected packages: multitasking, peewee\n",
      "  Building wheel for multitasking (setup.py) ... \u001b[?25ldone\n",
      "\u001b[?25h  Created wheel for multitasking: filename=multitasking-0.0.12-py3-none-any.whl size=15605 sha256=7fc9664e0fb3fe04aca3699297dec0b8059bccaf9e22691a96b10a9d04075dff\n",
      "  Stored in directory: /Users/oscgarcia/Library/Caches/pip/wheels/cc/bd/6f/664d62c99327abeef7d86489e6631cbf45b56fbf7ef1d6ef00\n",
      "  Building wheel for peewee (pyproject.toml) ... \u001b[?25ldone\n",
      "\u001b[?25h  Created wheel for peewee: filename=peewee-3.18.2-cp312-cp312-macosx_11_0_arm64.whl size=264399 sha256=abdd42960f3511422b582671f4af2ee9389c7357cee2e98846364654a018b498\n",
      "  Stored in directory: /Users/oscgarcia/Library/Caches/pip/wheels/d1/df/a9/0202b051c65b11c992dd6db9f2babdd2c44ec7d35d511be5d3\n",
      "Successfully built multitasking peewee\n",
      "Installing collected packages: peewee, multitasking, websockets, protobuf, frozendict, curl_cffi, yfinance\n",
      "Successfully installed curl_cffi-0.12.0 frozendict-2.4.6 multitasking-0.0.12 peewee-3.18.2 protobuf-6.31.1 websockets-15.0.1 yfinance-0.2.65\n",
      "Note: you may need to restart the kernel to use updated packages.\n",
      "Collecting lxml\n",
      "  Downloading lxml-6.0.0-cp312-cp312-macosx_10_13_universal2.whl.metadata (6.6 kB)\n",
      "Downloading lxml-6.0.0-cp312-cp312-macosx_10_13_universal2.whl (8.4 MB)\n",
      "\u001b[2K   \u001b[90m━━━━━━━━━━━━━━━━━━━━━━━━━━━━━━━━━━━━━━━━\u001b[0m \u001b[32m8.4/8.4 MB\u001b[0m \u001b[31m28.8 MB/s\u001b[0m eta \u001b[36m0:00:00\u001b[0ma \u001b[36m0:00:01\u001b[0m\n",
      "\u001b[?25hInstalling collected packages: lxml\n",
      "Successfully installed lxml-6.0.0\n",
      "Note: you may need to restart the kernel to use updated packages.\n",
      "Collecting sentence-transformers\n",
      "  Downloading sentence_transformers-5.0.0-py3-none-any.whl.metadata (16 kB)\n",
      "Collecting transformers<5.0.0,>=4.41.0 (from sentence-transformers)\n",
      "  Downloading transformers-4.54.0-py3-none-any.whl.metadata (41 kB)\n",
      "Requirement already satisfied: tqdm in /opt/anaconda3/envs/env-pyspark-mna/lib/python3.12/site-packages (from sentence-transformers) (4.67.1)\n",
      "Collecting torch>=1.11.0 (from sentence-transformers)\n",
      "  Downloading torch-2.7.1-cp312-none-macosx_11_0_arm64.whl.metadata (29 kB)\n",
      "Collecting scikit-learn (from sentence-transformers)\n",
      "  Downloading scikit_learn-1.7.1-cp312-cp312-macosx_12_0_arm64.whl.metadata (11 kB)\n",
      "Collecting scipy (from sentence-transformers)\n",
      "  Downloading scipy-1.16.1-cp312-cp312-macosx_14_0_arm64.whl.metadata (61 kB)\n",
      "Collecting huggingface-hub>=0.20.0 (from sentence-transformers)\n",
      "  Downloading huggingface_hub-0.34.1-py3-none-any.whl.metadata (14 kB)\n",
      "Requirement already satisfied: Pillow in /opt/anaconda3/envs/env-pyspark-mna/lib/python3.12/site-packages (from sentence-transformers) (11.1.0)\n",
      "Requirement already satisfied: typing_extensions>=4.5.0 in /opt/anaconda3/envs/env-pyspark-mna/lib/python3.12/site-packages (from sentence-transformers) (4.13.2)\n",
      "Collecting filelock (from huggingface-hub>=0.20.0->sentence-transformers)\n",
      "  Downloading filelock-3.18.0-py3-none-any.whl.metadata (2.9 kB)\n",
      "Collecting fsspec>=2023.5.0 (from huggingface-hub>=0.20.0->sentence-transformers)\n",
      "  Downloading fsspec-2025.7.0-py3-none-any.whl.metadata (12 kB)\n",
      "Requirement already satisfied: packaging>=20.9 in /opt/anaconda3/envs/env-pyspark-mna/lib/python3.12/site-packages (from huggingface-hub>=0.20.0->sentence-transformers) (24.2)\n",
      "Requirement already satisfied: pyyaml>=5.1 in /opt/anaconda3/envs/env-pyspark-mna/lib/python3.12/site-packages (from huggingface-hub>=0.20.0->sentence-transformers) (6.0.2)\n",
      "Requirement already satisfied: requests in /opt/anaconda3/envs/env-pyspark-mna/lib/python3.12/site-packages (from huggingface-hub>=0.20.0->sentence-transformers) (2.32.3)\n",
      "Collecting hf-xet<2.0.0,>=1.1.3 (from huggingface-hub>=0.20.0->sentence-transformers)\n",
      "  Downloading hf_xet-1.1.5-cp37-abi3-macosx_11_0_arm64.whl.metadata (879 bytes)\n",
      "Requirement already satisfied: setuptools in /opt/anaconda3/envs/env-pyspark-mna/lib/python3.12/site-packages (from torch>=1.11.0->sentence-transformers) (75.8.0)\n",
      "Collecting sympy>=1.13.3 (from torch>=1.11.0->sentence-transformers)\n",
      "  Downloading sympy-1.14.0-py3-none-any.whl.metadata (12 kB)\n",
      "Collecting networkx (from torch>=1.11.0->sentence-transformers)\n",
      "  Downloading networkx-3.5-py3-none-any.whl.metadata (6.3 kB)\n",
      "Requirement already satisfied: jinja2 in /opt/anaconda3/envs/env-pyspark-mna/lib/python3.12/site-packages (from torch>=1.11.0->sentence-transformers) (3.1.6)\n",
      "Requirement already satisfied: numpy>=1.17 in /opt/anaconda3/envs/env-pyspark-mna/lib/python3.12/site-packages (from transformers<5.0.0,>=4.41.0->sentence-transformers) (1.26.4)\n",
      "Collecting regex!=2019.12.17 (from transformers<5.0.0,>=4.41.0->sentence-transformers)\n",
      "  Downloading regex-2024.11.6-cp312-cp312-macosx_11_0_arm64.whl.metadata (40 kB)\n",
      "Collecting tokenizers<0.22,>=0.21 (from transformers<5.0.0,>=4.41.0->sentence-transformers)\n",
      "  Downloading tokenizers-0.21.2-cp39-abi3-macosx_11_0_arm64.whl.metadata (6.8 kB)\n",
      "Collecting safetensors>=0.4.3 (from transformers<5.0.0,>=4.41.0->sentence-transformers)\n",
      "  Downloading safetensors-0.5.3-cp38-abi3-macosx_11_0_arm64.whl.metadata (3.8 kB)\n",
      "Collecting joblib>=1.2.0 (from scikit-learn->sentence-transformers)\n",
      "  Downloading joblib-1.5.1-py3-none-any.whl.metadata (5.6 kB)\n",
      "Collecting threadpoolctl>=3.1.0 (from scikit-learn->sentence-transformers)\n",
      "  Downloading threadpoolctl-3.6.0-py3-none-any.whl.metadata (13 kB)\n",
      "Collecting mpmath<1.4,>=1.1.0 (from sympy>=1.13.3->torch>=1.11.0->sentence-transformers)\n",
      "  Downloading mpmath-1.3.0-py3-none-any.whl.metadata (8.6 kB)\n",
      "Requirement already satisfied: MarkupSafe>=2.0 in /opt/anaconda3/envs/env-pyspark-mna/lib/python3.12/site-packages (from jinja2->torch>=1.11.0->sentence-transformers) (3.0.2)\n",
      "Requirement already satisfied: charset-normalizer<4,>=2 in /opt/anaconda3/envs/env-pyspark-mna/lib/python3.12/site-packages (from requests->huggingface-hub>=0.20.0->sentence-transformers) (3.3.2)\n",
      "Requirement already satisfied: idna<4,>=2.5 in /opt/anaconda3/envs/env-pyspark-mna/lib/python3.12/site-packages (from requests->huggingface-hub>=0.20.0->sentence-transformers) (3.7)\n",
      "Requirement already satisfied: urllib3<3,>=1.21.1 in /opt/anaconda3/envs/env-pyspark-mna/lib/python3.12/site-packages (from requests->huggingface-hub>=0.20.0->sentence-transformers) (2.3.0)\n",
      "Requirement already satisfied: certifi>=2017.4.17 in /opt/anaconda3/envs/env-pyspark-mna/lib/python3.12/site-packages (from requests->huggingface-hub>=0.20.0->sentence-transformers) (2025.4.26)\n",
      "Downloading sentence_transformers-5.0.0-py3-none-any.whl (470 kB)\n",
      "Downloading huggingface_hub-0.34.1-py3-none-any.whl (558 kB)\n",
      "\u001b[2K   \u001b[90m━━━━━━━━━━━━━━━━━━━━━━━━━━━━━━━━━━━━━━━━\u001b[0m \u001b[32m558.8/558.8 kB\u001b[0m \u001b[31m6.7 MB/s\u001b[0m eta \u001b[36m0:00:00\u001b[0m\n",
      "\u001b[?25hDownloading torch-2.7.1-cp312-none-macosx_11_0_arm64.whl (68.6 MB)\n",
      "\u001b[2K   \u001b[90m━━━━━━━━━━━━━━━━━━━━━━━━━━━━━━━━━━━━━━━━\u001b[0m \u001b[32m68.6/68.6 MB\u001b[0m \u001b[31m40.6 MB/s\u001b[0m eta \u001b[36m0:00:00\u001b[0m00:01\u001b[0m00:01\u001b[0m\n",
      "\u001b[?25hDownloading transformers-4.54.0-py3-none-any.whl (11.2 MB)\n",
      "\u001b[2K   \u001b[90m━━━━━━━━━━━━━━━━━━━━━━━━━━━━━━━━━━━━━━━━\u001b[0m \u001b[32m11.2/11.2 MB\u001b[0m \u001b[31m42.2 MB/s\u001b[0m eta \u001b[36m0:00:00\u001b[0m \u001b[36m0:00:01\u001b[0m\n",
      "\u001b[?25hDownloading scikit_learn-1.7.1-cp312-cp312-macosx_12_0_arm64.whl (8.6 MB)\n",
      "\u001b[2K   \u001b[90m━━━━━━━━━━━━━━━━━━━━━━━━━━━━━━━━━━━━━━━━\u001b[0m \u001b[32m8.6/8.6 MB\u001b[0m \u001b[31m42.3 MB/s\u001b[0m eta \u001b[36m0:00:00\u001b[0m\n",
      "\u001b[?25hDownloading scipy-1.16.1-cp312-cp312-macosx_14_0_arm64.whl (20.9 MB)\n",
      "\u001b[2K   \u001b[90m━━━━━━━━━━━━━━━━━━━━━━━━━━━━━━━━━━━━━━━━\u001b[0m \u001b[32m20.9/20.9 MB\u001b[0m \u001b[31m45.3 MB/s\u001b[0m eta \u001b[36m0:00:00\u001b[0ma \u001b[36m0:00:01\u001b[0m\n",
      "\u001b[?25hDownloading fsspec-2025.7.0-py3-none-any.whl (199 kB)\n",
      "Downloading hf_xet-1.1.5-cp37-abi3-macosx_11_0_arm64.whl (2.6 MB)\n",
      "\u001b[2K   \u001b[90m━━━━━━━━━━━━━━━━━━━━━━━━━━━━━━━━━━━━━━━━\u001b[0m \u001b[32m2.6/2.6 MB\u001b[0m \u001b[31m38.4 MB/s\u001b[0m eta \u001b[36m0:00:00\u001b[0m\n",
      "\u001b[?25hDownloading joblib-1.5.1-py3-none-any.whl (307 kB)\n",
      "Downloading regex-2024.11.6-cp312-cp312-macosx_11_0_arm64.whl (284 kB)\n",
      "Downloading safetensors-0.5.3-cp38-abi3-macosx_11_0_arm64.whl (418 kB)\n",
      "Downloading sympy-1.14.0-py3-none-any.whl (6.3 MB)\n",
      "\u001b[2K   \u001b[90m━━━━━━━━━━━━━━━━━━━━━━━━━━━━━━━━━━━━━━━━\u001b[0m \u001b[32m6.3/6.3 MB\u001b[0m \u001b[31m44.5 MB/s\u001b[0m eta \u001b[36m0:00:00\u001b[0m\n",
      "\u001b[?25hDownloading threadpoolctl-3.6.0-py3-none-any.whl (18 kB)\n",
      "Downloading tokenizers-0.21.2-cp39-abi3-macosx_11_0_arm64.whl (2.7 MB)\n",
      "\u001b[2K   \u001b[90m━━━━━━━━━━━━━━━━━━━━━━━━━━━━━━━━━━━━━━━━\u001b[0m \u001b[32m2.7/2.7 MB\u001b[0m \u001b[31m41.2 MB/s\u001b[0m eta \u001b[36m0:00:00\u001b[0m\n",
      "\u001b[?25hDownloading filelock-3.18.0-py3-none-any.whl (16 kB)\n",
      "Downloading networkx-3.5-py3-none-any.whl (2.0 MB)\n",
      "\u001b[2K   \u001b[90m━━━━━━━━━━━━━━━━━━━━━━━━━━━━━━━━━━━━━━━━\u001b[0m \u001b[32m2.0/2.0 MB\u001b[0m \u001b[31m37.0 MB/s\u001b[0m eta \u001b[36m0:00:00\u001b[0m\n",
      "\u001b[?25hDownloading mpmath-1.3.0-py3-none-any.whl (536 kB)\n",
      "\u001b[2K   \u001b[90m━━━━━━━━━━━━━━━━━━━━━━━━━━━━━━━━━━━━━━━━\u001b[0m \u001b[32m536.2/536.2 kB\u001b[0m \u001b[31m23.2 MB/s\u001b[0m eta \u001b[36m0:00:00\u001b[0m\n",
      "\u001b[?25hInstalling collected packages: mpmath, threadpoolctl, sympy, scipy, safetensors, regex, networkx, joblib, hf-xet, fsspec, filelock, torch, scikit-learn, huggingface-hub, tokenizers, transformers, sentence-transformers\n",
      "Successfully installed filelock-3.18.0 fsspec-2025.7.0 hf-xet-1.1.5 huggingface-hub-0.34.1 joblib-1.5.1 mpmath-1.3.0 networkx-3.5 regex-2024.11.6 safetensors-0.5.3 scikit-learn-1.7.1 scipy-1.16.1 sentence-transformers-5.0.0 sympy-1.14.0 threadpoolctl-3.6.0 tokenizers-0.21.2 torch-2.7.1 transformers-4.54.0\n",
      "Note: you may need to restart the kernel to use updated packages.\n"
     ]
    }
   ],
   "source": [
    "%pip install pandas\n",
    "%pip install yfinance\n",
    "%pip install lxml\n",
    "%pip install -U sentence-transformers"
   ]
  },
  {
   "cell_type": "code",
   "execution_count": 2,
   "id": "7b8b20aa",
   "metadata": {},
   "outputs": [
    {
     "name": "stderr",
     "output_type": "stream",
     "text": [
      "/opt/anaconda3/envs/env-pyspark-mna/lib/python3.12/site-packages/tqdm/auto.py:21: TqdmWarning: IProgress not found. Please update jupyter and ipywidgets. See https://ipywidgets.readthedocs.io/en/stable/user_install.html\n",
      "  from .autonotebook import tqdm as notebook_tqdm\n"
     ]
    }
   ],
   "source": [
    "from sentence_transformers import SentenceTransformer\n",
    "import pandas as pd\n",
    "from sklearn.cluster import KMeans\n",
    "from sklearn.decomposition import PCA\n",
    "import matplotlib.pyplot as plt\n",
    "from sentence_transformers import SentenceTransformer\n",
    "import pandas as pd\n",
    "from sklearn.metrics import silhouette_score\n",
    "import yfinance as yf"
   ]
  },
  {
   "cell_type": "markdown",
   "id": "3f54a285",
   "metadata": {},
   "source": [
    "## Get the list of stocks in the S&P 500 "
   ]
  },
  {
   "cell_type": "code",
   "execution_count": 3,
   "id": "2d3c3175",
   "metadata": {},
   "outputs": [
    {
     "data": {
      "application/vnd.microsoft.datawrangler.viewer.v0+json": {
       "columns": [
        {
         "name": "index",
         "rawType": "int64",
         "type": "integer"
        },
        {
         "name": "Symbol",
         "rawType": "object",
         "type": "string"
        },
        {
         "name": "Security",
         "rawType": "object",
         "type": "string"
        },
        {
         "name": "GICS Sector",
         "rawType": "object",
         "type": "string"
        },
        {
         "name": "GICS Sub-Industry",
         "rawType": "object",
         "type": "string"
        },
        {
         "name": "Headquarters Location",
         "rawType": "object",
         "type": "string"
        },
        {
         "name": "Date added",
         "rawType": "object",
         "type": "string"
        },
        {
         "name": "CIK",
         "rawType": "int64",
         "type": "integer"
        },
        {
         "name": "Founded",
         "rawType": "object",
         "type": "string"
        }
       ],
       "ref": "9fbb5d79-f8dc-453a-9408-3d7f93e1ee3b",
       "rows": [
        [
         "0",
         "MMM",
         "3M",
         "Industrials",
         "Industrial Conglomerates",
         "Saint Paul, Minnesota",
         "1957-03-04",
         "66740",
         "1902"
        ],
        [
         "1",
         "AOS",
         "A. O. Smith",
         "Industrials",
         "Building Products",
         "Milwaukee, Wisconsin",
         "2017-07-26",
         "91142",
         "1916"
        ],
        [
         "2",
         "ABT",
         "Abbott Laboratories",
         "Health Care",
         "Health Care Equipment",
         "North Chicago, Illinois",
         "1957-03-04",
         "1800",
         "1888"
        ],
        [
         "3",
         "ABBV",
         "AbbVie",
         "Health Care",
         "Biotechnology",
         "North Chicago, Illinois",
         "2012-12-31",
         "1551152",
         "2013 (1888)"
        ],
        [
         "4",
         "ACN",
         "Accenture",
         "Information Technology",
         "IT Consulting & Other Services",
         "Dublin, Ireland",
         "2011-07-06",
         "1467373",
         "1989"
        ]
       ],
       "shape": {
        "columns": 8,
        "rows": 5
       }
      },
      "text/html": [
       "<div>\n",
       "<style scoped>\n",
       "    .dataframe tbody tr th:only-of-type {\n",
       "        vertical-align: middle;\n",
       "    }\n",
       "\n",
       "    .dataframe tbody tr th {\n",
       "        vertical-align: top;\n",
       "    }\n",
       "\n",
       "    .dataframe thead th {\n",
       "        text-align: right;\n",
       "    }\n",
       "</style>\n",
       "<table border=\"1\" class=\"dataframe\">\n",
       "  <thead>\n",
       "    <tr style=\"text-align: right;\">\n",
       "      <th></th>\n",
       "      <th>Symbol</th>\n",
       "      <th>Security</th>\n",
       "      <th>GICS Sector</th>\n",
       "      <th>GICS Sub-Industry</th>\n",
       "      <th>Headquarters Location</th>\n",
       "      <th>Date added</th>\n",
       "      <th>CIK</th>\n",
       "      <th>Founded</th>\n",
       "    </tr>\n",
       "  </thead>\n",
       "  <tbody>\n",
       "    <tr>\n",
       "      <th>0</th>\n",
       "      <td>MMM</td>\n",
       "      <td>3M</td>\n",
       "      <td>Industrials</td>\n",
       "      <td>Industrial Conglomerates</td>\n",
       "      <td>Saint Paul, Minnesota</td>\n",
       "      <td>1957-03-04</td>\n",
       "      <td>66740</td>\n",
       "      <td>1902</td>\n",
       "    </tr>\n",
       "    <tr>\n",
       "      <th>1</th>\n",
       "      <td>AOS</td>\n",
       "      <td>A. O. Smith</td>\n",
       "      <td>Industrials</td>\n",
       "      <td>Building Products</td>\n",
       "      <td>Milwaukee, Wisconsin</td>\n",
       "      <td>2017-07-26</td>\n",
       "      <td>91142</td>\n",
       "      <td>1916</td>\n",
       "    </tr>\n",
       "    <tr>\n",
       "      <th>2</th>\n",
       "      <td>ABT</td>\n",
       "      <td>Abbott Laboratories</td>\n",
       "      <td>Health Care</td>\n",
       "      <td>Health Care Equipment</td>\n",
       "      <td>North Chicago, Illinois</td>\n",
       "      <td>1957-03-04</td>\n",
       "      <td>1800</td>\n",
       "      <td>1888</td>\n",
       "    </tr>\n",
       "    <tr>\n",
       "      <th>3</th>\n",
       "      <td>ABBV</td>\n",
       "      <td>AbbVie</td>\n",
       "      <td>Health Care</td>\n",
       "      <td>Biotechnology</td>\n",
       "      <td>North Chicago, Illinois</td>\n",
       "      <td>2012-12-31</td>\n",
       "      <td>1551152</td>\n",
       "      <td>2013 (1888)</td>\n",
       "    </tr>\n",
       "    <tr>\n",
       "      <th>4</th>\n",
       "      <td>ACN</td>\n",
       "      <td>Accenture</td>\n",
       "      <td>Information Technology</td>\n",
       "      <td>IT Consulting &amp; Other Services</td>\n",
       "      <td>Dublin, Ireland</td>\n",
       "      <td>2011-07-06</td>\n",
       "      <td>1467373</td>\n",
       "      <td>1989</td>\n",
       "    </tr>\n",
       "  </tbody>\n",
       "</table>\n",
       "</div>"
      ],
      "text/plain": [
       "  Symbol             Security             GICS Sector  \\\n",
       "0    MMM                   3M             Industrials   \n",
       "1    AOS          A. O. Smith             Industrials   \n",
       "2    ABT  Abbott Laboratories             Health Care   \n",
       "3   ABBV               AbbVie             Health Care   \n",
       "4    ACN            Accenture  Information Technology   \n",
       "\n",
       "                GICS Sub-Industry    Headquarters Location  Date added  \\\n",
       "0        Industrial Conglomerates    Saint Paul, Minnesota  1957-03-04   \n",
       "1               Building Products     Milwaukee, Wisconsin  2017-07-26   \n",
       "2           Health Care Equipment  North Chicago, Illinois  1957-03-04   \n",
       "3                   Biotechnology  North Chicago, Illinois  2012-12-31   \n",
       "4  IT Consulting & Other Services          Dublin, Ireland  2011-07-06   \n",
       "\n",
       "       CIK      Founded  \n",
       "0    66740         1902  \n",
       "1    91142         1916  \n",
       "2     1800         1888  \n",
       "3  1551152  2013 (1888)  \n",
       "4  1467373         1989  "
      ]
     },
     "metadata": {},
     "output_type": "display_data"
    }
   ],
   "source": [
    "# Read and print the stock tickers that make up S&P500\n",
    "df_tickers = pd.read_html(\n",
    "    'https://en.wikipedia.org/wiki/List_of_S%26P_500_companies')[0]\n",
    "\n",
    "display(df_tickers.head())"
   ]
  },
  {
   "cell_type": "code",
   "execution_count": 4,
   "id": "c5309ff2",
   "metadata": {},
   "outputs": [],
   "source": [
    "ticker_list = df_tickers['Symbol'].tolist()"
   ]
  },
  {
   "cell_type": "code",
   "execution_count": 5,
   "id": "21c387c0",
   "metadata": {},
   "outputs": [
    {
     "name": "stdout",
     "output_type": "stream",
     "text": [
      "Number of distinct tickers in ticker list: 503\n"
     ]
    }
   ],
   "source": [
    "#Obtain distinct tickers from ticker_list\n",
    "distinct_tickers = set(ticker_list)\n",
    "print(f\"Number of distinct tickers in ticker list: {len(distinct_tickers)}\")"
   ]
  },
  {
   "cell_type": "markdown",
   "id": "e067dba6",
   "metadata": {},
   "source": [
    "## Get the news of all 500 stocks in the S&P 500 Index\n",
    "Use the yfinance library to retrieve the news of all 500 stocks in the index.\n",
    "https://ranaroussi.github.io/yfinance/reference/yfinance.stock.html"
   ]
  },
  {
   "cell_type": "markdown",
   "id": "c2807119",
   "metadata": {},
   "source": [
    "### Get the news in a dictionary"
   ]
  },
  {
   "cell_type": "code",
   "execution_count": 6,
   "id": "2e78bb43",
   "metadata": {},
   "outputs": [
    {
     "name": "stdout",
     "output_type": "stream",
     "text": [
      "Sample news for MMM:\n",
      "[{'id': '2f475c52-e043-3340-9129-7f18b3fdb18d', 'content': {'id': '2f475c52-e043-3340-9129-7f18b3fdb18d', 'contentType': 'STORY', 'title': '3M Company (MMM): “I Was Surprised” By The Organic Growth Rate, Says Jim Cramer', 'description': '', 'summary': 'We recently published 12 Stocks Jim Cramer Talked About. 3M Company (NYSE:MMM) is one of the stocks Jim Cramer recently discussed. 3M Company (NYSE:MMM) is one of the largest industrial conglomerates in the world. Its shares have gained 16.7% year-to-date as part of a bullish run in industrial stocks that Cramer has commented on several […]', 'pubDate': '2025-07-24T09:03:00Z', 'displayTime': '2025-07-24T09:03:00Z', 'isHosted': True, 'bypassModal': False, 'previewUrl': None, 'thumbnail': {'originalUrl': 'https://media.zenfs.com/en/insidermonkey.com/093e1a4edd0e304bc17c1f522a735210', 'originalWidth': 1000, 'originalHeight': 667, 'caption': '3M Company (MMM): \"I Was Surprised\" By The Organic Growth Rate, Says Jim Cramer', 'resolutions': [{'url': 'https://s.yimg.com/uu/api/res/1.2/DWNCfA7CPNu43m2I.F5bNQ--~B/aD02Njc7dz0xMDAwO2FwcGlkPXl0YWNoeW9u/https://media.zenfs.com/en/insidermonkey.com/093e1a4edd0e304bc17c1f522a735210', 'width': 1000, 'height': 667, 'tag': 'original'}, {'url': 'https://s.yimg.com/uu/api/res/1.2/ew7gmJEVorDwiywCpeL8lA--~B/Zmk9c3RyaW07aD0xMjg7dz0xNzA7YXBwaWQ9eXRhY2h5b24-/https://media.zenfs.com/en/insidermonkey.com/093e1a4edd0e304bc17c1f522a735210', 'width': 170, 'height': 128, 'tag': '170x128'}]}, 'provider': {'displayName': 'Insider Monkey', 'url': 'http://www.insidermonkey.com'}, 'canonicalUrl': {'url': 'https://finance.yahoo.com/news/3m-company-mmm-surprised-organic-090300992.html', 'site': 'finance', 'region': 'US', 'lang': 'en-US'}, 'clickThroughUrl': {'url': 'https://finance.yahoo.com/news/3m-company-mmm-surprised-organic-090300992.html', 'site': 'finance', 'region': 'US', 'lang': 'en-US'}, 'metadata': {'editorsPick': False}, 'finance': {'premiumFinance': {'isPremiumNews': False, 'isPremiumFreeNews': False}}, 'storyline': None}}, {'id': '6b1057d5-2ac8-318e-b765-ad26b61b6d14', 'content': {'id': '6b1057d5-2ac8-318e-b765-ad26b61b6d14', 'contentType': 'STORY', 'title': 'Zacks Industry Outlook Highlights Honeywell, 3M, Carlisle Companies and Federal Signal', 'description': '', 'summary': 'HON, MMM, CSL, and FSS are well-positioned to benefit from defense, aviation, and infrastructure tailwinds despite manufacturing headwinds.', 'pubDate': '2025-07-21T09:45:00Z', 'displayTime': '2025-07-21T09:45:00Z', 'isHosted': True, 'bypassModal': False, 'previewUrl': None, 'thumbnail': {'originalUrl': 'https://media.zenfs.com/en/zacks.com/35bb427ea1feef0da07a74969f06c57e', 'originalWidth': 635, 'originalHeight': 400, 'caption': '', 'resolutions': [{'url': 'https://s.yimg.com/uu/api/res/1.2/pMcKbQHwP7R5Q0isLlxtrg--~B/aD00MDA7dz02MzU7YXBwaWQ9eXRhY2h5b24-/https://media.zenfs.com/en/zacks.com/35bb427ea1feef0da07a74969f06c57e', 'width': 635, 'height': 400, 'tag': 'original'}, {'url': 'https://s.yimg.com/uu/api/res/1.2/uQUy1VKXMEgZWWcxSJPiow--~B/Zmk9c3RyaW07aD0xMjg7dz0xNzA7YXBwaWQ9eXRhY2h5b24-/https://media.zenfs.com/en/zacks.com/35bb427ea1feef0da07a74969f06c57e', 'width': 170, 'height': 128, 'tag': '170x128'}]}, 'provider': {'displayName': 'Zacks', 'url': 'http://www.zacks.com/'}, 'canonicalUrl': {'url': 'https://finance.yahoo.com/news/zacks-industry-outlook-highlights-honeywell-094500804.html', 'site': 'finance', 'region': 'US', 'lang': 'en-US'}, 'clickThroughUrl': {'url': 'https://finance.yahoo.com/news/zacks-industry-outlook-highlights-honeywell-094500804.html', 'site': 'finance', 'region': 'US', 'lang': 'en-US'}, 'metadata': {'editorsPick': False}, 'finance': {'premiumFinance': {'isPremiumNews': False, 'isPremiumFreeNews': False}}, 'storyline': None}}]\n"
     ]
    }
   ],
   "source": [
    "# Create a dictionary where the keys are the symbols (tickers) of each 500 stocks \n",
    "# and the value is the output news from the yfinance library\n",
    "\n",
    "news_dict = {}\n",
    "\n",
    "for ticker in ticker_list:\n",
    "    try:\n",
    "        stock = yf.Ticker(ticker)\n",
    "        news = stock.news  \n",
    "        news_dict[ticker] = news\n",
    "    except Exception as e:\n",
    "        news_dict[ticker] = []\n",
    "        print(f\"Error retrieving news for {ticker}: {e}\")\n",
    "\n",
    "# Display a sample from the dictionary\n",
    "sample_ticker = ticker_list[0]\n",
    "print(f\"Sample news for {sample_ticker}:\")\n",
    "print(news_dict[sample_ticker][:2]) "
   ]
  },
  {
   "cell_type": "code",
   "execution_count": 7,
   "id": "1b78eab7",
   "metadata": {},
   "outputs": [
    {
     "name": "stdout",
     "output_type": "stream",
     "text": [
      "Number of distinct tickers in news data: 503\n"
     ]
    }
   ],
   "source": [
    "#Obtain distinct tickers from news_dict\n",
    "distinct_tickers_news = set(news_dict.keys())\n",
    "print(f\"Number of distinct tickers in news data: {len(distinct_tickers_news)}\")"
   ]
  },
  {
   "cell_type": "markdown",
   "id": "c1de6cae",
   "metadata": {},
   "source": [
    "### Structure the news into a pandas dataframe \n",
    "\n",
    "Your final dataframe should have the following columns: \n",
    "- TICKER\n",
    "- TITLE (of the news)\n",
    "- SUMMARY (of the news)\n",
    "- PUBLICATION_DATE (of the news)\n",
    "- URL (of the news)\n",
    "\n",
    "Note: all of those fields are provided in the yfinance news component. Refer to the library documentation."
   ]
  },
  {
   "cell_type": "code",
   "execution_count": 8,
   "id": "fdb2faf1",
   "metadata": {},
   "outputs": [
    {
     "data": {
      "application/vnd.microsoft.datawrangler.viewer.v0+json": {
       "columns": [
        {
         "name": "index",
         "rawType": "int64",
         "type": "integer"
        },
        {
         "name": "TICKER",
         "rawType": "object",
         "type": "string"
        },
        {
         "name": "TITLE",
         "rawType": "object",
         "type": "string"
        },
        {
         "name": "SUMMARY",
         "rawType": "object",
         "type": "string"
        },
        {
         "name": "PUBLICATION_DATE",
         "rawType": "object",
         "type": "string"
        },
        {
         "name": "URL",
         "rawType": "object",
         "type": "string"
        },
        {
         "name": "PROVIDER",
         "rawType": "object",
         "type": "string"
        }
       ],
       "ref": "5c8d7d4a-8998-4a90-a2b1-7883c79b4546",
       "rows": [
        [
         "0",
         "MMM",
         "3M Company (MMM): “I Was Surprised” By The Organic Growth Rate, Says Jim Cramer",
         "We recently published 12 Stocks Jim Cramer Talked About. 3M Company (NYSE:MMM) is one of the stocks Jim Cramer recently discussed. 3M Company (NYSE:MMM) is one of the largest industrial conglomerates in the world. Its shares have gained 16.7% year-to-date as part of a bullish run in industrial stocks that Cramer has commented on several […]",
         "2025-07-24T09:03:00Z",
         "https://finance.yahoo.com/news/3m-company-mmm-surprised-organic-090300992.html",
         "Insider Monkey"
        ],
        [
         "1",
         "MMM",
         "Zacks Industry Outlook Highlights Honeywell, 3M, Carlisle Companies and Federal Signal",
         "HON, MMM, CSL, and FSS are well-positioned to benefit from defense, aviation, and infrastructure tailwinds despite manufacturing headwinds.",
         "2025-07-21T09:45:00Z",
         "https://finance.yahoo.com/news/zacks-industry-outlook-highlights-honeywell-094500804.html",
         "Zacks"
        ],
        [
         "2",
         "MMM",
         "Stock Market News for Jul 21, 2025",
         "U.S. stock markets closed mostly lower n Friday following trade and tariff related concerns.",
         "2025-07-21T08:22:00Z",
         "https://finance.yahoo.com/news/stock-market-news-jul-21-082200847.html",
         "Zacks"
        ],
        [
         "3",
         "MMM",
         "3M Co (MMM) Q2 2025 Earnings Call Highlights: Strong EPS Growth Amidst Global Challenges",
         "3M Co (MMM) reports a 12% increase in adjusted EPS and robust shareholder returns, despite facing macroeconomic and legal hurdles.",
         "2025-07-19T07:05:47Z",
         "https://finance.yahoo.com/news/3m-co-mmm-q2-2025-070547262.html",
         "GuruFocus.com"
        ],
        [
         "4",
         "MMM",
         "MMM Q1 Deep Dive: Tariffs Loom Over Stable Operations and Product Launch Momentum",
         "Industrial conglomerate 3M (NYSE:MMM) reported Q2 CY2025 results exceeding the market’s revenue expectations, but sales fell by 1.6% year on year to $6.16 billion. Its non-GAAP profit of $2.16 per share was 7.4% above analysts’ consensus estimates.",
         "2025-07-19T05:30:58Z",
         "https://finance.yahoo.com/news/mmm-q1-deep-dive-tariffs-053058953.html",
         "StockStory"
        ]
       ],
       "shape": {
        "columns": 6,
        "rows": 5
       }
      },
      "text/html": [
       "<div>\n",
       "<style scoped>\n",
       "    .dataframe tbody tr th:only-of-type {\n",
       "        vertical-align: middle;\n",
       "    }\n",
       "\n",
       "    .dataframe tbody tr th {\n",
       "        vertical-align: top;\n",
       "    }\n",
       "\n",
       "    .dataframe thead th {\n",
       "        text-align: right;\n",
       "    }\n",
       "</style>\n",
       "<table border=\"1\" class=\"dataframe\">\n",
       "  <thead>\n",
       "    <tr style=\"text-align: right;\">\n",
       "      <th></th>\n",
       "      <th>TICKER</th>\n",
       "      <th>TITLE</th>\n",
       "      <th>SUMMARY</th>\n",
       "      <th>PUBLICATION_DATE</th>\n",
       "      <th>URL</th>\n",
       "      <th>PROVIDER</th>\n",
       "    </tr>\n",
       "  </thead>\n",
       "  <tbody>\n",
       "    <tr>\n",
       "      <th>0</th>\n",
       "      <td>MMM</td>\n",
       "      <td>3M Company (MMM): “I Was Surprised” By The Org...</td>\n",
       "      <td>We recently published 12 Stocks Jim Cramer Tal...</td>\n",
       "      <td>2025-07-24T09:03:00Z</td>\n",
       "      <td>https://finance.yahoo.com/news/3m-company-mmm-...</td>\n",
       "      <td>Insider Monkey</td>\n",
       "    </tr>\n",
       "    <tr>\n",
       "      <th>1</th>\n",
       "      <td>MMM</td>\n",
       "      <td>Zacks Industry Outlook Highlights Honeywell, 3...</td>\n",
       "      <td>HON, MMM, CSL, and FSS are well-positioned to ...</td>\n",
       "      <td>2025-07-21T09:45:00Z</td>\n",
       "      <td>https://finance.yahoo.com/news/zacks-industry-...</td>\n",
       "      <td>Zacks</td>\n",
       "    </tr>\n",
       "    <tr>\n",
       "      <th>2</th>\n",
       "      <td>MMM</td>\n",
       "      <td>Stock Market News for Jul 21, 2025</td>\n",
       "      <td>U.S. stock markets closed mostly lower n Frida...</td>\n",
       "      <td>2025-07-21T08:22:00Z</td>\n",
       "      <td>https://finance.yahoo.com/news/stock-market-ne...</td>\n",
       "      <td>Zacks</td>\n",
       "    </tr>\n",
       "    <tr>\n",
       "      <th>3</th>\n",
       "      <td>MMM</td>\n",
       "      <td>3M Co (MMM) Q2 2025 Earnings Call Highlights: ...</td>\n",
       "      <td>3M Co (MMM) reports a 12% increase in adjusted...</td>\n",
       "      <td>2025-07-19T07:05:47Z</td>\n",
       "      <td>https://finance.yahoo.com/news/3m-co-mmm-q2-20...</td>\n",
       "      <td>GuruFocus.com</td>\n",
       "    </tr>\n",
       "    <tr>\n",
       "      <th>4</th>\n",
       "      <td>MMM</td>\n",
       "      <td>MMM Q1 Deep Dive: Tariffs Loom Over Stable Ope...</td>\n",
       "      <td>Industrial conglomerate 3M (NYSE:MMM) reported...</td>\n",
       "      <td>2025-07-19T05:30:58Z</td>\n",
       "      <td>https://finance.yahoo.com/news/mmm-q1-deep-div...</td>\n",
       "      <td>StockStory</td>\n",
       "    </tr>\n",
       "  </tbody>\n",
       "</table>\n",
       "</div>"
      ],
      "text/plain": [
       "  TICKER                                              TITLE  \\\n",
       "0    MMM  3M Company (MMM): “I Was Surprised” By The Org...   \n",
       "1    MMM  Zacks Industry Outlook Highlights Honeywell, 3...   \n",
       "2    MMM                 Stock Market News for Jul 21, 2025   \n",
       "3    MMM  3M Co (MMM) Q2 2025 Earnings Call Highlights: ...   \n",
       "4    MMM  MMM Q1 Deep Dive: Tariffs Loom Over Stable Ope...   \n",
       "\n",
       "                                             SUMMARY      PUBLICATION_DATE  \\\n",
       "0  We recently published 12 Stocks Jim Cramer Tal...  2025-07-24T09:03:00Z   \n",
       "1  HON, MMM, CSL, and FSS are well-positioned to ...  2025-07-21T09:45:00Z   \n",
       "2  U.S. stock markets closed mostly lower n Frida...  2025-07-21T08:22:00Z   \n",
       "3  3M Co (MMM) reports a 12% increase in adjusted...  2025-07-19T07:05:47Z   \n",
       "4  Industrial conglomerate 3M (NYSE:MMM) reported...  2025-07-19T05:30:58Z   \n",
       "\n",
       "                                                 URL        PROVIDER  \n",
       "0  https://finance.yahoo.com/news/3m-company-mmm-...  Insider Monkey  \n",
       "1  https://finance.yahoo.com/news/zacks-industry-...           Zacks  \n",
       "2  https://finance.yahoo.com/news/stock-market-ne...           Zacks  \n",
       "3  https://finance.yahoo.com/news/3m-co-mmm-q2-20...   GuruFocus.com  \n",
       "4  https://finance.yahoo.com/news/mmm-q1-deep-div...      StockStory  "
      ]
     },
     "execution_count": 8,
     "metadata": {},
     "output_type": "execute_result"
    }
   ],
   "source": [
    "# Convert the news data into a DataFrame\n",
    "news_data = []\n",
    "for ticker, news in news_dict.items():\n",
    "    for article in news:\n",
    "        content = article.get('content', {})\n",
    "        if not isinstance(content, dict):\n",
    "            content = {}\n",
    "        news_data.append({\n",
    "            'TICKER': ticker,\n",
    "            'TITLE': content.get('title', ''),\n",
    "            'SUMMARY': content.get('summary', ''),\n",
    "            'PUBLICATION_DATE': content.get('pubDate', ''),\n",
    "            'URL': content.get('canonicalUrl', {}).get('url', ''),\n",
    "            'PROVIDER': content.get('provider', {}).get('displayName')\n",
    "        })\n",
    "\n",
    "df_news = pd.DataFrame(news_data)\n",
    "df_news.head()"
   ]
  },
  {
   "cell_type": "code",
   "execution_count": 9,
   "id": "ea7f652b",
   "metadata": {},
   "outputs": [
    {
     "name": "stdout",
     "output_type": "stream",
     "text": [
      "Number of distinct tickers in news data: 502\n"
     ]
    }
   ],
   "source": [
    "#Obtain distinct tickers from news_data\n",
    "distinct_tickers = df_news['TICKER'].unique()\n",
    "print(f\"Number of distinct tickers in news data: {len(distinct_tickers)}\")"
   ]
  },
  {
   "cell_type": "code",
   "execution_count": 10,
   "id": "85b50c8e",
   "metadata": {},
   "outputs": [
    {
     "name": "stdout",
     "output_type": "stream",
     "text": [
      "No news found for ticker: BF.B\n"
     ]
    }
   ],
   "source": [
    "for ticker in news_dict:\n",
    "    if not news_dict[ticker]:\n",
    "        print(f\"No news found for ticker: {ticker}\")"
   ]
  },
  {
   "cell_type": "markdown",
   "id": "c7d157a8",
   "metadata": {},
   "source": [
    "## Exploring text embeddings\n",
    "\n",
    "- Use the open-source model: 'sentence-transformers/all-MiniLM-L6-v2' to create embeddings on the news title and summary\n",
    "- Add a column to your news dataframe called EMBEDDED_TEXT using ONLY the TITLE of the news\n",
    "- Add a column to your news dataframe called EMBEDDINGS, which contains the embedding of EMBEDDED_TEXT\n"
   ]
  },
  {
   "cell_type": "code",
   "execution_count": 11,
   "id": "f215401b",
   "metadata": {},
   "outputs": [
    {
     "data": {
      "text/plain": [
       "['3M Company (MMM): “I Was Surprised” By The Organic Growth Rate, Says Jim Cramer',\n",
       " 'Zacks Industry Outlook Highlights Honeywell, 3M, Carlisle Companies and Federal Signal',\n",
       " 'Stock Market News for Jul 21, 2025',\n",
       " '3M Co (MMM) Q2 2025 Earnings Call Highlights: Strong EPS Growth Amidst Global Challenges',\n",
       " 'MMM Q1 Deep Dive: Tariffs Loom Over Stable Operations and Product Launch Momentum',\n",
       " 'Dow Falls as Trump Reportedly Seeks Higher EU Tariffs; Nasdaq Clinches New High',\n",
       " '3M Gives Investors a ‘Beat and Raise.’ The Stock Is Rising.',\n",
       " 'Equities Fall Intraday as Trump Reportedly Pushes for Higher Tariffs on EU',\n",
       " 'US Equity Indexes Slip in Choppy Trading After S&P 500, Nasdaq Composite Scale Fresh Record Highs',\n",
       " '3M (MMM) Stock Trades Down, Here Is Why',\n",
       " 'Earnings Beat: A. O. Smith Corporation Just Beat Analyst Forecasts, And Analysts Have Been Updating Their Models',\n",
       " 'A.O. Smith: Q2 Earnings Snapshot',\n",
       " 'A.O. Smith Corp (AOS) Q2 2025 Earnings Call Highlights: Navigating Challenges with Strategic ...',\n",
       " 'AOS Q2 Deep Dive: New CEO Charts Path Amid China Assessment and Channel Shifts',\n",
       " 'Why Are A. O. Smith (AOS) Shares Soaring Today',\n",
       " 'A.O. Smith lifts annual profit forecast, considers China partnership',\n",
       " 'A. O. Smith Q2 Earnings Surpass Estimates, Sales Decline Y/Y',\n",
       " 'A.O. Smith (AOS) Beats Q2 Earnings and Revenue Estimates',\n",
       " 'A.O. Smith tops Q2 estimates, raises full-year outlook despite China challenges',\n",
       " 'A. O. Smith’s (NYSE:AOS) Q2: Beats On Revenue, Full-Year Outlook Slightly Exceeds Expectations']"
      ]
     },
     "execution_count": 11,
     "metadata": {},
     "output_type": "execute_result"
    }
   ],
   "source": [
    "text_test = (df_news['TITLE']).tolist()\n",
    "text_test[0:20]"
   ]
  },
  {
   "cell_type": "code",
   "execution_count": 12,
   "id": "a59b6d58",
   "metadata": {},
   "outputs": [
    {
     "name": "stderr",
     "output_type": "stream",
     "text": [
      "Batches:   0%|          | 0/157 [00:00<?, ?it/s]/opt/anaconda3/envs/env-pyspark-mna/lib/python3.12/site-packages/torch/nn/modules/module.py:1762: FutureWarning: `encoder_attention_mask` is deprecated and will be removed in version 4.55.0 for `BertSdpaSelfAttention.forward`.\n",
      "  return forward_call(*args, **kwargs)\n",
      "Batches: 100%|██████████| 157/157 [00:08<00:00, 18.23it/s]\n"
     ]
    },
    {
     "data": {
      "application/vnd.microsoft.datawrangler.viewer.v0+json": {
       "columns": [
        {
         "name": "index",
         "rawType": "int64",
         "type": "integer"
        },
        {
         "name": "TICKER",
         "rawType": "object",
         "type": "string"
        },
        {
         "name": "TITLE",
         "rawType": "object",
         "type": "string"
        },
        {
         "name": "SUMMARY",
         "rawType": "object",
         "type": "string"
        },
        {
         "name": "PUBLICATION_DATE",
         "rawType": "object",
         "type": "string"
        },
        {
         "name": "URL",
         "rawType": "object",
         "type": "string"
        },
        {
         "name": "PROVIDER",
         "rawType": "object",
         "type": "string"
        },
        {
         "name": "EMBEDDED_TEXT",
         "rawType": "object",
         "type": "string"
        },
        {
         "name": "EMBEDDINGS",
         "rawType": "object",
         "type": "unknown"
        }
       ],
       "ref": "4bdbcf52-0fae-4762-a00f-7c325e2e77b9",
       "rows": [
        [
         "0",
         "MMM",
         "3M Company (MMM): “I Was Surprised” By The Organic Growth Rate, Says Jim Cramer",
         "We recently published 12 Stocks Jim Cramer Talked About. 3M Company (NYSE:MMM) is one of the stocks Jim Cramer recently discussed. 3M Company (NYSE:MMM) is one of the largest industrial conglomerates in the world. Its shares have gained 16.7% year-to-date as part of a bullish run in industrial stocks that Cramer has commented on several […]",
         "2025-07-24T09:03:00Z",
         "https://finance.yahoo.com/news/3m-company-mmm-surprised-organic-090300992.html",
         "Insider Monkey",
         "3M Company (MMM): “I Was Surprised” By The Organic Growth Rate, Says Jim Cramer",
         "[0.006455391179770231, -0.10904762148857117, -0.07995975762605667, 0.026077214628458023, 0.06287890672683716, -0.031140083447098732, 0.0051134321838617325, -0.00039468365139327943, -0.018944084644317627, 0.02581917494535446, 0.0995335802435875, -0.019483519718050957, -0.02270450070500374, -0.043554071336984634, -0.007974970154464245, 0.050524402409791946, 0.02880191057920456, -0.03845442086458206, 0.02451438084244728, -0.02999971993267536, -0.03966544568538666, 0.013065539300441742, 0.08534920960664749, 0.02459629252552986, 0.08792007714509964, -0.042414549738168716, -0.013039369136095047, 0.012672709301114082, -0.006388449110090733, -0.0508447028696537, 0.0036904371809214354, 0.15721309185028076, 0.09967309236526489, -0.044301725924015045, 0.03177070617675781, 0.005236539524048567, -0.02887733094394207, -0.01996578648686409, -0.012053154408931732, 0.08439693599939346, 0.0325593464076519, -0.018942030146718025, -0.0020432560704648495, -0.08666404336690903, -0.00034747752943076193, 0.027826417237520218, -0.02213258482515812, 0.07168424129486084, 0.012870125472545624, -0.03366062045097351, -0.06069004535675049, -0.07594757527112961, -0.036252912133932114, -0.01583399623632431, -0.015499196015298367, -0.03432502597570419, -0.06168423593044281, 0.005915308371186256, -0.08673285692930222, -0.010074651800096035, -0.019230946898460388, 0.0010566979181021452, 0.03903379291296005, 0.0013653277419507504, 0.12346844375133514, 0.09393229335546494, -0.0387209877371788, -0.048549894243478775, -0.13262934982776642, 0.016969311982393265, 0.005503606516867876, -0.08911450952291489, -0.058639734983444214, 0.015285471454262733, -0.03384599834680557, -0.0587799958884716, 0.061068274080753326, 0.027310146018862724, 0.07984259724617004, -0.003302112454548478, -0.05339778959751129, 0.0614306777715683, 0.010800497606396675, -0.05741765350103378, -0.09610790759325027, -0.05473794788122177, 0.0006638316554017365, 0.0012021929724141955, 0.014399508014321327, 0.033678170293569565, 0.016201017424464226, 0.026098569855093956, -0.06707948446273804, 0.0566200315952301, -0.03889882192015648, 0.052349887788295746, -0.08134875446557999, -0.058509450405836105, 0.016980014741420746, -0.012028633616864681, 0.0801369845867157, 0.06217314302921295, -0.02926122583448887, -0.041793908923864365, -0.058163125067949295, 0.024485809728503227, 0.01732637733221054, 0.08918896317481995, 0.07684295624494553, 0.11474855989217758, -0.0244660135358572, 0.06667810678482056, -0.02008569799363613, -0.039187345653772354, -0.031694281846284866, -0.01119678933173418, 0.08760540932416916, -0.07687068730592728, 0.06164577230811119, 0.006832748185843229, 0.0706632062792778, 0.08740843087434769, -0.008392754010856152, -0.019504249095916748, -0.0313253328204155, 0.05743815004825592, -0.003509834874421358, -2.6758552999355304e-33, -0.033665258437395096, -0.005163523834198713, 0.026001058518886566, 0.029839053750038147, 0.013848786242306232, 0.005119181703776121, 0.0022183977998793125, -0.02568056806921959, 0.003534534014761448, -0.006855340208858252, -0.10311981290578842, -0.020917566493153572, 0.027497699484229088, -0.01142888143658638, -0.08197793364524841, -0.0732511430978775, -0.08689437061548233, 0.0547536164522171, 0.045725371688604355, 0.005079623777419329, -0.015728972852230072, 0.02347664162516594, -0.0291414987295866, 0.021945595741271973, 0.08687951415777206, -0.009544232860207558, 0.009062488563358784, 0.02087460085749626, 0.06553533673286438, -0.005563616752624512, 0.0863502100110054, 0.025845834985375404, -0.09574694186449051, -0.12423264980316162, -0.056101977825164795, 0.00029119857936166227, -0.09294265508651733, -0.024070415645837784, 0.005290542729198933, 0.06555865705013275, -0.036086663603782654, 0.009057972580194473, 0.06673068553209305, -0.0408862829208374, -0.06063053011894226, 0.06685653328895569, 0.026592444628477097, 0.004597023595124483, 0.01933247037231922, -0.03128993511199951, -0.008186117745935917, 0.023680299520492554, 0.03400728106498718, 0.03921765089035034, 0.11767488718032837, 0.04247725382447243, -0.052318718284368515, 0.026881687343120575, -0.004381758626550436, -0.014250864274799824, -0.0878656804561615, 0.07505907863378525, -0.035159219056367874, 0.03487740084528923, -0.09131957590579987, 0.07521282881498337, 0.010660359635949135, 0.052078235894441605, 0.023972826078534126, 0.09450086951255798, 0.1189437136054039, -0.0893605425953865, -0.006041753105819225, 0.006374497432261705, -0.026904575526714325, -0.047011300921440125, -0.04441166669130325, 0.025421611964702606, 0.015745509415864944, -0.013179519213736057, 0.12323075532913208, -0.031291015446186066, 0.040740061551332474, -0.035808488726615906, -0.09025169909000397, -0.031535886228084564, 0.0075693451799452305, -0.019196372479200363, 0.049930110573768616, 0.040840670466423035, 0.06452890485525131, -0.023301221430301666, 0.0429050549864769, 0.015652958303689957, -0.09317311644554138, 1.0187508116767743e-33, -0.013282940723001957, 0.02103673852980137, 0.009438840672373772, 0.010371443815529346, -0.003250367008149624, -0.07330635190010071, -0.018754873424768448, 0.07572329789400101, -0.0019154057372361422, -0.018649151548743248, 0.06250771880149841, 0.073397196829319, -0.02038305066525936, 0.031574755907058716, -0.0036031713243573904, -0.014420156367123127, 0.07941462099552155, 0.006118078716099262, 0.005847407970577478, -0.02620057202875614, 0.02288076840341091, 0.008992178365588188, -0.0658377930521965, 0.04471541941165924, -0.02060944400727749, 0.04774950444698334, -0.07110171765089035, 0.05200200900435448, 0.002472186926752329, 0.02085452526807785, -0.03608514741063118, -0.030834566801786423, -0.04251739755272865, 0.044397998601198196, 0.04667270556092262, 0.02559247612953186, -0.03762127459049225, -0.007946629077196121, -0.04981093853712082, -0.04453084245324135, 0.009194854646921158, 0.00391510920599103, -0.009361042641103268, 0.012487185187637806, -0.005714439321309328, 0.025852326303720474, -0.009973876178264618, -0.015558149665594101, 0.057213589549064636, 0.06347143650054932, -0.0732651799917221, 0.013236090540885925, -0.007333616726100445, -0.007585315965116024, -0.08502599596977234, 0.028334276750683784, 0.0075584715232253075, -0.02498186193406582, 0.010830193758010864, -0.012215333059430122, -0.04637574031949043, 0.03136374056339264, 0.01712900958955288, -0.011834791861474514, -0.031402722001075745, -0.014646753668785095, 0.0005710733821615577, -0.0053814179264009, 0.025148019194602966, 0.0008973828516900539, 0.03640215843915939, 0.039248667657375336, -0.0023132774513214827, -0.011738023720681667, -0.08781984448432922, 0.022117111831903458, -0.010687720961868763, -0.0032507115975022316, -0.013573768548667431, -0.05733539164066315, 0.05590035766363144, -0.04008299112319946, 0.07753293216228485, 0.0077588497661054134, -0.08236794173717499, -0.02230801060795784, 0.02020852081477642, -0.1102747693657875, -0.08980710059404373, 0.054915424436330795, -0.030989043414592743, -0.08255653083324432, -0.08828102797269821, 0.02796037308871746, 0.06988850980997086, -2.254081188368673e-08, 0.036627624183893204, -0.04900912195444107, 0.07675103843212128, -0.029278423637151718, 0.07927511632442474, 0.0032787106465548277, 0.06975757330656052, 0.06908947974443436, 0.006708761211484671, 0.08900497853755951, 0.020798277109861374, 0.047987233847379684, -0.03450300544500351, 0.07425802201032639, 0.041491053998470306, -0.03635311499238014, -0.04276557266712189, -0.03784918785095215, -0.039610158652067184, -0.11252451688051224, -0.0008201678865589201, 0.12733152508735657, -0.024242395535111427, -0.055661533027887344, 0.07530783861875534, 0.04557541385293007, 0.03419630602002144, 0.07062338292598724, -0.01356596127152443, -0.006572719197720289, 0.03957304731011391, 0.041238609701395035, -0.006911881268024445, 0.000950341927818954, -0.03458927944302559, -0.00821809470653534, -0.047258924692869186, 0.017959706485271454, 0.02755756676197052, -0.08238805085420609, -0.09579025954008102, 0.05195405334234238, 0.021319769322872162, -0.009419627487659454, -0.03170214593410492, -0.10774484276771545, -0.049286458641290665, 0.010320470668375492, 0.02357376180589199, -0.09056934714317322, 0.09606996178627014, -0.028437387198209763, 0.014776444062590599, 0.04985290765762329, 0.053608641028404236, -0.06324052065610886, -0.08001404255628586, -0.038344692438840866, -0.07878527045249939, -0.027165532112121582, 0.013355855830013752, -0.12938620150089264, 0.06375782191753387, 0.009759349748492241]"
        ],
        [
         "1",
         "MMM",
         "Zacks Industry Outlook Highlights Honeywell, 3M, Carlisle Companies and Federal Signal",
         "HON, MMM, CSL, and FSS are well-positioned to benefit from defense, aviation, and infrastructure tailwinds despite manufacturing headwinds.",
         "2025-07-21T09:45:00Z",
         "https://finance.yahoo.com/news/zacks-industry-outlook-highlights-honeywell-094500804.html",
         "Zacks",
         "Zacks Industry Outlook Highlights Honeywell, 3M, Carlisle Companies and Federal Signal",
         "[-0.021629298105835915, -0.07978319376707077, -0.025434980168938637, 0.007553101982921362, 0.013400420546531677, -0.009961698204278946, -0.04028962925076485, -0.029640715569257736, 0.023934850469231606, -0.010991805233061314, -0.0204800795763731, 0.03896590322256088, 0.026509229093790054, 0.004848798271268606, 0.062209367752075195, 0.0003612131404224783, 0.024439552798867226, -0.05776996910572052, -0.019280770793557167, -0.033607352524995804, 0.003952448721975088, -0.0380367673933506, 0.007945803925395012, 0.007913120090961456, 0.039122965186834335, 0.014065967872738838, -0.004826322663575411, 0.09755033254623413, -0.08470659703016281, -0.03858564794063568, -0.07119426876306534, 0.04862038418650627, 0.09274611622095108, -0.0400053933262825, -0.05149513855576515, 0.017611872404813766, 0.032013799995183945, -0.002960287733003497, 0.041614677757024765, 0.03227021545171738, 0.0014940394321456552, -0.057164937257766724, -0.02589658834040165, -0.08111973106861115, -0.05140066146850586, -0.03471963852643967, 0.03988435119390488, -0.05048936977982521, 0.01883801631629467, -0.04114056006073952, -0.026797184720635414, -0.019040830433368683, 0.03104913793504238, 0.059843018651008606, 0.037317849695682526, -0.0002480766561347991, -0.050201110541820526, 0.023819534108042717, -0.00545847974717617, 0.00569296395406127, 0.06472074240446091, -0.03268074244260788, -0.043128401041030884, -0.01333717443048954, 0.04180615022778511, 0.06807468086481094, -0.056697502732276917, 0.03104068897664547, 0.002076301258057356, -0.14695961773395538, -0.01359129324555397, -0.12797486782073975, -0.04740207642316818, -0.03142469376325607, 0.06352519243955612, 0.04587867856025696, 0.09681650996208191, 0.029092736542224884, 0.059290800243616104, -0.03828251734375954, 0.02800978161394596, -0.05406013876199722, -0.07448621094226837, 3.490953895379789e-05, 0.010889684781432152, 0.01153610274195671, -0.047847699373960495, -0.0009728932054713368, 0.022140413522720337, 0.03244193643331528, -0.11174360662698746, -0.05559000372886658, -0.011464644223451614, 0.04677652567625046, -0.014461018145084381, 0.021295204758644104, -0.04386693239212036, -0.041319433599710464, -0.04187017306685448, 0.054765474051237106, 0.0489778071641922, 0.0015048549976199865, -0.055124811828136444, 0.04523772746324539, 0.0032800487242639065, -0.02994469925761223, -0.030161894857883453, 0.12804487347602844, 0.021759670227766037, 0.020862465724349022, 0.03794481232762337, 0.03883850947022438, -0.04194645956158638, -0.0020432693418115377, -0.04998013377189636, -0.022433185949921608, -0.015171580016613007, 0.04854791983962059, 0.12712664902210236, 0.08904026448726654, -0.008046192117035389, 0.08468406647443771, -0.025536345317959785, 0.030101774260401726, -0.001191372866742313, 0.057601701468229294, -0.08156367391347885, 1.3026257867792709e-34, -0.10120595991611481, 0.1634785383939743, 0.0003194931778125465, 0.03757534548640251, 0.031604308634996414, 0.05036453902721405, -0.0441625751554966, 0.011727213859558105, 0.07476496696472168, 0.005573594011366367, -0.07985428720712662, 0.13642273843288422, 0.027432546019554138, 0.015527812764048576, -0.0425676554441452, -0.15048335492610931, -0.043810680508613586, -0.00812931451946497, 0.007716194726526737, -0.05201447382569313, -0.06750035285949707, -0.04207104071974754, -0.049486834555864334, -0.033609259873628616, 0.09666088968515396, -0.07250071316957474, 0.013186815194785595, 0.05736662819981575, 0.0025655427016317844, 0.035595256835222244, 0.06144306808710098, 0.07231107354164124, 0.051633913069963455, -0.04867535084486008, 0.0128105990588665, 0.07280447334051132, -0.0726548433303833, -0.039927780628204346, -0.04130713269114494, 0.001852555782534182, -0.03728487715125084, 0.04505680501461029, -0.06094930320978165, 0.035059135407209396, -0.05420414358377457, 0.03562421351671219, -0.08143773674964905, 0.042999859899282455, 0.11027295142412186, 0.0012394423829391599, -0.01088999304920435, 0.035160262137651443, -0.03883768990635872, -0.009613346308469772, 0.05748873949050903, -0.012719733640551567, -0.002418890129774809, -0.04590766876935959, 0.028587207198143005, 0.007685108110308647, -0.06868071854114532, 0.032559968531131744, 0.01937844045460224, 0.022297784686088562, 0.0011515974765643477, 0.07480430603027344, 0.03412114456295967, 0.016103211790323257, -0.05063752084970474, 0.08083494752645493, -0.023925907909870148, 0.04575446993112564, 0.046352703124284744, -0.01182029489427805, -0.02762790024280548, -0.019806018099188805, -0.02128666639328003, 0.05667846277356148, 0.020531723275780678, 0.005550595000386238, 0.09286262094974518, -0.02308596856892109, 0.06257403641939163, 0.006133568938821554, 0.04731963202357292, 0.004328847862780094, 0.006398316007107496, -0.0559157095849514, 0.030374998226761818, 0.02272067219018936, -0.0706762745976448, 0.04872108995914459, -0.0420197919011116, 0.08747568726539612, -0.030106406658887863, -4.985362458978518e-34, -0.05142879858613014, 0.06301436573266983, -0.00033529853681102395, -0.07341518253087997, -0.030602479353547096, 0.006150505039840937, 0.024888282641768456, 0.005186366382986307, 0.008615996688604355, 0.11448148638010025, 0.07387912273406982, 0.011402060277760029, 0.000631333386991173, 0.032637108117341995, -0.04063338041305542, -0.05630166083574295, 0.048645470291376114, -0.1141253337264061, 0.03715548291802406, -0.017589813098311424, 0.06912871450185776, -0.007473043631762266, -0.13031506538391113, 0.024970412254333496, -0.05765493959188461, 0.01654159463942051, -0.12496160715818405, 0.029495878145098686, -0.01821954920887947, -0.017606517300009727, -0.0627121552824974, -0.029782328754663467, 0.001014141133055091, 0.07814532518386841, 0.06848079711198807, 0.0804067850112915, 0.09814760833978653, -0.0010137520730495453, -0.016129152849316597, -0.07321427017450333, 0.05700173228979111, -0.01829238422214985, 0.034340742975473404, 0.07538390904664993, -0.0619584321975708, 0.04560786485671997, 0.028040355071425438, -0.007613278925418854, -0.03898841515183449, -0.006280303467065096, -0.024194851517677307, 0.003695159452036023, -0.04998848959803581, 0.09069323539733887, -0.028420930728316307, 0.0420113205909729, 0.059502460062503815, 0.030174287036061287, -0.008819491602480412, 0.016318148002028465, 0.06324799358844757, 0.0053665838204324245, 0.010981027968227863, -0.04623168706893921, 0.04507741332054138, 0.005120180547237396, 0.05699579045176506, -0.035816825926303864, 0.07342206686735153, 0.002504996955394745, 0.10292539745569229, -0.02618897147476673, -0.026767684146761894, -0.10743340849876404, -0.08108863979578018, 0.025023821741342545, -0.03632424771785736, -0.03584590181708336, -0.16663022339344025, 0.0251944437623024, 0.10002188384532928, -0.0039791143499314785, -0.00012202149082440883, 0.05024617910385132, 0.008503838442265987, 0.028623877093195915, 0.10081902146339417, -0.027036428451538086, -0.03874704986810684, -0.012516864575445652, -0.02509329281747341, 0.0024947430938482285, -0.06898388266563416, 0.021500198170542717, 0.011431988328695297, -2.17877076380546e-08, -0.02978181093931198, -0.017909090965986252, -0.014733503572642803, -0.0256732739508152, -0.015231514349579811, -0.021512962877750397, 0.06872506439685822, 0.009295355528593063, -0.011720307171344757, 0.031051982194185257, 0.02787257544696331, -0.049376230686903, -0.09739573299884796, 0.028509022668004036, 0.07439768314361572, -0.04233666509389877, -0.09899155050516129, 0.056163240224123, -0.006118634715676308, -0.003968064673244953, -0.017245179042220116, 0.08979101479053497, 0.037513162940740585, 0.010070103220641613, 0.08309215307235718, -0.003723675850778818, -0.015286642126739025, 0.0346657894551754, 0.05390821397304535, 0.0510505735874176, -0.0511220283806324, 0.019626814872026443, 0.025331007316708565, -0.06384005397558212, -0.14032234251499176, -0.05594857782125473, -0.03264229744672775, -0.024498015642166138, 0.01098677609115839, 0.0002643758780322969, 0.003066872013732791, -0.01542511023581028, -0.06175948679447174, 0.048902951180934906, 0.007657617796212435, -0.028327086940407753, -0.06342243403196335, -0.03418545052409172, 0.022171832621097565, -0.061389438807964325, 0.043225642293691635, 0.025782087817788124, 0.07874031364917755, -0.02547389455139637, -0.0624697171151638, -0.056283287703990936, -0.03896505385637283, -0.044160038232803345, -0.039548568427562714, -0.015403421595692635, 0.024609806016087532, -0.03385700285434723, 0.006688080262392759, -0.009958816692233086]"
        ],
        [
         "2",
         "MMM",
         "Stock Market News for Jul 21, 2025",
         "U.S. stock markets closed mostly lower n Friday following trade and tariff related concerns.",
         "2025-07-21T08:22:00Z",
         "https://finance.yahoo.com/news/stock-market-news-jul-21-082200847.html",
         "Zacks",
         "Stock Market News for Jul 21, 2025",
         "[-0.03746959939599037, -0.04381373152136803, 0.02352602407336235, 0.10714685916900635, -0.01842455007135868, 0.017902065068483353, -0.04897454380989075, -0.03833814337849617, -0.02194957435131073, -0.0008504638681188226, -0.03186538442969322, 0.10521388053894043, -0.07908187806606293, -0.0123113002628088, -0.024441493675112724, -0.02668548934161663, 0.008112377487123013, -0.0007390699465759099, 0.007680089212954044, -0.008861447684466839, -0.06409966945648193, -0.04205255210399628, -0.03528793528676033, 0.026094835251569748, 0.0170222707092762, -0.008697610348463058, 0.009137834422290325, -0.01693420112133026, -0.0020637407433241606, -0.0038519760128110647, 0.0006177247269079089, -0.006269133649766445, -0.037367627024650574, 0.034267764538526535, -0.018283024430274963, -0.022650962695479393, 0.05600542202591896, 0.013005685061216354, 0.09124137461185455, -0.019853461533784866, 0.028359731659293175, -0.11998970806598663, -0.06093866005539894, 0.011434529908001423, 0.09384158998727798, -0.04418005421757698, -0.05956331640481949, 0.03668174147605896, 0.013993795029819012, 0.028566045686602592, -0.1296137571334839, -0.06425005197525024, 0.04412989318370819, -0.044792912900447845, 0.017139390110969543, 0.01592489518225193, -0.037615131586790085, -0.0859890878200531, 0.08441305160522461, -0.02476010099053383, 0.03361307457089424, -0.029717158526182175, -0.0216202475130558, 0.05239042639732361, 0.06653626263141632, 0.02590944990515709, 0.02008180506527424, 0.03193528950214386, -0.0011465573916211724, -0.042898643761873245, 0.032051049172878265, -0.020565830171108246, 0.004854231141507626, -0.050452716648578644, -0.14080367982387543, -0.01279622595757246, 0.06485152244567871, 0.030032657086849213, 0.05765945836901665, 0.003816561307758093, -0.03208664804697037, -0.10635983198881149, 0.018679264932870865, -0.08464088290929794, -0.07618201524019241, -0.015274432487785816, 0.032859575003385544, 0.05658390372991562, 0.027204137295484543, 0.0031115510500967503, -0.0020026452839374542, 0.02329736389219761, -0.04750765487551689, 0.05492023006081581, -0.09068529307842255, 0.018495619297027588, -0.06213725358247757, -0.05181368812918663, 0.019610006362199783, 0.02842911332845688, 0.07475832104682922, 0.07379383593797684, -0.059469908475875854, -0.022489866241812706, -0.07069067656993866, -0.06833363324403763, -0.048508260399103165, -0.07196193933486938, 0.0008067595190368593, -0.06932790577411652, -0.07405504584312439, 0.0821758508682251, -0.020545996725559235, -0.0629437193274498, -0.01827753707766533, -0.0019639963284134865, -0.023233961313962936, -0.02017993852496147, 0.06518574804067612, 0.0034569872077554464, 0.03333213925361633, 0.07383269816637039, -0.07329826056957245, 0.0019896014127880335, -0.055208999663591385, 0.0052380939014256, -0.033615317195653915, -1.7108477226363664e-33, -0.02487434633076191, -0.017124492675065994, 0.029997853562235832, 0.04040432348847389, -0.031507574021816254, 0.03894548863172531, 0.03332057222723961, -0.06288647651672363, -0.08443251997232437, -0.02112661488354206, -0.027093300595879555, -0.0181374941021204, -0.0697796419262886, -0.02174614556133747, -0.01795598492026329, -0.09973402321338654, 0.004489495884627104, 0.007041226141154766, 0.06732511520385742, -0.02168886922299862, 0.07405439019203186, -0.04180072247982025, -0.06030174344778061, -0.026797611266374588, -0.008844440802931786, 0.04756047576665878, 0.021342746913433075, -0.04281683266162872, 0.04547223076224327, 0.06558141112327576, 0.007054024375975132, 0.03031286410987377, -0.017131691798567772, -0.009030453860759735, 0.01141293440014124, 0.012755547650158405, -0.12630483508110046, 0.032336488366127014, -0.004205023869872093, -0.018459385260939598, 0.06513115018606186, 0.01457525510340929, -0.05696921795606613, -0.0475333072245121, 0.041927870362997055, 0.03145652636885643, 0.010108159855008125, -0.008461552672088146, 0.04604360833764076, -0.091929592192173, -0.06941568851470947, -0.011851990595459938, -0.07955661416053772, -0.06328682601451874, 0.05986059829592705, 0.020323609933257103, -0.024903805926442146, -0.12569038569927216, -0.0841195359826088, -0.0044841221533715725, 0.02448473870754242, 0.043775711208581924, -0.032014306634664536, -0.042406316846609116, -0.14273034036159515, 0.11467721313238144, 0.026562519371509552, 0.032960183918476105, -0.07265504449605942, 0.08287781476974487, 0.06909575313329697, 0.046201441437006, 0.004922353662550449, -0.015312178991734982, -0.02848931774497032, 0.0367242768406868, 0.06362491101026535, -0.03096039406955242, 0.06798858195543289, 0.08361301571130753, 0.029500460252165794, -0.04424916207790375, 0.07794471830129623, 0.0644167810678482, 0.06988023966550827, 0.01910357177257538, 0.014731954783201218, -0.004224812146276236, 0.03970286622643471, -0.049342457205057144, -0.01618064008653164, -0.03475396707653999, 0.028088310733437538, 0.08485441654920578, -0.017169002443552017, -2.3536627676217034e-33, -0.004785206634551287, 0.025630895048379898, -0.07485371083021164, -0.006500147748738527, -0.07498521357774734, -0.030486950650811195, 0.03053627349436283, 0.12510859966278076, 0.02841660939157009, 0.04694037139415741, 0.0075134411454200745, -0.004918248858302832, 0.05028698593378067, 0.09852783381938934, -0.05500321462750435, -0.016294648870825768, 0.08079061657190323, -0.06902232021093369, -0.04720431938767433, -0.026490483433008194, -0.04353049769997597, 0.031430646777153015, -0.034765198826789856, 0.08995705842971802, 0.10749553143978119, 0.0005138164269737899, 0.10882722586393356, -0.0022639292292296886, -0.006856156978756189, 0.013001392595469952, -0.06636009365320206, -0.06692201644182205, 0.03221432492136955, 0.06782663613557816, 0.038082439452409744, 0.04213787987828255, 0.07765808701515198, -0.03934367001056671, 0.04745613411068916, 0.014205100946128368, 0.033918946981430054, 0.07482606172561646, -0.012803166173398495, -0.007963284850120544, 0.016658354550600052, 0.013563073240220547, 0.04188014566898346, 0.07695239782333374, 0.12362323701381683, 0.03434591367840767, -0.019799131900072098, 0.040843069553375244, -0.012193482369184494, 0.07042302191257477, -0.028725696727633476, 0.017469774931669235, -0.06701625883579254, 0.01588093303143978, 0.014310591854155064, 0.014254343695938587, -0.06988947093486786, 0.08336351811885834, 0.017802990972995758, -0.020079944282770157, -0.006223802454769611, -0.054490331560373306, -0.08454607427120209, 0.013576596975326538, 0.04625295475125313, -0.008222131989896297, 0.13295181095600128, -0.03701820969581604, -0.043020058423280716, -0.03669540211558342, -0.05573638156056404, 0.1124994233250618, 0.024025358259677887, -0.009360894560813904, 0.01872835122048855, 0.0748424082994461, 0.053755730390548706, 0.10381986200809479, -0.0044374046847224236, -0.003963932394981384, -0.012940282933413982, 0.053656063973903656, 0.002189857652410865, -0.021500827744603157, -0.027701348066329956, -0.05936836823821068, -0.037940558046102524, -0.0033648894168436527, -0.025876646861433983, -0.007210879120975733, -0.0018199848709627986, -1.7209107028293147e-08, 0.009061845019459724, -0.04549205303192139, -0.02115982584655285, -0.005033675581216812, 0.040220726281404495, 0.025066882371902466, 0.011639287695288658, -0.08784987777471542, 0.04245349019765854, 0.09298770874738693, -0.018315361812710762, 0.030411770567297935, -0.03008296713232994, 0.004006597679108381, -0.0533025860786438, 0.02119593694806099, -0.08163080364465714, -0.036992788314819336, 0.057968370616436005, -0.09371249377727509, 0.08134209364652634, 0.026176713407039642, 0.11261546611785889, 0.06820260733366013, 0.02226712368428707, -0.0634484514594078, -0.025253355503082275, 0.006865940056741238, -0.03281382843852043, -0.018165726214647293, -0.04812903329730034, 0.014517751522362232, -0.005913983564823866, -0.05116025358438492, 0.02052648365497589, 0.08052137494087219, -0.020118696615099907, 0.02701164036989212, -0.021889429539442062, 0.01537416409701109, -0.027280336245894432, -0.08438397943973541, 0.014587605372071266, 0.005162891000509262, 0.03318104147911072, -0.06563079357147217, 0.018154172226786613, -0.0658104196190834, 0.03715279698371887, -0.07688965648412704, -0.012588190846145153, -0.06139183044433594, 0.07257793098688126, -0.00922398641705513, 0.03564608097076416, 0.08570554852485657, -0.06028405949473381, -0.007122712675482035, -0.03809652850031853, -0.03886476904153824, 0.013854814693331718, -0.10105166584253311, -0.03839882090687752, 0.06310391426086426]"
        ],
        [
         "3",
         "MMM",
         "3M Co (MMM) Q2 2025 Earnings Call Highlights: Strong EPS Growth Amidst Global Challenges",
         "3M Co (MMM) reports a 12% increase in adjusted EPS and robust shareholder returns, despite facing macroeconomic and legal hurdles.",
         "2025-07-19T07:05:47Z",
         "https://finance.yahoo.com/news/3m-co-mmm-q2-2025-070547262.html",
         "GuruFocus.com",
         "3M Co (MMM) Q2 2025 Earnings Call Highlights: Strong EPS Growth Amidst Global Challenges",
         "[-0.08080142736434937, -0.029800791293382645, -0.031650982797145844, 0.04663173109292984, -0.04566670209169388, 0.03518695756793022, -0.03546202555298805, -0.03370525687932968, 0.05160330608487129, -0.011474965140223503, 0.012380086816847324, -0.050294727087020874, -0.03627295047044754, -0.025034377351403236, 0.018580781295895576, -0.024962127208709717, 0.030078910291194916, -0.0566699281334877, 0.07855884730815887, -0.06326545774936676, 0.01985895074903965, 0.01502925343811512, 0.04609061777591705, 0.02168300934135914, 0.10104475170373917, -0.03055122308433056, -0.01785057596862316, 0.11219950020313263, 0.02311265841126442, -0.0547894723713398, -0.07533148676156998, 0.12336812168359756, 0.040144819766283035, -0.021561866626143456, -0.00030193678685463965, 0.016274292021989822, -0.033350612968206406, -0.07194020599126816, -0.0070976875722408295, 0.03698838874697685, 0.011143499985337257, -0.0414050929248333, -0.0016492466675117612, -0.06760742515325546, 0.018077967688441277, 0.012110363692045212, 0.009226900525391102, 0.0832458958029747, -0.06780485808849335, 0.004309080541133881, 0.005741579923778772, -0.03542236611247063, 0.04494042694568634, -0.026716243475675583, -0.08890112489461899, 0.01759449951350689, 0.04947404935956001, 0.05182606354355812, 0.0385022833943367, 0.0486665815114975, -0.017986437305808067, 0.015382231213152409, -0.03082806058228016, 0.036240559071302414, 0.12472133338451385, 0.018250925466418266, -0.004867298528552055, 0.07087937742471695, -0.1244933158159256, 0.06280621886253357, 0.0014419896760955453, -0.05498426407575607, -0.05973591282963753, -0.0611506924033165, -0.020716333761811256, 0.03863586112856865, 0.023812709376215935, -0.005691087804734707, 0.03754739090800285, -0.002909474540501833, 0.04354117810726166, -0.08546362817287445, -0.01542897243052721, -0.05016547068953514, -0.06338232010602951, -0.0009867319604381919, 0.012757212854921818, -0.022403955459594727, -0.008408033289015293, -0.04107925668358803, -0.016529463231563568, -0.02280416153371334, -0.017980331555008888, 0.05961940437555313, -0.04303071275353432, 0.0301369521766901, -0.042029138654470444, -0.06468097120523453, 0.033284664154052734, 0.002439042553305626, 0.0897059366106987, 0.10866021364927292, -0.07474581152200699, -0.01726595126092434, -0.016702761873602867, 0.022196587175130844, 0.05749685317277908, 0.059897471219301224, 0.06569821387529373, 0.06374073773622513, -0.028139708563685417, 0.05665941536426544, -0.0271788127720356, -0.08682500571012497, -0.0366290807723999, 0.023325927555561066, 0.012319991365075111, 0.01142541691660881, 0.09915048629045486, -0.04160074517130852, 0.03653179109096527, 0.030878759920597076, -0.11428424715995789, -0.017349286004900932, -0.0699017122387886, 0.022896043956279755, -0.01330785732716322, 2.199330828605299e-33, -0.0007492848089896142, 0.06867774575948715, 0.04092469811439514, 0.06067864969372749, -0.010675929486751556, 0.038811735808849335, -0.012058364227414131, -0.032848525792360306, -0.009358959272503853, -0.048761289566755295, -0.04029642790555954, -0.0044588143937289715, 0.03784799948334694, -0.0016577184433117509, -0.02068312279880047, -0.07004649192094803, 0.001681580557487905, 0.039552729576826096, -0.0009901690063998103, 0.028915509581565857, -0.01947830617427826, -0.03663298860192299, 0.04193466901779175, 0.0413956381380558, 0.09122993797063828, 0.03508860617876053, 0.049685265868902206, 0.0022146475967019796, -0.007125410251319408, 0.008549781516194344, 0.02639944478869438, -0.019130928441882133, -0.017817480489611626, -0.04066755250096321, -0.08077891170978546, 0.028655555099248886, -0.0969032347202301, -0.027024565264582634, -0.02201034128665924, 0.06336740404367447, -0.03600875288248062, 0.04331870749592781, -0.004072968382388353, -0.0660962238907814, -0.05734081566333771, 0.042802032083272934, -0.010436806827783585, 0.033349525183439255, 0.030384115874767303, 0.005135581828653812, -0.029065744951367378, 0.05014101043343544, -0.08762143552303314, 0.02396705560386181, 0.09238862991333008, -0.039366427809000015, 0.013010988011956215, -0.037576593458652496, -0.02636490762233734, -0.04269828274846077, -0.02054458297789097, 0.07018902152776718, 0.0030565557535737753, 0.04893174394965172, -0.16773448884487152, 0.1590990573167801, -0.025794584304094315, 0.07683544605970383, 0.019497135654091835, 0.10905437171459198, 0.016059525310993195, -0.026238257065415382, 0.06550830602645874, -0.030796809121966362, 0.09420523047447205, -0.027137350291013718, 0.04340730980038643, -0.014949174597859383, 0.11620261520147324, 0.038629140704870224, 0.08409973233938217, 0.00486908620223403, 0.10680341720581055, -0.05466588959097862, -0.005727089010179043, -0.0601322166621685, 0.008737101219594479, -0.03715960681438446, 0.06089933589100838, 0.08811773359775543, -0.02711302973330021, -0.009828557260334492, 0.046419497579336166, 0.08293207734823227, -0.0901392474770546, -2.818251563187273e-33, -0.02171669527888298, 0.0556793287396431, 0.02585374191403389, -0.034611932933330536, -0.1346048265695572, -0.04543882608413696, 0.01545733492821455, 0.06605304777622223, 0.0060030254535377026, 0.009035376831889153, 0.04891602694988251, 0.042691394686698914, 0.030039561912417412, 0.04841237887740135, -0.010981477797031403, -0.05181805044412613, 0.10630804300308228, -0.08607359975576401, 0.050823457539081573, 0.02302117459475994, 0.1431066244840622, -0.021328885108232498, -0.05388203635811806, 0.09725069254636765, -0.039536066353321075, 0.042126331478357315, 0.010553437285125256, -0.01898902840912342, 0.022060850635170937, -0.01720690168440342, -0.0397019237279892, -0.11714642494916916, -0.03452649712562561, 0.03593210130929947, 0.01723357103765011, 0.01253027468919754, 0.08054360002279282, 0.01548788882791996, -0.03502726927399635, -0.016051271930336952, -0.026529962196946144, -0.00046699229278601706, -0.030509894713759422, -0.0008770053973421454, -0.010951852425932884, -0.04233492538332939, 0.057239215821027756, -0.01645605079829693, 0.04672446846961975, 0.06897474825382233, -0.02767305076122284, -0.009141298942267895, -0.06386861205101013, 0.06281216442584991, -0.1346646547317505, -0.03144780918955803, -0.0494958758354187, 0.01737014576792717, -0.010523632168769836, 0.04391421750187874, -0.02464325912296772, 0.07510413229465485, 0.0157177597284317, -0.03418087586760521, 0.004030884243547916, -0.00980126392096281, 0.04478364437818527, -0.036098744720220566, 0.0664675384759903, -0.00915877241641283, 0.005576475523412228, -0.005172767676413059, -0.02522139437496662, -0.052435196936130524, -0.07317677140235901, 0.04489537328481674, -0.05039525777101517, -0.04298712685704231, -0.00499727064743638, 0.005894881673157215, 0.046145662665367126, 0.021283190697431564, 0.03298850730061531, 0.059776585549116135, 0.02007199451327324, 0.015563517808914185, 0.02012597769498825, -0.024609912186861038, -0.022963954135775566, -0.015389954671263695, -0.05745924264192581, -0.04291568696498871, -0.044968344271183014, -0.01900624670088291, 0.02208361029624939, -2.4188098635136157e-08, 0.008531779982149601, -0.06768626719713211, 0.08311281353235245, -0.020037494599819183, 0.02436898648738861, -0.02093885838985443, 0.01832980290055275, -0.02351316623389721, 0.06048981472849846, 0.09809889644384384, -0.02825976349413395, 0.0034276768565177917, -0.03005567193031311, -0.03408785164356232, -0.023846866562962532, -0.024769816547632217, -0.05683468282222748, -0.009927417151629925, -0.022657737135887146, -0.10973060131072998, 0.00508755212649703, 0.03771891072392464, 0.063168965280056, -0.05405590683221817, 0.05922124162316322, -0.028263648971915245, -0.012383128516376019, 0.08218227326869965, -0.00787509698420763, -0.01770554669201374, -0.009921125136315823, 0.008894369006156921, -0.007533764932304621, 0.013769496232271194, -0.05130314826965332, -0.03189093992114067, 0.03005026839673519, 0.01791870966553688, 0.004404375795274973, -0.023089205846190453, -0.07321855425834656, 0.013714673928916454, -0.0413656160235405, 0.04311966896057129, -0.06327608972787857, -0.12440067529678345, -0.05402914807200432, -0.04199504852294922, -0.047619838267564774, -0.0784907415509224, -0.005598189774900675, -0.04881963133811951, 0.0477985143661499, 0.05850148946046829, 0.05647509917616844, -0.019768036901950836, -0.08585819602012634, -0.009461778216063976, -0.02130211889743805, 0.04715733602643013, 0.07272637635469437, -0.194954052567482, -0.00833839736878872, -0.0006350339972414076]"
        ],
        [
         "4",
         "MMM",
         "MMM Q1 Deep Dive: Tariffs Loom Over Stable Operations and Product Launch Momentum",
         "Industrial conglomerate 3M (NYSE:MMM) reported Q2 CY2025 results exceeding the market’s revenue expectations, but sales fell by 1.6% year on year to $6.16 billion. Its non-GAAP profit of $2.16 per share was 7.4% above analysts’ consensus estimates.",
         "2025-07-19T05:30:58Z",
         "https://finance.yahoo.com/news/mmm-q1-deep-dive-tariffs-053058953.html",
         "StockStory",
         "MMM Q1 Deep Dive: Tariffs Loom Over Stable Operations and Product Launch Momentum",
         "[-0.019502636045217514, -0.07280400395393372, 0.04442306235432625, -0.05643664672970772, 0.03960559517145157, 0.051114656031131744, 0.038798749446868896, -0.02330813743174076, -0.06513672322034836, 0.008824743330478668, 0.01448702160269022, 0.046893466264009476, -0.032321348786354065, -0.04968710616230965, 0.009273003786802292, 0.07366466522216797, 0.052466027438640594, 0.044334471225738525, -0.08751510828733444, 0.021671315655112267, 0.04057077690958977, -0.042079247534275055, 0.04733865708112717, 0.007524436339735985, 0.020877832546830177, 0.02988988161087036, -0.0356173999607563, -0.04126493260264397, 0.05355750024318695, -0.06822982430458069, -0.06053515523672104, 0.08427651971578598, -0.05391480773687363, 0.09752398729324341, 0.09163183718919754, 0.06360596418380737, -0.016682812944054604, -0.051102351397275925, 0.018919918686151505, -0.020302310585975647, 0.04397296905517578, -0.04359475523233414, -0.08760663866996765, 0.05945127084851265, 0.007100143935531378, 0.008933606557548046, 0.047986771911382675, 0.06423991918563843, -0.03786225989460945, 0.018166394904255867, 0.00585402874276042, 0.022827522829174995, -0.06613944470882416, -0.10007210075855255, 0.02092592604458332, 0.05429176986217499, 0.03108578361570835, -0.02175148017704487, 0.01856638304889202, 0.018925921991467476, -0.016276048496365547, -0.09110945463180542, -0.033808186650276184, 0.0024598503950983286, 0.12090212106704712, -0.06491827964782715, -0.025385625660419464, 0.01493130810558796, -0.12560656666755676, 0.10803083330392838, 0.07358195632696152, -0.03986136615276337, -0.06027494743466377, -0.006758596282452345, -0.03174716979265213, -0.042112063616514206, 0.07947077602148056, -0.033347148448228836, -0.03675307333469391, -0.015797492116689682, 0.03810229152441025, -0.032053761184215546, -0.034952446818351746, -0.061472807079553604, -0.01729477569460869, -0.0568692721426487, 0.019618064165115356, -0.08341871201992035, 0.05370514839887619, -0.04276197403669357, -0.015231236815452576, -0.057524047791957855, 0.0764567106962204, -0.004104873165488243, 0.015330932103097439, 0.0699949860572815, 0.04396240413188934, 0.003521519247442484, -0.018139667809009552, 0.045359399169683456, 0.0841924324631691, 0.04753238335251808, -0.05378953367471695, -0.01172618381679058, -0.06190840154886246, -0.05015483498573303, -0.0680045634508133, -0.006836019456386566, 0.026320328935980797, 0.09011562913656235, -0.033296454697847366, -4.0700229874346405e-05, -0.0025819542352110147, 0.03329623490571976, -0.1167764887213707, -0.06826464086771011, -0.04209547117352486, -0.06921181827783585, 0.055970218032598495, -0.09099990874528885, 0.01827346719801426, 0.043934378772974014, -0.026980595663189888, -0.018891649320721626, -0.10889359563589096, -0.009623716585338116, 0.005313812289386988, 1.4381408392627692e-33, -0.07454527169466019, -0.07273486256599426, -0.042574845254421234, 0.03521218150854111, -0.08878077566623688, 0.07349076122045517, 0.018529953435063362, 0.0034848565701395273, -0.09889756143093109, 0.016676923260092735, -0.03127073869109154, 0.08931093662977219, -0.034960854798555374, 0.1077079102396965, 0.07579062879085541, -0.137832373380661, -0.02984030172228813, 0.03170224651694298, 0.15531936287879944, -0.014869704842567444, 0.010913613252341747, -0.031258475035429, -0.005917071830481291, -0.02009384147822857, 0.01832624338567257, 0.0008064144640229642, 0.034775275737047195, -0.03155752271413803, -0.045143015682697296, 0.06163617596030235, -0.017905281856656075, 0.044487617909908295, -0.017192896455526352, -0.018671514466404915, -0.08758892863988876, 0.08569632470607758, -0.045586276799440384, -0.034104011952877045, -0.007051038555800915, -0.07271674275398254, -0.09835746884346008, 0.05557360500097275, -0.07295627892017365, 0.06329508125782013, -0.056419890373945236, -0.003291110973805189, -0.005562217440456152, -0.026426859200000763, -0.019928717985749245, -0.029916465282440186, -0.06397588551044464, 0.05841518193483353, 0.041593313217163086, -0.139987051486969, 0.074293352663517, -0.061238843947649, -0.023862581700086594, -0.067708320915699, -0.05061274394392967, 0.02485148049890995, -0.0038124644197523594, 0.04925616458058357, -0.03066708892583847, 0.04863003268837929, -0.04849149286746979, 0.11825208365917206, -0.0461246594786644, 0.006908969487994909, -0.0528055764734745, 0.0378379262983799, 0.03338826075196266, -0.02881506271660328, 0.04111837223172188, -0.05032060295343399, 0.031082632020115852, 0.07222878187894821, 0.010250897146761417, 0.039896994829177856, 0.047106776386499405, -0.05654064565896988, 0.052401818335056305, 0.027434391900897026, 0.08023510873317719, 0.0055091362446546555, -0.01583022065460682, -0.030742038041353226, 0.012096152640879154, -0.06309062987565994, 0.011875586584210396, 0.1061716228723526, -0.07793020457029343, -0.009937082417309284, 0.03646015748381615, 0.03226371109485626, 0.02696789614856243, -3.028842110821055e-33, 0.00721013592556119, 0.060247473418712616, -0.019977238029241562, 0.04648838937282562, -0.04897536709904671, -0.009341317228972912, -0.04609148949384689, -0.05888829380273819, -0.08705995231866837, 0.006043351721018553, -0.07679059356451035, 0.03603818640112877, -0.06214609742164612, 0.03411196544766426, -0.02584843896329403, -0.04026586189866066, 0.0862596184015274, -0.003580467775464058, -0.008266540244221687, -0.011588781140744686, 0.012857082299888134, 0.01632882095873356, -0.07587119936943054, 0.0029064100235700607, -0.02085375413298607, 0.03264186531305313, -0.012527424842119217, -0.012039471417665482, 0.10058436542749405, -0.004664485342800617, 0.0010603131959214807, -0.03666773438453674, 0.030294733121991158, 0.04164334759116173, -0.028380924835801125, 0.1074521467089653, -0.02400796115398407, 0.019771017134189606, 0.031218048185110092, -0.06867127865552902, -0.01991354487836361, -0.04669699817895889, -0.02253051847219467, 0.04703979939222336, 0.04870240390300751, -0.07384917140007019, -0.03561322018504143, 0.01750064268708229, 0.001159371924586594, 0.039610669016838074, -0.04939737543463707, 0.1217024028301239, 0.00494189141318202, -0.020721299573779106, -0.10922439396381378, 0.07769513875246048, 0.03472818806767464, 0.032833706587553024, -0.03582548722624779, -0.027708370238542557, 0.015463422052562237, 0.056300584226846695, 0.04442007839679718, -0.028188016265630722, 0.03610505163669586, -0.002366287400946021, 0.011585692875087261, -0.037191055715084076, 0.03880460560321808, -0.07416004687547684, 0.025373250246047974, 0.00689783925190568, -0.0516841895878315, -0.025999899953603745, 0.008800465613603592, 0.014669296331703663, -0.03364451974630356, 0.011898403987288475, -0.023460401222109795, 0.04699242487549782, 0.03990211337804794, 0.04696384444832802, 0.03468237444758415, 0.02733766846358776, 0.01186631340533495, 0.011895176954567432, 0.005718057043850422, 0.005081344395875931, 0.0209365114569664, 0.06168554350733757, -0.04066150262951851, -0.07367436587810516, -0.009227639995515347, 0.011572539806365967, -0.023417964577674866, -2.3637047874558448e-08, 0.0049383812583982944, -0.0310040395706892, 0.0820939689874649, 0.07116726040840149, -0.006599307060241699, 0.0009963895427063107, -0.072063148021698, 0.06750518083572388, 0.014287249185144901, 0.027423057705163956, 0.030221471562981606, 0.03369776904582977, -0.061844032257795334, 0.0898655354976654, -0.046087201684713364, 0.05765293538570404, -0.053512636572122574, 0.07768314331769943, -0.030830714851617813, -0.01291233953088522, 0.02694796770811081, 0.13669131696224213, 0.0578729510307312, 0.015584002248942852, -0.0038966212887316942, 0.04800490289926529, -0.01622265949845314, 0.05240752920508385, 0.06820676475763321, 0.0014763737563043833, 0.00543001526966691, 0.0013555933255702257, -0.022342950105667114, -0.007667365483939648, -0.04553532600402832, 0.0015510331140831113, 0.006427902728319168, 0.037928689271211624, 0.053023651242256165, -0.06649771332740784, -0.08925826102495193, 0.023813674226403236, -0.006134760100394487, 0.06272900104522705, -0.01628202199935913, -0.03484535589814186, -0.12949639558792114, -0.056031446903944016, 0.056420061737298965, -0.02346600964665413, -0.037290073931217194, -0.03565337881445885, -0.02730303443968296, 0.010178801603615284, 0.0820389911532402, -0.0023520125541836023, -0.039114952087402344, -0.01386923249810934, -0.04250800237059593, 0.04868055880069733, 0.04510888084769249, -0.05491796135902405, 0.010995031334459782, 0.03915394842624664]"
        ]
       ],
       "shape": {
        "columns": 8,
        "rows": 5
       }
      },
      "text/html": [
       "<div>\n",
       "<style scoped>\n",
       "    .dataframe tbody tr th:only-of-type {\n",
       "        vertical-align: middle;\n",
       "    }\n",
       "\n",
       "    .dataframe tbody tr th {\n",
       "        vertical-align: top;\n",
       "    }\n",
       "\n",
       "    .dataframe thead th {\n",
       "        text-align: right;\n",
       "    }\n",
       "</style>\n",
       "<table border=\"1\" class=\"dataframe\">\n",
       "  <thead>\n",
       "    <tr style=\"text-align: right;\">\n",
       "      <th></th>\n",
       "      <th>TICKER</th>\n",
       "      <th>TITLE</th>\n",
       "      <th>SUMMARY</th>\n",
       "      <th>PUBLICATION_DATE</th>\n",
       "      <th>URL</th>\n",
       "      <th>PROVIDER</th>\n",
       "      <th>EMBEDDED_TEXT</th>\n",
       "      <th>EMBEDDINGS</th>\n",
       "    </tr>\n",
       "  </thead>\n",
       "  <tbody>\n",
       "    <tr>\n",
       "      <th>0</th>\n",
       "      <td>MMM</td>\n",
       "      <td>3M Company (MMM): “I Was Surprised” By The Org...</td>\n",
       "      <td>We recently published 12 Stocks Jim Cramer Tal...</td>\n",
       "      <td>2025-07-24T09:03:00Z</td>\n",
       "      <td>https://finance.yahoo.com/news/3m-company-mmm-...</td>\n",
       "      <td>Insider Monkey</td>\n",
       "      <td>3M Company (MMM): “I Was Surprised” By The Org...</td>\n",
       "      <td>[0.006455391179770231, -0.10904762148857117, -...</td>\n",
       "    </tr>\n",
       "    <tr>\n",
       "      <th>1</th>\n",
       "      <td>MMM</td>\n",
       "      <td>Zacks Industry Outlook Highlights Honeywell, 3...</td>\n",
       "      <td>HON, MMM, CSL, and FSS are well-positioned to ...</td>\n",
       "      <td>2025-07-21T09:45:00Z</td>\n",
       "      <td>https://finance.yahoo.com/news/zacks-industry-...</td>\n",
       "      <td>Zacks</td>\n",
       "      <td>Zacks Industry Outlook Highlights Honeywell, 3...</td>\n",
       "      <td>[-0.021629298105835915, -0.07978319376707077, ...</td>\n",
       "    </tr>\n",
       "    <tr>\n",
       "      <th>2</th>\n",
       "      <td>MMM</td>\n",
       "      <td>Stock Market News for Jul 21, 2025</td>\n",
       "      <td>U.S. stock markets closed mostly lower n Frida...</td>\n",
       "      <td>2025-07-21T08:22:00Z</td>\n",
       "      <td>https://finance.yahoo.com/news/stock-market-ne...</td>\n",
       "      <td>Zacks</td>\n",
       "      <td>Stock Market News for Jul 21, 2025</td>\n",
       "      <td>[-0.03746959939599037, -0.04381373152136803, 0...</td>\n",
       "    </tr>\n",
       "    <tr>\n",
       "      <th>3</th>\n",
       "      <td>MMM</td>\n",
       "      <td>3M Co (MMM) Q2 2025 Earnings Call Highlights: ...</td>\n",
       "      <td>3M Co (MMM) reports a 12% increase in adjusted...</td>\n",
       "      <td>2025-07-19T07:05:47Z</td>\n",
       "      <td>https://finance.yahoo.com/news/3m-co-mmm-q2-20...</td>\n",
       "      <td>GuruFocus.com</td>\n",
       "      <td>3M Co (MMM) Q2 2025 Earnings Call Highlights: ...</td>\n",
       "      <td>[-0.08080142736434937, -0.029800791293382645, ...</td>\n",
       "    </tr>\n",
       "    <tr>\n",
       "      <th>4</th>\n",
       "      <td>MMM</td>\n",
       "      <td>MMM Q1 Deep Dive: Tariffs Loom Over Stable Ope...</td>\n",
       "      <td>Industrial conglomerate 3M (NYSE:MMM) reported...</td>\n",
       "      <td>2025-07-19T05:30:58Z</td>\n",
       "      <td>https://finance.yahoo.com/news/mmm-q1-deep-div...</td>\n",
       "      <td>StockStory</td>\n",
       "      <td>MMM Q1 Deep Dive: Tariffs Loom Over Stable Ope...</td>\n",
       "      <td>[-0.019502636045217514, -0.07280400395393372, ...</td>\n",
       "    </tr>\n",
       "  </tbody>\n",
       "</table>\n",
       "</div>"
      ],
      "text/plain": [
       "  TICKER                                              TITLE  \\\n",
       "0    MMM  3M Company (MMM): “I Was Surprised” By The Org...   \n",
       "1    MMM  Zacks Industry Outlook Highlights Honeywell, 3...   \n",
       "2    MMM                 Stock Market News for Jul 21, 2025   \n",
       "3    MMM  3M Co (MMM) Q2 2025 Earnings Call Highlights: ...   \n",
       "4    MMM  MMM Q1 Deep Dive: Tariffs Loom Over Stable Ope...   \n",
       "\n",
       "                                             SUMMARY      PUBLICATION_DATE  \\\n",
       "0  We recently published 12 Stocks Jim Cramer Tal...  2025-07-24T09:03:00Z   \n",
       "1  HON, MMM, CSL, and FSS are well-positioned to ...  2025-07-21T09:45:00Z   \n",
       "2  U.S. stock markets closed mostly lower n Frida...  2025-07-21T08:22:00Z   \n",
       "3  3M Co (MMM) reports a 12% increase in adjusted...  2025-07-19T07:05:47Z   \n",
       "4  Industrial conglomerate 3M (NYSE:MMM) reported...  2025-07-19T05:30:58Z   \n",
       "\n",
       "                                                 URL        PROVIDER  \\\n",
       "0  https://finance.yahoo.com/news/3m-company-mmm-...  Insider Monkey   \n",
       "1  https://finance.yahoo.com/news/zacks-industry-...           Zacks   \n",
       "2  https://finance.yahoo.com/news/stock-market-ne...           Zacks   \n",
       "3  https://finance.yahoo.com/news/3m-co-mmm-q2-20...   GuruFocus.com   \n",
       "4  https://finance.yahoo.com/news/mmm-q1-deep-div...      StockStory   \n",
       "\n",
       "                                       EMBEDDED_TEXT  \\\n",
       "0  3M Company (MMM): “I Was Surprised” By The Org...   \n",
       "1  Zacks Industry Outlook Highlights Honeywell, 3...   \n",
       "2                 Stock Market News for Jul 21, 2025   \n",
       "3  3M Co (MMM) Q2 2025 Earnings Call Highlights: ...   \n",
       "4  MMM Q1 Deep Dive: Tariffs Loom Over Stable Ope...   \n",
       "\n",
       "                                          EMBEDDINGS  \n",
       "0  [0.006455391179770231, -0.10904762148857117, -...  \n",
       "1  [-0.021629298105835915, -0.07978319376707077, ...  \n",
       "2  [-0.03746959939599037, -0.04381373152136803, 0...  \n",
       "3  [-0.08080142736434937, -0.029800791293382645, ...  \n",
       "4  [-0.019502636045217514, -0.07280400395393372, ...  "
      ]
     },
     "execution_count": 12,
     "metadata": {},
     "output_type": "execute_result"
    }
   ],
   "source": [
    "model = SentenceTransformer('all-MiniLM-L6-v2')\n",
    "\n",
    "#Create a new column with the title of the news articles\n",
    "df_news['EMBEDDED_TEXT'] = df_news['TITLE']\n",
    "\n",
    "# Combine TITLE and SUMMARY for embeddings\n",
    "combined_text = (df_news['TITLE']).tolist()\n",
    "\n",
    "# Compute embeddings for combined TITLE and SUMMARY\n",
    "df_news['EMBEDDINGS'] = model.encode(combined_text, show_progress_bar=True).tolist()\n",
    "\n",
    "# Display the updated dataframe\n",
    "df_news.head()"
   ]
  },
  {
   "cell_type": "code",
   "execution_count": 13,
   "id": "6a8b2227",
   "metadata": {},
   "outputs": [
    {
     "data": {
      "text/plain": [
       "(5020, 8)"
      ]
     },
     "execution_count": 13,
     "metadata": {},
     "output_type": "execute_result"
    }
   ],
   "source": [
    "df_news.shape"
   ]
  },
  {
   "cell_type": "markdown",
   "id": "17f0fada",
   "metadata": {},
   "source": [
    "## Using K-means clustering on news embeddings\n",
    "to simplify, keep only one news for each company (ticker), you should have 500 rows in your news dataframe"
   ]
  },
  {
   "cell_type": "code",
   "execution_count": 14,
   "id": "78bf32c0",
   "metadata": {},
   "outputs": [
    {
     "name": "stdout",
     "output_type": "stream",
     "text": [
      "Number of unique tickers: 502\n"
     ]
    },
    {
     "name": "stderr",
     "output_type": "stream",
     "text": [
      "/var/folders/4h/h41r6p8s10x5w_ns6d2hznjr0000gq/T/ipykernel_67502/766421695.py:1: DeprecationWarning: DataFrameGroupBy.apply operated on the grouping columns. This behavior is deprecated, and in a future version of pandas the grouping columns will be excluded from the operation. Either pass `include_groups=False` to exclude the groupings or explicitly select the grouping columns after groupby to silence this warning.\n",
      "  df_news_unique = df_news.groupby('TICKER', as_index=False).apply(lambda x: x.sample(1, random_state=32)).reset_index(drop=True)\n"
     ]
    },
    {
     "data": {
      "application/vnd.microsoft.datawrangler.viewer.v0+json": {
       "columns": [
        {
         "name": "index",
         "rawType": "int64",
         "type": "integer"
        },
        {
         "name": "TICKER",
         "rawType": "object",
         "type": "string"
        },
        {
         "name": "TITLE",
         "rawType": "object",
         "type": "string"
        },
        {
         "name": "SUMMARY",
         "rawType": "object",
         "type": "string"
        },
        {
         "name": "PUBLICATION_DATE",
         "rawType": "object",
         "type": "string"
        },
        {
         "name": "URL",
         "rawType": "object",
         "type": "string"
        },
        {
         "name": "PROVIDER",
         "rawType": "object",
         "type": "string"
        },
        {
         "name": "EMBEDDED_TEXT",
         "rawType": "object",
         "type": "string"
        },
        {
         "name": "EMBEDDINGS",
         "rawType": "object",
         "type": "unknown"
        }
       ],
       "ref": "3db517ab-bcde-4258-bb38-4d5eeeff46ec",
       "rows": [
        [
         "0",
         "A",
         "Here's How Much You'd Have If You Invested $1000 in Agilent Technologies a Decade Ago",
         "Why investing for the long run, especially if you buy certain popular stocks, could reap huge rewards.",
         "2025-06-19T12:30:04Z",
         "https://finance.yahoo.com/news/heres-much-youd-invested-1000-123004524.html",
         "Zacks",
         "Here's How Much You'd Have If You Invested $1000 in Agilent Technologies a Decade Ago",
         "[0.00040472246473655105, 0.026826510205864906, -0.06734295189380646, -0.026823604479432106, 0.008356866426765919, -0.052755407989025116, -0.015995023772120476, 0.10606762766838074, -0.062192849814891815, 0.032208651304244995, 0.024078218266367912, -0.024657631292939186, 0.05101337656378746, 0.03540606424212456, -0.023997517302632332, 0.05120111256837845, -0.013721808791160583, -0.05361824110150337, -0.029198290780186653, -0.006054525729268789, -0.015544061549007893, 0.018586700782179832, -0.017131896689534187, -0.034964416176080704, 0.03970545157790184, 0.05926079675555229, 0.06272326409816742, 0.01829538121819496, -0.01813073456287384, 0.050721000880002975, 0.0032201239373534918, 0.08869500458240509, -0.0018290625885128975, 0.03757364675402641, 0.04801293462514877, 0.0028277565725147724, 0.0079577611759305, -0.004427752457559109, -0.05280834063887596, -0.047654889523983, 0.0043788570910692215, -0.044252365827560425, -0.004272365476936102, -0.058076828718185425, 0.024911150336265564, -0.06561827659606934, -0.021535199135541916, 0.022121872752904892, 0.04699843376874924, 0.06703529506921768, -0.041085850447416306, -0.05668235942721367, 0.01044774055480957, -0.04394187405705452, -0.000273613870376721, -0.007735641207545996, 0.032443657517433167, 0.03613394498825073, -0.01882149651646614, 0.005207925569266081, 0.03781769797205925, -0.042393460869789124, -0.0029339545872062445, -0.009437714703381062, 0.04063234105706215, 0.02641790732741356, -0.04110756516456604, 0.04766983538866043, -0.03477015346288681, 0.004132002126425505, 0.05380898714065552, -0.07735785096883774, -0.06920638680458069, -0.06305818259716034, -0.0659492164850235, -0.002105079125612974, 0.09648358821868896, 0.007668558973819017, 0.0856039822101593, -0.006038246210664511, 0.03294277936220169, -0.016484595835208893, -0.0847674086689949, -0.056448034942150116, -0.0708387941122055, 0.09488921612501144, 0.07242604345083237, 0.028829427435994148, 0.020376084372401237, -0.02448192611336708, -0.012607432901859283, -0.0540892593562603, 0.07692763209342957, -0.0064001730643212795, -0.053187306970357895, 0.052830770611763, -0.06901531666517258, -0.02523811161518097, -0.06247623264789581, 0.014453782700002193, -0.03415137529373169, -0.03949877992272377, 0.047774411737918854, -0.030166734009981155, -0.03237944468855858, 0.0018759483937174082, 0.03591776266694069, 0.029839936643838882, 0.008200349286198616, -0.011009566485881805, -0.06559626013040543, 0.03931214660406113, 0.008317974396049976, 0.03806299343705177, 0.053759392350912094, -0.10404258221387863, -0.04697224870324135, 0.007556673139333725, 0.09428958594799042, 0.028015261515975, 0.10209036618471146, -0.012931196950376034, -0.005523889325559139, 0.04269637167453766, -0.014470876194536686, -0.08760000765323639, -0.038844577968120575, -4.512792240441857e-33, -0.02148507721722126, 0.09053182601928711, 0.01264990959316492, 0.03105035237967968, -0.005801463034003973, -0.04970857873558998, 0.0038575385697185993, 0.05566718429327011, -0.01852690614759922, -0.05799395591020584, 0.027151230722665787, 0.08147600293159485, -0.061019714921712875, 0.12334410846233368, 0.010770459659397602, -0.13712389767169952, -0.015787171199917793, 0.0361669585108757, 0.07915449142456055, -0.024584008380770683, -0.02255925163626671, -0.038259245455265045, 0.041226983070373535, 0.0065711671486496925, 0.07228604704141617, 0.0002282804634887725, 0.004056226462125778, -0.049771543592214584, 0.07368773967027664, 0.012127087451517582, 0.03971823677420616, 0.03975275158882141, -0.02130506932735443, -0.0794500932097435, -0.016227949410676956, 0.09036944806575775, 0.04897885024547577, -0.12585598230361938, 0.06730590015649796, 0.011753448285162449, -0.104689821600914, 0.015854904428124428, -0.06587225943803787, -0.016441836953163147, -0.0051611014641821384, -0.013239003717899323, 0.09555818885564804, 0.01773289032280445, -0.0013516816543415189, -0.07537086308002472, -0.05088796839118004, 0.08314178138971329, -0.03157871589064598, -0.023650750517845154, -0.015218343585729599, -0.06936179101467133, 0.090493343770504, -0.052954595535993576, 0.010485488921403885, 0.010264859534800053, -0.04754584655165672, -0.02981814742088318, -0.0006265575066208839, -0.030114542692899704, -0.08732987195253372, 0.0710969865322113, -0.014906761236488819, 0.03974427655339241, 0.055479150265455246, 0.06818024069070816, -0.062037136405706406, -0.0826786532998085, 0.042200759053230286, -0.044623956084251404, 0.009924453683197498, 0.023439059033989906, 0.01634112559258938, 0.003038291586562991, -0.032464366406202316, 0.05709008127450943, -0.020352652296423912, 0.02779645100235939, -0.004891905002295971, 0.054105136543512344, 0.1479979008436203, 0.034808795899152756, 0.0025450722314417362, -0.005769659299403429, 0.006999955512583256, -0.03404741734266281, 0.02195659652352333, -0.011238614097237587, 0.05289285629987717, 0.013900448568165302, 0.048553217202425, 1.567775550132901e-33, -0.10382460802793503, 0.0177045539021492, -0.008764016442000866, 0.06509232521057129, 0.03717702254652977, -0.03896388038992882, 0.0032539970707148314, 0.03443150222301483, -0.01939486898481846, 0.07498623430728912, 0.02991507202386856, 0.01790018379688263, 0.0015036769909784198, 0.007269863970577717, -0.0030404168646782637, 0.023212745785713196, 0.006679187063127756, -0.13012638688087463, 0.026342308148741722, -0.06313855946063995, 0.007165813818573952, 0.024576237425208092, 0.04693849757313728, 0.05946575850248337, 0.05109192803502083, 0.015577190555632114, -0.07704095542430878, -0.038522522896528244, -0.004370354115962982, -0.05800963565707207, -0.029807958751916885, -0.05404413491487503, -0.03477345407009125, 0.04528558626770973, 0.0022106473334133625, -0.0059940689243376255, 0.06399554014205933, -0.06009859964251518, -0.04031878337264061, -0.06558477133512497, 0.09269716590642929, -0.03768398240208626, -0.034385018050670624, -0.013298352248966694, 0.021599898114800453, -0.04388103261590004, 0.006534535903483629, -0.009555856697261333, 0.11648495495319366, -0.004549224860966206, 0.07548871636390686, 0.014301913790404797, 0.06809233129024506, -0.04888394474983215, -0.06410135328769684, -0.005341365933418274, 0.15462571382522583, -0.024875544011592865, 0.017454814165830612, -0.0371461845934391, -0.03209657222032547, -0.003520094556733966, -0.03435318171977997, 0.0469268374145031, -0.07702150195837021, -0.03178350627422333, -0.002710070228204131, 0.00075393175939098, -0.1548539698123932, -0.13497315347194672, 0.12032186985015869, 0.013710753992199898, 0.016736403107643127, -0.04913716018199921, -0.04239029064774513, 0.06329168379306793, -0.029847130179405212, -0.019747678190469742, 0.02946498803794384, 0.005000278353691101, -0.06969020515680313, 0.05994166433811188, 0.062239181250333786, -0.05864381790161133, 0.021039079874753952, 0.05498282611370087, -0.0637364462018013, -0.03479165583848953, -0.04130374267697334, 0.002985579427331686, -0.11529579013586044, 0.009378623217344284, 0.031424276530742645, -0.003816628362983465, -0.0028517297469079494, -2.385237074520319e-08, 0.003969662822782993, 0.029650937765836716, 0.019839514046907425, -0.046760786324739456, 0.08541993051767349, -0.03503793105483055, 0.05463237315416336, 0.05220343545079231, 0.043286290019750595, 0.02154793217778206, 0.021910395473241806, -0.0469893217086792, -0.07817307114601135, 0.09088726341724396, -0.014685316942632198, 0.029203159734606743, -0.08301346749067307, -0.018953068181872368, 0.009459947235882282, 0.032808173447847366, 0.08083346486091614, 0.10077245533466339, -0.0019684904254972935, 0.043247807770967484, -0.0696173831820488, 0.02435009740293026, -0.03971004858613014, 0.07658174633979797, 0.052205558866262436, 0.05218774080276489, 0.007105725817382336, -0.015460437163710594, -0.041106317192316055, 0.006698019336909056, -0.02880767174065113, -0.05998673662543297, -0.021656768396496773, 0.06388421356678009, 0.025438036769628525, -0.017616264522075653, -0.034004662185907364, -0.050314463675022125, 0.016942376270890236, 0.03825770318508148, -0.03373057395219803, 0.018835097551345825, -0.15078780055046082, -0.07068640738725662, 0.01651545986533165, -0.07725450396537781, 0.027032187208533287, 0.051624495536088943, -0.024488357827067375, 0.022843869403004646, 0.02260824292898178, -0.010500350035727024, -0.034748710691928864, -0.035883452743291855, -0.11824331432580948, 0.03477845713496208, -0.001398146036081016, -0.1398347169160843, -0.05408576503396034, 0.03644121438264847]"
        ],
        [
         "1",
         "AAPL",
         "‘Shark Tank’ icon Kevin O’Leary reveals the 3 things he looks for when investing his millions into a founder",
         "The multimillionaire entrepreneur and investor looks to do business with entrepreneurs who have a “founder’s mindset”—embodied by late Apple cofounder Steve Jobs—alongside strong listening and executional skills.",
         "2025-07-27T09:04:00Z",
         "https://finance.yahoo.com/news/shark-tank-icon-kevin-o-090400961.html",
         "Fortune",
         "‘Shark Tank’ icon Kevin O’Leary reveals the 3 things he looks for when investing his millions into a founder",
         "[0.015153074637055397, -0.014119796454906464, 0.012487117201089859, -0.03857344388961792, 0.04717734456062317, -0.11750306189060211, 0.09790366888046265, 0.03208601847290993, 0.050565801560878754, -0.0645398274064064, 0.01975899003446102, -0.042027536779642105, -0.020257780328392982, -0.029366377741098404, -0.024718469008803368, 0.015367738902568817, 0.06617289781570435, -0.01440493669360876, -0.05710959807038307, -0.0021365531720221043, -0.006576022133231163, -0.04031788557767868, 0.04246130585670471, -0.019400108605623245, 0.00247045885771513, 0.032438281923532486, 0.003926082048565149, 0.03273960202932358, -0.00046931067481637, -0.025470629334449768, 0.1022019013762474, -0.040140580385923386, -0.023594850674271584, -0.016286633908748627, 0.08049234747886658, -0.03665030002593994, 0.0541006475687027, 0.04834054782986641, -0.06528403609991074, 0.03966766223311424, 0.025089731439948082, -0.06772147864103317, -0.036085665225982666, 0.06702711433172226, 0.018543949350714684, -0.06132453680038452, -0.021124010905623436, -0.06732747703790665, 0.03993401303887367, -0.03543979674577713, -0.04338580742478371, -0.17553485929965973, 0.012784102000296116, -0.1272636502981186, 0.01784520596265793, 0.023144004866480827, -0.041699010878801346, 0.02746223285794258, 0.06605745851993561, -0.005420950707048178, 0.09089695662260056, -0.0019680086988955736, 0.015772627666592598, 0.06892947852611542, 0.0508897639811039, 0.04177697375416756, -0.0356050580739975, 0.003671219339594245, -0.042843885719776154, 0.025698116049170494, 0.07105705887079239, -0.05448979139328003, 0.01652020961046219, 0.01938815973699093, 0.06303494423627853, -0.037821803241968155, 0.0247979573905468, 0.05387392267584801, 0.08426070958375931, -0.02835901454091072, 0.07319023460149765, 0.004550596699118614, -0.08879702538251877, 0.013494092971086502, -0.04759524390101433, -0.025383533909916878, 0.0012638020562008023, -0.056332673877477646, 0.06947626918554306, 0.06188106909394264, -0.057567957788705826, -0.006042800843715668, 0.022386841475963593, -0.11970307677984238, 0.01899154856801033, -0.000640429207123816, -0.02759401872754097, -0.020659275352954865, -0.10253006219863892, 0.027521926909685135, -0.004307645373046398, -0.0414641834795475, 0.08618227392435074, 0.0034202933311462402, 0.032503724098205566, -0.02215607836842537, -0.014674794860184193, 0.04700857773423195, 0.09973674267530441, 0.015580827370285988, -0.04009395092725754, -0.020228570327162743, -0.002713724970817566, -0.00023535585205536336, 0.08656606078147888, 0.0341465063393116, -0.10264525562524796, -0.04349484667181969, 0.026568010449409485, -0.016742678359150887, 0.026237251237034798, 0.011690831743180752, -0.011418809182941914, 0.007296205032616854, -0.031631313264369965, 0.036952633410692215, -0.07419925928115845, -2.4744135880999997e-33, -0.00271261646412313, 0.052080169320106506, 0.015640100464224815, 0.017815105617046356, 0.07125555723905563, -0.021994346752762794, -0.02002716064453125, -0.09074396640062332, -0.037833940237760544, 0.008825477212667465, -0.001000547199510038, 0.07426884770393372, -0.06840091198682785, 0.09878786653280258, 0.027466487139463425, -0.011701509356498718, -0.006047951988875866, 0.047397930175065994, -0.019703160971403122, -0.0792829841375351, 0.06319162994623184, -0.04271538183093071, -0.005136323161423206, -0.018672307953238487, 0.04561295360326767, -0.052799858152866364, -0.02721070498228073, -0.10128898173570633, 0.06468593329191208, 0.027628695592284203, -0.09121305495500565, 0.0996503010392189, -0.0662812814116478, -0.01855834387242794, -0.06656425446271896, -0.029830124229192734, -0.036822471767663956, -0.08670957386493683, 0.0552293099462986, 0.003963944502174854, -0.03468751907348633, 0.03525931388139725, 0.015049012377858162, -0.023565353825688362, -0.09898766875267029, 0.05773961916565895, 0.030747245997190475, 0.011155490763485432, 0.0665043517947197, -0.007309772539883852, 0.05572910234332085, -0.04561229422688484, -0.0013846196234226227, -0.018004531040787697, -0.0164153054356575, -0.03924831375479698, -0.07070573419332504, -0.044016506522893906, 0.015360300429165363, -0.06309644877910614, -0.009710988961160183, -0.03715350106358528, -0.0001513631286798045, 0.10325662791728973, -0.06883344799280167, 0.049393173307180405, 0.019449692219495773, 0.06594834476709366, 0.009926947765052319, 0.03278006985783577, -0.04188333824276924, -0.017540233209729195, -0.03219118341803551, -0.12590165436267853, -0.0733543112874031, -0.023014390841126442, -0.08818582445383072, 0.03360028564929962, -0.07831771671772003, 0.08768042176961899, 0.04225536435842514, 0.012311636470258236, 0.050854749977588654, -0.0055155279114842415, -0.060882750898599625, 0.030482495203614235, 0.03474358096718788, -0.005892372224479914, 0.05990130826830864, 0.08095187693834305, -0.018039939925074577, -0.0997142642736435, 0.021063899621367455, -0.001380107132717967, -0.07929692417383194, 1.8666239011036624e-35, 0.01016106829047203, -0.06706947088241577, 0.13198214769363403, -0.03316737711429596, 0.07597919553518295, 0.035199254751205444, -0.006838567089289427, 0.07417748123407364, 0.03668643534183502, 0.009173723869025707, -0.014925587922334671, 0.09121602028608322, -0.03042987734079361, -0.037854865193367004, 0.0507151260972023, -0.03850386291742325, -0.03253331780433655, -0.015354529954493046, 0.06457910686731339, -0.028984323143959045, 0.069000743329525, -0.1337837129831314, -0.023147262632846832, 0.09893675893545151, -0.013634216971695423, 0.05027551203966141, -0.01087728887796402, -0.052310049533843994, 0.035745590925216675, -0.0408722385764122, -0.07303456217050552, 0.08765166997909546, 0.011743569746613503, 0.010686991736292839, -0.0002749902487266809, 0.09538915008306503, -0.007134170271456242, -0.04321897774934769, -0.06631182134151459, 0.022817889228463173, 0.0542973168194294, -0.06700684875249863, 0.01682983711361885, -0.04409200698137283, -0.04161683842539787, 0.014668315649032593, 0.028446976095438004, -0.011254481039941311, -0.007426526863127947, -0.0443943589925766, 0.04319941997528076, 0.032008007168769836, -0.029788512736558914, -0.011380908079445362, -0.08087825030088425, 0.10221414268016815, 0.09001965820789337, 0.06390736997127533, 0.036422912031412125, -0.008667057380080223, -0.0178692527115345, -0.05118447169661522, -0.004078743048012257, 0.06864780187606812, -0.16344450414180756, -0.009029094129800797, 0.05392412841320038, 0.010407454334199429, -0.0797024592757225, -0.08197933435440063, -0.018481021746993065, -0.05794685706496239, -0.006500413175672293, -0.09134939312934875, -0.009353602305054665, 0.019478414207696915, 0.015333800576627254, -0.011410682462155819, 0.005860950797796249, 0.029136894270777702, -0.021596726030111313, -0.025302918627858162, 0.029589099809527397, 0.10120467841625214, -0.02097264491021633, 0.009604192338883877, 0.009505105204880238, 0.021625226363539696, 0.04101851209998131, 0.04028455913066864, 0.01218792051076889, -0.06328488886356354, -0.11058607697486877, 0.11356018483638763, 0.02811267226934433, -2.1200865063519814e-08, -0.037911441177129745, -0.02516559511423111, 0.09031093120574951, 0.043857768177986145, 0.004112507216632366, 0.021558355540037155, 0.020106744021177292, 0.09365905076265335, -0.019985787570476532, 0.0477617010474205, -0.008706225082278252, 0.01941961981356144, -0.07126924395561218, 0.015087847597897053, -0.019899608567357063, -0.020796794444322586, -0.07290100306272507, 0.030099008232355118, -0.004427504725754261, -0.01608915440738201, -0.034755025058984756, 0.049918778240680695, 0.038940150290727615, 0.010403750464320183, 0.0018228456610813737, 0.022478798404335976, -0.023815525695681572, 0.09145217388868332, 0.03359078988432884, 0.08357882499694824, 0.014391402713954449, 0.03416934236884117, -0.05088033899664879, -0.04151040315628052, 0.03118119388818741, -0.043769147247076035, -0.030507085844874382, 0.00535536976531148, 0.011245781555771828, 0.030941706150770187, -0.03757045790553093, 0.022168245166540146, 0.03754851967096329, 0.01294418890029192, -0.03677622601389885, 0.07494830340147018, -0.038140807300806046, 0.011682326905429363, 0.014595148153603077, -0.029737720265984535, -0.0043932911939918995, -0.02237466536462307, -0.0075677139684557915, 0.018564948812127113, -0.01899704709649086, -0.07361403852701187, -0.03139958903193474, -0.007016845513135195, -0.03867590054869652, -0.008390863426029682, 0.03242231905460358, -0.13164585828781128, 0.05565975233912468, 0.029821176081895828]"
        ],
        [
         "2",
         "ABBV",
         "Top Research Reports for NVIDIA, Amazon.com & Meta Platforms",
         "NVIDIA, Amazon.com, and Meta Platforms stand out in Zacks' latest picks, backed by AI growth, AWS strength, and global user gains.",
         "2025-07-22T20:48:00Z",
         "https://finance.yahoo.com/news/top-research-reports-nvidia-amazon-204800279.html",
         "Zacks",
         "Top Research Reports for NVIDIA, Amazon.com & Meta Platforms",
         "[0.04179621487855911, -0.04807903245091438, -0.06347227096557617, 0.01815294660627842, 0.09142656624317169, 0.01911712996661663, -0.10379248112440109, 0.11005277186632156, -0.04048041254281998, 0.0348237119615078, -0.0757964551448822, 0.050629980862140656, -0.039499830454587936, 0.021703502163290977, 0.011484739370644093, 0.03295137733221054, 0.046515077352523804, -0.06579798460006714, 0.006477106362581253, -0.07513798773288727, -0.02679639309644699, -0.033582091331481934, 0.10475467145442963, -0.011390455067157745, -0.03765939548611641, 0.02912599965929985, -0.10702470690011978, -0.011735252104699612, -0.02868160419166088, -0.05144008249044418, -0.04583422467112541, 0.048867370933294296, 0.015201311558485031, 0.03677218779921532, -0.05298103764653206, -0.05856463685631752, 0.05396343395113945, -0.03246362507343292, -0.04967309907078743, -0.05696761980652809, 0.00911995954811573, -0.008861123584210873, 0.007415914908051491, -0.00806326512247324, 0.04355618357658386, -0.01823861338198185, -0.038522813469171524, -0.021480027586221695, -0.019365256652235985, 0.033051807433366776, -0.10510419309139252, -0.023181671276688576, 0.011173957027494907, 0.014082594774663448, -0.01982695981860161, 0.02065427601337433, -0.009770698845386505, -0.14106035232543945, 0.04560743644833565, -0.04819289967417717, 0.09923531115055084, -0.09040989726781845, -0.06923576444387436, 0.06336508691310883, 0.04461105167865753, 0.05858441814780235, 0.012173036113381386, 0.00723769748583436, 0.00364784337580204, -0.02991105057299137, -0.039395518600940704, -0.04111643508076668, -0.056222181767225266, -0.010215346701443195, 0.003934831358492374, 0.0698859840631485, 0.014563011936843395, -0.008202383294701576, 0.046070586889982224, 0.011368079110980034, 0.054398149251937866, 0.020550405606627464, -0.07077386975288391, 0.038074906915426254, 0.0625547245144844, -0.08523530513048172, 0.02450835146009922, 0.00427906634286046, -0.06820885092020035, -0.0417681448161602, 0.04306741803884506, 0.020333530381321907, 0.07893316447734833, 0.04558291658759117, -0.10137845575809479, -0.013233112171292305, 0.0027436031959950924, -0.12547338008880615, 0.01675502024590969, 0.009713232517242432, 0.03600846603512764, -0.024098975583910942, 0.03221489116549492, 0.015702761709690094, -0.058631159365177155, 0.005374453030526638, 0.04381197318434715, 0.0931880921125412, -0.005370131228119135, 0.018403351306915283, -0.016201285645365715, 0.03249438479542732, -0.0959152951836586, -0.010992836207151413, 0.037548042833805084, -0.005322740413248539, -0.05987732857465744, 0.01591411419212818, 0.10140655934810638, 0.055019885301589966, 0.0009078571456484497, -0.020117444917559624, 0.018492691218852997, -0.054905086755752563, 0.07722106575965881, 0.043882232159376144, -0.07884547114372253, -1.076555608625216e-34, 0.02033892087638378, -0.012007764540612698, 0.014106221497058868, -0.06648935377597809, 0.020746739581227303, 0.05388130247592926, -0.01789015345275402, 0.0599215067923069, 0.0010887115495279431, -0.013164869509637356, -0.010974053293466568, 0.11002127081155777, -0.07452383637428284, 0.022624796256422997, 0.013534611091017723, -0.01704060472548008, -0.05611798167228699, 0.06755860894918442, -0.08881617337465286, 0.07710903137922287, 0.08409271389245987, 0.008674212731420994, 0.042861029505729675, 0.01681666634976864, 0.03260987997055054, -0.055253766477108, -0.11243290454149246, -0.039566654711961746, 0.06315283477306366, 0.033281661570072174, -0.007569083012640476, -0.01998472772538662, 0.002787506440654397, -0.023554205894470215, -0.04334773123264313, 0.021579327061772346, -0.056233618408441544, -0.007808222901076078, 0.03421240672469139, 0.0668463483452797, -0.031490176916122437, 0.10617139935493469, -0.038401711732149124, -0.04514819011092186, -0.01040679682046175, 0.03425660729408264, -0.03562050685286522, 0.008571802638471127, 0.018895503133535385, 0.009389090351760387, -0.11897969245910645, 0.01939602568745613, -0.02800639346241951, -0.04135729372501373, 0.07804970443248749, 0.03404650092124939, -0.006168439518660307, -0.005343232769519091, 0.03131386265158653, 0.024060996249318123, -0.03886883333325386, -0.012755870819091797, -0.05558415502309799, -0.109856516122818, -0.04618873819708824, 0.03215508162975311, 0.11773500591516495, 0.015338589437305927, -0.08873923867940903, 0.05023345351219177, -0.014671112410724163, 0.05475017800927162, 0.040952298790216446, -0.01856694370508194, -0.02098611555993557, 0.005795476958155632, -0.06359434872865677, 0.017844602465629578, -0.042732398957014084, -0.026478063315153122, 0.02174285054206848, 0.012756044045090675, 0.022042088210582733, 0.04413801059126854, -0.0701104924082756, 0.03598097339272499, 0.0071168397553265095, 0.0030150131788104773, -0.005278843455016613, -0.05500449240207672, -0.044329024851322174, 0.05007855221629143, 0.07287181168794632, -0.017829731106758118, -0.018711475655436516, 2.949965521525918e-34, -0.05883572995662689, -0.0361098013818264, 0.06441976875066757, 0.08655310422182083, -0.007519231177866459, 0.012124266475439072, -0.028571534901857376, -0.02143561840057373, 0.012598518282175064, -0.005566679406911135, 0.03723670169711113, 0.0517803356051445, 0.038218025118112564, 0.0034792895894497633, -0.04399581626057625, -0.04090626910328865, 0.03584101423621178, -0.1464870274066925, -0.012262810952961445, -0.0925707072019577, 0.010698167607188225, 0.0225803405046463, -0.04362373426556587, -0.04395364597439766, 0.02568608708679676, 0.009644139558076859, 0.022387424483895302, -0.08196263760328293, 0.020939849317073822, -0.07462239265441895, 0.01814854145050049, 0.04172474518418312, -0.03071037493646145, 0.08567648380994797, 0.05800813436508179, 0.04255516082048416, 0.031840354204177856, -0.01805865950882435, -0.015579571947455406, 0.01845613308250904, 0.09599020332098007, 0.05805656313896179, 0.02157008647918701, -0.043857961893081665, 0.013323876075446606, 0.03860752284526825, -0.09266245365142822, 0.0863427221775055, 0.09430182725191116, -0.045158617198467255, -0.0672953799366951, 0.03159047290682793, -0.031136557459831238, -0.05009012296795845, -0.007415199186652899, -0.010096576996147633, 0.03008223883807659, 0.05079317092895508, 0.016185393556952477, 0.002858103020116687, -0.005106089636683464, 0.08446083217859268, -0.13325731456279755, -0.04315033182501793, -0.03386220335960388, -0.032371845096349716, 0.020146384835243225, 0.0009690354345366359, 0.028619425371289253, -0.003845429513603449, 0.018713969737291336, -0.0690549984574318, 0.018797053024172783, -0.06453339010477066, -0.0888969823718071, 0.09864312410354614, 0.03878219053149223, -0.06520156562328339, 0.016621623188257217, 0.017007438465952873, 0.021553445607423782, 0.005457363557070494, 0.0707130879163742, -0.032871656119823456, 0.029051532968878746, 0.039436161518096924, 0.03374743461608887, -0.06428192555904388, -0.03222871571779251, -0.006416548974812031, -0.06381307542324066, -0.07951118797063828, -0.07514428347349167, 0.022633593529462814, 0.025795428082346916, -1.8584293215440084e-08, 0.10689572244882584, -0.04559718444943428, 0.021624302491545677, 0.07675070315599442, 0.04702818766236305, 0.0006989840185269713, 0.00452678557485342, 0.07796500623226166, 0.02928430587053299, 0.08039168268442154, 0.06022767350077629, -0.09357303380966187, -0.09024254232645035, 0.02217317558825016, 0.02654265984892845, 0.02124251052737236, 0.07753675431013107, 0.07469882816076279, 0.005772121716290712, -0.0026646817568689585, -0.05509999021887779, 0.08951961249113083, 0.08541887253522873, -0.08916527032852173, -0.027103431522846222, 0.01839078590273857, 0.062258098274469376, -0.033202268183231354, 0.09090590476989746, -0.01212997455149889, -0.054667502641677856, -0.00453430088236928, 0.057402580976486206, -0.08837767690420151, 0.07144935429096222, -0.045432839542627335, 0.002149988431483507, 0.03345722332596779, 0.05096958205103874, -0.04182261601090431, 0.07180017977952957, 0.030974185094237328, -0.006120008882135153, 0.013659710995852947, 0.013359981589019299, 0.015592814423143864, -0.03903934732079506, -0.008713130839169025, -0.01622144505381584, 0.03984910622239113, -0.013781273737549782, -0.04073772206902504, 0.011568814516067505, 0.04865303635597229, 0.0037925001233816147, 0.05570119619369507, -0.0069702984765172005, -0.04657452926039696, -0.004229540936648846, -0.0060731093399226665, 0.12595345079898834, -0.08773121237754822, 0.008998041972517967, 0.10254015773534775]"
        ],
        [
         "3",
         "ABNB",
         "He's 66, Retired, And Has $1.9M In An IRA — Should He Pay Cash or Finance a Vacation Home?",
         "A 66-year-old retiree is facing a dilemma that might sound familiar to anyone considering adding a little adventure to their retirement years: should he tap into his IRA to pay cash for a vacation home or take out a mortgage and let his nest egg keep ...",
         "2025-07-21T17:30:28Z",
         "https://finance.yahoo.com/news/hes-66-retired-1-9m-173028196.html",
         "Benzinga",
         "He's 66, Retired, And Has $1.9M In An IRA — Should He Pay Cash or Finance a Vacation Home?",
         "[0.116803377866745, 0.047738585621118546, -0.061048634350299835, -0.027767594903707504, -0.05740327388048172, -0.010814663022756577, 0.04335181787610054, -0.02524007111787796, -0.08964527398347855, -0.012953408993780613, 0.014767583459615707, -9.139448957284912e-05, -0.0433773547410965, 0.022766761481761932, 0.09315502643585205, 0.005190728232264519, -0.0528799407184124, -0.03383222967386246, 0.07273298501968384, 0.01930392161011696, 0.000982417375780642, 0.015958543866872787, 0.01389958243817091, -0.00821368396282196, 0.1967160999774933, 0.010727347806096077, 0.03482458367943764, 0.051205556839704514, -0.04985456168651581, 0.04987725615501404, 0.16181758046150208, -0.000589223753195256, -0.06698285788297653, -0.03353062644600868, 0.03076549991965294, 0.036629244685173035, -0.00994088128209114, 0.056012123823165894, 0.008063028566539288, 0.024349495768547058, 0.025877371430397034, 0.0004337782156653702, 0.09662722051143646, -0.047538209706544876, -0.005360953509807587, -0.0008067258168011904, -0.02031802013516426, 0.04270012676715851, 0.07498051971197128, 0.10625284165143967, -0.00363924796693027, -0.001601743046194315, -0.007811900228261948, 0.010585129261016846, 0.019232721999287605, 0.0755435973405838, 0.06740064173936844, -0.02886107750236988, -0.00828478578478098, -0.03052021935582161, 0.023892436176538467, -0.016476506367325783, 0.05383620783686638, -0.025863349437713623, -0.007045474834740162, -0.05898650363087654, 0.05464504286646843, -0.06598886102437973, -0.004145330283790827, -0.042402490973472595, -0.009627238847315311, 0.01388875674456358, -0.04316233471035957, -0.0015205779345706105, -0.03161122649908066, -0.06329464167356491, 0.013909411616623402, 0.061183106154203415, 0.03033027984201908, -0.04265614226460457, 0.05113187059760094, 0.050805117934942245, -0.014896017499268055, 0.014213205315172672, -0.030242009088397026, 0.03383322060108185, -0.05487579479813576, -0.052222006022930145, 0.03285006433725357, 0.04535217210650444, 0.07314407825469971, 0.010978354141116142, 0.04363132640719414, -0.031693242490291595, -0.05914828181266785, 0.05881519615650177, -0.007733638864010572, 0.04726749658584595, -0.13734515011310577, 0.006377143319696188, 0.02657187543809414, 0.011708579026162624, 0.04520786181092262, -0.012643320485949516, 0.054372187703847885, 0.08286962658166885, 0.12255538254976273, 0.06867927312850952, -0.035779714584350586, -0.01353637408465147, -0.04414789378643036, 0.015638243407011032, -0.002615085570141673, 0.020976228639483452, 0.04555513337254524, 0.047868140041828156, -0.09557078778743744, -0.011442885734140873, 0.038818489760160446, -0.0019033639691770077, 0.1173216849565506, 0.0611710324883461, 0.031781211495399475, 0.10716512799263, -0.022487320005893707, -0.009494760073721409, -0.01808791421353817, -3.004423052392645e-33, 0.07040159404277802, 0.07588585466146469, -0.0573083832859993, 0.00970211997628212, -0.013255399651825428, 0.04677808657288551, -0.012296248227357864, -0.02596976049244404, -0.01271243765950203, 0.012544168159365654, 0.05096222460269928, -0.03300435096025467, 0.006139326840639114, -0.0035134535282850266, -0.012365845032036304, 0.03158684819936752, -0.058269333094358444, 0.022511357441544533, 0.057998936623334885, -0.09380778670310974, -0.013793542981147766, -0.018029823899269104, 0.02682609111070633, 0.06366756558418274, 0.0966108962893486, -0.13186584413051605, 0.026925459504127502, -0.048527590930461884, -0.019223051145672798, -0.02032177709043026, -0.08377932757139206, 0.05717651546001434, 0.07763099670410156, -0.06504728645086288, -0.014210888184607029, -0.03856764733791351, -0.09756350517272949, 0.021045127883553505, -0.12725135684013367, -0.027466541156172752, -0.08215674757957458, 0.09619452804327011, 0.012002951465547085, 0.0730820819735527, -0.0645749643445015, -0.0404600165784359, 0.10563807934522629, 0.05997069180011749, -0.014003410004079342, -0.002843461697921157, -0.026625359430909157, -0.04860547184944153, -0.08242970705032349, -0.00048255230649374425, -0.09013710170984268, -0.0913575142621994, 0.02930857613682747, -0.03901897743344307, 0.03310219198465347, -0.08934102952480316, 0.042436838150024414, -0.04999466985464096, -0.004715381655842066, 0.029640791937708855, -0.052524980157613754, 0.03864183649420738, 0.010725949890911579, 0.023330477997660637, -0.0447520911693573, 0.007098190952092409, 0.08680582791566849, -0.05862993374466896, 0.01716512069106102, -0.010668705217540264, -0.010027218610048294, -0.0322866216301918, -0.022989612072706223, 0.03745516017079353, -0.0022698738612234592, 0.014706558547914028, 0.04007571563124657, -0.10082688182592392, -0.03269181400537491, 0.09903452545404434, 0.017662454396486282, 0.09176987409591675, 0.022440433502197266, -0.005141075700521469, 0.0054192692041397095, 0.0047096554189920425, 0.07236342132091522, -0.02384856902062893, 0.0428754985332489, -0.056712206453084946, 0.007388044614344835, 3.875793596605687e-34, -0.0713457316160202, 0.021772129461169243, 0.04887888580560684, -0.0018649554112926126, 0.018007980659604073, -0.0075887758284807205, -0.024490660056471825, -0.009316512383520603, -0.016009267419576645, -0.032175254076719284, -0.06702784448862076, 0.057919472455978394, -0.052372608333826065, 0.0036416398361325264, 0.01643753983080387, -0.08130307495594025, -0.014766175299882889, -0.08490118384361267, 0.0531921312212944, 0.015764737501740456, 0.02093973010778427, 0.08161942660808563, 0.08312993496656418, 0.06944199651479721, 0.01449671946465969, 0.02549189329147339, -0.08490271121263504, 0.05788953974843025, -0.05825747549533844, 0.02323990873992443, -0.020492548123002052, 0.006411987356841564, 0.035340938717126846, -0.07041234523057938, -0.03347456082701683, -0.0005881303222849965, -0.06295338273048401, -0.0036373138427734375, -0.027479352429509163, 0.043495576828718185, 0.11058925837278366, -0.056095533072948456, 0.04325488954782486, 0.008872637525200844, 0.07216935604810715, -0.03414961323142052, -0.03949902206659317, -0.007001456338912249, 0.03134726360440254, 0.007743271067738533, 0.002378420904278755, 0.009819145314395428, -0.0017668880755081773, 0.05401947721838951, -0.01281868014484644, 0.03364353999495506, -0.024620534852147102, -0.050653040409088135, -0.004775546491146088, -0.03674228489398956, -0.025822147727012634, 0.002169798593968153, 0.043215617537498474, 0.06615955382585526, -0.06550776958465576, -0.04823611304163933, -0.011911456473171711, -0.015101744793355465, -0.0024637088645249605, -0.003366457996889949, -0.040987562388181686, -0.11703743040561676, 0.0759783387184143, -0.04866194352507591, 0.010858306661248207, 0.013928859494626522, 0.05641581118106842, 0.015977365896105766, 0.0630442202091217, -0.014290258288383484, -0.08320441842079163, -0.06153105944395065, -0.02486240491271019, -0.02249753661453724, 0.002551950514316559, -0.07283581793308258, -0.029080577194690704, -0.1129874736070633, -0.02884279377758503, 0.048511382192373276, 0.01698058284819126, -0.0875631794333458, -0.0007459823391400278, -0.061953864991664886, -0.02902519330382347, -2.2296331891880072e-08, -0.014353369362652302, 0.0033797314390540123, 0.029759520664811134, -0.053816042840480804, -0.011016301810741425, 0.028621289879083633, -0.007710043806582689, -0.0022288819309324026, 0.028188787400722504, 0.05348682776093483, 0.05054933950304985, 0.09694872796535492, -0.00603849720209837, -0.047387730330228806, -0.12191595137119293, -0.08342201262712479, 0.002379748970270157, 0.03149721771478653, -0.052976757287979126, 0.056109871715307236, 0.024722589179873466, -0.06787679344415665, -0.07987057417631149, 0.050897326320409775, 0.010500069707632065, -0.020811006426811218, 0.04073455557227135, 0.15791355073451996, 0.0759807899594307, 0.0032798012252897024, -0.0602196641266346, 0.009260579012334347, -0.02615157514810562, -0.0004789606900885701, 0.003981097601354122, -0.05212389677762985, 0.016448039561510086, -0.030088411644101143, -0.005655798129737377, -0.06311780214309692, 0.007469634525477886, -0.04733891040086746, -0.016786444932222366, -0.06617175787687302, -0.05707471817731857, -0.013775022700428963, -0.018818901851773262, -0.02820020727813244, -0.01916610077023506, -0.05832509696483612, -0.04309646040201187, 0.012910576537251472, 0.09254814684391022, 0.01747104711830616, 0.06725297123193741, -0.03891831636428833, -0.04434039816260338, 0.033608730882406235, -0.0467720702290535, 0.00931144505739212, 0.0033706738613545895, -0.08368752896785736, -0.05228085815906525, -0.04048294201493263]"
        ],
        [
         "4",
         "ABT",
         "Investors Heavily Search Abbott Laboratories (ABT): Here is What You Need to Know",
         "Zacks.com users have recently been watching Abbott (ABT) quite a bit. Thus, it is worth knowing the facts that could determine the stock's prospects.",
         "2025-07-23T13:00:03Z",
         "https://finance.yahoo.com/news/investors-heavily-search-abbott-laboratories-130003100.html",
         "Zacks",
         "Investors Heavily Search Abbott Laboratories (ABT): Here is What You Need to Know",
         "[-0.011577763594686985, -0.10210356116294861, -0.05881418660283089, -0.00183388392906636, -0.0028210391756147146, 0.018859993666410446, -0.01939326338469982, 0.10839894413948059, -0.024889571592211723, -0.004859161097556353, -0.021882377564907074, 0.00035114906495437026, -0.02220781333744526, 0.012958899140357971, -0.05130777508020401, -0.018934499472379684, 0.03596356511116028, -0.04283173009753227, 0.07761979103088379, -0.03581185266375542, 0.009248336777091026, 0.06491885334253311, 0.06153745949268341, 0.02355651557445526, 0.01696697436273098, 0.05197002366185188, 0.03957792744040489, -0.04743342846632004, 0.030520932748913765, -0.04492294043302536, -0.00491905864328146, 0.06748314201831818, 0.08829011768102646, -0.06177172809839249, 0.04256323724985123, 0.01830812357366085, -0.06432171165943146, 0.010800180956721306, 0.07273969054222107, 0.016890019178390503, -0.0091121606528759, -0.03971157595515251, 0.03707103431224823, 0.007580863777548075, -0.05139108747243881, -0.06520184874534607, 0.03414437547326088, -0.017200682312250137, 0.049146320670843124, 0.0023745198268443346, -0.009689908474683762, -0.046223245561122894, 0.0342620424926281, -0.02491609938442707, 0.031016185879707336, -0.06663917750120163, -0.06908044219017029, -0.03061007894575596, 0.009963978081941605, -0.019531773403286934, 0.08310826867818832, 0.014700042083859444, -0.057084619998931885, 0.05016869679093361, 0.08426458388566971, 0.09674601256847382, -0.02446935325860977, 0.03833232447504997, 0.04876866191625595, -0.1389644891023636, -0.010303017683327198, -0.13520610332489014, -0.06395285576581955, -0.013401049189269543, 0.01864093914628029, 0.04730129987001419, 0.04945792257785797, 0.031980350613594055, 0.026424836367368698, 0.0007063334924168885, -0.01268360298126936, -0.05900564044713974, 0.015248938463628292, 0.02124144695699215, -0.0510309599339962, 0.0021705024410039186, 0.08929051458835602, 0.06208641454577446, 0.06052415817975998, -0.06617995351552963, 0.028903551399707794, -0.0003336047811899334, -0.016004227101802826, -0.03601018711924553, -0.07998206466436386, 0.03200969099998474, -0.0609927736222744, 0.028965067118406296, 0.005462112370878458, 0.027673635631799698, -0.0013702033320441842, 0.03638720139861107, -0.04620210453867912, 0.0024407163728028536, -0.09236752986907959, -0.0426371693611145, 0.010657984763383865, -0.012167849577963352, 0.15170371532440186, 0.015424207784235477, -0.026856031268835068, 0.04566166177392006, -0.011182942427694798, -0.0032097268849611282, 0.002229142002761364, 0.0014128901530057192, -0.025355612859129906, -0.03401431441307068, 0.06741651147603989, -0.0012679120991379023, -0.006374764256179333, -0.010185176506638527, 0.006935536861419678, -0.0676787719130516, -0.008834229782223701, 0.0433565229177475, -0.10027165710926056, -2.7733204956789988e-33, -0.06650950759649277, 0.0016314815729856491, -0.002106187166646123, 0.06476724147796631, -0.03822862729430199, 0.004608850460499525, -0.015036322176456451, -0.012403474189341068, -0.06775694340467453, -0.03824066370725632, 0.034442201256752014, 0.08906974643468857, -0.08177304267883301, 0.09079533815383911, -0.010161696001887321, -0.042628757655620575, -0.06404406577348709, -0.0004931631265208125, 0.07569090276956558, 0.0012163716601207852, -0.04903200641274452, -0.021536877378821373, -0.0153175825253129, 0.07250028848648071, 0.08327814191579819, -0.04286884889006615, 0.04990268126130104, 0.011810082010924816, 0.06187335401773453, 0.028469979763031006, 0.01440686360001564, 0.11839061975479126, -0.0763578712940216, -0.017030006274580956, -0.07088633626699448, 0.05525233596563339, -0.08628019690513611, -0.049708474427461624, 0.0034244994167238474, 0.04636639729142189, 0.0009724889532662928, 0.033651988953351974, 0.023018067702651024, 0.0034688604064285755, 0.01996435411274433, 0.03310072049498558, -0.07766588032245636, 0.04260846599936485, 0.08380196243524551, 0.05647074431180954, -0.04056082293391228, 0.03823220729827881, -0.048513054847717285, -0.00204976974055171, 0.08223681896924973, 0.016826290637254715, -0.11194650828838348, 0.002340907696634531, -0.006908845156431198, 0.04780549928545952, -0.026256287470459938, 0.03448621928691864, -0.04497041925787926, 0.0779576227068901, -0.0849437415599823, 0.0821564793586731, -0.03626495227217674, -0.04595959931612015, 0.030788788571953773, 0.0831352025270462, -0.037520769983530045, -0.041456010192632675, 0.06088007986545563, -0.06377366185188293, -0.002923346357420087, 0.0042338198982179165, -0.03674527630209923, 0.08992111682891846, 0.059468526393175125, 0.030860116705298424, 0.02424510568380356, -0.03769160062074661, 0.055891003459692, 0.031136659905314445, -0.06417389214038849, -0.06947839260101318, 0.03488074615597725, -0.009904032573103905, -0.0474308580160141, -0.037362709641456604, -0.04998127371072769, -0.006435924209654331, -0.0357646606862545, 0.08386097848415375, 0.008979612961411476, 9.25689311645074e-34, 0.06750757992267609, -0.06090313196182251, 0.043888166546821594, -0.004100902937352657, -0.025570843368768692, -0.015371842309832573, 0.07329944521188736, -0.04620662331581116, 0.058164797723293304, 0.056667957454919815, 0.0446457713842392, 0.06137446314096451, 0.026397183537483215, 0.02630777284502983, -0.036817532032728195, -0.013989967294037342, 0.052383165806531906, -0.10564053058624268, -0.008138823322951794, -0.03754721209406853, 0.035080403089523315, 0.08356082439422607, -0.02731679193675518, -0.04099609702825546, -0.01174150314182043, 0.012288622558116913, -0.007346248719841242, 0.006201399024575949, -0.03595331311225891, -0.05650416016578674, -0.056891195476055145, 0.06946344673633575, -0.0321987010538578, 0.08068647235631943, -0.14644870162010193, 0.04385250061750412, 0.07919874787330627, 0.04038473591208458, -0.11277956515550613, -0.084393210709095, 0.018278205767273903, 0.025650840252637863, -0.02152247726917267, -0.0688512921333313, -0.030280884355306625, -0.011435518972575665, 0.012259459123015404, 0.02981286123394966, 0.079336978495121, 0.002383548067882657, -0.01150575652718544, 0.03778606653213501, 0.03945969417691231, -0.07253439724445343, -0.058564674109220505, 0.0069486722350120544, 0.06006206199526787, 0.030871789902448654, -0.03738241270184517, 0.06947534531354904, 0.035284560173749924, 0.08603424578905106, 0.060139250010252, 0.06150835007429123, -0.0942687839269638, -0.036067742854356766, 0.004936568439006805, -0.007780211977660656, 0.015684625133872032, -0.03021296113729477, 0.09979676455259323, -0.011104758828878403, 0.10102607309818268, -0.004742173478007317, 0.008514909073710442, 0.05900520086288452, 0.011283893138170242, -0.11104702949523926, -0.0831945538520813, -0.06535719335079193, -0.002006352646276355, 0.024303792044520378, 0.006805990822613239, 0.09972457587718964, -0.002045509172603488, 0.013129599392414093, 0.010740063153207302, -0.06585291028022766, 0.011910424567759037, 0.04624073952436447, -0.0647047683596611, -0.08795027434825897, 0.01911039464175701, -0.025414733216166496, -1.4396941878658254e-05, -2.0961609337177833e-08, -0.04942304268479347, -0.024626225233078003, 0.018488921225070953, -0.0031527914106845856, -0.01630711555480957, -0.015481177717447281, 0.018166258931159973, 0.037718985229730606, -0.002020515501499176, 0.051913805305957794, -0.020147403702139854, 0.01868385262787342, -0.05957544595003128, 0.13061533868312836, -0.010452287271618843, 0.001414081547409296, -0.05728830769658089, 0.022881770506501198, -0.05845070630311966, -0.042254429310560226, -0.0480046272277832, 0.017836129292845726, 0.11709436029195786, 0.028095999732613564, -0.018830114975571632, 0.038751475512981415, -0.010425818152725697, -0.012980167753994465, 0.06495636701583862, 0.03341672942042351, -0.01936456747353077, 0.03376898169517517, 0.08614560216665268, -0.009931722655892372, 0.010021648369729519, -0.023296190425753593, -0.02463359385728836, 0.008669530972838402, -0.031008373945951462, 0.018058903515338898, -0.07936450839042664, -0.08423250913619995, -0.029042471200227737, -0.019316205754876137, 0.023111717775464058, -0.017308684065937996, -0.09941935539245605, 0.05731198191642761, 0.08783061802387238, 0.008253220468759537, 0.08680354058742523, -0.05585750192403793, -0.028995491564273834, -0.05807269364595413, -0.046227000653743744, 0.02614097110927105, -0.0960007831454277, -0.05371778458356857, -0.02062033675611019, -0.07974670082330704, 0.02238299697637558, -0.11343257129192352, 0.04289454594254494, -0.0055559007450938225]"
        ]
       ],
       "shape": {
        "columns": 8,
        "rows": 5
       }
      },
      "text/html": [
       "<div>\n",
       "<style scoped>\n",
       "    .dataframe tbody tr th:only-of-type {\n",
       "        vertical-align: middle;\n",
       "    }\n",
       "\n",
       "    .dataframe tbody tr th {\n",
       "        vertical-align: top;\n",
       "    }\n",
       "\n",
       "    .dataframe thead th {\n",
       "        text-align: right;\n",
       "    }\n",
       "</style>\n",
       "<table border=\"1\" class=\"dataframe\">\n",
       "  <thead>\n",
       "    <tr style=\"text-align: right;\">\n",
       "      <th></th>\n",
       "      <th>TICKER</th>\n",
       "      <th>TITLE</th>\n",
       "      <th>SUMMARY</th>\n",
       "      <th>PUBLICATION_DATE</th>\n",
       "      <th>URL</th>\n",
       "      <th>PROVIDER</th>\n",
       "      <th>EMBEDDED_TEXT</th>\n",
       "      <th>EMBEDDINGS</th>\n",
       "    </tr>\n",
       "  </thead>\n",
       "  <tbody>\n",
       "    <tr>\n",
       "      <th>0</th>\n",
       "      <td>A</td>\n",
       "      <td>Here's How Much You'd Have If You Invested $10...</td>\n",
       "      <td>Why investing for the long run, especially if ...</td>\n",
       "      <td>2025-06-19T12:30:04Z</td>\n",
       "      <td>https://finance.yahoo.com/news/heres-much-youd...</td>\n",
       "      <td>Zacks</td>\n",
       "      <td>Here's How Much You'd Have If You Invested $10...</td>\n",
       "      <td>[0.00040472246473655105, 0.026826510205864906,...</td>\n",
       "    </tr>\n",
       "    <tr>\n",
       "      <th>1</th>\n",
       "      <td>AAPL</td>\n",
       "      <td>‘Shark Tank’ icon Kevin O’Leary reveals the 3 ...</td>\n",
       "      <td>The multimillionaire entrepreneur and investor...</td>\n",
       "      <td>2025-07-27T09:04:00Z</td>\n",
       "      <td>https://finance.yahoo.com/news/shark-tank-icon...</td>\n",
       "      <td>Fortune</td>\n",
       "      <td>‘Shark Tank’ icon Kevin O’Leary reveals the 3 ...</td>\n",
       "      <td>[0.015153074637055397, -0.014119796454906464, ...</td>\n",
       "    </tr>\n",
       "    <tr>\n",
       "      <th>2</th>\n",
       "      <td>ABBV</td>\n",
       "      <td>Top Research Reports for NVIDIA, Amazon.com &amp; ...</td>\n",
       "      <td>NVIDIA, Amazon.com, and Meta Platforms stand o...</td>\n",
       "      <td>2025-07-22T20:48:00Z</td>\n",
       "      <td>https://finance.yahoo.com/news/top-research-re...</td>\n",
       "      <td>Zacks</td>\n",
       "      <td>Top Research Reports for NVIDIA, Amazon.com &amp; ...</td>\n",
       "      <td>[0.04179621487855911, -0.04807903245091438, -0...</td>\n",
       "    </tr>\n",
       "    <tr>\n",
       "      <th>3</th>\n",
       "      <td>ABNB</td>\n",
       "      <td>He's 66, Retired, And Has $1.9M In An IRA — Sh...</td>\n",
       "      <td>A 66-year-old retiree is facing a dilemma that...</td>\n",
       "      <td>2025-07-21T17:30:28Z</td>\n",
       "      <td>https://finance.yahoo.com/news/hes-66-retired-...</td>\n",
       "      <td>Benzinga</td>\n",
       "      <td>He's 66, Retired, And Has $1.9M In An IRA — Sh...</td>\n",
       "      <td>[0.116803377866745, 0.047738585621118546, -0.0...</td>\n",
       "    </tr>\n",
       "    <tr>\n",
       "      <th>4</th>\n",
       "      <td>ABT</td>\n",
       "      <td>Investors Heavily Search Abbott Laboratories (...</td>\n",
       "      <td>Zacks.com users have recently been watching Ab...</td>\n",
       "      <td>2025-07-23T13:00:03Z</td>\n",
       "      <td>https://finance.yahoo.com/news/investors-heavi...</td>\n",
       "      <td>Zacks</td>\n",
       "      <td>Investors Heavily Search Abbott Laboratories (...</td>\n",
       "      <td>[-0.011577763594686985, -0.10210356116294861, ...</td>\n",
       "    </tr>\n",
       "  </tbody>\n",
       "</table>\n",
       "</div>"
      ],
      "text/plain": [
       "  TICKER                                              TITLE  \\\n",
       "0      A  Here's How Much You'd Have If You Invested $10...   \n",
       "1   AAPL  ‘Shark Tank’ icon Kevin O’Leary reveals the 3 ...   \n",
       "2   ABBV  Top Research Reports for NVIDIA, Amazon.com & ...   \n",
       "3   ABNB  He's 66, Retired, And Has $1.9M In An IRA — Sh...   \n",
       "4    ABT  Investors Heavily Search Abbott Laboratories (...   \n",
       "\n",
       "                                             SUMMARY      PUBLICATION_DATE  \\\n",
       "0  Why investing for the long run, especially if ...  2025-06-19T12:30:04Z   \n",
       "1  The multimillionaire entrepreneur and investor...  2025-07-27T09:04:00Z   \n",
       "2  NVIDIA, Amazon.com, and Meta Platforms stand o...  2025-07-22T20:48:00Z   \n",
       "3  A 66-year-old retiree is facing a dilemma that...  2025-07-21T17:30:28Z   \n",
       "4  Zacks.com users have recently been watching Ab...  2025-07-23T13:00:03Z   \n",
       "\n",
       "                                                 URL  PROVIDER  \\\n",
       "0  https://finance.yahoo.com/news/heres-much-youd...     Zacks   \n",
       "1  https://finance.yahoo.com/news/shark-tank-icon...   Fortune   \n",
       "2  https://finance.yahoo.com/news/top-research-re...     Zacks   \n",
       "3  https://finance.yahoo.com/news/hes-66-retired-...  Benzinga   \n",
       "4  https://finance.yahoo.com/news/investors-heavi...     Zacks   \n",
       "\n",
       "                                       EMBEDDED_TEXT  \\\n",
       "0  Here's How Much You'd Have If You Invested $10...   \n",
       "1  ‘Shark Tank’ icon Kevin O’Leary reveals the 3 ...   \n",
       "2  Top Research Reports for NVIDIA, Amazon.com & ...   \n",
       "3  He's 66, Retired, And Has $1.9M In An IRA — Sh...   \n",
       "4  Investors Heavily Search Abbott Laboratories (...   \n",
       "\n",
       "                                          EMBEDDINGS  \n",
       "0  [0.00040472246473655105, 0.026826510205864906,...  \n",
       "1  [0.015153074637055397, -0.014119796454906464, ...  \n",
       "2  [0.04179621487855911, -0.04807903245091438, -0...  \n",
       "3  [0.116803377866745, 0.047738585621118546, -0.0...  \n",
       "4  [-0.011577763594686985, -0.10210356116294861, ...  "
      ]
     },
     "execution_count": 14,
     "metadata": {},
     "output_type": "execute_result"
    }
   ],
   "source": [
    "df_news_unique = df_news.groupby('TICKER', as_index=False).apply(lambda x: x.sample(1, random_state=32)).reset_index(drop=True)\n",
    "\n",
    "# Check the number of unique tickers (should be 500)\n",
    "print(f\"Number of unique tickers: {df_news_unique.shape[0]}\") #It also matches with the rows of the dataframe \n",
    "df_news_unique.head()"
   ]
  },
  {
   "cell_type": "markdown",
   "id": "b1cdc413",
   "metadata": {},
   "source": [
    "### Identify the number of clusters using the silhouette score\n",
    "\n",
    "- Using a for loop, do the clustering with different k values (number of clusters), test 1 to 6 clusters\n",
    "- Compute the silhouette score for every k value\n",
    "- Plot the silhouette score for different k values"
   ]
  },
  {
   "cell_type": "markdown",
   "id": "22bda120",
   "metadata": {},
   "source": [
    "#### Try different values of k and compute silhouette scores"
   ]
  },
  {
   "cell_type": "code",
   "execution_count": 15,
   "id": "e0ea69df",
   "metadata": {},
   "outputs": [
    {
     "name": "stderr",
     "output_type": "stream",
     "text": [
      "huggingface/tokenizers: The current process just got forked, after parallelism has already been used. Disabling parallelism to avoid deadlocks...\n",
      "To disable this warning, you can either:\n",
      "\t- Avoid using `tokenizers` before the fork if possible\n",
      "\t- Explicitly set the environment variable TOKENIZERS_PARALLELISM=(true | false)\n"
     ]
    },
    {
     "name": "stdout",
     "output_type": "stream",
     "text": [
      "Silhouette score for k=2: 0.0277\n",
      "Silhouette score for k=3: 0.0326\n",
      "Silhouette score for k=4: 0.0227\n",
      "Silhouette score for k=5: 0.0368\n",
      "Silhouette score for k=6: 0.0261\n"
     ]
    }
   ],
   "source": [
    "embeddings = df_news_unique['EMBEDDINGS'].tolist()\n",
    "# Test different k values\n",
    "silhouette_scores = []\n",
    "K = range(2, 7) #It should be noted that the silhouette score is undefined for k=1 (a single cluster). The silhouette score measures how well each point fits within its cluster compared to other clusters, which requires at least two clusters to compute meaningful distances between clusters. \n",
    "\n",
    "for k in K:\n",
    "    kmeans = KMeans(n_clusters=k, random_state=42, n_init=\"auto\")\n",
    "    labels = kmeans.fit_predict(embeddings)\n",
    "    score = silhouette_score(embeddings, labels)\n",
    "    silhouette_scores.append(score)\n",
    "    print(f\"Silhouette score for k={k}: {score:.4f}\")"
   ]
  },
  {
   "cell_type": "markdown",
   "id": "41da4eae",
   "metadata": {},
   "source": [
    "#### Plot silhouette scores"
   ]
  },
  {
   "cell_type": "code",
   "execution_count": 16,
   "id": "99798590",
   "metadata": {},
   "outputs": [
    {
     "data": {
      "image/png": "[encoded data removed]",
      "text/plain": [
       "<Figure size 800x400 with 1 Axes>"
      ]
     },
     "metadata": {},
     "output_type": "display_data"
    }
   ],
   "source": [
    "# Plot silhouette scores\n",
    "plt.figure(figsize=(8, 4))\n",
    "plt.plot(K, silhouette_scores, marker='o')\n",
    "plt.title('Silhouette Score by Number of Clusters')\n",
    "plt.xlabel('Number of Clusters (k)')\n",
    "plt.ylabel('Silhouette Score')\n",
    "plt.grid(True)\n",
    "plt.xticks(K)\n",
    "plt.show()"
   ]
  },
  {
   "cell_type": "markdown",
   "id": "d311d914",
   "metadata": {},
   "source": [
    "#### Identify the Best k"
   ]
  },
  {
   "cell_type": "code",
   "execution_count": 17,
   "id": "34e71c10",
   "metadata": {},
   "outputs": [
    {
     "name": "stdout",
     "output_type": "stream",
     "text": [
      "Best k: 5 with silhouette score: 0.0368\n"
     ]
    }
   ],
   "source": [
    "best_k_index = silhouette_scores.index(max(silhouette_scores))\n",
    "best_k = list(range(2, 7))[best_k_index]\n",
    "best_score = silhouette_scores[best_k_index]\n",
    "\n",
    "print(f\"Best k: {best_k} with silhouette score: {best_score:.4f}\")"
   ]
  },
  {
   "cell_type": "markdown",
   "id": "07115a68",
   "metadata": {},
   "source": [
    "#### Cluster the embeddings using 3 clusters (k=3)"
   ]
  },
  {
   "cell_type": "code",
   "execution_count": 18,
   "id": "3bbae044",
   "metadata": {},
   "outputs": [
    {
     "data": {
      "application/vnd.microsoft.datawrangler.viewer.v0+json": {
       "columns": [
        {
         "name": "index",
         "rawType": "int64",
         "type": "integer"
        },
        {
         "name": "TICKER",
         "rawType": "object",
         "type": "string"
        },
        {
         "name": "TITLE",
         "rawType": "object",
         "type": "string"
        },
        {
         "name": "SUMMARY",
         "rawType": "object",
         "type": "string"
        },
        {
         "name": "PUBLICATION_DATE",
         "rawType": "object",
         "type": "string"
        },
        {
         "name": "URL",
         "rawType": "object",
         "type": "string"
        },
        {
         "name": "PROVIDER",
         "rawType": "object",
         "type": "string"
        },
        {
         "name": "EMBEDDED_TEXT",
         "rawType": "object",
         "type": "string"
        },
        {
         "name": "EMBEDDINGS",
         "rawType": "object",
         "type": "unknown"
        }
       ],
       "ref": "7c35b92a-becf-47c4-ac1a-66509cf72d30",
       "rows": [
        [
         "0",
         "A",
         "Here's How Much You'd Have If You Invested $1000 in Agilent Technologies a Decade Ago",
         "Why investing for the long run, especially if you buy certain popular stocks, could reap huge rewards.",
         "2025-06-19T12:30:04Z",
         "https://finance.yahoo.com/news/heres-much-youd-invested-1000-123004524.html",
         "Zacks",
         "Here's How Much You'd Have If You Invested $1000 in Agilent Technologies a Decade Ago",
         "[0.00040472246473655105, 0.026826510205864906, -0.06734295189380646, -0.026823604479432106, 0.008356866426765919, -0.052755407989025116, -0.015995023772120476, 0.10606762766838074, -0.062192849814891815, 0.032208651304244995, 0.024078218266367912, -0.024657631292939186, 0.05101337656378746, 0.03540606424212456, -0.023997517302632332, 0.05120111256837845, -0.013721808791160583, -0.05361824110150337, -0.029198290780186653, -0.006054525729268789, -0.015544061549007893, 0.018586700782179832, -0.017131896689534187, -0.034964416176080704, 0.03970545157790184, 0.05926079675555229, 0.06272326409816742, 0.01829538121819496, -0.01813073456287384, 0.050721000880002975, 0.0032201239373534918, 0.08869500458240509, -0.0018290625885128975, 0.03757364675402641, 0.04801293462514877, 0.0028277565725147724, 0.0079577611759305, -0.004427752457559109, -0.05280834063887596, -0.047654889523983, 0.0043788570910692215, -0.044252365827560425, -0.004272365476936102, -0.058076828718185425, 0.024911150336265564, -0.06561827659606934, -0.021535199135541916, 0.022121872752904892, 0.04699843376874924, 0.06703529506921768, -0.041085850447416306, -0.05668235942721367, 0.01044774055480957, -0.04394187405705452, -0.000273613870376721, -0.007735641207545996, 0.032443657517433167, 0.03613394498825073, -0.01882149651646614, 0.005207925569266081, 0.03781769797205925, -0.042393460869789124, -0.0029339545872062445, -0.009437714703381062, 0.04063234105706215, 0.02641790732741356, -0.04110756516456604, 0.04766983538866043, -0.03477015346288681, 0.004132002126425505, 0.05380898714065552, -0.07735785096883774, -0.06920638680458069, -0.06305818259716034, -0.0659492164850235, -0.002105079125612974, 0.09648358821868896, 0.007668558973819017, 0.0856039822101593, -0.006038246210664511, 0.03294277936220169, -0.016484595835208893, -0.0847674086689949, -0.056448034942150116, -0.0708387941122055, 0.09488921612501144, 0.07242604345083237, 0.028829427435994148, 0.020376084372401237, -0.02448192611336708, -0.012607432901859283, -0.0540892593562603, 0.07692763209342957, -0.0064001730643212795, -0.053187306970357895, 0.052830770611763, -0.06901531666517258, -0.02523811161518097, -0.06247623264789581, 0.014453782700002193, -0.03415137529373169, -0.03949877992272377, 0.047774411737918854, -0.030166734009981155, -0.03237944468855858, 0.0018759483937174082, 0.03591776266694069, 0.029839936643838882, 0.008200349286198616, -0.011009566485881805, -0.06559626013040543, 0.03931214660406113, 0.008317974396049976, 0.03806299343705177, 0.053759392350912094, -0.10404258221387863, -0.04697224870324135, 0.007556673139333725, 0.09428958594799042, 0.028015261515975, 0.10209036618471146, -0.012931196950376034, -0.005523889325559139, 0.04269637167453766, -0.014470876194536686, -0.08760000765323639, -0.038844577968120575, -4.512792240441857e-33, -0.02148507721722126, 0.09053182601928711, 0.01264990959316492, 0.03105035237967968, -0.005801463034003973, -0.04970857873558998, 0.0038575385697185993, 0.05566718429327011, -0.01852690614759922, -0.05799395591020584, 0.027151230722665787, 0.08147600293159485, -0.061019714921712875, 0.12334410846233368, 0.010770459659397602, -0.13712389767169952, -0.015787171199917793, 0.0361669585108757, 0.07915449142456055, -0.024584008380770683, -0.02255925163626671, -0.038259245455265045, 0.041226983070373535, 0.0065711671486496925, 0.07228604704141617, 0.0002282804634887725, 0.004056226462125778, -0.049771543592214584, 0.07368773967027664, 0.012127087451517582, 0.03971823677420616, 0.03975275158882141, -0.02130506932735443, -0.0794500932097435, -0.016227949410676956, 0.09036944806575775, 0.04897885024547577, -0.12585598230361938, 0.06730590015649796, 0.011753448285162449, -0.104689821600914, 0.015854904428124428, -0.06587225943803787, -0.016441836953163147, -0.0051611014641821384, -0.013239003717899323, 0.09555818885564804, 0.01773289032280445, -0.0013516816543415189, -0.07537086308002472, -0.05088796839118004, 0.08314178138971329, -0.03157871589064598, -0.023650750517845154, -0.015218343585729599, -0.06936179101467133, 0.090493343770504, -0.052954595535993576, 0.010485488921403885, 0.010264859534800053, -0.04754584655165672, -0.02981814742088318, -0.0006265575066208839, -0.030114542692899704, -0.08732987195253372, 0.0710969865322113, -0.014906761236488819, 0.03974427655339241, 0.055479150265455246, 0.06818024069070816, -0.062037136405706406, -0.0826786532998085, 0.042200759053230286, -0.044623956084251404, 0.009924453683197498, 0.023439059033989906, 0.01634112559258938, 0.003038291586562991, -0.032464366406202316, 0.05709008127450943, -0.020352652296423912, 0.02779645100235939, -0.004891905002295971, 0.054105136543512344, 0.1479979008436203, 0.034808795899152756, 0.0025450722314417362, -0.005769659299403429, 0.006999955512583256, -0.03404741734266281, 0.02195659652352333, -0.011238614097237587, 0.05289285629987717, 0.013900448568165302, 0.048553217202425, 1.567775550132901e-33, -0.10382460802793503, 0.0177045539021492, -0.008764016442000866, 0.06509232521057129, 0.03717702254652977, -0.03896388038992882, 0.0032539970707148314, 0.03443150222301483, -0.01939486898481846, 0.07498623430728912, 0.02991507202386856, 0.01790018379688263, 0.0015036769909784198, 0.007269863970577717, -0.0030404168646782637, 0.023212745785713196, 0.006679187063127756, -0.13012638688087463, 0.026342308148741722, -0.06313855946063995, 0.007165813818573952, 0.024576237425208092, 0.04693849757313728, 0.05946575850248337, 0.05109192803502083, 0.015577190555632114, -0.07704095542430878, -0.038522522896528244, -0.004370354115962982, -0.05800963565707207, -0.029807958751916885, -0.05404413491487503, -0.03477345407009125, 0.04528558626770973, 0.0022106473334133625, -0.0059940689243376255, 0.06399554014205933, -0.06009859964251518, -0.04031878337264061, -0.06558477133512497, 0.09269716590642929, -0.03768398240208626, -0.034385018050670624, -0.013298352248966694, 0.021599898114800453, -0.04388103261590004, 0.006534535903483629, -0.009555856697261333, 0.11648495495319366, -0.004549224860966206, 0.07548871636390686, 0.014301913790404797, 0.06809233129024506, -0.04888394474983215, -0.06410135328769684, -0.005341365933418274, 0.15462571382522583, -0.024875544011592865, 0.017454814165830612, -0.0371461845934391, -0.03209657222032547, -0.003520094556733966, -0.03435318171977997, 0.0469268374145031, -0.07702150195837021, -0.03178350627422333, -0.002710070228204131, 0.00075393175939098, -0.1548539698123932, -0.13497315347194672, 0.12032186985015869, 0.013710753992199898, 0.016736403107643127, -0.04913716018199921, -0.04239029064774513, 0.06329168379306793, -0.029847130179405212, -0.019747678190469742, 0.02946498803794384, 0.005000278353691101, -0.06969020515680313, 0.05994166433811188, 0.062239181250333786, -0.05864381790161133, 0.021039079874753952, 0.05498282611370087, -0.0637364462018013, -0.03479165583848953, -0.04130374267697334, 0.002985579427331686, -0.11529579013586044, 0.009378623217344284, 0.031424276530742645, -0.003816628362983465, -0.0028517297469079494, -2.385237074520319e-08, 0.003969662822782993, 0.029650937765836716, 0.019839514046907425, -0.046760786324739456, 0.08541993051767349, -0.03503793105483055, 0.05463237315416336, 0.05220343545079231, 0.043286290019750595, 0.02154793217778206, 0.021910395473241806, -0.0469893217086792, -0.07817307114601135, 0.09088726341724396, -0.014685316942632198, 0.029203159734606743, -0.08301346749067307, -0.018953068181872368, 0.009459947235882282, 0.032808173447847366, 0.08083346486091614, 0.10077245533466339, -0.0019684904254972935, 0.043247807770967484, -0.0696173831820488, 0.02435009740293026, -0.03971004858613014, 0.07658174633979797, 0.052205558866262436, 0.05218774080276489, 0.007105725817382336, -0.015460437163710594, -0.041106317192316055, 0.006698019336909056, -0.02880767174065113, -0.05998673662543297, -0.021656768396496773, 0.06388421356678009, 0.025438036769628525, -0.017616264522075653, -0.034004662185907364, -0.050314463675022125, 0.016942376270890236, 0.03825770318508148, -0.03373057395219803, 0.018835097551345825, -0.15078780055046082, -0.07068640738725662, 0.01651545986533165, -0.07725450396537781, 0.027032187208533287, 0.051624495536088943, -0.024488357827067375, 0.022843869403004646, 0.02260824292898178, -0.010500350035727024, -0.034748710691928864, -0.035883452743291855, -0.11824331432580948, 0.03477845713496208, -0.001398146036081016, -0.1398347169160843, -0.05408576503396034, 0.03644121438264847]"
        ],
        [
         "1",
         "AAPL",
         "‘Shark Tank’ icon Kevin O’Leary reveals the 3 things he looks for when investing his millions into a founder",
         "The multimillionaire entrepreneur and investor looks to do business with entrepreneurs who have a “founder’s mindset”—embodied by late Apple cofounder Steve Jobs—alongside strong listening and executional skills.",
         "2025-07-27T09:04:00Z",
         "https://finance.yahoo.com/news/shark-tank-icon-kevin-o-090400961.html",
         "Fortune",
         "‘Shark Tank’ icon Kevin O’Leary reveals the 3 things he looks for when investing his millions into a founder",
         "[0.015153074637055397, -0.014119796454906464, 0.012487117201089859, -0.03857344388961792, 0.04717734456062317, -0.11750306189060211, 0.09790366888046265, 0.03208601847290993, 0.050565801560878754, -0.0645398274064064, 0.01975899003446102, -0.042027536779642105, -0.020257780328392982, -0.029366377741098404, -0.024718469008803368, 0.015367738902568817, 0.06617289781570435, -0.01440493669360876, -0.05710959807038307, -0.0021365531720221043, -0.006576022133231163, -0.04031788557767868, 0.04246130585670471, -0.019400108605623245, 0.00247045885771513, 0.032438281923532486, 0.003926082048565149, 0.03273960202932358, -0.00046931067481637, -0.025470629334449768, 0.1022019013762474, -0.040140580385923386, -0.023594850674271584, -0.016286633908748627, 0.08049234747886658, -0.03665030002593994, 0.0541006475687027, 0.04834054782986641, -0.06528403609991074, 0.03966766223311424, 0.025089731439948082, -0.06772147864103317, -0.036085665225982666, 0.06702711433172226, 0.018543949350714684, -0.06132453680038452, -0.021124010905623436, -0.06732747703790665, 0.03993401303887367, -0.03543979674577713, -0.04338580742478371, -0.17553485929965973, 0.012784102000296116, -0.1272636502981186, 0.01784520596265793, 0.023144004866480827, -0.041699010878801346, 0.02746223285794258, 0.06605745851993561, -0.005420950707048178, 0.09089695662260056, -0.0019680086988955736, 0.015772627666592598, 0.06892947852611542, 0.0508897639811039, 0.04177697375416756, -0.0356050580739975, 0.003671219339594245, -0.042843885719776154, 0.025698116049170494, 0.07105705887079239, -0.05448979139328003, 0.01652020961046219, 0.01938815973699093, 0.06303494423627853, -0.037821803241968155, 0.0247979573905468, 0.05387392267584801, 0.08426070958375931, -0.02835901454091072, 0.07319023460149765, 0.004550596699118614, -0.08879702538251877, 0.013494092971086502, -0.04759524390101433, -0.025383533909916878, 0.0012638020562008023, -0.056332673877477646, 0.06947626918554306, 0.06188106909394264, -0.057567957788705826, -0.006042800843715668, 0.022386841475963593, -0.11970307677984238, 0.01899154856801033, -0.000640429207123816, -0.02759401872754097, -0.020659275352954865, -0.10253006219863892, 0.027521926909685135, -0.004307645373046398, -0.0414641834795475, 0.08618227392435074, 0.0034202933311462402, 0.032503724098205566, -0.02215607836842537, -0.014674794860184193, 0.04700857773423195, 0.09973674267530441, 0.015580827370285988, -0.04009395092725754, -0.020228570327162743, -0.002713724970817566, -0.00023535585205536336, 0.08656606078147888, 0.0341465063393116, -0.10264525562524796, -0.04349484667181969, 0.026568010449409485, -0.016742678359150887, 0.026237251237034798, 0.011690831743180752, -0.011418809182941914, 0.007296205032616854, -0.031631313264369965, 0.036952633410692215, -0.07419925928115845, -2.4744135880999997e-33, -0.00271261646412313, 0.052080169320106506, 0.015640100464224815, 0.017815105617046356, 0.07125555723905563, -0.021994346752762794, -0.02002716064453125, -0.09074396640062332, -0.037833940237760544, 0.008825477212667465, -0.001000547199510038, 0.07426884770393372, -0.06840091198682785, 0.09878786653280258, 0.027466487139463425, -0.011701509356498718, -0.006047951988875866, 0.047397930175065994, -0.019703160971403122, -0.0792829841375351, 0.06319162994623184, -0.04271538183093071, -0.005136323161423206, -0.018672307953238487, 0.04561295360326767, -0.052799858152866364, -0.02721070498228073, -0.10128898173570633, 0.06468593329191208, 0.027628695592284203, -0.09121305495500565, 0.0996503010392189, -0.0662812814116478, -0.01855834387242794, -0.06656425446271896, -0.029830124229192734, -0.036822471767663956, -0.08670957386493683, 0.0552293099462986, 0.003963944502174854, -0.03468751907348633, 0.03525931388139725, 0.015049012377858162, -0.023565353825688362, -0.09898766875267029, 0.05773961916565895, 0.030747245997190475, 0.011155490763485432, 0.0665043517947197, -0.007309772539883852, 0.05572910234332085, -0.04561229422688484, -0.0013846196234226227, -0.018004531040787697, -0.0164153054356575, -0.03924831375479698, -0.07070573419332504, -0.044016506522893906, 0.015360300429165363, -0.06309644877910614, -0.009710988961160183, -0.03715350106358528, -0.0001513631286798045, 0.10325662791728973, -0.06883344799280167, 0.049393173307180405, 0.019449692219495773, 0.06594834476709366, 0.009926947765052319, 0.03278006985783577, -0.04188333824276924, -0.017540233209729195, -0.03219118341803551, -0.12590165436267853, -0.0733543112874031, -0.023014390841126442, -0.08818582445383072, 0.03360028564929962, -0.07831771671772003, 0.08768042176961899, 0.04225536435842514, 0.012311636470258236, 0.050854749977588654, -0.0055155279114842415, -0.060882750898599625, 0.030482495203614235, 0.03474358096718788, -0.005892372224479914, 0.05990130826830864, 0.08095187693834305, -0.018039939925074577, -0.0997142642736435, 0.021063899621367455, -0.001380107132717967, -0.07929692417383194, 1.8666239011036624e-35, 0.01016106829047203, -0.06706947088241577, 0.13198214769363403, -0.03316737711429596, 0.07597919553518295, 0.035199254751205444, -0.006838567089289427, 0.07417748123407364, 0.03668643534183502, 0.009173723869025707, -0.014925587922334671, 0.09121602028608322, -0.03042987734079361, -0.037854865193367004, 0.0507151260972023, -0.03850386291742325, -0.03253331780433655, -0.015354529954493046, 0.06457910686731339, -0.028984323143959045, 0.069000743329525, -0.1337837129831314, -0.023147262632846832, 0.09893675893545151, -0.013634216971695423, 0.05027551203966141, -0.01087728887796402, -0.052310049533843994, 0.035745590925216675, -0.0408722385764122, -0.07303456217050552, 0.08765166997909546, 0.011743569746613503, 0.010686991736292839, -0.0002749902487266809, 0.09538915008306503, -0.007134170271456242, -0.04321897774934769, -0.06631182134151459, 0.022817889228463173, 0.0542973168194294, -0.06700684875249863, 0.01682983711361885, -0.04409200698137283, -0.04161683842539787, 0.014668315649032593, 0.028446976095438004, -0.011254481039941311, -0.007426526863127947, -0.0443943589925766, 0.04319941997528076, 0.032008007168769836, -0.029788512736558914, -0.011380908079445362, -0.08087825030088425, 0.10221414268016815, 0.09001965820789337, 0.06390736997127533, 0.036422912031412125, -0.008667057380080223, -0.0178692527115345, -0.05118447169661522, -0.004078743048012257, 0.06864780187606812, -0.16344450414180756, -0.009029094129800797, 0.05392412841320038, 0.010407454334199429, -0.0797024592757225, -0.08197933435440063, -0.018481021746993065, -0.05794685706496239, -0.006500413175672293, -0.09134939312934875, -0.009353602305054665, 0.019478414207696915, 0.015333800576627254, -0.011410682462155819, 0.005860950797796249, 0.029136894270777702, -0.021596726030111313, -0.025302918627858162, 0.029589099809527397, 0.10120467841625214, -0.02097264491021633, 0.009604192338883877, 0.009505105204880238, 0.021625226363539696, 0.04101851209998131, 0.04028455913066864, 0.01218792051076889, -0.06328488886356354, -0.11058607697486877, 0.11356018483638763, 0.02811267226934433, -2.1200865063519814e-08, -0.037911441177129745, -0.02516559511423111, 0.09031093120574951, 0.043857768177986145, 0.004112507216632366, 0.021558355540037155, 0.020106744021177292, 0.09365905076265335, -0.019985787570476532, 0.0477617010474205, -0.008706225082278252, 0.01941961981356144, -0.07126924395561218, 0.015087847597897053, -0.019899608567357063, -0.020796794444322586, -0.07290100306272507, 0.030099008232355118, -0.004427504725754261, -0.01608915440738201, -0.034755025058984756, 0.049918778240680695, 0.038940150290727615, 0.010403750464320183, 0.0018228456610813737, 0.022478798404335976, -0.023815525695681572, 0.09145217388868332, 0.03359078988432884, 0.08357882499694824, 0.014391402713954449, 0.03416934236884117, -0.05088033899664879, -0.04151040315628052, 0.03118119388818741, -0.043769147247076035, -0.030507085844874382, 0.00535536976531148, 0.011245781555771828, 0.030941706150770187, -0.03757045790553093, 0.022168245166540146, 0.03754851967096329, 0.01294418890029192, -0.03677622601389885, 0.07494830340147018, -0.038140807300806046, 0.011682326905429363, 0.014595148153603077, -0.029737720265984535, -0.0043932911939918995, -0.02237466536462307, -0.0075677139684557915, 0.018564948812127113, -0.01899704709649086, -0.07361403852701187, -0.03139958903193474, -0.007016845513135195, -0.03867590054869652, -0.008390863426029682, 0.03242231905460358, -0.13164585828781128, 0.05565975233912468, 0.029821176081895828]"
        ],
        [
         "2",
         "ABBV",
         "Top Research Reports for NVIDIA, Amazon.com & Meta Platforms",
         "NVIDIA, Amazon.com, and Meta Platforms stand out in Zacks' latest picks, backed by AI growth, AWS strength, and global user gains.",
         "2025-07-22T20:48:00Z",
         "https://finance.yahoo.com/news/top-research-reports-nvidia-amazon-204800279.html",
         "Zacks",
         "Top Research Reports for NVIDIA, Amazon.com & Meta Platforms",
         "[0.04179621487855911, -0.04807903245091438, -0.06347227096557617, 0.01815294660627842, 0.09142656624317169, 0.01911712996661663, -0.10379248112440109, 0.11005277186632156, -0.04048041254281998, 0.0348237119615078, -0.0757964551448822, 0.050629980862140656, -0.039499830454587936, 0.021703502163290977, 0.011484739370644093, 0.03295137733221054, 0.046515077352523804, -0.06579798460006714, 0.006477106362581253, -0.07513798773288727, -0.02679639309644699, -0.033582091331481934, 0.10475467145442963, -0.011390455067157745, -0.03765939548611641, 0.02912599965929985, -0.10702470690011978, -0.011735252104699612, -0.02868160419166088, -0.05144008249044418, -0.04583422467112541, 0.048867370933294296, 0.015201311558485031, 0.03677218779921532, -0.05298103764653206, -0.05856463685631752, 0.05396343395113945, -0.03246362507343292, -0.04967309907078743, -0.05696761980652809, 0.00911995954811573, -0.008861123584210873, 0.007415914908051491, -0.00806326512247324, 0.04355618357658386, -0.01823861338198185, -0.038522813469171524, -0.021480027586221695, -0.019365256652235985, 0.033051807433366776, -0.10510419309139252, -0.023181671276688576, 0.011173957027494907, 0.014082594774663448, -0.01982695981860161, 0.02065427601337433, -0.009770698845386505, -0.14106035232543945, 0.04560743644833565, -0.04819289967417717, 0.09923531115055084, -0.09040989726781845, -0.06923576444387436, 0.06336508691310883, 0.04461105167865753, 0.05858441814780235, 0.012173036113381386, 0.00723769748583436, 0.00364784337580204, -0.02991105057299137, -0.039395518600940704, -0.04111643508076668, -0.056222181767225266, -0.010215346701443195, 0.003934831358492374, 0.0698859840631485, 0.014563011936843395, -0.008202383294701576, 0.046070586889982224, 0.011368079110980034, 0.054398149251937866, 0.020550405606627464, -0.07077386975288391, 0.038074906915426254, 0.0625547245144844, -0.08523530513048172, 0.02450835146009922, 0.00427906634286046, -0.06820885092020035, -0.0417681448161602, 0.04306741803884506, 0.020333530381321907, 0.07893316447734833, 0.04558291658759117, -0.10137845575809479, -0.013233112171292305, 0.0027436031959950924, -0.12547338008880615, 0.01675502024590969, 0.009713232517242432, 0.03600846603512764, -0.024098975583910942, 0.03221489116549492, 0.015702761709690094, -0.058631159365177155, 0.005374453030526638, 0.04381197318434715, 0.0931880921125412, -0.005370131228119135, 0.018403351306915283, -0.016201285645365715, 0.03249438479542732, -0.0959152951836586, -0.010992836207151413, 0.037548042833805084, -0.005322740413248539, -0.05987732857465744, 0.01591411419212818, 0.10140655934810638, 0.055019885301589966, 0.0009078571456484497, -0.020117444917559624, 0.018492691218852997, -0.054905086755752563, 0.07722106575965881, 0.043882232159376144, -0.07884547114372253, -1.076555608625216e-34, 0.02033892087638378, -0.012007764540612698, 0.014106221497058868, -0.06648935377597809, 0.020746739581227303, 0.05388130247592926, -0.01789015345275402, 0.0599215067923069, 0.0010887115495279431, -0.013164869509637356, -0.010974053293466568, 0.11002127081155777, -0.07452383637428284, 0.022624796256422997, 0.013534611091017723, -0.01704060472548008, -0.05611798167228699, 0.06755860894918442, -0.08881617337465286, 0.07710903137922287, 0.08409271389245987, 0.008674212731420994, 0.042861029505729675, 0.01681666634976864, 0.03260987997055054, -0.055253766477108, -0.11243290454149246, -0.039566654711961746, 0.06315283477306366, 0.033281661570072174, -0.007569083012640476, -0.01998472772538662, 0.002787506440654397, -0.023554205894470215, -0.04334773123264313, 0.021579327061772346, -0.056233618408441544, -0.007808222901076078, 0.03421240672469139, 0.0668463483452797, -0.031490176916122437, 0.10617139935493469, -0.038401711732149124, -0.04514819011092186, -0.01040679682046175, 0.03425660729408264, -0.03562050685286522, 0.008571802638471127, 0.018895503133535385, 0.009389090351760387, -0.11897969245910645, 0.01939602568745613, -0.02800639346241951, -0.04135729372501373, 0.07804970443248749, 0.03404650092124939, -0.006168439518660307, -0.005343232769519091, 0.03131386265158653, 0.024060996249318123, -0.03886883333325386, -0.012755870819091797, -0.05558415502309799, -0.109856516122818, -0.04618873819708824, 0.03215508162975311, 0.11773500591516495, 0.015338589437305927, -0.08873923867940903, 0.05023345351219177, -0.014671112410724163, 0.05475017800927162, 0.040952298790216446, -0.01856694370508194, -0.02098611555993557, 0.005795476958155632, -0.06359434872865677, 0.017844602465629578, -0.042732398957014084, -0.026478063315153122, 0.02174285054206848, 0.012756044045090675, 0.022042088210582733, 0.04413801059126854, -0.0701104924082756, 0.03598097339272499, 0.0071168397553265095, 0.0030150131788104773, -0.005278843455016613, -0.05500449240207672, -0.044329024851322174, 0.05007855221629143, 0.07287181168794632, -0.017829731106758118, -0.018711475655436516, 2.949965521525918e-34, -0.05883572995662689, -0.0361098013818264, 0.06441976875066757, 0.08655310422182083, -0.007519231177866459, 0.012124266475439072, -0.028571534901857376, -0.02143561840057373, 0.012598518282175064, -0.005566679406911135, 0.03723670169711113, 0.0517803356051445, 0.038218025118112564, 0.0034792895894497633, -0.04399581626057625, -0.04090626910328865, 0.03584101423621178, -0.1464870274066925, -0.012262810952961445, -0.0925707072019577, 0.010698167607188225, 0.0225803405046463, -0.04362373426556587, -0.04395364597439766, 0.02568608708679676, 0.009644139558076859, 0.022387424483895302, -0.08196263760328293, 0.020939849317073822, -0.07462239265441895, 0.01814854145050049, 0.04172474518418312, -0.03071037493646145, 0.08567648380994797, 0.05800813436508179, 0.04255516082048416, 0.031840354204177856, -0.01805865950882435, -0.015579571947455406, 0.01845613308250904, 0.09599020332098007, 0.05805656313896179, 0.02157008647918701, -0.043857961893081665, 0.013323876075446606, 0.03860752284526825, -0.09266245365142822, 0.0863427221775055, 0.09430182725191116, -0.045158617198467255, -0.0672953799366951, 0.03159047290682793, -0.031136557459831238, -0.05009012296795845, -0.007415199186652899, -0.010096576996147633, 0.03008223883807659, 0.05079317092895508, 0.016185393556952477, 0.002858103020116687, -0.005106089636683464, 0.08446083217859268, -0.13325731456279755, -0.04315033182501793, -0.03386220335960388, -0.032371845096349716, 0.020146384835243225, 0.0009690354345366359, 0.028619425371289253, -0.003845429513603449, 0.018713969737291336, -0.0690549984574318, 0.018797053024172783, -0.06453339010477066, -0.0888969823718071, 0.09864312410354614, 0.03878219053149223, -0.06520156562328339, 0.016621623188257217, 0.017007438465952873, 0.021553445607423782, 0.005457363557070494, 0.0707130879163742, -0.032871656119823456, 0.029051532968878746, 0.039436161518096924, 0.03374743461608887, -0.06428192555904388, -0.03222871571779251, -0.006416548974812031, -0.06381307542324066, -0.07951118797063828, -0.07514428347349167, 0.022633593529462814, 0.025795428082346916, -1.8584293215440084e-08, 0.10689572244882584, -0.04559718444943428, 0.021624302491545677, 0.07675070315599442, 0.04702818766236305, 0.0006989840185269713, 0.00452678557485342, 0.07796500623226166, 0.02928430587053299, 0.08039168268442154, 0.06022767350077629, -0.09357303380966187, -0.09024254232645035, 0.02217317558825016, 0.02654265984892845, 0.02124251052737236, 0.07753675431013107, 0.07469882816076279, 0.005772121716290712, -0.0026646817568689585, -0.05509999021887779, 0.08951961249113083, 0.08541887253522873, -0.08916527032852173, -0.027103431522846222, 0.01839078590273857, 0.062258098274469376, -0.033202268183231354, 0.09090590476989746, -0.01212997455149889, -0.054667502641677856, -0.00453430088236928, 0.057402580976486206, -0.08837767690420151, 0.07144935429096222, -0.045432839542627335, 0.002149988431483507, 0.03345722332596779, 0.05096958205103874, -0.04182261601090431, 0.07180017977952957, 0.030974185094237328, -0.006120008882135153, 0.013659710995852947, 0.013359981589019299, 0.015592814423143864, -0.03903934732079506, -0.008713130839169025, -0.01622144505381584, 0.03984910622239113, -0.013781273737549782, -0.04073772206902504, 0.011568814516067505, 0.04865303635597229, 0.0037925001233816147, 0.05570119619369507, -0.0069702984765172005, -0.04657452926039696, -0.004229540936648846, -0.0060731093399226665, 0.12595345079898834, -0.08773121237754822, 0.008998041972517967, 0.10254015773534775]"
        ],
        [
         "3",
         "ABNB",
         "He's 66, Retired, And Has $1.9M In An IRA — Should He Pay Cash or Finance a Vacation Home?",
         "A 66-year-old retiree is facing a dilemma that might sound familiar to anyone considering adding a little adventure to their retirement years: should he tap into his IRA to pay cash for a vacation home or take out a mortgage and let his nest egg keep ...",
         "2025-07-21T17:30:28Z",
         "https://finance.yahoo.com/news/hes-66-retired-1-9m-173028196.html",
         "Benzinga",
         "He's 66, Retired, And Has $1.9M In An IRA — Should He Pay Cash or Finance a Vacation Home?",
         "[0.116803377866745, 0.047738585621118546, -0.061048634350299835, -0.027767594903707504, -0.05740327388048172, -0.010814663022756577, 0.04335181787610054, -0.02524007111787796, -0.08964527398347855, -0.012953408993780613, 0.014767583459615707, -9.139448957284912e-05, -0.0433773547410965, 0.022766761481761932, 0.09315502643585205, 0.005190728232264519, -0.0528799407184124, -0.03383222967386246, 0.07273298501968384, 0.01930392161011696, 0.000982417375780642, 0.015958543866872787, 0.01389958243817091, -0.00821368396282196, 0.1967160999774933, 0.010727347806096077, 0.03482458367943764, 0.051205556839704514, -0.04985456168651581, 0.04987725615501404, 0.16181758046150208, -0.000589223753195256, -0.06698285788297653, -0.03353062644600868, 0.03076549991965294, 0.036629244685173035, -0.00994088128209114, 0.056012123823165894, 0.008063028566539288, 0.024349495768547058, 0.025877371430397034, 0.0004337782156653702, 0.09662722051143646, -0.047538209706544876, -0.005360953509807587, -0.0008067258168011904, -0.02031802013516426, 0.04270012676715851, 0.07498051971197128, 0.10625284165143967, -0.00363924796693027, -0.001601743046194315, -0.007811900228261948, 0.010585129261016846, 0.019232721999287605, 0.0755435973405838, 0.06740064173936844, -0.02886107750236988, -0.00828478578478098, -0.03052021935582161, 0.023892436176538467, -0.016476506367325783, 0.05383620783686638, -0.025863349437713623, -0.007045474834740162, -0.05898650363087654, 0.05464504286646843, -0.06598886102437973, -0.004145330283790827, -0.042402490973472595, -0.009627238847315311, 0.01388875674456358, -0.04316233471035957, -0.0015205779345706105, -0.03161122649908066, -0.06329464167356491, 0.013909411616623402, 0.061183106154203415, 0.03033027984201908, -0.04265614226460457, 0.05113187059760094, 0.050805117934942245, -0.014896017499268055, 0.014213205315172672, -0.030242009088397026, 0.03383322060108185, -0.05487579479813576, -0.052222006022930145, 0.03285006433725357, 0.04535217210650444, 0.07314407825469971, 0.010978354141116142, 0.04363132640719414, -0.031693242490291595, -0.05914828181266785, 0.05881519615650177, -0.007733638864010572, 0.04726749658584595, -0.13734515011310577, 0.006377143319696188, 0.02657187543809414, 0.011708579026162624, 0.04520786181092262, -0.012643320485949516, 0.054372187703847885, 0.08286962658166885, 0.12255538254976273, 0.06867927312850952, -0.035779714584350586, -0.01353637408465147, -0.04414789378643036, 0.015638243407011032, -0.002615085570141673, 0.020976228639483452, 0.04555513337254524, 0.047868140041828156, -0.09557078778743744, -0.011442885734140873, 0.038818489760160446, -0.0019033639691770077, 0.1173216849565506, 0.0611710324883461, 0.031781211495399475, 0.10716512799263, -0.022487320005893707, -0.009494760073721409, -0.01808791421353817, -3.004423052392645e-33, 0.07040159404277802, 0.07588585466146469, -0.0573083832859993, 0.00970211997628212, -0.013255399651825428, 0.04677808657288551, -0.012296248227357864, -0.02596976049244404, -0.01271243765950203, 0.012544168159365654, 0.05096222460269928, -0.03300435096025467, 0.006139326840639114, -0.0035134535282850266, -0.012365845032036304, 0.03158684819936752, -0.058269333094358444, 0.022511357441544533, 0.057998936623334885, -0.09380778670310974, -0.013793542981147766, -0.018029823899269104, 0.02682609111070633, 0.06366756558418274, 0.0966108962893486, -0.13186584413051605, 0.026925459504127502, -0.048527590930461884, -0.019223051145672798, -0.02032177709043026, -0.08377932757139206, 0.05717651546001434, 0.07763099670410156, -0.06504728645086288, -0.014210888184607029, -0.03856764733791351, -0.09756350517272949, 0.021045127883553505, -0.12725135684013367, -0.027466541156172752, -0.08215674757957458, 0.09619452804327011, 0.012002951465547085, 0.0730820819735527, -0.0645749643445015, -0.0404600165784359, 0.10563807934522629, 0.05997069180011749, -0.014003410004079342, -0.002843461697921157, -0.026625359430909157, -0.04860547184944153, -0.08242970705032349, -0.00048255230649374425, -0.09013710170984268, -0.0913575142621994, 0.02930857613682747, -0.03901897743344307, 0.03310219198465347, -0.08934102952480316, 0.042436838150024414, -0.04999466985464096, -0.004715381655842066, 0.029640791937708855, -0.052524980157613754, 0.03864183649420738, 0.010725949890911579, 0.023330477997660637, -0.0447520911693573, 0.007098190952092409, 0.08680582791566849, -0.05862993374466896, 0.01716512069106102, -0.010668705217540264, -0.010027218610048294, -0.0322866216301918, -0.022989612072706223, 0.03745516017079353, -0.0022698738612234592, 0.014706558547914028, 0.04007571563124657, -0.10082688182592392, -0.03269181400537491, 0.09903452545404434, 0.017662454396486282, 0.09176987409591675, 0.022440433502197266, -0.005141075700521469, 0.0054192692041397095, 0.0047096554189920425, 0.07236342132091522, -0.02384856902062893, 0.0428754985332489, -0.056712206453084946, 0.007388044614344835, 3.875793596605687e-34, -0.0713457316160202, 0.021772129461169243, 0.04887888580560684, -0.0018649554112926126, 0.018007980659604073, -0.0075887758284807205, -0.024490660056471825, -0.009316512383520603, -0.016009267419576645, -0.032175254076719284, -0.06702784448862076, 0.057919472455978394, -0.052372608333826065, 0.0036416398361325264, 0.01643753983080387, -0.08130307495594025, -0.014766175299882889, -0.08490118384361267, 0.0531921312212944, 0.015764737501740456, 0.02093973010778427, 0.08161942660808563, 0.08312993496656418, 0.06944199651479721, 0.01449671946465969, 0.02549189329147339, -0.08490271121263504, 0.05788953974843025, -0.05825747549533844, 0.02323990873992443, -0.020492548123002052, 0.006411987356841564, 0.035340938717126846, -0.07041234523057938, -0.03347456082701683, -0.0005881303222849965, -0.06295338273048401, -0.0036373138427734375, -0.027479352429509163, 0.043495576828718185, 0.11058925837278366, -0.056095533072948456, 0.04325488954782486, 0.008872637525200844, 0.07216935604810715, -0.03414961323142052, -0.03949902206659317, -0.007001456338912249, 0.03134726360440254, 0.007743271067738533, 0.002378420904278755, 0.009819145314395428, -0.0017668880755081773, 0.05401947721838951, -0.01281868014484644, 0.03364353999495506, -0.024620534852147102, -0.050653040409088135, -0.004775546491146088, -0.03674228489398956, -0.025822147727012634, 0.002169798593968153, 0.043215617537498474, 0.06615955382585526, -0.06550776958465576, -0.04823611304163933, -0.011911456473171711, -0.015101744793355465, -0.0024637088645249605, -0.003366457996889949, -0.040987562388181686, -0.11703743040561676, 0.0759783387184143, -0.04866194352507591, 0.010858306661248207, 0.013928859494626522, 0.05641581118106842, 0.015977365896105766, 0.0630442202091217, -0.014290258288383484, -0.08320441842079163, -0.06153105944395065, -0.02486240491271019, -0.02249753661453724, 0.002551950514316559, -0.07283581793308258, -0.029080577194690704, -0.1129874736070633, -0.02884279377758503, 0.048511382192373276, 0.01698058284819126, -0.0875631794333458, -0.0007459823391400278, -0.061953864991664886, -0.02902519330382347, -2.2296331891880072e-08, -0.014353369362652302, 0.0033797314390540123, 0.029759520664811134, -0.053816042840480804, -0.011016301810741425, 0.028621289879083633, -0.007710043806582689, -0.0022288819309324026, 0.028188787400722504, 0.05348682776093483, 0.05054933950304985, 0.09694872796535492, -0.00603849720209837, -0.047387730330228806, -0.12191595137119293, -0.08342201262712479, 0.002379748970270157, 0.03149721771478653, -0.052976757287979126, 0.056109871715307236, 0.024722589179873466, -0.06787679344415665, -0.07987057417631149, 0.050897326320409775, 0.010500069707632065, -0.020811006426811218, 0.04073455557227135, 0.15791355073451996, 0.0759807899594307, 0.0032798012252897024, -0.0602196641266346, 0.009260579012334347, -0.02615157514810562, -0.0004789606900885701, 0.003981097601354122, -0.05212389677762985, 0.016448039561510086, -0.030088411644101143, -0.005655798129737377, -0.06311780214309692, 0.007469634525477886, -0.04733891040086746, -0.016786444932222366, -0.06617175787687302, -0.05707471817731857, -0.013775022700428963, -0.018818901851773262, -0.02820020727813244, -0.01916610077023506, -0.05832509696483612, -0.04309646040201187, 0.012910576537251472, 0.09254814684391022, 0.01747104711830616, 0.06725297123193741, -0.03891831636428833, -0.04434039816260338, 0.033608730882406235, -0.0467720702290535, 0.00931144505739212, 0.0033706738613545895, -0.08368752896785736, -0.05228085815906525, -0.04048294201493263]"
        ],
        [
         "4",
         "ABT",
         "Investors Heavily Search Abbott Laboratories (ABT): Here is What You Need to Know",
         "Zacks.com users have recently been watching Abbott (ABT) quite a bit. Thus, it is worth knowing the facts that could determine the stock's prospects.",
         "2025-07-23T13:00:03Z",
         "https://finance.yahoo.com/news/investors-heavily-search-abbott-laboratories-130003100.html",
         "Zacks",
         "Investors Heavily Search Abbott Laboratories (ABT): Here is What You Need to Know",
         "[-0.011577763594686985, -0.10210356116294861, -0.05881418660283089, -0.00183388392906636, -0.0028210391756147146, 0.018859993666410446, -0.01939326338469982, 0.10839894413948059, -0.024889571592211723, -0.004859161097556353, -0.021882377564907074, 0.00035114906495437026, -0.02220781333744526, 0.012958899140357971, -0.05130777508020401, -0.018934499472379684, 0.03596356511116028, -0.04283173009753227, 0.07761979103088379, -0.03581185266375542, 0.009248336777091026, 0.06491885334253311, 0.06153745949268341, 0.02355651557445526, 0.01696697436273098, 0.05197002366185188, 0.03957792744040489, -0.04743342846632004, 0.030520932748913765, -0.04492294043302536, -0.00491905864328146, 0.06748314201831818, 0.08829011768102646, -0.06177172809839249, 0.04256323724985123, 0.01830812357366085, -0.06432171165943146, 0.010800180956721306, 0.07273969054222107, 0.016890019178390503, -0.0091121606528759, -0.03971157595515251, 0.03707103431224823, 0.007580863777548075, -0.05139108747243881, -0.06520184874534607, 0.03414437547326088, -0.017200682312250137, 0.049146320670843124, 0.0023745198268443346, -0.009689908474683762, -0.046223245561122894, 0.0342620424926281, -0.02491609938442707, 0.031016185879707336, -0.06663917750120163, -0.06908044219017029, -0.03061007894575596, 0.009963978081941605, -0.019531773403286934, 0.08310826867818832, 0.014700042083859444, -0.057084619998931885, 0.05016869679093361, 0.08426458388566971, 0.09674601256847382, -0.02446935325860977, 0.03833232447504997, 0.04876866191625595, -0.1389644891023636, -0.010303017683327198, -0.13520610332489014, -0.06395285576581955, -0.013401049189269543, 0.01864093914628029, 0.04730129987001419, 0.04945792257785797, 0.031980350613594055, 0.026424836367368698, 0.0007063334924168885, -0.01268360298126936, -0.05900564044713974, 0.015248938463628292, 0.02124144695699215, -0.0510309599339962, 0.0021705024410039186, 0.08929051458835602, 0.06208641454577446, 0.06052415817975998, -0.06617995351552963, 0.028903551399707794, -0.0003336047811899334, -0.016004227101802826, -0.03601018711924553, -0.07998206466436386, 0.03200969099998474, -0.0609927736222744, 0.028965067118406296, 0.005462112370878458, 0.027673635631799698, -0.0013702033320441842, 0.03638720139861107, -0.04620210453867912, 0.0024407163728028536, -0.09236752986907959, -0.0426371693611145, 0.010657984763383865, -0.012167849577963352, 0.15170371532440186, 0.015424207784235477, -0.026856031268835068, 0.04566166177392006, -0.011182942427694798, -0.0032097268849611282, 0.002229142002761364, 0.0014128901530057192, -0.025355612859129906, -0.03401431441307068, 0.06741651147603989, -0.0012679120991379023, -0.006374764256179333, -0.010185176506638527, 0.006935536861419678, -0.0676787719130516, -0.008834229782223701, 0.0433565229177475, -0.10027165710926056, -2.7733204956789988e-33, -0.06650950759649277, 0.0016314815729856491, -0.002106187166646123, 0.06476724147796631, -0.03822862729430199, 0.004608850460499525, -0.015036322176456451, -0.012403474189341068, -0.06775694340467453, -0.03824066370725632, 0.034442201256752014, 0.08906974643468857, -0.08177304267883301, 0.09079533815383911, -0.010161696001887321, -0.042628757655620575, -0.06404406577348709, -0.0004931631265208125, 0.07569090276956558, 0.0012163716601207852, -0.04903200641274452, -0.021536877378821373, -0.0153175825253129, 0.07250028848648071, 0.08327814191579819, -0.04286884889006615, 0.04990268126130104, 0.011810082010924816, 0.06187335401773453, 0.028469979763031006, 0.01440686360001564, 0.11839061975479126, -0.0763578712940216, -0.017030006274580956, -0.07088633626699448, 0.05525233596563339, -0.08628019690513611, -0.049708474427461624, 0.0034244994167238474, 0.04636639729142189, 0.0009724889532662928, 0.033651988953351974, 0.023018067702651024, 0.0034688604064285755, 0.01996435411274433, 0.03310072049498558, -0.07766588032245636, 0.04260846599936485, 0.08380196243524551, 0.05647074431180954, -0.04056082293391228, 0.03823220729827881, -0.048513054847717285, -0.00204976974055171, 0.08223681896924973, 0.016826290637254715, -0.11194650828838348, 0.002340907696634531, -0.006908845156431198, 0.04780549928545952, -0.026256287470459938, 0.03448621928691864, -0.04497041925787926, 0.0779576227068901, -0.0849437415599823, 0.0821564793586731, -0.03626495227217674, -0.04595959931612015, 0.030788788571953773, 0.0831352025270462, -0.037520769983530045, -0.041456010192632675, 0.06088007986545563, -0.06377366185188293, -0.002923346357420087, 0.0042338198982179165, -0.03674527630209923, 0.08992111682891846, 0.059468526393175125, 0.030860116705298424, 0.02424510568380356, -0.03769160062074661, 0.055891003459692, 0.031136659905314445, -0.06417389214038849, -0.06947839260101318, 0.03488074615597725, -0.009904032573103905, -0.0474308580160141, -0.037362709641456604, -0.04998127371072769, -0.006435924209654331, -0.0357646606862545, 0.08386097848415375, 0.008979612961411476, 9.25689311645074e-34, 0.06750757992267609, -0.06090313196182251, 0.043888166546821594, -0.004100902937352657, -0.025570843368768692, -0.015371842309832573, 0.07329944521188736, -0.04620662331581116, 0.058164797723293304, 0.056667957454919815, 0.0446457713842392, 0.06137446314096451, 0.026397183537483215, 0.02630777284502983, -0.036817532032728195, -0.013989967294037342, 0.052383165806531906, -0.10564053058624268, -0.008138823322951794, -0.03754721209406853, 0.035080403089523315, 0.08356082439422607, -0.02731679193675518, -0.04099609702825546, -0.01174150314182043, 0.012288622558116913, -0.007346248719841242, 0.006201399024575949, -0.03595331311225891, -0.05650416016578674, -0.056891195476055145, 0.06946344673633575, -0.0321987010538578, 0.08068647235631943, -0.14644870162010193, 0.04385250061750412, 0.07919874787330627, 0.04038473591208458, -0.11277956515550613, -0.084393210709095, 0.018278205767273903, 0.025650840252637863, -0.02152247726917267, -0.0688512921333313, -0.030280884355306625, -0.011435518972575665, 0.012259459123015404, 0.02981286123394966, 0.079336978495121, 0.002383548067882657, -0.01150575652718544, 0.03778606653213501, 0.03945969417691231, -0.07253439724445343, -0.058564674109220505, 0.0069486722350120544, 0.06006206199526787, 0.030871789902448654, -0.03738241270184517, 0.06947534531354904, 0.035284560173749924, 0.08603424578905106, 0.060139250010252, 0.06150835007429123, -0.0942687839269638, -0.036067742854356766, 0.004936568439006805, -0.007780211977660656, 0.015684625133872032, -0.03021296113729477, 0.09979676455259323, -0.011104758828878403, 0.10102607309818268, -0.004742173478007317, 0.008514909073710442, 0.05900520086288452, 0.011283893138170242, -0.11104702949523926, -0.0831945538520813, -0.06535719335079193, -0.002006352646276355, 0.024303792044520378, 0.006805990822613239, 0.09972457587718964, -0.002045509172603488, 0.013129599392414093, 0.010740063153207302, -0.06585291028022766, 0.011910424567759037, 0.04624073952436447, -0.0647047683596611, -0.08795027434825897, 0.01911039464175701, -0.025414733216166496, -1.4396941878658254e-05, -2.0961609337177833e-08, -0.04942304268479347, -0.024626225233078003, 0.018488921225070953, -0.0031527914106845856, -0.01630711555480957, -0.015481177717447281, 0.018166258931159973, 0.037718985229730606, -0.002020515501499176, 0.051913805305957794, -0.020147403702139854, 0.01868385262787342, -0.05957544595003128, 0.13061533868312836, -0.010452287271618843, 0.001414081547409296, -0.05728830769658089, 0.022881770506501198, -0.05845070630311966, -0.042254429310560226, -0.0480046272277832, 0.017836129292845726, 0.11709436029195786, 0.028095999732613564, -0.018830114975571632, 0.038751475512981415, -0.010425818152725697, -0.012980167753994465, 0.06495636701583862, 0.03341672942042351, -0.01936456747353077, 0.03376898169517517, 0.08614560216665268, -0.009931722655892372, 0.010021648369729519, -0.023296190425753593, -0.02463359385728836, 0.008669530972838402, -0.031008373945951462, 0.018058903515338898, -0.07936450839042664, -0.08423250913619995, -0.029042471200227737, -0.019316205754876137, 0.023111717775464058, -0.017308684065937996, -0.09941935539245605, 0.05731198191642761, 0.08783061802387238, 0.008253220468759537, 0.08680354058742523, -0.05585750192403793, -0.028995491564273834, -0.05807269364595413, -0.046227000653743744, 0.02614097110927105, -0.0960007831454277, -0.05371778458356857, -0.02062033675611019, -0.07974670082330704, 0.02238299697637558, -0.11343257129192352, 0.04289454594254494, -0.0055559007450938225]"
        ]
       ],
       "shape": {
        "columns": 8,
        "rows": 5
       }
      },
      "text/html": [
       "<div>\n",
       "<style scoped>\n",
       "    .dataframe tbody tr th:only-of-type {\n",
       "        vertical-align: middle;\n",
       "    }\n",
       "\n",
       "    .dataframe tbody tr th {\n",
       "        vertical-align: top;\n",
       "    }\n",
       "\n",
       "    .dataframe thead th {\n",
       "        text-align: right;\n",
       "    }\n",
       "</style>\n",
       "<table border=\"1\" class=\"dataframe\">\n",
       "  <thead>\n",
       "    <tr style=\"text-align: right;\">\n",
       "      <th></th>\n",
       "      <th>TICKER</th>\n",
       "      <th>TITLE</th>\n",
       "      <th>SUMMARY</th>\n",
       "      <th>PUBLICATION_DATE</th>\n",
       "      <th>URL</th>\n",
       "      <th>PROVIDER</th>\n",
       "      <th>EMBEDDED_TEXT</th>\n",
       "      <th>EMBEDDINGS</th>\n",
       "    </tr>\n",
       "  </thead>\n",
       "  <tbody>\n",
       "    <tr>\n",
       "      <th>0</th>\n",
       "      <td>A</td>\n",
       "      <td>Here's How Much You'd Have If You Invested $10...</td>\n",
       "      <td>Why investing for the long run, especially if ...</td>\n",
       "      <td>2025-06-19T12:30:04Z</td>\n",
       "      <td>https://finance.yahoo.com/news/heres-much-youd...</td>\n",
       "      <td>Zacks</td>\n",
       "      <td>Here's How Much You'd Have If You Invested $10...</td>\n",
       "      <td>[0.00040472246473655105, 0.026826510205864906,...</td>\n",
       "    </tr>\n",
       "    <tr>\n",
       "      <th>1</th>\n",
       "      <td>AAPL</td>\n",
       "      <td>‘Shark Tank’ icon Kevin O’Leary reveals the 3 ...</td>\n",
       "      <td>The multimillionaire entrepreneur and investor...</td>\n",
       "      <td>2025-07-27T09:04:00Z</td>\n",
       "      <td>https://finance.yahoo.com/news/shark-tank-icon...</td>\n",
       "      <td>Fortune</td>\n",
       "      <td>‘Shark Tank’ icon Kevin O’Leary reveals the 3 ...</td>\n",
       "      <td>[0.015153074637055397, -0.014119796454906464, ...</td>\n",
       "    </tr>\n",
       "    <tr>\n",
       "      <th>2</th>\n",
       "      <td>ABBV</td>\n",
       "      <td>Top Research Reports for NVIDIA, Amazon.com &amp; ...</td>\n",
       "      <td>NVIDIA, Amazon.com, and Meta Platforms stand o...</td>\n",
       "      <td>2025-07-22T20:48:00Z</td>\n",
       "      <td>https://finance.yahoo.com/news/top-research-re...</td>\n",
       "      <td>Zacks</td>\n",
       "      <td>Top Research Reports for NVIDIA, Amazon.com &amp; ...</td>\n",
       "      <td>[0.04179621487855911, -0.04807903245091438, -0...</td>\n",
       "    </tr>\n",
       "    <tr>\n",
       "      <th>3</th>\n",
       "      <td>ABNB</td>\n",
       "      <td>He's 66, Retired, And Has $1.9M In An IRA — Sh...</td>\n",
       "      <td>A 66-year-old retiree is facing a dilemma that...</td>\n",
       "      <td>2025-07-21T17:30:28Z</td>\n",
       "      <td>https://finance.yahoo.com/news/hes-66-retired-...</td>\n",
       "      <td>Benzinga</td>\n",
       "      <td>He's 66, Retired, And Has $1.9M In An IRA — Sh...</td>\n",
       "      <td>[0.116803377866745, 0.047738585621118546, -0.0...</td>\n",
       "    </tr>\n",
       "    <tr>\n",
       "      <th>4</th>\n",
       "      <td>ABT</td>\n",
       "      <td>Investors Heavily Search Abbott Laboratories (...</td>\n",
       "      <td>Zacks.com users have recently been watching Ab...</td>\n",
       "      <td>2025-07-23T13:00:03Z</td>\n",
       "      <td>https://finance.yahoo.com/news/investors-heavi...</td>\n",
       "      <td>Zacks</td>\n",
       "      <td>Investors Heavily Search Abbott Laboratories (...</td>\n",
       "      <td>[-0.011577763594686985, -0.10210356116294861, ...</td>\n",
       "    </tr>\n",
       "  </tbody>\n",
       "</table>\n",
       "</div>"
      ],
      "text/plain": [
       "  TICKER                                              TITLE  \\\n",
       "0      A  Here's How Much You'd Have If You Invested $10...   \n",
       "1   AAPL  ‘Shark Tank’ icon Kevin O’Leary reveals the 3 ...   \n",
       "2   ABBV  Top Research Reports for NVIDIA, Amazon.com & ...   \n",
       "3   ABNB  He's 66, Retired, And Has $1.9M In An IRA — Sh...   \n",
       "4    ABT  Investors Heavily Search Abbott Laboratories (...   \n",
       "\n",
       "                                             SUMMARY      PUBLICATION_DATE  \\\n",
       "0  Why investing for the long run, especially if ...  2025-06-19T12:30:04Z   \n",
       "1  The multimillionaire entrepreneur and investor...  2025-07-27T09:04:00Z   \n",
       "2  NVIDIA, Amazon.com, and Meta Platforms stand o...  2025-07-22T20:48:00Z   \n",
       "3  A 66-year-old retiree is facing a dilemma that...  2025-07-21T17:30:28Z   \n",
       "4  Zacks.com users have recently been watching Ab...  2025-07-23T13:00:03Z   \n",
       "\n",
       "                                                 URL  PROVIDER  \\\n",
       "0  https://finance.yahoo.com/news/heres-much-youd...     Zacks   \n",
       "1  https://finance.yahoo.com/news/shark-tank-icon...   Fortune   \n",
       "2  https://finance.yahoo.com/news/top-research-re...     Zacks   \n",
       "3  https://finance.yahoo.com/news/hes-66-retired-...  Benzinga   \n",
       "4  https://finance.yahoo.com/news/investors-heavi...     Zacks   \n",
       "\n",
       "                                       EMBEDDED_TEXT  \\\n",
       "0  Here's How Much You'd Have If You Invested $10...   \n",
       "1  ‘Shark Tank’ icon Kevin O’Leary reveals the 3 ...   \n",
       "2  Top Research Reports for NVIDIA, Amazon.com & ...   \n",
       "3  He's 66, Retired, And Has $1.9M In An IRA — Sh...   \n",
       "4  Investors Heavily Search Abbott Laboratories (...   \n",
       "\n",
       "                                          EMBEDDINGS  \n",
       "0  [0.00040472246473655105, 0.026826510205864906,...  \n",
       "1  [0.015153074637055397, -0.014119796454906464, ...  \n",
       "2  [0.04179621487855911, -0.04807903245091438, -0...  \n",
       "3  [0.116803377866745, 0.047738585621118546, -0.0...  \n",
       "4  [-0.011577763594686985, -0.10210356116294861, ...  "
      ]
     },
     "execution_count": 18,
     "metadata": {},
     "output_type": "execute_result"
    }
   ],
   "source": [
    "#Cluster the embeddings using the best k\n",
    "kmeans = KMeans(n_clusters=3, random_state=42, n_init=\"auto\")\n",
    "# Display the first few rows of the clustered DataFrame\n",
    "df_news_unique.head()"
   ]
  },
  {
   "cell_type": "markdown",
   "id": "c4920b80",
   "metadata": {},
   "source": [
    "### Visualize the 2 first PCA Components of your embeddings"
   ]
  },
  {
   "cell_type": "code",
   "execution_count": 19,
   "id": "5e600ab9",
   "metadata": {},
   "outputs": [
    {
     "data": {
      "image/png": "[encoded data removed]",
      "text/plain": [
       "<Figure size 1000x800 with 2 Axes>"
      ]
     },
     "metadata": {},
     "output_type": "display_data"
    }
   ],
   "source": [
    "#Visualize the clusters using PCA\n",
    "pca = PCA(n_components=2)\n",
    "labels = kmeans.fit_predict(embeddings)\n",
    "pca_result = pca.fit_transform(df_news_unique['EMBEDDINGS'].tolist())\n",
    "plt.figure(figsize=(10, 8))\n",
    "scatter= plt.scatter(pca_result[:, 0], pca_result[:, 1], c=labels, cmap='rainbow_r', alpha=0.7)\n",
    "plt.title('PCA of News Embeddings with Clusters')\n",
    "plt.xlabel('PCA Component 1')\n",
    "plt.ylabel('PCA Component 2')\n",
    "plt.grid(True)\n",
    "plt.colorbar(scatter, label='Cluster')\n",
    "plt.show()"
   ]
  },
  {
   "cell_type": "markdown",
   "id": "c25efdf7",
   "metadata": {},
   "source": [
    "We can see in the graph, that the 3 clusters are well defined in a 2-dimension plot; however, we can also see that clusters are a little bit imbalanced and cluster 0 is overlapped with cluster 1. This can lead to false assumptions in our results."
   ]
  },
  {
   "cell_type": "markdown",
   "id": "6b0dae3d",
   "metadata": {},
   "source": [
    "#### Analyze the content of each cluster\n",
    "- Add the kmeans cluster label to your news dataframe\n",
    "- Print the content of each cluster and analyze it"
   ]
  },
  {
   "cell_type": "code",
   "execution_count": 20,
   "id": "52c39212",
   "metadata": {},
   "outputs": [],
   "source": [
    "pd.set_option('display.max_colwidth', None)"
   ]
  },
  {
   "cell_type": "code",
   "execution_count": 21,
   "id": "3e6719b8",
   "metadata": {},
   "outputs": [
    {
     "name": "stdout",
     "output_type": "stream",
     "text": [
      "CLUSTER_LABEL\n",
      "2    200\n",
      "0    189\n",
      "1    113\n",
      "Name: count, dtype: int64\n",
      "\n",
      "--- Cluster 0 ---\n"
     ]
    },
    {
     "data": {
      "application/vnd.microsoft.datawrangler.viewer.v0+json": {
       "columns": [
        {
         "name": "index",
         "rawType": "int64",
         "type": "integer"
        },
        {
         "name": "TICKER",
         "rawType": "object",
         "type": "string"
        },
        {
         "name": "TITLE",
         "rawType": "object",
         "type": "string"
        },
        {
         "name": "SUMMARY",
         "rawType": "object",
         "type": "string"
        },
        {
         "name": "URL",
         "rawType": "object",
         "type": "string"
        }
       ],
       "ref": "d90a4950-6f81-4bd9-bbcc-652630cfa443",
       "rows": [
        [
         "0",
         "A",
         "Here's How Much You'd Have If You Invested $1000 in Agilent Technologies a Decade Ago",
         "Why investing for the long run, especially if you buy certain popular stocks, could reap huge rewards.",
         "https://finance.yahoo.com/news/heres-much-youd-invested-1000-123004524.html"
        ],
        [
         "1",
         "AAPL",
         "‘Shark Tank’ icon Kevin O’Leary reveals the 3 things he looks for when investing his millions into a founder",
         "The multimillionaire entrepreneur and investor looks to do business with entrepreneurs who have a “founder’s mindset”—embodied by late Apple cofounder Steve Jobs—alongside strong listening and executional skills.",
         "https://finance.yahoo.com/news/shark-tank-icon-kevin-o-090400961.html"
        ],
        [
         "2",
         "ABBV",
         "Top Research Reports for NVIDIA, Amazon.com & Meta Platforms",
         "NVIDIA, Amazon.com, and Meta Platforms stand out in Zacks' latest picks, backed by AI growth, AWS strength, and global user gains.",
         "https://finance.yahoo.com/news/top-research-reports-nvidia-amazon-204800279.html"
        ],
        [
         "3",
         "ABNB",
         "He's 66, Retired, And Has $1.9M In An IRA — Should He Pay Cash or Finance a Vacation Home?",
         "A 66-year-old retiree is facing a dilemma that might sound familiar to anyone considering adding a little adventure to their retirement years: should he tap into his IRA to pay cash for a vacation home or take out a mortgage and let his nest egg keep ...",
         "https://finance.yahoo.com/news/hes-66-retired-1-9m-173028196.html"
        ],
        [
         "4",
         "ABT",
         "Investors Heavily Search Abbott Laboratories (ABT): Here is What You Need to Know",
         "Zacks.com users have recently been watching Abbott (ABT) quite a bit. Thus, it is worth knowing the facts that could determine the stock's prospects.",
         "https://finance.yahoo.com/news/investors-heavily-search-abbott-laboratories-130003100.html"
        ]
       ],
       "shape": {
        "columns": 4,
        "rows": 5
       }
      },
      "text/html": [
       "<div>\n",
       "<style scoped>\n",
       "    .dataframe tbody tr th:only-of-type {\n",
       "        vertical-align: middle;\n",
       "    }\n",
       "\n",
       "    .dataframe tbody tr th {\n",
       "        vertical-align: top;\n",
       "    }\n",
       "\n",
       "    .dataframe thead th {\n",
       "        text-align: right;\n",
       "    }\n",
       "</style>\n",
       "<table border=\"1\" class=\"dataframe\">\n",
       "  <thead>\n",
       "    <tr style=\"text-align: right;\">\n",
       "      <th></th>\n",
       "      <th>TICKER</th>\n",
       "      <th>TITLE</th>\n",
       "      <th>SUMMARY</th>\n",
       "      <th>URL</th>\n",
       "    </tr>\n",
       "  </thead>\n",
       "  <tbody>\n",
       "    <tr>\n",
       "      <th>0</th>\n",
       "      <td>A</td>\n",
       "      <td>Here's How Much You'd Have If You Invested $1000 in Agilent Technologies a Decade Ago</td>\n",
       "      <td>Why investing for the long run, especially if you buy certain popular stocks, could reap huge rewards.</td>\n",
       "      <td>https://finance.yahoo.com/news/heres-much-youd-invested-1000-123004524.html</td>\n",
       "    </tr>\n",
       "    <tr>\n",
       "      <th>1</th>\n",
       "      <td>AAPL</td>\n",
       "      <td>‘Shark Tank’ icon Kevin O’Leary reveals the 3 things he looks for when investing his millions into a founder</td>\n",
       "      <td>The multimillionaire entrepreneur and investor looks to do business with entrepreneurs who have a “founder’s mindset”—embodied by late Apple cofounder Steve Jobs—alongside strong listening and executional skills.</td>\n",
       "      <td>https://finance.yahoo.com/news/shark-tank-icon-kevin-o-090400961.html</td>\n",
       "    </tr>\n",
       "    <tr>\n",
       "      <th>2</th>\n",
       "      <td>ABBV</td>\n",
       "      <td>Top Research Reports for NVIDIA, Amazon.com &amp; Meta Platforms</td>\n",
       "      <td>NVIDIA, Amazon.com, and Meta Platforms stand out in Zacks' latest picks, backed by AI growth, AWS strength, and global user gains.</td>\n",
       "      <td>https://finance.yahoo.com/news/top-research-reports-nvidia-amazon-204800279.html</td>\n",
       "    </tr>\n",
       "    <tr>\n",
       "      <th>3</th>\n",
       "      <td>ABNB</td>\n",
       "      <td>He's 66, Retired, And Has $1.9M In An IRA — Should He Pay Cash or Finance a Vacation Home?</td>\n",
       "      <td>A 66-year-old retiree is facing a dilemma that might sound familiar to anyone considering adding a little adventure to their retirement years: should he tap into his IRA to pay cash for a vacation home or take out a mortgage and let his nest egg keep ...</td>\n",
       "      <td>https://finance.yahoo.com/news/hes-66-retired-1-9m-173028196.html</td>\n",
       "    </tr>\n",
       "    <tr>\n",
       "      <th>4</th>\n",
       "      <td>ABT</td>\n",
       "      <td>Investors Heavily Search Abbott Laboratories (ABT): Here is What You Need to Know</td>\n",
       "      <td>Zacks.com users have recently been watching Abbott (ABT) quite a bit. Thus, it is worth knowing the facts that could determine the stock's prospects.</td>\n",
       "      <td>https://finance.yahoo.com/news/investors-heavily-search-abbott-laboratories-130003100.html</td>\n",
       "    </tr>\n",
       "  </tbody>\n",
       "</table>\n",
       "</div>"
      ],
      "text/plain": [
       "  TICKER  \\\n",
       "0      A   \n",
       "1   AAPL   \n",
       "2   ABBV   \n",
       "3   ABNB   \n",
       "4    ABT   \n",
       "\n",
       "                                                                                                          TITLE  \\\n",
       "0                         Here's How Much You'd Have If You Invested $1000 in Agilent Technologies a Decade Ago   \n",
       "1  ‘Shark Tank’ icon Kevin O’Leary reveals the 3 things he looks for when investing his millions into a founder   \n",
       "2                                                  Top Research Reports for NVIDIA, Amazon.com & Meta Platforms   \n",
       "3                    He's 66, Retired, And Has $1.9M In An IRA — Should He Pay Cash or Finance a Vacation Home?   \n",
       "4                             Investors Heavily Search Abbott Laboratories (ABT): Here is What You Need to Know   \n",
       "\n",
       "                                                                                                                                                                                                                                                          SUMMARY  \\\n",
       "0                                                                                                                                                          Why investing for the long run, especially if you buy certain popular stocks, could reap huge rewards.   \n",
       "1                                            The multimillionaire entrepreneur and investor looks to do business with entrepreneurs who have a “founder’s mindset”—embodied by late Apple cofounder Steve Jobs—alongside strong listening and executional skills.   \n",
       "2                                                                                                                              NVIDIA, Amazon.com, and Meta Platforms stand out in Zacks' latest picks, backed by AI growth, AWS strength, and global user gains.   \n",
       "3  A 66-year-old retiree is facing a dilemma that might sound familiar to anyone considering adding a little adventure to their retirement years: should he tap into his IRA to pay cash for a vacation home or take out a mortgage and let his nest egg keep ...   \n",
       "4                                                                                                           Zacks.com users have recently been watching Abbott (ABT) quite a bit. Thus, it is worth knowing the facts that could determine the stock's prospects.   \n",
       "\n",
       "                                                                                          URL  \n",
       "0                 https://finance.yahoo.com/news/heres-much-youd-invested-1000-123004524.html  \n",
       "1                       https://finance.yahoo.com/news/shark-tank-icon-kevin-o-090400961.html  \n",
       "2            https://finance.yahoo.com/news/top-research-reports-nvidia-amazon-204800279.html  \n",
       "3                           https://finance.yahoo.com/news/hes-66-retired-1-9m-173028196.html  \n",
       "4  https://finance.yahoo.com/news/investors-heavily-search-abbott-laboratories-130003100.html  "
      ]
     },
     "metadata": {},
     "output_type": "display_data"
    },
    {
     "name": "stdout",
     "output_type": "stream",
     "text": [
      "\n",
      "--- Cluster 1 ---\n"
     ]
    },
    {
     "data": {
      "application/vnd.microsoft.datawrangler.viewer.v0+json": {
       "columns": [
        {
         "name": "index",
         "rawType": "int64",
         "type": "integer"
        },
        {
         "name": "TICKER",
         "rawType": "object",
         "type": "string"
        },
        {
         "name": "TITLE",
         "rawType": "object",
         "type": "string"
        },
        {
         "name": "SUMMARY",
         "rawType": "object",
         "type": "string"
        },
        {
         "name": "URL",
         "rawType": "object",
         "type": "string"
        }
       ],
       "ref": "c14f3782-4a81-494d-9b16-475c3383da12",
       "rows": [
        [
         "17",
         "AIZ",
         "5 Must-Read Analyst Questions From Assurant’s Q1 Earnings Call",
         "Assurant’s first quarter performance tracked closely to Wall Street’s revenue expectations, while non-GAAP earnings per share significantly exceeded analyst forecasts. Management credited this outcome to robust growth in the Global Housing segment, particularly from an increase in lender placed homeowners policies and ongoing demand in the renters business. CEO Keith Demmings highlighted a 17% top-line gain in homeowners, driven by 70,000 additional lender placed policies, and noted strong execu",
         "https://finance.yahoo.com/news/5-must-read-analyst-questions-053428980.html"
        ],
        [
         "18",
         "AJG",
         "Here’s Why Arthur J. Gallagher (AJG) Outperformed in Q1",
         "Qualivian Investment Partners, an investment partnership focused on long-only public equities, released its Q1 2025 investor letter. A copy of the letter can be downloaded here. The fund outperformed the iShares MSCI USA Quality Factor ETF (QUAL) by 66.0% and 59.4% on a gross and net basis, since inception through March 31, 2025. It also […]",
         "https://finance.yahoo.com/news/why-arthur-j-gallagher-ajg-125238765.html"
        ],
        [
         "21",
         "ALGN",
         "5 Revealing Analyst Questions From Align Technology’s Q1 Earnings Call",
         "Align Technology’s first quarter results were met positively by the market, reflecting a complex balance of strengths and ongoing challenges. Management pointed to a rebound in Clear Aligner volumes—particularly among both teens and adults across all regions—as a key driver, with CEO Joe Hogan noting, “Q1 was the highest year-over-year growth rate for both adult and teen patients since 2021.” The company also benefited from strong momentum in Asia Pacific and EMEA, as well as continued adoption",
         "https://finance.yahoo.com/news/5-revealing-analyst-questions-align-053355837.html"
        ],
        [
         "23",
         "ALLE",
         "Allegion (NYSE:ALLE) Exceeds Q2 Expectations",
         "Security hardware provider Allegion (NYSE:ALLE) reported Q2 CY2025 results beating Wall Street’s revenue expectations, with sales up 5.8% year on year to $1.02 billion. Its non-GAAP profit of $2.04 per share was 2.7% above analysts’ consensus estimates.",
         "https://finance.yahoo.com/news/allegion-nyse-alle-exceeds-q2-101853933.html"
        ],
        [
         "29",
         "AMP",
         "Ameriprise Financial's quarterly profit rises on higher fee income",
         "After a turbulent start to the quarter because of U.S. President Donald Trump's shifting tariffs, the markets regained poise on hopes of a softer trade policy and positive macroeconomic data.  Ameriprise's assets under management, administration and advisement came in at $1.58 trillion during the three months ended June 30, up 9% from a year ago.  \"While markets were volatile in the quarter, client activity remained strong,\" chairman and CEO Jim Cracchiolo said in a statement.",
         "https://finance.yahoo.com/news/ameriprise-financials-quarterly-profit-rises-132531734.html"
        ]
       ],
       "shape": {
        "columns": 4,
        "rows": 5
       }
      },
      "text/html": [
       "<div>\n",
       "<style scoped>\n",
       "    .dataframe tbody tr th:only-of-type {\n",
       "        vertical-align: middle;\n",
       "    }\n",
       "\n",
       "    .dataframe tbody tr th {\n",
       "        vertical-align: top;\n",
       "    }\n",
       "\n",
       "    .dataframe thead th {\n",
       "        text-align: right;\n",
       "    }\n",
       "</style>\n",
       "<table border=\"1\" class=\"dataframe\">\n",
       "  <thead>\n",
       "    <tr style=\"text-align: right;\">\n",
       "      <th></th>\n",
       "      <th>TICKER</th>\n",
       "      <th>TITLE</th>\n",
       "      <th>SUMMARY</th>\n",
       "      <th>URL</th>\n",
       "    </tr>\n",
       "  </thead>\n",
       "  <tbody>\n",
       "    <tr>\n",
       "      <th>17</th>\n",
       "      <td>AIZ</td>\n",
       "      <td>5 Must-Read Analyst Questions From Assurant’s Q1 Earnings Call</td>\n",
       "      <td>Assurant’s first quarter performance tracked closely to Wall Street’s revenue expectations, while non-GAAP earnings per share significantly exceeded analyst forecasts. Management credited this outcome to robust growth in the Global Housing segment, particularly from an increase in lender placed homeowners policies and ongoing demand in the renters business. CEO Keith Demmings highlighted a 17% top-line gain in homeowners, driven by 70,000 additional lender placed policies, and noted strong execu</td>\n",
       "      <td>https://finance.yahoo.com/news/5-must-read-analyst-questions-053428980.html</td>\n",
       "    </tr>\n",
       "    <tr>\n",
       "      <th>18</th>\n",
       "      <td>AJG</td>\n",
       "      <td>Here’s Why Arthur J. Gallagher (AJG) Outperformed in Q1</td>\n",
       "      <td>Qualivian Investment Partners, an investment partnership focused on long-only public equities, released its Q1 2025 investor letter. A copy of the letter can be downloaded here. The fund outperformed the iShares MSCI USA Quality Factor ETF (QUAL) by 66.0% and 59.4% on a gross and net basis, since inception through March 31, 2025. It also […]</td>\n",
       "      <td>https://finance.yahoo.com/news/why-arthur-j-gallagher-ajg-125238765.html</td>\n",
       "    </tr>\n",
       "    <tr>\n",
       "      <th>21</th>\n",
       "      <td>ALGN</td>\n",
       "      <td>5 Revealing Analyst Questions From Align Technology’s Q1 Earnings Call</td>\n",
       "      <td>Align Technology’s first quarter results were met positively by the market, reflecting a complex balance of strengths and ongoing challenges. Management pointed to a rebound in Clear Aligner volumes—particularly among both teens and adults across all regions—as a key driver, with CEO Joe Hogan noting, “Q1 was the highest year-over-year growth rate for both adult and teen patients since 2021.” The company also benefited from strong momentum in Asia Pacific and EMEA, as well as continued adoption</td>\n",
       "      <td>https://finance.yahoo.com/news/5-revealing-analyst-questions-align-053355837.html</td>\n",
       "    </tr>\n",
       "    <tr>\n",
       "      <th>23</th>\n",
       "      <td>ALLE</td>\n",
       "      <td>Allegion (NYSE:ALLE) Exceeds Q2 Expectations</td>\n",
       "      <td>Security hardware provider Allegion (NYSE:ALLE) reported Q2 CY2025 results beating Wall Street’s revenue expectations, with sales up 5.8% year on year to $1.02 billion. Its non-GAAP profit of $2.04 per share was 2.7% above analysts’ consensus estimates.</td>\n",
       "      <td>https://finance.yahoo.com/news/allegion-nyse-alle-exceeds-q2-101853933.html</td>\n",
       "    </tr>\n",
       "    <tr>\n",
       "      <th>29</th>\n",
       "      <td>AMP</td>\n",
       "      <td>Ameriprise Financial's quarterly profit rises on higher fee income</td>\n",
       "      <td>After a turbulent start to the quarter because of U.S. President Donald Trump's shifting tariffs, the markets regained poise on hopes of a softer trade policy and positive macroeconomic data.  Ameriprise's assets under management, administration and advisement came in at $1.58 trillion during the three months ended June 30, up 9% from a year ago.  \"While markets were volatile in the quarter, client activity remained strong,\" chairman and CEO Jim Cracchiolo said in a statement.</td>\n",
       "      <td>https://finance.yahoo.com/news/ameriprise-financials-quarterly-profit-rises-132531734.html</td>\n",
       "    </tr>\n",
       "  </tbody>\n",
       "</table>\n",
       "</div>"
      ],
      "text/plain": [
       "   TICKER  \\\n",
       "17    AIZ   \n",
       "18    AJG   \n",
       "21   ALGN   \n",
       "23   ALLE   \n",
       "29    AMP   \n",
       "\n",
       "                                                                     TITLE  \\\n",
       "17          5 Must-Read Analyst Questions From Assurant’s Q1 Earnings Call   \n",
       "18                 Here’s Why Arthur J. Gallagher (AJG) Outperformed in Q1   \n",
       "21  5 Revealing Analyst Questions From Align Technology’s Q1 Earnings Call   \n",
       "23                            Allegion (NYSE:ALLE) Exceeds Q2 Expectations   \n",
       "29      Ameriprise Financial's quarterly profit rises on higher fee income   \n",
       "\n",
       "                                                                                                                                                                                                                                                                                                                                                                                                                                                                                                                 SUMMARY  \\\n",
       "17  Assurant’s first quarter performance tracked closely to Wall Street’s revenue expectations, while non-GAAP earnings per share significantly exceeded analyst forecasts. Management credited this outcome to robust growth in the Global Housing segment, particularly from an increase in lender placed homeowners policies and ongoing demand in the renters business. CEO Keith Demmings highlighted a 17% top-line gain in homeowners, driven by 70,000 additional lender placed policies, and noted strong execu   \n",
       "18                                                                                                                                                               Qualivian Investment Partners, an investment partnership focused on long-only public equities, released its Q1 2025 investor letter. A copy of the letter can be downloaded here. The fund outperformed the iShares MSCI USA Quality Factor ETF (QUAL) by 66.0% and 59.4% on a gross and net basis, since inception through March 31, 2025. It also […]   \n",
       "21   Align Technology’s first quarter results were met positively by the market, reflecting a complex balance of strengths and ongoing challenges. Management pointed to a rebound in Clear Aligner volumes—particularly among both teens and adults across all regions—as a key driver, with CEO Joe Hogan noting, “Q1 was the highest year-over-year growth rate for both adult and teen patients since 2021.” The company also benefited from strong momentum in Asia Pacific and EMEA, as well as continued adoption   \n",
       "23                                                                                                                                                                                                                                                         Security hardware provider Allegion (NYSE:ALLE) reported Q2 CY2025 results beating Wall Street’s revenue expectations, with sales up 5.8% year on year to $1.02 billion. Its non-GAAP profit of $2.04 per share was 2.7% above analysts’ consensus estimates.   \n",
       "29                     After a turbulent start to the quarter because of U.S. President Donald Trump's shifting tariffs, the markets regained poise on hopes of a softer trade policy and positive macroeconomic data.  Ameriprise's assets under management, administration and advisement came in at $1.58 trillion during the three months ended June 30, up 9% from a year ago.  \"While markets were volatile in the quarter, client activity remained strong,\" chairman and CEO Jim Cracchiolo said in a statement.   \n",
       "\n",
       "                                                                                           URL  \n",
       "17                 https://finance.yahoo.com/news/5-must-read-analyst-questions-053428980.html  \n",
       "18                    https://finance.yahoo.com/news/why-arthur-j-gallagher-ajg-125238765.html  \n",
       "21           https://finance.yahoo.com/news/5-revealing-analyst-questions-align-053355837.html  \n",
       "23                 https://finance.yahoo.com/news/allegion-nyse-alle-exceeds-q2-101853933.html  \n",
       "29  https://finance.yahoo.com/news/ameriprise-financials-quarterly-profit-rises-132531734.html  "
      ]
     },
     "metadata": {},
     "output_type": "display_data"
    },
    {
     "name": "stdout",
     "output_type": "stream",
     "text": [
      "\n",
      "--- Cluster 2 ---\n"
     ]
    },
    {
     "data": {
      "application/vnd.microsoft.datawrangler.viewer.v0+json": {
       "columns": [
        {
         "name": "index",
         "rawType": "int64",
         "type": "integer"
        },
        {
         "name": "TICKER",
         "rawType": "object",
         "type": "string"
        },
        {
         "name": "TITLE",
         "rawType": "object",
         "type": "string"
        },
        {
         "name": "SUMMARY",
         "rawType": "object",
         "type": "string"
        },
        {
         "name": "URL",
         "rawType": "object",
         "type": "string"
        }
       ],
       "ref": "610fd0e3-0b57-42bf-8451-2e75936c13d3",
       "rows": [
        [
         "5",
         "ACGL",
         "Investing in Arch Capital Group (NASDAQ:ACGL) five years ago would have delivered you a 199% gain",
         "The worst result, after buying shares in a company (assuming no leverage), would be if you lose all the money you put...",
         "https://finance.yahoo.com/news/investing-arch-capital-group-nasdaq-130012350.html"
        ],
        [
         "10",
         "ADP",
         "Nasdaq, S&P 500 Notch New Record Highs Following US-Vietnam Deal; Tesla Rebounds",
         "The Nasdaq Composite and the S&P 500 jumped to fresh record levels on Wednesday after President Dona",
         "https://finance.yahoo.com/news/nasdaq-p-500-notch-record-205651725.html"
        ],
        [
         "11",
         "ADSK",
         "Equity Markets Close Higher as Investors Await Key Economic Reports",
         "US benchmark equity indexes closed higher on Monday as investor look ahead to key inflation and prod",
         "https://finance.yahoo.com/news/equity-markets-close-higher-investors-205108005.html"
        ],
        [
         "12",
         "AEE",
         "Watch These Renewable Energy & Battery Energy Stocks for Valuable Gains",
         "VWDRY, STEM, AEE and AEP are riding a global renewables boom with major clean energy and storage expansion plans ahead.",
         "https://finance.yahoo.com/news/watch-renewable-energy-battery-energy-124700110.html"
        ],
        [
         "13",
         "AEP",
         "Sector Update: Tech Stocks Advance Late Afternoon",
         "Tech stocks were higher late Wednesday afternoon, with the Technology Select Sector SPDR Fund (XLK)",
         "https://finance.yahoo.com/news/sector-tech-stocks-advance-afternoon-195559956.html"
        ]
       ],
       "shape": {
        "columns": 4,
        "rows": 5
       }
      },
      "text/html": [
       "<div>\n",
       "<style scoped>\n",
       "    .dataframe tbody tr th:only-of-type {\n",
       "        vertical-align: middle;\n",
       "    }\n",
       "\n",
       "    .dataframe tbody tr th {\n",
       "        vertical-align: top;\n",
       "    }\n",
       "\n",
       "    .dataframe thead th {\n",
       "        text-align: right;\n",
       "    }\n",
       "</style>\n",
       "<table border=\"1\" class=\"dataframe\">\n",
       "  <thead>\n",
       "    <tr style=\"text-align: right;\">\n",
       "      <th></th>\n",
       "      <th>TICKER</th>\n",
       "      <th>TITLE</th>\n",
       "      <th>SUMMARY</th>\n",
       "      <th>URL</th>\n",
       "    </tr>\n",
       "  </thead>\n",
       "  <tbody>\n",
       "    <tr>\n",
       "      <th>5</th>\n",
       "      <td>ACGL</td>\n",
       "      <td>Investing in Arch Capital Group (NASDAQ:ACGL) five years ago would have delivered you a 199% gain</td>\n",
       "      <td>The worst result, after buying shares in a company (assuming no leverage), would be if you lose all the money you put...</td>\n",
       "      <td>https://finance.yahoo.com/news/investing-arch-capital-group-nasdaq-130012350.html</td>\n",
       "    </tr>\n",
       "    <tr>\n",
       "      <th>10</th>\n",
       "      <td>ADP</td>\n",
       "      <td>Nasdaq, S&amp;P 500 Notch New Record Highs Following US-Vietnam Deal; Tesla Rebounds</td>\n",
       "      <td>The Nasdaq Composite and the S&amp;P 500 jumped to fresh record levels on Wednesday after President Dona</td>\n",
       "      <td>https://finance.yahoo.com/news/nasdaq-p-500-notch-record-205651725.html</td>\n",
       "    </tr>\n",
       "    <tr>\n",
       "      <th>11</th>\n",
       "      <td>ADSK</td>\n",
       "      <td>Equity Markets Close Higher as Investors Await Key Economic Reports</td>\n",
       "      <td>US benchmark equity indexes closed higher on Monday as investor look ahead to key inflation and prod</td>\n",
       "      <td>https://finance.yahoo.com/news/equity-markets-close-higher-investors-205108005.html</td>\n",
       "    </tr>\n",
       "    <tr>\n",
       "      <th>12</th>\n",
       "      <td>AEE</td>\n",
       "      <td>Watch These Renewable Energy &amp; Battery Energy Stocks for Valuable Gains</td>\n",
       "      <td>VWDRY, STEM, AEE and AEP are riding a global renewables boom with major clean energy and storage expansion plans ahead.</td>\n",
       "      <td>https://finance.yahoo.com/news/watch-renewable-energy-battery-energy-124700110.html</td>\n",
       "    </tr>\n",
       "    <tr>\n",
       "      <th>13</th>\n",
       "      <td>AEP</td>\n",
       "      <td>Sector Update: Tech Stocks Advance Late Afternoon</td>\n",
       "      <td>Tech stocks were higher late Wednesday afternoon, with the Technology Select Sector SPDR Fund (XLK)</td>\n",
       "      <td>https://finance.yahoo.com/news/sector-tech-stocks-advance-afternoon-195559956.html</td>\n",
       "    </tr>\n",
       "  </tbody>\n",
       "</table>\n",
       "</div>"
      ],
      "text/plain": [
       "   TICKER  \\\n",
       "5    ACGL   \n",
       "10    ADP   \n",
       "11   ADSK   \n",
       "12    AEE   \n",
       "13    AEP   \n",
       "\n",
       "                                                                                                TITLE  \\\n",
       "5   Investing in Arch Capital Group (NASDAQ:ACGL) five years ago would have delivered you a 199% gain   \n",
       "10                   Nasdaq, S&P 500 Notch New Record Highs Following US-Vietnam Deal; Tesla Rebounds   \n",
       "11                                Equity Markets Close Higher as Investors Await Key Economic Reports   \n",
       "12                            Watch These Renewable Energy & Battery Energy Stocks for Valuable Gains   \n",
       "13                                                  Sector Update: Tech Stocks Advance Late Afternoon   \n",
       "\n",
       "                                                                                                                     SUMMARY  \\\n",
       "5   The worst result, after buying shares in a company (assuming no leverage), would be if you lose all the money you put...   \n",
       "10                      The Nasdaq Composite and the S&P 500 jumped to fresh record levels on Wednesday after President Dona   \n",
       "11                      US benchmark equity indexes closed higher on Monday as investor look ahead to key inflation and prod   \n",
       "12   VWDRY, STEM, AEE and AEP are riding a global renewables boom with major clean energy and storage expansion plans ahead.   \n",
       "13                       Tech stocks were higher late Wednesday afternoon, with the Technology Select Sector SPDR Fund (XLK)   \n",
       "\n",
       "                                                                                    URL  \n",
       "5     https://finance.yahoo.com/news/investing-arch-capital-group-nasdaq-130012350.html  \n",
       "10              https://finance.yahoo.com/news/nasdaq-p-500-notch-record-205651725.html  \n",
       "11  https://finance.yahoo.com/news/equity-markets-close-higher-investors-205108005.html  \n",
       "12  https://finance.yahoo.com/news/watch-renewable-energy-battery-energy-124700110.html  \n",
       "13   https://finance.yahoo.com/news/sector-tech-stocks-advance-afternoon-195559956.html  "
      ]
     },
     "metadata": {},
     "output_type": "display_data"
    }
   ],
   "source": [
    "df_news_unique['CLUSTER_LABEL'] = labels\n",
    "\n",
    "# Print the number of news in each cluster\n",
    "print(df_news_unique['CLUSTER_LABEL'].value_counts())\n",
    "\n",
    "# Display sample news from each cluster for analysis\n",
    "for cluster_id in range(3):\n",
    "    print(f\"\\n--- Cluster {cluster_id} ---\")\n",
    "    display(df_news_unique[df_news_unique['CLUSTER_LABEL'] == cluster_id][['TICKER', 'TITLE', 'SUMMARY', 'URL']].head(5))"
   ]
  },
  {
   "cell_type": "markdown",
   "id": "0fd0bdcc",
   "metadata": {},
   "source": [
    "\n",
    "\n",
    "## Question Section\n",
    "\n",
    "Take time to reflect on what you've implemented and observed. Answer the following questions in a separate markdown cell or notebook file:\n",
    "\n",
    "---\n",
    "\n",
    "### Technical Understanding\n",
    "\n",
    "#### 1️⃣ How might the choice of embedding model (e.g., MiniLM vs. a larger transformer) affect your clustering results and interpretation?\n",
    "\n",
    "A larger transformer probably would capture in a better way the context or semantic meaning of the news, resulting in a better representation of the final clusters in our analysis. It is possible that MiniLM models group news that share the same \"words\" but not necessarily the same semantic meaning, resulting in overlapped or non-well defined clusters; i.e. it can group semantically distant news together due to lower representational capacity.\n",
    "\n",
    "It would be our decision to prioritize semantic accuracy over price (computational cost) or viceversa.\n",
    "\n",
    "---\n",
    "\n",
    "#### 2️⃣ What would be the differences in embeddings if you used only the TITLE, only the SUMMARY, or the combination of both? How could you empirically test this?\n",
    "\n",
    "There are many times that a TITLE not always reflects what the whole article is about; often, it's just a hook for the audience so it can be ambiguous; on the other hand, using only the summary, even when you have more information, could result in a very scattered analysis or with lack of focus (what it really matters in the article). Finally, using both of them, could give the model more focus on what really matters, but also more contextual information than using only the title.\n",
    "\n",
    "Empirically, we can test this creating three columns in our dataframe (TITLE, SUMMARY, TITLE + SUMMARY) and apply the same clustering model for the three of them. Then, we can compare how silhouette score increases or decreases in each case and how much sense it makes the cluster definition.\n",
    "\n",
    "---\n",
    "\n",
    "#### 3️⃣ In what situations would using a different dimensionality reduction method (e.g., t-SNE, UMAP) be preferable over PCA for visualization of embeddings?\n",
    "\n",
    "PCA is linear and may miss important patterns in embeddings. It is recommended to use a different dimensionality reduction methos like t-SNE or UMAP when the structure of the embeddings is nonlinear (which is common in semantic representations).\n",
    "\n",
    "Also, methods like UMAP handles high-dimensional, sparse data better, preserving the semantic context.\n",
    "\n",
    "Finally, for methods like t-SNE is known that represent in a better way a 2-dimension plot and can be better if we are gonna present the results to a C-level or business stakeholders.\n",
    "\n",
    "---\n",
    "\n",
    "### Data Analysis and Interpretation\n",
    "\n",
    "#### 4️⃣ Based on your cluster analysis, identify at least two potential challenges you faced in interpreting the clusters and propose strategies to address them.\n",
    "\n",
    "Two of the problems that I could watch in the cluster analysis (specially when looking at the news titles in each cluster) are:\n",
    "\n",
    "- Semantic overlap between clusters: It is common that news contain different topics (or impact to different areas) in their content. Also, a single article could contain a mix of sentiments that could mislead the cluster definition. \n",
    "\n",
    "    - An strategy to handle this could be to add columns that define explicitly the topic and the main sentiment associated to the article. This columns could also be generated by specific models that are specialized on this tasks.\n",
    "\n",
    "- Imbalanced and dispersed clusters: The biggest cluster is almost the double in size than the smallest cluster; on the other hand, we can see in our 2D visualization, that the biggest cluster is more compact than the other two:\n",
    "\n",
    "    - One strategy to handle imbalanced clusters could be switching to other algorithms that handle better this cases: e.g. HDBSCAN.\n",
    "\n",
    "---\n",
    "\n",
    "#### 5️⃣ Did you observe any outliers in your 2D visualization? How would you identify and handle these outliers in a production pipeline?\n",
    "\n",
    "Yes, as I said before, I could see that specifically clusters 1 and 2 are more dispersed than cluster 0, resulting in points that are very far from the cluster centroids.\n",
    "\n",
    "For handling we could:\n",
    "\n",
    "- Compute the distance of each point to its cluster centroid and define a treshold.\n",
    "- Exclude the points that are too far from the centroid in the analysis.\n",
    "\n",
    "---\n",
    "\n",
    "#### 6️⃣ If you could assign a 'label' or 'theme' to each cluster you obtained, what would they be? How confident are you in these assignments, and what could you do to validate them systematically?\n",
    "\n",
    "- Cluster 0\n",
    "    - Label: Stock Picks and Trends\n",
    "    - Confidence: High. Most articles (even the titles) talk about investment oportunities or recommendations in investing plans.\n",
    "\n",
    "- Cluster 1\n",
    "    - Label: Company-specific news and external events\n",
    "    - Confidence: Low. The cluster contains a mix of themes: retrospective investments, political issues, legal issues. I think that this cluster could be sub-divided in even more clusters.\n",
    "\n",
    "- Cluster 2\n",
    "    - Label: Earnings reports and financial outlooks\n",
    "    - Confidence: Vrey high. All news talk about earnings performance or preview.\n",
    "\n",
    "We could validate this systematically doing a keyword frequency analysis (how much does the article mention the keyterms) accros clusters, analyze a sample of news and comparing it to a \"manual\" labelling process, apply a topic modeling to the sample, etc.\n",
    "    \n",
    "\n",
    "---\n",
    "\n",
    "### Critical Thinking\n",
    "\n",
    "#### 7️⃣ If news sentiment was incorporated into the analysis, how might this influence the clustering structure and interpretation of the clusters in a financial analysis context?\n",
    "\n",
    "I think that this question is a little bit related to my answer in question 4. I think that including a \"sentiment\" column would likely separate clusters by tone (e.g., positive vs. negative economic outlook), providing clearer interpretation for financial analysts.\n",
    "\n",
    "This could allow investors to link clusters not just to topic, but also to market sentiment impact (e.g., fear-driven vs. opportunity-driven news), resulting in more specific clusters.\n",
    "\n",
    "---\n",
    "\n",
    "#### 8️⃣ Discuss the limitations of using k-means clustering for news embeddings. What alternative clustering methods could address these limitations, and under what conditions would you prefer them?\n",
    "\n",
    "- Limitations of k-means:\n",
    "    - Assumes spherical, equally sized clusters.\n",
    "    - Requires predefining k.\n",
    "\n",
    "- Alternatives:\n",
    "    - DBSCAN\n",
    "    - HDBSCAN\n",
    "\n",
    "As k-means need a predefined \"k\", we could opt to use DBSCAN or HDBSCAN in cases where we don't know the possible number of clusters in our data; also, as k-means assumes spherical, equally sized clusters, it could be a better option to use an alternative if we expect arbritary-shaped clusters.\n",
    "\n",
    "---\n",
    "\n",
    "#### 9️⃣ How could the approach in this notebook be extended to analyze the potential impact of news clusters on stock price movements over time? Sketch a high-level pipeline you would implement to test this.\n",
    "\n",
    "I think that having the news categorized in the different clusters, then we could do an extensive analysis of how news of different themes, sentiments, political or legal issues affect positevely or negatively to stock prices.\n",
    "\n",
    "My high-level pipepline would look like this:\n",
    "\n",
    "1. Retrieve the news from yfinance.\n",
    "2. Clusterize them (as we do it in this notebook).\n",
    "3. Retrieve stock prices in a time window (before and after the news).\n",
    "4. Compute metrics like price, earnings/losses, volatility, average return, etc. for each cluster.\n",
    "5. Label the news (or the clusters) based on the impact that they have in the mentioned metrics.\n",
    "6. Combine the results with sentiment analysis or named entity recognition to enrich the analysis: e.g. positive news of earnings in a specific company move the stock prices more than political issues.\n",
    "\n",
    "---\n",
    "\n",
    "#### 1️⃣0️⃣ Imagine your clustering shows clear groups of news, but your downstream task (e.g., prediction of stock movement) does not improve. What might explain this disconnect between clear clusters and predictive utility?\n",
    "\n",
    "As question 9 also says, our embeddings analysis is centered in semantic grouping, i.e. that news are grouped together based on its theme, semantic context and maybe sentiment, but it doesn't mean that they have a strong impact in stock prices. For a better prediction, we should do a match between the news and many other market features that could explain precisely how news affect the price and why.\n"
   ]
  },
  {
   "cell_type": "markdown",
   "id": "4eff6f1b",
   "metadata": {},
   "source": []
  }
 ],
 "metadata": {
  "kernelspec": {
   "display_name": "env-pyspark-mna",
   "language": "python",
   "name": "python3"
  },
  "language_info": {
   "codemirror_mode": {
    "name": "ipython",
    "version": 3
   },
   "file_extension": ".py",
   "mimetype": "text/x-python",
   "name": "python",
   "nbconvert_exporter": "python",
   "pygments_lexer": "ipython3",
   "version": "3.12.9"
  }
 },
 "nbformat": 4,
 "nbformat_minor": 5
}
