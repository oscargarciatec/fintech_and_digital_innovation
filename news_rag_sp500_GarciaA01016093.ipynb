{
 "cells": [
  {
   "cell_type": "markdown",
   "id": "d07f4c4b",
   "metadata": {},
   "source": [
    "# 🎓 **Applied Artificial Intelligence Master**\n",
    "\n",
    "## 🤖 **Course: Fintech and Digital Innovation in Finance (Gpo 10)**\n",
    "\n",
    "### 🏛️ Tecnológico de Monterrey\n",
    "\n",
    "#### 👨‍🏫 **Lead Professor:** Marie-Ève Malette\n",
    "#### 👩‍🏫 **Assistant Professor:** Yetnalezi Quintas Ruiz\n",
    "\n",
    "### 📊 **Project 3 |  Retrieval Augmented Generation with S&P 500 news **\n",
    "\n",
    "#### 📅 **August 9th, 2025**\n",
    "\n",
    "#### **Student:**\n",
    "* 🧑‍💻 Oscar Enrique García García (A01016093)"
   ]
  },
  {
   "cell_type": "markdown",
   "id": "4e231d13",
   "metadata": {},
   "source": [
    "# Introduction to Retrieval Augmented Generation with S&P 500 news\n",
    "\n",
    "In this notebook, you will explore how to build a simple Retrieval-Augmented Generation (RAG) pipeline using financial news articles from S&P 500 companies.\n",
    "\n",
    "We'll start by vectorizing text data, creating a vector store using FAISS, and integrating it with OpenAI's GPT models to answer questions using retrieved information.\n",
    "\n",
    "This workflow emulates real-world systems in finance where natural language data (news, filings, analyst reports) are used to support decision-making."
   ]
  },
  {
   "cell_type": "markdown",
   "id": "35b70aaa",
   "metadata": {},
   "source": [
    "# 📌 Objectives\n",
    "\n",
    "By the end of this notebook, students will be able to:\n",
    "\n",
    "1. **Perform Semantic Search with Metadata Filtering:**\n",
    "   - Query the provided FAISS vector store to retrieve relevant financial news articles based on natural language questions.\n",
    "   - Apply optional filters using metadata such as ticker or publication date to refine search results.\n",
    "\n",
    "2. **Enrich Data with Company Metadata:**\n",
    "   - Use the `yfinance` library to retrieve company-level metadata (company name, sector, industry) for tickers in the dataset.\n",
    "   - Integrate this metadata to support enhanced filtering and analysis of news data.\n",
    "\n",
    "3. **Build a Retrieval-Augmented Generation (RAG) Pipeline:**\n",
    "   - Combine retrieved news snippets as context to generate answers using OpenAI’s GPT models.\n",
    "   - Construct effective prompts that guide the language model to provide concise, context-aware responses.\n",
    "\n",
    "4. **Evaluate and Analyze RAG Outputs:**\n",
    "   - Review generated answers alongside the supporting news excerpts.\n",
    "   - Reflect on the strengths and limitations of the simple RAG pipeline and consider potential improvements, such as adding more filters or refining retrieval strategies.\n",
    "\n",
    "5. **Incorporate Financial Metadata into Retrieval Context:**\n",
    "   - Enrich retrieved news snippets with key financial metadata including ticker, company name, sector, and industry.\n",
    "   - Format prompts that combine both text excerpts and metadata to provide richer context to the language model.\n",
    "\n",
    "6. **Generate Context-Aware Answers Using OpenAI Models:**\n",
    "   - Construct and send prompts to an LLM that leverage both news content and metadata to produce concise, informed financial analysis.\n",
    "\n",
    "7. **Compare Answers With and Without Metadata:**\n",
    "   - Evaluate the impact of including financial metadata on answer quality using criteria such as clarity, detail, accuracy, and contextual relevance.\n",
    "   - Summarize findings to reflect on the role of metadata in improving retrieval-augmented generation."
   ]
  },
  {
   "cell_type": "markdown",
   "id": "c1034130",
   "metadata": {},
   "source": [
    "## Install and Import important librairies\n",
    "\n",
    "First, we install and import the necessary libraries for:\n",
    "- Text embedding generation (sentence-transformers)\n",
    "- Efficient similarity search (faiss)\n",
    "- Data manipulation (pandas, numpy)\n",
    "- Visualization (matplotlib)\n",
    "\n",
    "> ℹ️ FAISS uses inner product for cosine similarity by normalizing vectors."
   ]
  },
  {
   "cell_type": "code",
   "execution_count": 1,
   "id": "a979a47f",
   "metadata": {},
   "outputs": [
    {
     "name": "stdout",
     "output_type": "stream",
     "text": [
      "Defaulting to user installation because normal site-packages is not writeable\n",
      "Requirement already satisfied: sentence-transformers in /Users/oscar.garcia@digitalfemsa.com/Library/Python/3.9/lib/python/site-packages (5.0.0)\n",
      "Requirement already satisfied: scipy in /Users/oscar.garcia@digitalfemsa.com/Library/Python/3.9/lib/python/site-packages (from sentence-transformers) (1.11.4)\n",
      "Requirement already satisfied: Pillow in /Users/oscar.garcia@digitalfemsa.com/Library/Python/3.9/lib/python/site-packages (from sentence-transformers) (10.4.0)\n",
      "Requirement already satisfied: scikit-learn in /Users/oscar.garcia@digitalfemsa.com/Library/Python/3.9/lib/python/site-packages (from sentence-transformers) (1.6.1)\n",
      "Requirement already satisfied: typing_extensions>=4.5.0 in /Users/oscar.garcia@digitalfemsa.com/Library/Python/3.9/lib/python/site-packages (from sentence-transformers) (4.14.1)\n",
      "Requirement already satisfied: torch>=1.11.0 in /Users/oscar.garcia@digitalfemsa.com/Library/Python/3.9/lib/python/site-packages (from sentence-transformers) (2.7.1)\n",
      "Requirement already satisfied: tqdm in /Users/oscar.garcia@digitalfemsa.com/Library/Python/3.9/lib/python/site-packages (from sentence-transformers) (4.66.4)\n",
      "Requirement already satisfied: transformers<5.0.0,>=4.41.0 in /Users/oscar.garcia@digitalfemsa.com/Library/Python/3.9/lib/python/site-packages (from sentence-transformers) (4.53.2)\n",
      "Requirement already satisfied: huggingface-hub>=0.20.0 in /Users/oscar.garcia@digitalfemsa.com/Library/Python/3.9/lib/python/site-packages (from sentence-transformers) (0.33.4)\n",
      "Requirement already satisfied: hf-xet<2.0.0,>=1.1.2 in /Users/oscar.garcia@digitalfemsa.com/Library/Python/3.9/lib/python/site-packages (from huggingface-hub>=0.20.0->sentence-transformers) (1.1.5)\n",
      "Requirement already satisfied: filelock in /Users/oscar.garcia@digitalfemsa.com/Library/Python/3.9/lib/python/site-packages (from huggingface-hub>=0.20.0->sentence-transformers) (3.18.0)\n",
      "Requirement already satisfied: fsspec>=2023.5.0 in /Users/oscar.garcia@digitalfemsa.com/Library/Python/3.9/lib/python/site-packages (from huggingface-hub>=0.20.0->sentence-transformers) (2025.7.0)\n",
      "Requirement already satisfied: packaging>=20.9 in /Users/oscar.garcia@digitalfemsa.com/Library/Python/3.9/lib/python/site-packages (from huggingface-hub>=0.20.0->sentence-transformers) (23.2)\n",
      "Requirement already satisfied: requests in /Users/oscar.garcia@digitalfemsa.com/Library/Python/3.9/lib/python/site-packages (from huggingface-hub>=0.20.0->sentence-transformers) (2.31.0)\n",
      "Requirement already satisfied: pyyaml>=5.1 in /Users/oscar.garcia@digitalfemsa.com/Library/Python/3.9/lib/python/site-packages (from huggingface-hub>=0.20.0->sentence-transformers) (6.0.1)\n",
      "Requirement already satisfied: sympy>=1.13.3 in /Users/oscar.garcia@digitalfemsa.com/Library/Python/3.9/lib/python/site-packages (from torch>=1.11.0->sentence-transformers) (1.14.0)\n",
      "Requirement already satisfied: networkx in /Users/oscar.garcia@digitalfemsa.com/Library/Python/3.9/lib/python/site-packages (from torch>=1.11.0->sentence-transformers) (3.2.1)\n",
      "Requirement already satisfied: jinja2 in /Users/oscar.garcia@digitalfemsa.com/Library/Python/3.9/lib/python/site-packages (from torch>=1.11.0->sentence-transformers) (3.1.4)\n",
      "Requirement already satisfied: mpmath<1.4,>=1.1.0 in /Users/oscar.garcia@digitalfemsa.com/Library/Python/3.9/lib/python/site-packages (from sympy>=1.13.3->torch>=1.11.0->sentence-transformers) (1.3.0)\n",
      "Requirement already satisfied: regex!=2019.12.17 in /Users/oscar.garcia@digitalfemsa.com/Library/Python/3.9/lib/python/site-packages (from transformers<5.0.0,>=4.41.0->sentence-transformers) (2024.11.6)\n",
      "Requirement already satisfied: tokenizers<0.22,>=0.21 in /Users/oscar.garcia@digitalfemsa.com/Library/Python/3.9/lib/python/site-packages (from transformers<5.0.0,>=4.41.0->sentence-transformers) (0.21.2)\n",
      "Requirement already satisfied: numpy>=1.17 in /Users/oscar.garcia@digitalfemsa.com/Library/Python/3.9/lib/python/site-packages (from transformers<5.0.0,>=4.41.0->sentence-transformers) (1.26.4)\n",
      "Requirement already satisfied: safetensors>=0.4.3 in /Users/oscar.garcia@digitalfemsa.com/Library/Python/3.9/lib/python/site-packages (from transformers<5.0.0,>=4.41.0->sentence-transformers) (0.5.3)\n",
      "Requirement already satisfied: MarkupSafe>=2.0 in /Users/oscar.garcia@digitalfemsa.com/Library/Python/3.9/lib/python/site-packages (from jinja2->torch>=1.11.0->sentence-transformers) (2.1.5)\n",
      "Requirement already satisfied: certifi>=2017.4.17 in /Users/oscar.garcia@digitalfemsa.com/Library/Python/3.9/lib/python/site-packages (from requests->huggingface-hub>=0.20.0->sentence-transformers) (2025.7.14)\n",
      "Requirement already satisfied: urllib3<3,>=1.21.1 in /Users/oscar.garcia@digitalfemsa.com/Library/Python/3.9/lib/python/site-packages (from requests->huggingface-hub>=0.20.0->sentence-transformers) (2.1.0)\n",
      "Requirement already satisfied: charset-normalizer<4,>=2 in /Users/oscar.garcia@digitalfemsa.com/Library/Python/3.9/lib/python/site-packages (from requests->huggingface-hub>=0.20.0->sentence-transformers) (3.3.2)\n",
      "Requirement already satisfied: idna<4,>=2.5 in /Users/oscar.garcia@digitalfemsa.com/Library/Python/3.9/lib/python/site-packages (from requests->huggingface-hub>=0.20.0->sentence-transformers) (3.6)\n",
      "Requirement already satisfied: threadpoolctl>=3.1.0 in /Users/oscar.garcia@digitalfemsa.com/Library/Python/3.9/lib/python/site-packages (from scikit-learn->sentence-transformers) (3.5.0)\n",
      "Requirement already satisfied: joblib>=1.2.0 in /Users/oscar.garcia@digitalfemsa.com/Library/Python/3.9/lib/python/site-packages (from scikit-learn->sentence-transformers) (1.4.2)\n",
      "\u001b[33mWARNING: You are using pip version 21.2.4; however, version 25.2 is available.\n",
      "You should consider upgrading via the '/Library/Developer/CommandLineTools/usr/bin/python3 -m pip install --upgrade pip' command.\u001b[0m\n",
      "Note: you may need to restart the kernel to use updated packages.\n",
      "Defaulting to user installation because normal site-packages is not writeable\n",
      "Requirement already satisfied: faiss-cpu in /Users/oscar.garcia@digitalfemsa.com/Library/Python/3.9/lib/python/site-packages (1.11.0.post1)\n",
      "Requirement already satisfied: packaging in /Users/oscar.garcia@digitalfemsa.com/Library/Python/3.9/lib/python/site-packages (from faiss-cpu) (23.2)\n",
      "Requirement already satisfied: numpy<3.0,>=1.25.0 in /Users/oscar.garcia@digitalfemsa.com/Library/Python/3.9/lib/python/site-packages (from faiss-cpu) (1.26.4)\n",
      "\u001b[33mWARNING: You are using pip version 21.2.4; however, version 25.2 is available.\n",
      "You should consider upgrading via the '/Library/Developer/CommandLineTools/usr/bin/python3 -m pip install --upgrade pip' command.\u001b[0m\n",
      "Note: you may need to restart the kernel to use updated packages.\n",
      "Defaulting to user installation because normal site-packages is not writeable\n",
      "Requirement already satisfied: openai in /Users/oscar.garcia@digitalfemsa.com/Library/Python/3.9/lib/python/site-packages (1.99.5)\n",
      "Requirement already satisfied: sniffio in /Users/oscar.garcia@digitalfemsa.com/Library/Python/3.9/lib/python/site-packages (from openai) (1.3.1)\n",
      "Requirement already satisfied: pydantic<3,>=1.9.0 in /Users/oscar.garcia@digitalfemsa.com/Library/Python/3.9/lib/python/site-packages (from openai) (2.11.7)\n",
      "Requirement already satisfied: typing-extensions<5,>=4.11 in /Users/oscar.garcia@digitalfemsa.com/Library/Python/3.9/lib/python/site-packages (from openai) (4.14.1)\n",
      "Requirement already satisfied: jiter<1,>=0.4.0 in /Users/oscar.garcia@digitalfemsa.com/Library/Python/3.9/lib/python/site-packages (from openai) (0.10.0)\n",
      "Requirement already satisfied: tqdm>4 in /Users/oscar.garcia@digitalfemsa.com/Library/Python/3.9/lib/python/site-packages (from openai) (4.66.4)\n",
      "Requirement already satisfied: distro<2,>=1.7.0 in /Users/oscar.garcia@digitalfemsa.com/Library/Python/3.9/lib/python/site-packages (from openai) (1.9.0)\n",
      "Requirement already satisfied: anyio<5,>=3.5.0 in /Users/oscar.garcia@digitalfemsa.com/Library/Python/3.9/lib/python/site-packages (from openai) (4.10.0)\n",
      "Requirement already satisfied: httpx<1,>=0.23.0 in /Users/oscar.garcia@digitalfemsa.com/Library/Python/3.9/lib/python/site-packages (from openai) (0.28.1)\n",
      "Requirement already satisfied: exceptiongroup>=1.0.2 in /Users/oscar.garcia@digitalfemsa.com/Library/Python/3.9/lib/python/site-packages (from anyio<5,>=3.5.0->openai) (1.2.1)\n",
      "Requirement already satisfied: idna>=2.8 in /Users/oscar.garcia@digitalfemsa.com/Library/Python/3.9/lib/python/site-packages (from anyio<5,>=3.5.0->openai) (3.6)\n",
      "Requirement already satisfied: httpcore==1.* in /Users/oscar.garcia@digitalfemsa.com/Library/Python/3.9/lib/python/site-packages (from httpx<1,>=0.23.0->openai) (1.0.9)\n",
      "Requirement already satisfied: certifi in /Users/oscar.garcia@digitalfemsa.com/Library/Python/3.9/lib/python/site-packages (from httpx<1,>=0.23.0->openai) (2025.7.14)\n",
      "Requirement already satisfied: h11>=0.16 in /Users/oscar.garcia@digitalfemsa.com/Library/Python/3.9/lib/python/site-packages (from httpcore==1.*->httpx<1,>=0.23.0->openai) (0.16.0)\n",
      "Requirement already satisfied: pydantic-core==2.33.2 in /Users/oscar.garcia@digitalfemsa.com/Library/Python/3.9/lib/python/site-packages (from pydantic<3,>=1.9.0->openai) (2.33.2)\n",
      "Requirement already satisfied: annotated-types>=0.6.0 in /Users/oscar.garcia@digitalfemsa.com/Library/Python/3.9/lib/python/site-packages (from pydantic<3,>=1.9.0->openai) (0.7.0)\n",
      "Requirement already satisfied: typing-inspection>=0.4.0 in /Users/oscar.garcia@digitalfemsa.com/Library/Python/3.9/lib/python/site-packages (from pydantic<3,>=1.9.0->openai) (0.4.1)\n",
      "\u001b[33mWARNING: You are using pip version 21.2.4; however, version 25.2 is available.\n",
      "You should consider upgrading via the '/Library/Developer/CommandLineTools/usr/bin/python3 -m pip install --upgrade pip' command.\u001b[0m\n",
      "Note: you may need to restart the kernel to use updated packages.\n",
      "Defaulting to user installation because normal site-packages is not writeable\n",
      "Requirement already satisfied: langchain-openai in /Users/oscar.garcia@digitalfemsa.com/Library/Python/3.9/lib/python/site-packages (0.3.29)\n",
      "Requirement already satisfied: openai<2.0.0,>=1.86.0 in /Users/oscar.garcia@digitalfemsa.com/Library/Python/3.9/lib/python/site-packages (from langchain-openai) (1.99.5)\n",
      "Requirement already satisfied: langchain-core<1.0.0,>=0.3.74 in /Users/oscar.garcia@digitalfemsa.com/Library/Python/3.9/lib/python/site-packages (from langchain-openai) (0.3.74)\n",
      "Requirement already satisfied: tiktoken<1,>=0.7 in /Users/oscar.garcia@digitalfemsa.com/Library/Python/3.9/lib/python/site-packages (from langchain-openai) (0.11.0)\n",
      "Requirement already satisfied: tenacity!=8.4.0,<10.0.0,>=8.1.0 in /Users/oscar.garcia@digitalfemsa.com/Library/Python/3.9/lib/python/site-packages (from langchain-core<1.0.0,>=0.3.74->langchain-openai) (9.1.2)\n",
      "Requirement already satisfied: packaging>=23.2 in /Users/oscar.garcia@digitalfemsa.com/Library/Python/3.9/lib/python/site-packages (from langchain-core<1.0.0,>=0.3.74->langchain-openai) (23.2)\n",
      "Requirement already satisfied: pydantic>=2.7.4 in /Users/oscar.garcia@digitalfemsa.com/Library/Python/3.9/lib/python/site-packages (from langchain-core<1.0.0,>=0.3.74->langchain-openai) (2.11.7)\n",
      "Requirement already satisfied: typing-extensions>=4.7 in /Users/oscar.garcia@digitalfemsa.com/Library/Python/3.9/lib/python/site-packages (from langchain-core<1.0.0,>=0.3.74->langchain-openai) (4.14.1)\n",
      "Requirement already satisfied: jsonpatch<2.0,>=1.33 in /Users/oscar.garcia@digitalfemsa.com/Library/Python/3.9/lib/python/site-packages (from langchain-core<1.0.0,>=0.3.74->langchain-openai) (1.33)\n",
      "Requirement already satisfied: langsmith>=0.3.45 in /Users/oscar.garcia@digitalfemsa.com/Library/Python/3.9/lib/python/site-packages (from langchain-core<1.0.0,>=0.3.74->langchain-openai) (0.4.13)\n",
      "Requirement already satisfied: PyYAML>=5.3 in /Users/oscar.garcia@digitalfemsa.com/Library/Python/3.9/lib/python/site-packages (from langchain-core<1.0.0,>=0.3.74->langchain-openai) (6.0.1)\n",
      "Requirement already satisfied: jsonpointer>=1.9 in /Users/oscar.garcia@digitalfemsa.com/Library/Python/3.9/lib/python/site-packages (from jsonpatch<2.0,>=1.33->langchain-core<1.0.0,>=0.3.74->langchain-openai) (3.0.0)\n",
      "Requirement already satisfied: zstandard>=0.23.0 in /Users/oscar.garcia@digitalfemsa.com/Library/Python/3.9/lib/python/site-packages (from langsmith>=0.3.45->langchain-core<1.0.0,>=0.3.74->langchain-openai) (0.23.0)\n",
      "Requirement already satisfied: httpx<1,>=0.23.0 in /Users/oscar.garcia@digitalfemsa.com/Library/Python/3.9/lib/python/site-packages (from langsmith>=0.3.45->langchain-core<1.0.0,>=0.3.74->langchain-openai) (0.28.1)\n",
      "Requirement already satisfied: requests>=2.0.0 in /Users/oscar.garcia@digitalfemsa.com/Library/Python/3.9/lib/python/site-packages (from langsmith>=0.3.45->langchain-core<1.0.0,>=0.3.74->langchain-openai) (2.31.0)\n",
      "Requirement already satisfied: orjson>=3.9.14 in /Users/oscar.garcia@digitalfemsa.com/Library/Python/3.9/lib/python/site-packages (from langsmith>=0.3.45->langchain-core<1.0.0,>=0.3.74->langchain-openai) (3.11.1)\n",
      "Requirement already satisfied: requests-toolbelt>=1.0.0 in /Users/oscar.garcia@digitalfemsa.com/Library/Python/3.9/lib/python/site-packages (from langsmith>=0.3.45->langchain-core<1.0.0,>=0.3.74->langchain-openai) (1.0.0)\n",
      "Requirement already satisfied: anyio in /Users/oscar.garcia@digitalfemsa.com/Library/Python/3.9/lib/python/site-packages (from httpx<1,>=0.23.0->langsmith>=0.3.45->langchain-core<1.0.0,>=0.3.74->langchain-openai) (4.10.0)\n",
      "Requirement already satisfied: httpcore==1.* in /Users/oscar.garcia@digitalfemsa.com/Library/Python/3.9/lib/python/site-packages (from httpx<1,>=0.23.0->langsmith>=0.3.45->langchain-core<1.0.0,>=0.3.74->langchain-openai) (1.0.9)\n",
      "Requirement already satisfied: certifi in /Users/oscar.garcia@digitalfemsa.com/Library/Python/3.9/lib/python/site-packages (from httpx<1,>=0.23.0->langsmith>=0.3.45->langchain-core<1.0.0,>=0.3.74->langchain-openai) (2025.7.14)\n",
      "Requirement already satisfied: idna in /Users/oscar.garcia@digitalfemsa.com/Library/Python/3.9/lib/python/site-packages (from httpx<1,>=0.23.0->langsmith>=0.3.45->langchain-core<1.0.0,>=0.3.74->langchain-openai) (3.6)\n",
      "Requirement already satisfied: h11>=0.16 in /Users/oscar.garcia@digitalfemsa.com/Library/Python/3.9/lib/python/site-packages (from httpcore==1.*->httpx<1,>=0.23.0->langsmith>=0.3.45->langchain-core<1.0.0,>=0.3.74->langchain-openai) (0.16.0)\n",
      "Requirement already satisfied: sniffio in /Users/oscar.garcia@digitalfemsa.com/Library/Python/3.9/lib/python/site-packages (from openai<2.0.0,>=1.86.0->langchain-openai) (1.3.1)\n",
      "Requirement already satisfied: jiter<1,>=0.4.0 in /Users/oscar.garcia@digitalfemsa.com/Library/Python/3.9/lib/python/site-packages (from openai<2.0.0,>=1.86.0->langchain-openai) (0.10.0)\n",
      "Requirement already satisfied: distro<2,>=1.7.0 in /Users/oscar.garcia@digitalfemsa.com/Library/Python/3.9/lib/python/site-packages (from openai<2.0.0,>=1.86.0->langchain-openai) (1.9.0)\n",
      "Requirement already satisfied: tqdm>4 in /Users/oscar.garcia@digitalfemsa.com/Library/Python/3.9/lib/python/site-packages (from openai<2.0.0,>=1.86.0->langchain-openai) (4.66.4)\n",
      "Requirement already satisfied: exceptiongroup>=1.0.2 in /Users/oscar.garcia@digitalfemsa.com/Library/Python/3.9/lib/python/site-packages (from anyio->httpx<1,>=0.23.0->langsmith>=0.3.45->langchain-core<1.0.0,>=0.3.74->langchain-openai) (1.2.1)\n",
      "Requirement already satisfied: annotated-types>=0.6.0 in /Users/oscar.garcia@digitalfemsa.com/Library/Python/3.9/lib/python/site-packages (from pydantic>=2.7.4->langchain-core<1.0.0,>=0.3.74->langchain-openai) (0.7.0)\n",
      "Requirement already satisfied: pydantic-core==2.33.2 in /Users/oscar.garcia@digitalfemsa.com/Library/Python/3.9/lib/python/site-packages (from pydantic>=2.7.4->langchain-core<1.0.0,>=0.3.74->langchain-openai) (2.33.2)\n",
      "Requirement already satisfied: typing-inspection>=0.4.0 in /Users/oscar.garcia@digitalfemsa.com/Library/Python/3.9/lib/python/site-packages (from pydantic>=2.7.4->langchain-core<1.0.0,>=0.3.74->langchain-openai) (0.4.1)\n",
      "Requirement already satisfied: urllib3<3,>=1.21.1 in /Users/oscar.garcia@digitalfemsa.com/Library/Python/3.9/lib/python/site-packages (from requests>=2.0.0->langsmith>=0.3.45->langchain-core<1.0.0,>=0.3.74->langchain-openai) (2.1.0)\n",
      "Requirement already satisfied: charset-normalizer<4,>=2 in /Users/oscar.garcia@digitalfemsa.com/Library/Python/3.9/lib/python/site-packages (from requests>=2.0.0->langsmith>=0.3.45->langchain-core<1.0.0,>=0.3.74->langchain-openai) (3.3.2)\n",
      "Requirement already satisfied: regex>=2022.1.18 in /Users/oscar.garcia@digitalfemsa.com/Library/Python/3.9/lib/python/site-packages (from tiktoken<1,>=0.7->langchain-openai) (2024.11.6)\n",
      "\u001b[33mWARNING: You are using pip version 21.2.4; however, version 25.2 is available.\n",
      "You should consider upgrading via the '/Library/Developer/CommandLineTools/usr/bin/python3 -m pip install --upgrade pip' command.\u001b[0m\n",
      "Note: you may need to restart the kernel to use updated packages.\n"
     ]
    }
   ],
   "source": [
    "%pip install sentence-transformers\n",
    "%pip install faiss-cpu\n",
    "%pip install openai\n",
    "%pip install langchain-openai"
   ]
  },
  {
   "cell_type": "code",
   "execution_count": 2,
   "id": "6b9f8680",
   "metadata": {},
   "outputs": [
    {
     "name": "stderr",
     "output_type": "stream",
     "text": [
      "/Users/oscar.garcia@digitalfemsa.com/Library/Python/3.9/lib/python/site-packages/urllib3/__init__.py:34: NotOpenSSLWarning: urllib3 v2 only supports OpenSSL 1.1.1+, currently the 'ssl' module is compiled with 'LibreSSL 2.8.3'. See: https://github.com/urllib3/urllib3/issues/3020\n",
      "  warnings.warn(\n"
     ]
    }
   ],
   "source": [
    "from sentence_transformers import SentenceTransformer\n",
    "import faiss\n",
    "import pandas as pd\n",
    "import numpy as np\n",
    "from sklearn.metrics.pairwise import cosine_similarity\n",
    "import faiss\n",
    "from openai import OpenAI\n",
    "import yfinance as yf\n",
    "from typing import List\n",
    "from langchain.schema import Document\n",
    "from langchain_core.prompts import ChatPromptTemplate\n",
    "from langchain_core.retrievers import BaseRetriever\n",
    "from langchain_openai import ChatOpenAI \n",
    "from typing import List, Optional\n",
    "import time\n",
    "from langchain_core.runnables import RunnablePassthrough, RunnableLambda\n",
    "from langchain_core.output_parsers import StrOutputParser"
   ]
  },
  {
   "cell_type": "markdown",
   "id": "9850dbaa",
   "metadata": {},
   "source": [
    "## Load news data\n",
    "We load a CSV file of financial news, focusing on TITLE and SUMMARY, along with metadata like TICKER and PUBLICATION_DATE.\n",
    "These will be embedded into vectors and used for semantic retrieval."
   ]
  },
  {
   "cell_type": "code",
   "execution_count": 3,
   "id": "a090ca1c",
   "metadata": {},
   "outputs": [],
   "source": [
    "K = 25"
   ]
  },
  {
   "cell_type": "code",
   "execution_count": 4,
   "id": "2e00999d",
   "metadata": {},
   "outputs": [
    {
     "data": {
      "text/html": [
       "<div>\n",
       "<style scoped>\n",
       "    .dataframe tbody tr th:only-of-type {\n",
       "        vertical-align: middle;\n",
       "    }\n",
       "\n",
       "    .dataframe tbody tr th {\n",
       "        vertical-align: top;\n",
       "    }\n",
       "\n",
       "    .dataframe thead th {\n",
       "        text-align: right;\n",
       "    }\n",
       "</style>\n",
       "<table border=\"1\" class=\"dataframe\">\n",
       "  <thead>\n",
       "    <tr style=\"text-align: right;\">\n",
       "      <th></th>\n",
       "      <th>TICKER</th>\n",
       "      <th>TITLE</th>\n",
       "      <th>SUMMARY</th>\n",
       "      <th>PUBLICATION_DATE</th>\n",
       "      <th>PROVIDER</th>\n",
       "      <th>URL</th>\n",
       "    </tr>\n",
       "  </thead>\n",
       "  <tbody>\n",
       "    <tr>\n",
       "      <th>0</th>\n",
       "      <td>MMM</td>\n",
       "      <td>2 Dow Jones Stocks with Promising Prospects an...</td>\n",
       "      <td>The Dow Jones (^DJI) is made up of 30 of the m...</td>\n",
       "      <td>2025-05-29</td>\n",
       "      <td>StockStory</td>\n",
       "      <td>https://finance.yahoo.com/news/2-dow-jones-sto...</td>\n",
       "    </tr>\n",
       "    <tr>\n",
       "      <th>1</th>\n",
       "      <td>MMM</td>\n",
       "      <td>3 S&amp;P 500 Stocks Skating on Thin Ice</td>\n",
       "      <td>The S&amp;P 500 (^GSPC) is often seen as a benchma...</td>\n",
       "      <td>2025-05-27</td>\n",
       "      <td>StockStory</td>\n",
       "      <td>https://finance.yahoo.com/news/3-p-500-stocks-...</td>\n",
       "    </tr>\n",
       "    <tr>\n",
       "      <th>2</th>\n",
       "      <td>MMM</td>\n",
       "      <td>3M Rises 15.8% YTD: Should You Buy the Stock N...</td>\n",
       "      <td>MMM is making strides in the aerospace, indust...</td>\n",
       "      <td>2025-05-22</td>\n",
       "      <td>Zacks</td>\n",
       "      <td>https://finance.yahoo.com/news/3m-rises-15-8-y...</td>\n",
       "    </tr>\n",
       "    <tr>\n",
       "      <th>3</th>\n",
       "      <td>MMM</td>\n",
       "      <td>Q1 Earnings Roundup: 3M (NYSE:MMM) And The Res...</td>\n",
       "      <td>Quarterly earnings results are a good time to ...</td>\n",
       "      <td>2025-05-22</td>\n",
       "      <td>StockStory</td>\n",
       "      <td>https://finance.yahoo.com/news/q1-earnings-rou...</td>\n",
       "    </tr>\n",
       "    <tr>\n",
       "      <th>4</th>\n",
       "      <td>MMM</td>\n",
       "      <td>3 Cash-Producing Stocks with Questionable Fund...</td>\n",
       "      <td>While strong cash flow is a key indicator of s...</td>\n",
       "      <td>2025-05-19</td>\n",
       "      <td>StockStory</td>\n",
       "      <td>https://finance.yahoo.com/news/3-cash-producin...</td>\n",
       "    </tr>\n",
       "    <tr>\n",
       "      <th>...</th>\n",
       "      <td>...</td>\n",
       "      <td>...</td>\n",
       "      <td>...</td>\n",
       "      <td>...</td>\n",
       "      <td>...</td>\n",
       "      <td>...</td>\n",
       "    </tr>\n",
       "    <tr>\n",
       "      <th>4866</th>\n",
       "      <td>ZTS</td>\n",
       "      <td>2 Dividend Stocks to Buy With $500 and Hold Fo...</td>\n",
       "      <td>Zoetis is a leading animal health company with...</td>\n",
       "      <td>2025-05-23</td>\n",
       "      <td>Motley Fool</td>\n",
       "      <td>https://www.fool.com/investing/2025/05/23/2-di...</td>\n",
       "    </tr>\n",
       "    <tr>\n",
       "      <th>4867</th>\n",
       "      <td>ZTS</td>\n",
       "      <td>Zoetis (NYSE:ZTS) Declares US$0.50 Dividend Pe...</td>\n",
       "      <td>Zoetis (NYSE:ZTS) recently affirmed a dividend...</td>\n",
       "      <td>2025-05-22</td>\n",
       "      <td>Simply Wall St.</td>\n",
       "      <td>https://finance.yahoo.com/news/zoetis-nyse-zts...</td>\n",
       "    </tr>\n",
       "    <tr>\n",
       "      <th>4868</th>\n",
       "      <td>ZTS</td>\n",
       "      <td>Jim Cramer on Zoetis (ZTS): “It Does Seem to B...</td>\n",
       "      <td>We recently published a list of Jim Cramer Tal...</td>\n",
       "      <td>2025-05-21</td>\n",
       "      <td>Insider Monkey</td>\n",
       "      <td>https://finance.yahoo.com/news/jim-cramer-zoet...</td>\n",
       "    </tr>\n",
       "    <tr>\n",
       "      <th>4869</th>\n",
       "      <td>ZTS</td>\n",
       "      <td>Zoetis (ZTS) Upgraded to Buy: Here's Why</td>\n",
       "      <td>Zoetis (ZTS) might move higher on growing opti...</td>\n",
       "      <td>2025-05-21</td>\n",
       "      <td>Zacks</td>\n",
       "      <td>https://finance.yahoo.com/news/zoetis-zts-upgr...</td>\n",
       "    </tr>\n",
       "    <tr>\n",
       "      <th>4870</th>\n",
       "      <td>ZTS</td>\n",
       "      <td>ZTS Q1 Earnings Call: Guidance Raised as Platf...</td>\n",
       "      <td>Animal health company Zoetis (NYSE:ZTS) report...</td>\n",
       "      <td>2025-05-19</td>\n",
       "      <td>StockStory</td>\n",
       "      <td>https://finance.yahoo.com/news/zts-q1-earnings...</td>\n",
       "    </tr>\n",
       "  </tbody>\n",
       "</table>\n",
       "<p>4871 rows × 6 columns</p>\n",
       "</div>"
      ],
      "text/plain": [
       "     TICKER                                              TITLE  \\\n",
       "0       MMM  2 Dow Jones Stocks with Promising Prospects an...   \n",
       "1       MMM               3 S&P 500 Stocks Skating on Thin Ice   \n",
       "2       MMM  3M Rises 15.8% YTD: Should You Buy the Stock N...   \n",
       "3       MMM  Q1 Earnings Roundup: 3M (NYSE:MMM) And The Res...   \n",
       "4       MMM  3 Cash-Producing Stocks with Questionable Fund...   \n",
       "...     ...                                                ...   \n",
       "4866    ZTS  2 Dividend Stocks to Buy With $500 and Hold Fo...   \n",
       "4867    ZTS  Zoetis (NYSE:ZTS) Declares US$0.50 Dividend Pe...   \n",
       "4868    ZTS  Jim Cramer on Zoetis (ZTS): “It Does Seem to B...   \n",
       "4869    ZTS           Zoetis (ZTS) Upgraded to Buy: Here's Why   \n",
       "4870    ZTS  ZTS Q1 Earnings Call: Guidance Raised as Platf...   \n",
       "\n",
       "                                                SUMMARY PUBLICATION_DATE  \\\n",
       "0     The Dow Jones (^DJI) is made up of 30 of the m...       2025-05-29   \n",
       "1     The S&P 500 (^GSPC) is often seen as a benchma...       2025-05-27   \n",
       "2     MMM is making strides in the aerospace, indust...       2025-05-22   \n",
       "3     Quarterly earnings results are a good time to ...       2025-05-22   \n",
       "4     While strong cash flow is a key indicator of s...       2025-05-19   \n",
       "...                                                 ...              ...   \n",
       "4866  Zoetis is a leading animal health company with...       2025-05-23   \n",
       "4867  Zoetis (NYSE:ZTS) recently affirmed a dividend...       2025-05-22   \n",
       "4868  We recently published a list of Jim Cramer Tal...       2025-05-21   \n",
       "4869  Zoetis (ZTS) might move higher on growing opti...       2025-05-21   \n",
       "4870  Animal health company Zoetis (NYSE:ZTS) report...       2025-05-19   \n",
       "\n",
       "             PROVIDER                                                URL  \n",
       "0          StockStory  https://finance.yahoo.com/news/2-dow-jones-sto...  \n",
       "1          StockStory  https://finance.yahoo.com/news/3-p-500-stocks-...  \n",
       "2               Zacks  https://finance.yahoo.com/news/3m-rises-15-8-y...  \n",
       "3          StockStory  https://finance.yahoo.com/news/q1-earnings-rou...  \n",
       "4          StockStory  https://finance.yahoo.com/news/3-cash-producin...  \n",
       "...               ...                                                ...  \n",
       "4866      Motley Fool  https://www.fool.com/investing/2025/05/23/2-di...  \n",
       "4867  Simply Wall St.  https://finance.yahoo.com/news/zoetis-nyse-zts...  \n",
       "4868   Insider Monkey  https://finance.yahoo.com/news/jim-cramer-zoet...  \n",
       "4869            Zacks  https://finance.yahoo.com/news/zoetis-zts-upgr...  \n",
       "4870       StockStory  https://finance.yahoo.com/news/zts-q1-earnings...  \n",
       "\n",
       "[4871 rows x 6 columns]"
      ]
     },
     "metadata": {},
     "output_type": "display_data"
    }
   ],
   "source": [
    "df_news = pd.read_csv('df_news.csv')\n",
    "df_news['PUBLICATION_DATE'] = pd.to_datetime(df_news['PUBLICATION_DATE']).dt.date\n",
    "display(df_news)"
   ]
  },
  {
   "cell_type": "code",
   "execution_count": 5,
   "id": "b0983a4a",
   "metadata": {},
   "outputs": [],
   "source": [
    "df_news['EMBEDDED_TEXT'] = df_news['TITLE'] + ' : ' + df_news['SUMMARY']"
   ]
  },
  {
   "cell_type": "code",
   "execution_count": 6,
   "id": "24f6c6e7",
   "metadata": {},
   "outputs": [],
   "source": [
    "model = SentenceTransformer('all-MiniLM-L6-v2')"
   ]
  },
  {
   "cell_type": "markdown",
   "id": "67c301aa",
   "metadata": {},
   "source": [
    "## Implement FAISS vector store\n",
    "We:\n",
    "- Use a pre-trained sentence transformer (all-MiniLM-L6-v2) to embed documents.\n",
    "- Normalize vectors to use cosine similarity.\n",
    "- Create a FAISS index and implement a basic search function.\n",
    "\n",
    "This will allow us to retrieve relevant news snippets given a natural language question.\n",
    " "
   ]
  },
  {
   "cell_type": "code",
   "execution_count": 7,
   "id": "607624fc",
   "metadata": {},
   "outputs": [],
   "source": [
    "# Load model and compute embeddings\n",
    "text_embeddings = model.encode(df_news['EMBEDDED_TEXT'].tolist(), convert_to_numpy=True)\n",
    "\n",
    "# Normalize embeddings to use cosine similarity (via inner product in FAISS)\n",
    "text_embeddings = text_embeddings / np.linalg.norm(text_embeddings, axis=1, keepdims=True)\n",
    "\n",
    "# Prepare metadata\n",
    "documents = df_news['EMBEDDED_TEXT'].tolist()\n",
    "metadata = [\n",
    "    {\n",
    "        'PUBLICATION_DATE': row['PUBLICATION_DATE'], \n",
    "        'TICKER': row['TICKER'], \n",
    "        'PROVIDER': row['PROVIDER']\n",
    "    }\n",
    "    for _, row in df_news.iterrows()\n",
    "]"
   ]
  },
  {
   "cell_type": "code",
   "execution_count": 8,
   "id": "a54162c2",
   "metadata": {},
   "outputs": [],
   "source": [
    "embedding_dim = text_embeddings.shape[1]\n",
    "faiss_index = faiss.IndexFlatIP(embedding_dim)  # Cosine similarity via inner product\n",
    "faiss_index.add(text_embeddings)"
   ]
  },
  {
   "cell_type": "code",
   "execution_count": 9,
   "id": "a6f85fd7",
   "metadata": {},
   "outputs": [],
   "source": [
    "class FaissVectorStore:\n",
    "    def __init__(self, model, index, embeddings, documents, metadata):\n",
    "        self.model = model\n",
    "        self.index = index\n",
    "        self.embeddings = embeddings\n",
    "        self.documents = documents\n",
    "        self.metadata = metadata\n",
    "\n",
    "    def search(self, query, k=5, metadata_filter=None):\n",
    "        query_embedding = self.model.encode([query])\n",
    "        query_embedding = query_embedding / np.linalg.norm(query_embedding)\n",
    "\n",
    "        if metadata_filter:\n",
    "            filtered_indices = [i for i, meta in enumerate(self.metadata) if metadata_filter(meta)]\n",
    "            if not filtered_indices:\n",
    "                return []\n",
    "            filtered_embeddings = self.embeddings[filtered_indices]\n",
    "            temp_index = faiss.IndexFlatIP(filtered_embeddings.shape[1])\n",
    "            temp_index.add(filtered_embeddings)\n",
    "            D, I = temp_index.search(query_embedding, k)\n",
    "            indices = [filtered_indices[i] for i in I[0]]\n",
    "        else:\n",
    "            D, I = self.index.search(query_embedding, k)\n",
    "            indices = I[0]\n",
    "            D = D[0]\n",
    "\n",
    "        results = []\n",
    "        for idx, sim in zip(indices, D):\n",
    "            results.append((self.documents[idx], self.metadata[idx], float(sim)))\n",
    "        return results"
   ]
  },
  {
   "cell_type": "code",
   "execution_count": 10,
   "id": "5c3e256d",
   "metadata": {},
   "outputs": [],
   "source": [
    "# Create FAISS-based store\n",
    "faiss_store = FaissVectorStore(\n",
    "    model=model,\n",
    "    index=faiss_index,\n",
    "    embeddings=text_embeddings,\n",
    "    documents=documents,\n",
    "    metadata=metadata\n",
    ")"
   ]
  },
  {
   "cell_type": "markdown",
   "id": "40c40d71",
   "metadata": {},
   "source": [
    "### Setup OpenAI Client\n",
    "\n",
    "👉 **Instructions**:\n",
    "- Import the `OpenAI` client from the `openai` Python library.\n",
    "- You will need an **OpenAI API key** to use their models programmatically:\n",
    "  - Go to [https://platform.openai.com/](https://platform.openai.com/) and sign up or log in.\n",
    "  - Create an API key from your [API keys dashboard](https://platform.openai.com/account/api-keys).\n",
    "  - ⚠️ **Keep your API key private** and **do not** share or hardcode it in public notebooks.\n",
    "- Note that **usage of the OpenAI API is not free**. You will need to:\n",
    "  - Add a payment method.\n",
    "  - Monitor your usage to avoid unexpected charges.\n",
    "  - Optionally set usage limits from your account settings.\n",
    "- You can refer to the **course’s Study Resources** for a step-by-step guide on creating an OpenAI account and retrieving your API key.\n",
    "\n",
    "Then:\n",
    "- Initialize the client with `OpenAI(api_key=\"YOUR_KEY_HERE\")`.\n",
    "- Send a test request using `.responses.create()` and the `\"gpt-4o-mini\"` model with a simple prompt:\n",
    "\n",
    "  ```python\n",
    "  response = client.responses.create(\n",
    "      model=\"gpt-4o-mini\",\n",
    "      input=\"Write a one-sentence bedtime story about a unicorn.\"\n",
    "  )\n",
    "  print(response.output_text)\n"
   ]
  },
  {
   "cell_type": "code",
   "execution_count": 11,
   "id": "bb8e09c7",
   "metadata": {},
   "outputs": [],
   "source": [
    "client = OpenAI()"
   ]
  },
  {
   "cell_type": "code",
   "execution_count": 12,
   "id": "4c050bd0",
   "metadata": {},
   "outputs": [
    {
     "name": "stdout",
     "output_type": "stream",
     "text": [
      "As the moonlight sparkled on her shimmering coat, the unicorn whispered to the stars her dreams of adventure, knowing that each twinkle would carry her wishes far and wide.\n"
     ]
    }
   ],
   "source": [
    "response = client.responses.create(\n",
    "    model=\"gpt-4o-mini\",\n",
    "    input=\"Write a one-sentence bedtime story about a unicorn.\"\n",
    ")\n",
    "\n",
    "print(response.output_text)"
   ]
  },
  {
   "cell_type": "markdown",
   "id": "15b1a560",
   "metadata": {},
   "source": [
    "## Retrieve Additional Metadata from Yahoo Finance\n",
    "\n",
    "👉 **Instructions**:\n",
    "- We will enrich our news dataset by retrieving **company-level metadata** using the `yfinance` library.\n",
    "- The goal is to map each unique stock ticker (`TICKER`) in the dataset to:\n",
    "  - `COMPANY_NAME`\n",
    "  - `SECTOR`\n",
    "  - `INDUSTRY`\n",
    "\n",
    "> ℹ️ `yfinance` fetches live data from Yahoo Finance. If you're running this in a cloud environment or during peak hours, expect some tickers to fail or rate limits to apply.\n",
    "\n",
    "✅ After this step, you will have a new DataFrame (e.g. `df_meta`) with the columns `TICKER`, `COMPANY_NAME`, `SECTOR`, `INDUSTRY` that maps tickers to their company names, sectors, and industries. This metadata will be useful later to add filters and analysis based on sector or industry categories.\n"
   ]
  },
  {
   "cell_type": "code",
   "execution_count": 13,
   "id": "57d90b86",
   "metadata": {},
   "outputs": [
    {
     "data": {
      "text/html": [
       "<div>\n",
       "<style scoped>\n",
       "    .dataframe tbody tr th:only-of-type {\n",
       "        vertical-align: middle;\n",
       "    }\n",
       "\n",
       "    .dataframe tbody tr th {\n",
       "        vertical-align: top;\n",
       "    }\n",
       "\n",
       "    .dataframe thead th {\n",
       "        text-align: right;\n",
       "    }\n",
       "</style>\n",
       "<table border=\"1\" class=\"dataframe\">\n",
       "  <thead>\n",
       "    <tr style=\"text-align: right;\">\n",
       "      <th></th>\n",
       "      <th>TICKER</th>\n",
       "      <th>COMPANY_NAME</th>\n",
       "      <th>SECTOR</th>\n",
       "      <th>INDUSTRY</th>\n",
       "    </tr>\n",
       "  </thead>\n",
       "  <tbody>\n",
       "    <tr>\n",
       "      <th>0</th>\n",
       "      <td>MMM</td>\n",
       "      <td>3M Company</td>\n",
       "      <td>Industrials</td>\n",
       "      <td>Conglomerates</td>\n",
       "    </tr>\n",
       "    <tr>\n",
       "      <th>1</th>\n",
       "      <td>AOS</td>\n",
       "      <td>A. O. Smith Corporation</td>\n",
       "      <td>Industrials</td>\n",
       "      <td>Specialty Industrial Machinery</td>\n",
       "    </tr>\n",
       "    <tr>\n",
       "      <th>2</th>\n",
       "      <td>ABT</td>\n",
       "      <td>Abbott Laboratories</td>\n",
       "      <td>Healthcare</td>\n",
       "      <td>Medical Devices</td>\n",
       "    </tr>\n",
       "    <tr>\n",
       "      <th>3</th>\n",
       "      <td>ABBV</td>\n",
       "      <td>AbbVie Inc.</td>\n",
       "      <td>Healthcare</td>\n",
       "      <td>Drug Manufacturers - General</td>\n",
       "    </tr>\n",
       "    <tr>\n",
       "      <th>4</th>\n",
       "      <td>ACN</td>\n",
       "      <td>Accenture plc</td>\n",
       "      <td>Technology</td>\n",
       "      <td>Information Technology Services</td>\n",
       "    </tr>\n",
       "    <tr>\n",
       "      <th>...</th>\n",
       "      <td>...</td>\n",
       "      <td>...</td>\n",
       "      <td>...</td>\n",
       "      <td>...</td>\n",
       "    </tr>\n",
       "    <tr>\n",
       "      <th>485</th>\n",
       "      <td>XEL</td>\n",
       "      <td>Xcel Energy Inc.</td>\n",
       "      <td>Utilities</td>\n",
       "      <td>Utilities - Regulated Electric</td>\n",
       "    </tr>\n",
       "    <tr>\n",
       "      <th>486</th>\n",
       "      <td>XYL</td>\n",
       "      <td>Xylem Inc.</td>\n",
       "      <td>Industrials</td>\n",
       "      <td>Specialty Industrial Machinery</td>\n",
       "    </tr>\n",
       "    <tr>\n",
       "      <th>487</th>\n",
       "      <td>YUM</td>\n",
       "      <td>Yum! Brands, Inc.</td>\n",
       "      <td>Consumer Cyclical</td>\n",
       "      <td>Restaurants</td>\n",
       "    </tr>\n",
       "    <tr>\n",
       "      <th>488</th>\n",
       "      <td>ZBH</td>\n",
       "      <td>Zimmer Biomet Holdings, Inc.</td>\n",
       "      <td>Healthcare</td>\n",
       "      <td>Medical Devices</td>\n",
       "    </tr>\n",
       "    <tr>\n",
       "      <th>489</th>\n",
       "      <td>ZTS</td>\n",
       "      <td>Zoetis Inc.</td>\n",
       "      <td>Healthcare</td>\n",
       "      <td>Drug Manufacturers - Specialty &amp; Generic</td>\n",
       "    </tr>\n",
       "  </tbody>\n",
       "</table>\n",
       "<p>490 rows × 4 columns</p>\n",
       "</div>"
      ],
      "text/plain": [
       "    TICKER                  COMPANY_NAME             SECTOR  \\\n",
       "0      MMM                    3M Company        Industrials   \n",
       "1      AOS       A. O. Smith Corporation        Industrials   \n",
       "2      ABT           Abbott Laboratories         Healthcare   \n",
       "3     ABBV                   AbbVie Inc.         Healthcare   \n",
       "4      ACN                 Accenture plc         Technology   \n",
       "..     ...                           ...                ...   \n",
       "485    XEL              Xcel Energy Inc.          Utilities   \n",
       "486    XYL                    Xylem Inc.        Industrials   \n",
       "487    YUM             Yum! Brands, Inc.  Consumer Cyclical   \n",
       "488    ZBH  Zimmer Biomet Holdings, Inc.         Healthcare   \n",
       "489    ZTS                   Zoetis Inc.         Healthcare   \n",
       "\n",
       "                                     INDUSTRY  \n",
       "0                               Conglomerates  \n",
       "1              Specialty Industrial Machinery  \n",
       "2                             Medical Devices  \n",
       "3                Drug Manufacturers - General  \n",
       "4             Information Technology Services  \n",
       "..                                        ...  \n",
       "485            Utilities - Regulated Electric  \n",
       "486            Specialty Industrial Machinery  \n",
       "487                               Restaurants  \n",
       "488                           Medical Devices  \n",
       "489  Drug Manufacturers - Specialty & Generic  \n",
       "\n",
       "[490 rows x 4 columns]"
      ]
     },
     "execution_count": 13,
     "metadata": {},
     "output_type": "execute_result"
    }
   ],
   "source": [
    "tickers = df_news[\"TICKER\"].dropna().unique().tolist()\n",
    "\n",
    "meta_records = []\n",
    "\n",
    "for ticker in tickers:\n",
    "    try:\n",
    "        info = yf.Ticker(ticker).get_info()\n",
    "        meta_records.append({\n",
    "            \"TICKER\": ticker,\n",
    "            \"COMPANY_NAME\": info.get(\"longName\") or info.get(\"shortName\"),\n",
    "            \"SECTOR\": info.get(\"sector\"),\n",
    "            \"INDUSTRY\": info.get(\"industry\")\n",
    "        })\n",
    "    except Exception as e:\n",
    "        print(f\"⚠️ Could not fetch info for {ticker}: {e}\")\n",
    "        meta_records.append({\n",
    "            \"TICKER\": ticker,\n",
    "            \"COMPANY_NAME\": None,\n",
    "            \"SECTOR\": None,\n",
    "            \"INDUSTRY\": None\n",
    "        })\n",
    "\n",
    "df_meta = pd.DataFrame(meta_records)\n",
    "df_meta"
   ]
  },
  {
   "cell_type": "code",
   "execution_count": 14,
   "id": "c3ecf038",
   "metadata": {},
   "outputs": [
    {
     "data": {
      "text/plain": [
       "490"
      ]
     },
     "execution_count": 14,
     "metadata": {},
     "output_type": "execute_result"
    }
   ],
   "source": [
    "len(tickers)"
   ]
  },
  {
   "cell_type": "markdown",
   "id": "f1cb5429",
   "metadata": {},
   "source": [
    "## Retrieval-Augmented Generation (RAG): Retrieve Documents and Generate Answers\n",
    "\n",
    "👉 **Instructions**:\n",
    "\n",
    "In this part of the assignment, your task is to build a simple Retrieval-Augmented Generation (RAG) pipeline that:\n",
    "\n",
    "- Takes a user question as input.\n",
    "- Searches the FAISS vector store to find a set of relevant financial news articles based on semantic similarity.\n",
    "- Uses the retrieved news articles as context to generate a clear, concise answer to the question by interacting with the OpenAI language model.\n",
    "- Returns both the generated answer and the underlying news snippets used for context.\n",
    "\n",
    "### What you need to focus on:\n",
    "\n",
    "- Implement a retrieval mechanism to query your vector store and obtain the top relevant documents for any question.\n",
    "- Construct prompts that effectively combine retrieved news content with the user’s question to guide the language model’s response.\n",
    "- Use the OpenAI API to generate answers grounded in the retrieved context.\n",
    "- Organize the outputs so that for each question, you have:\n",
    "  - The generated answer.\n",
    "  - The collection of news excerpts used to produce that answer.\n",
    "\n",
    "### What you will be provided:\n",
    "\n",
    "- Helper functions to display outputs in markdown format.\n",
    "- Lists of example questions covering topics, companies, and industries to test your implementation.\n",
    "\n",
    "---\n",
    "\n",
    "Your solution can take any form or structure you find appropriate, as long as it fulfills these core objectives. This exercise will give you hands-on experience with integrating retrieval and generation for practical applications in finance.\n"
   ]
  },
  {
   "cell_type": "markdown",
   "id": "aa99a272",
   "metadata": {},
   "source": [
    "#### Print markdown\n",
    "You can use the following function to print answers from GPT4o-mini in markdown."
   ]
  },
  {
   "cell_type": "code",
   "execution_count": 15,
   "id": "9165af0a",
   "metadata": {},
   "outputs": [],
   "source": [
    "from IPython.display import Markdown, display\n",
    "\n",
    "def print_markdown(text):\n",
    "    display(Markdown(text))"
   ]
  },
  {
   "cell_type": "markdown",
   "id": "9b4f82b9",
   "metadata": {},
   "source": [
    "#### Predefined questions"
   ]
  },
  {
   "cell_type": "code",
   "execution_count": 16,
   "id": "3f4b75dd",
   "metadata": {},
   "outputs": [],
   "source": [
    "questions_topic = [\n",
    "\"What are the major concerns expressed in financial news about inflation?\",\n",
    "\"How is investor sentiment described in recent financial headlines?\",\n",
    "\"What role is artificial intelligence playing in recent finance-related news stories?\"\n",
    "]\n",
    "\n",
    "questions_company = [\n",
    "\"How is Microsoft being portrayed in news stories about artificial intelligence?\",\n",
    "\"What financial news headlines connect Amazon with automation or logistics?\"\n",
    "]\n",
    "\n",
    "questions_industry = [\n",
    "\"What are the main themes emerging in financial news about the semiconductor industry?\",\n",
    "\"What trends are being reported in the retail industry?\",\n",
    "\"What risks or challenges are discussed in recent news about the energy industry?\"\n",
    "]"
   ]
  },
  {
   "cell_type": "code",
   "execution_count": 17,
   "id": "4ae50eb2",
   "metadata": {},
   "outputs": [
    {
     "name": "stderr",
     "output_type": "stream",
     "text": [
      "/Users/oscar.garcia@digitalfemsa.com/Library/Python/3.9/lib/python/site-packages/pydantic/_internal/_generate_schema.py:628: UserWarning: <built-in function any> is not a Python type (it may be an instance of an object), Pydantic will allow any object with no validation since we cannot even enforce that the input is an instance of the given type. To get rid of this error wrap the type with `pydantic.SkipValidation`.\n",
      "  warn(\n",
      "/Users/oscar.garcia@digitalfemsa.com/Library/Python/3.9/lib/python/site-packages/pydantic/_internal/_generate_schema.py:628: UserWarning: <built-in function callable> is not a Python type (it may be an instance of an object), Pydantic will allow any object with no validation since we cannot even enforce that the input is an instance of the given type. To get rid of this error wrap the type with `pydantic.SkipValidation`.\n",
      "  warn(\n"
     ]
    }
   ],
   "source": [
    "#Faiss Store Retriever\n",
    "\n",
    "class FaissStoreRetriever(BaseRetriever):\n",
    "\n",
    "    store: any  # your FaissVectorStore type\n",
    "    k: int = 5\n",
    "    metadata_filter: Optional[callable] = None\n",
    "\n",
    "    def _get_relevant_documents(self, query: str) -> List[Document]:\n",
    "        results = self.store.search(query, k=self.k, metadata_filter=self.metadata_filter)\n",
    "        docs = []\n",
    "        for doc_text, meta, score in results:\n",
    "            m = dict(meta)\n",
    "            m[\"similarity\"] = float(score)\n",
    "            docs.append(Document(page_content=doc_text, metadata=m))\n",
    "        return docs\n",
    "\n",
    "retriever = FaissStoreRetriever(store=faiss_store, k=5)\n",
    "\n"
   ]
  },
  {
   "cell_type": "code",
   "execution_count": 18,
   "id": "735c1d58",
   "metadata": {},
   "outputs": [],
   "source": [
    "# Prompt Definition\n",
    "\n",
    "prompt = ChatPromptTemplate.from_template(\n",
    "    \"\"\"You are a financial research assistant. Use only the provided context to answer.\n",
    "If the context is insufficient, say so. Cite sources as [Doc i], where i is the order given.\n",
    "\n",
    "Question: {question}\n",
    "\n",
    "Context:\n",
    "{context}\n",
    "\n",
    "Answer (concise, factual, with [Doc i] citations):\"\"\"\n",
    ")"
   ]
  },
  {
   "cell_type": "code",
   "execution_count": 19,
   "id": "307bb702",
   "metadata": {},
   "outputs": [],
   "source": [
    "# Function to format the documents for display\n",
    "\n",
    "def format_docs(docs: List[Document], max_chars=600):\n",
    "    out = []\n",
    "    for i, d in enumerate(docs, 1):\n",
    "        txt = d.page_content.replace(\"\\n\", \" \").strip()\n",
    "        if len(txt) > max_chars:\n",
    "            txt = txt[:max_chars] + \"…\"\n",
    "        meta = d.metadata\n",
    "        meta_str = f\"(Ticker: {meta.get('TICKER')}, Provider: {meta.get('PROVIDER')}, Date: {meta.get('PUBLICATION_DATE')})\"\n",
    "        out.append(f\"[Doc {i}] {txt}\\n{meta_str}\")\n",
    "    return \"\\n\\n\".join(out) if out else \"No context found.\"\n",
    "\n",
    "llm = ChatOpenAI(model=\"gpt-4o-mini\", temperature=0.1)\n",
    "\n"
   ]
  },
  {
   "cell_type": "code",
   "execution_count": 20,
   "id": "e2a5c99b",
   "metadata": {},
   "outputs": [],
   "source": [
    "# This function wraps retrieval + snippet formatting into a single step\n",
    "\n",
    "def prepare_context(inputs):\n",
    "    docs = inputs[\"docs\"]\n",
    "    context_text = format_docs(docs)\n",
    "    # Extract snippet text for return\n",
    "    snippets = [\n",
    "        {\n",
    "            \"text\": d.page_content,\n",
    "            \"metadata\": d.metadata\n",
    "        }\n",
    "        for d in docs\n",
    "    ]\n",
    "    return {\n",
    "        \"question\": inputs[\"question\"],\n",
    "        \"context\": context_text,\n",
    "        \"snippets\": snippets\n",
    "    }\n",
    "\n",
    "rag_chain = (\n",
    "    {\"question\": RunnablePassthrough(), \"docs\": retriever}\n",
    "    | RunnableLambda(prepare_context) \n",
    "    | {\n",
    "        \"answer\": ({\"question\": RunnablePassthrough(), \"context\": RunnablePassthrough()}\n",
    "                   | prompt\n",
    "                   | llm\n",
    "                   | StrOutputParser()),\n",
    "        \"snippets\": RunnableLambda(lambda x: x[\"snippets\"])\n",
    "      }\n",
    ")"
   ]
  },
  {
   "cell_type": "code",
   "execution_count": 21,
   "id": "05402970",
   "metadata": {},
   "outputs": [],
   "source": [
    "#Function to convert snippets to Markdown format\n",
    "\n",
    "def snippets_to_markdown(snippets):\n",
    "    if not snippets:\n",
    "        return \"_No supporting snippets found._\"\n",
    "    lines = []\n",
    "    for i, sn in enumerate(snippets, 1):\n",
    "        meta = sn[\"metadata\"] or {}\n",
    "        ticker = meta.get(\"TICKER\", \"—\")\n",
    "        provider = meta.get(\"PROVIDER\", \"—\")\n",
    "        date = meta.get(\"PUBLICATION_DATE\", \"—\")\n",
    "        sim = meta.get(\"similarity\")\n",
    "        sim_txt = f\", sim={sim:.3f}\" if isinstance(sim, (int, float)) else \"\"\n",
    "        # Trim long text for readability\n",
    "        text = sn[\"text\"].replace(\"\\n\", \" \").strip()\n",
    "        if len(text) > 600:\n",
    "            text = text[:600] + \"…\"\n",
    "        lines.append(f\"**[Doc {i}]** *(Ticker: {ticker}, Provider: {provider}, Date: {date}{sim_txt})*\\n\\n> {text}\\n\")\n",
    "    return \"\\n\".join(lines)\n",
    "\n",
    "# Function to run a list of questions and print answers in Markdown format\n",
    "\n",
    "def run_question_list(question_list, section_title):\n",
    "    print_markdown(f\"# {section_title}\")\n",
    "    for q in question_list:\n",
    "        out = rag_chain.invoke(q)\n",
    "        answer_md = f\"**Q:** {q}\\n\\n**A:** {out['answer']}\"\n",
    "        sources_md = f\"\\n\\n**Snippets used:**\\n\\n{snippets_to_markdown(out['snippets'])}\"\n",
    "        print_markdown(answer_md + sources_md)"
   ]
  },
  {
   "cell_type": "code",
   "execution_count": 22,
   "id": "bd60c1c7",
   "metadata": {},
   "outputs": [
    {
     "data": {
      "text/markdown": [
       "# Topic Questions"
      ],
      "text/plain": [
       "<IPython.core.display.Markdown object>"
      ]
     },
     "metadata": {},
     "output_type": "display_data"
    },
    {
     "data": {
      "text/markdown": [
       "**Q:** What are the major concerns expressed in financial news about inflation?\n",
       "\n",
       "**A:** The major concerns expressed in financial news about inflation include:\n",
       "\n",
       "1. Persistent US inflation and its potential to lead to an economic slowdown, as highlighted in the Federal Reserve's May policy meeting [Doc 1].\n",
       "2. Food inflation dampening hopes for a rate cut, indicating that rising food prices are impacting monetary policy considerations [Doc 2], [Doc 3], [Doc 4], [Doc 5].\n",
       "\n",
       "**Snippets used:**\n",
       "\n",
       "**[Doc 1]** *(Ticker: BLK, Provider: Yahoo Finance UK, Date: 2025-05-29, sim=0.577)*\n",
       "\n",
       "> Bitcoin price slips as Fed minutes flag US inflation risks : The Federal Reserve’s May policy meeting revealed mounting concern over persistent US inflation and the potential for economic slowdown.\n",
       "\n",
       "**[Doc 2]** *(Ticker: TSLA, Provider: Yahoo Finance UK, Date: 2025-05-31, sim=0.492)*\n",
       "\n",
       "> The Weekend: Food inflation dampens hopes of a rate cut as tariff twists and turns continue : Key moments from the last seven days, plus a glimpse at the week ahead\n",
       "\n",
       "**[Doc 3]** *(Ticker: NVDA, Provider: Yahoo Finance UK, Date: 2025-05-31, sim=0.492)*\n",
       "\n",
       "> The Weekend: Food inflation dampens hopes of a rate cut as tariff twists and turns continue : Key moments from the last seven days, plus a glimpse at the week ahead\n",
       "\n",
       "**[Doc 4]** *(Ticker: LULU, Provider: Yahoo Finance UK, Date: 2025-05-31, sim=0.492)*\n",
       "\n",
       "> The Weekend: Food inflation dampens hopes of a rate cut as tariff twists and turns continue : Key moments from the last seven days, plus a glimpse at the week ahead\n",
       "\n",
       "**[Doc 5]** *(Ticker: AVGO, Provider: Yahoo Finance UK, Date: 2025-05-31, sim=0.492)*\n",
       "\n",
       "> The Weekend: Food inflation dampens hopes of a rate cut as tariff twists and turns continue : Key moments from the last seven days, plus a glimpse at the week ahead\n"
      ],
      "text/plain": [
       "<IPython.core.display.Markdown object>"
      ]
     },
     "metadata": {},
     "output_type": "display_data"
    },
    {
     "data": {
      "text/markdown": [
       "**Q:** How is investor sentiment described in recent financial headlines?\n",
       "\n",
       "**A:** Investor sentiment in recent financial headlines is characterized by a mix of optimism and skepticism. Many articles highlight ambitious price targets and bullish outlooks from Wall Street, suggesting attractive upside potential for certain stocks. However, there is a cautionary tone regarding the reliability of these forecasts due to institutional pressures on analysts, which may lead to overly optimistic predictions [Doc 1], [Doc 3], [Doc 5]. Additionally, some stocks are noted for their strong performance driven by positive catalysts, yet the sentiment remains tempered by the understanding that analysts often avoid issuing negative ratings to maintain business relationships [Doc 2], [Doc 4].\n",
       "\n",
       "**Snippets used:**\n",
       "\n",
       "**[Doc 1]** *(Ticker: KMX, Provider: StockStory, Date: 2025-05-26, sim=0.612)*\n",
       "\n",
       "> 3 of Wall Street’s Favorite Stocks Facing Headwinds : Wall Street has set ambitious price targets for the stocks in this article. While this suggests attractive upside potential, it’s important to remain skeptical because analysts face institutional pressures that can sometimes lead to overly optimistic forecasts.\n",
       "\n",
       "**[Doc 2]** *(Ticker: MCHP, Provider: StockStory, Date: 2025-05-20, sim=0.598)*\n",
       "\n",
       "> 3 Hyped Up  Stocks Facing Headwinds : Great things are happening to the stocks in this article. They’re all outperforming the market over the last month because of positive catalysts such as a new product line, constructive news flow, or even a loyal Reddit fanbase.\n",
       "\n",
       "**[Doc 3]** *(Ticker: MPWR, Provider: StockStory, Date: 2025-05-06, sim=0.589)*\n",
       "\n",
       "> 1 of Wall Street’s Favorite Stock with Impressive Fundamentals and 2 to Think Twice About : The stocks in this article have caught Wall Street’s attention in a big way, with price targets implying returns above 20%. But investors should take these forecasts with a grain of salt because analysts typically say nice things about companies so their firms can win business in other product lines like M&A advisory.\n",
       "\n",
       "**[Doc 4]** *(Ticker: DRI, Provider: StockStory, Date: 2025-05-21, sim=0.577)*\n",
       "\n",
       "> 1 Unpopular Stock that Should Get More Attention and 2 to Steer Clear Of : When Wall Street turns bearish on a stock, it’s worth paying attention. These calls stand out because analysts rarely issue grim ratings on companies for fear their firms will lose out in other business lines such as M&A advisory.\n",
       "\n",
       "**[Doc 5]** *(Ticker: RVTY, Provider: StockStory, Date: 2025-05-23, sim=0.570)*\n",
       "\n",
       "> 3 of Wall Street’s Favorite Stocks with Questionable Fundamentals : Wall Street is overwhelmingly bullish on the stocks in this article, with price targets suggesting significant upside potential. However, it’s worth remembering that analysts rarely issue sell ratings, partly because their firms often seek other business from the same companies they cover.\n"
      ],
      "text/plain": [
       "<IPython.core.display.Markdown object>"
      ]
     },
     "metadata": {},
     "output_type": "display_data"
    },
    {
     "data": {
      "text/markdown": [
       "**Q:** What role is artificial intelligence playing in recent finance-related news stories?\n",
       "\n",
       "**A:** Artificial intelligence (AI) is playing a significant role in recent finance-related news stories by enhancing productivity, reducing human error, and driving investment opportunities. For instance, Jack Henry & Associates is integrating AI-driven lending technology to improve efficiency in financial services [Doc 1]. Additionally, companies like Meta Platforms are investing in various AI applications, which could potentially increase their stock value beyond their current legacy business valuations [Doc 2]. \n",
       "\n",
       "Billionaire hedge fund managers are also investing in AI stocks such as Palantir and Upstart, with analysts predicting substantial upside due to their AI capabilities in government and commercial sectors, as well as credit risk assessment [Doc 3]. Palantir, in particular, has seen significant stock gains as it helps clients integrate generative AI into their operations [Doc 4]. Furthermore, generative AI is recognized for its potential to streamline tasks in content production, as seen with companies like Netflix [Doc 5].\n",
       "\n",
       "**Snippets used:**\n",
       "\n",
       "**[Doc 1]** *(Ticker: JKHY, Provider: Insider Monkey, Date: 2025-03-17, sim=0.697)*\n",
       "\n",
       "> Jack Henry (JKHY) Integrates AI-Driven Lending Tech With Algebrik : We recently published a list of 12 AI News Investors Should Not Miss This Week. In this article, we are going to take a look at where Jack Henry & Associates, Inc. (NASDAQ:JKHY) stands against other AI news Investors should not miss this week. Artificial Intelligence (AI) is known to increase productivity, decrease human error, […]\n",
       "\n",
       "**[Doc 2]** *(Ticker: META, Provider: Motley Fool, Date: 2025-05-31, sim=0.626)*\n",
       "\n",
       "> This \"Magnificent Seven\" Stock Is Set to Skyrocket If Its AI Investments Pay Off : Meta Platforms has investments in several AI applications.  The tech giant's stock is only valued on its legacy business.  Over the past two-and-a-half years, investors have heard about various artificial intelligence (AI) investments that tech companies are making.\n",
       "\n",
       "**[Doc 3]** *(Ticker: PLTR, Provider: Motley Fool, Date: 2025-05-31, sim=0.619)*\n",
       "\n",
       "> Billionaires Are Buying 2 Artificial Intelligence (AI) Stocks That Wall Street Analysts Say Can Soar Up to 240% : Several billionaire hedge fund managers bought shares of Palantir and/or Upstart in the first quarter -- stocks where certain analysts anticipate substantial upside.  Palantir is successfully tapping demand for artificial intelligence (AI) with government and commercial customers, but the stock trades at a very expensive valuation.  Upstart is generating attractive returns for lenders by helping them quantify credit risk with artificial intelligence, and the stock trades at a very …\n",
       "\n",
       "**[Doc 4]** *(Ticker: PLTR, Provider: Motley Fool, Date: 2025-05-31, sim=0.618)*\n",
       "\n",
       "> Better Artificial Intelligence (AI) Stock: Palantir vs. Snowflake : Shares of both Palantir and Snowflake have delivered healthy gains in 2025 despite the broader stock market weakness.  Palantir stock has shot up 63% this year despite bouts of volatility.  Palantir Technologies helps commercial and government clients integrate generative AI capabilities into their operations with its Artificial Intelligence Platform (AIP), which was launched roughly two years ago.\n",
       "\n",
       "**[Doc 5]** *(Ticker: NFLX, Provider: Motley Fool, Date: 2025-05-29, sim=0.580)*\n",
       "\n",
       "> 2 Underrated Artificial Intelligence (AI) Stocks to Buy and Hold : Generative AI can simplify and speed up many tasks, including content production.  It's easy to see the potential for Netflix, whose content strategy is integral to its success.  Netflix's creations have attracted millions of viewers and won many awards.\n"
      ],
      "text/plain": [
       "<IPython.core.display.Markdown object>"
      ]
     },
     "metadata": {},
     "output_type": "display_data"
    },
    {
     "data": {
      "text/markdown": [
       "# Company Questions"
      ],
      "text/plain": [
       "<IPython.core.display.Markdown object>"
      ]
     },
     "metadata": {},
     "output_type": "display_data"
    },
    {
     "data": {
      "text/markdown": [
       "**Q:** How is Microsoft being portrayed in news stories about artificial intelligence?\n",
       "\n",
       "**A:** The provided context does not contain any information about Microsoft or its portrayal in news stories about artificial intelligence. Therefore, I cannot answer the question based on the given context.\n",
       "\n",
       "**Snippets used:**\n",
       "\n",
       "**[Doc 1]** *(Ticker: META, Provider: Motley Fool, Date: 2025-05-31, sim=0.543)*\n",
       "\n",
       "> This \"Magnificent Seven\" Stock Is Set to Skyrocket If Its AI Investments Pay Off : Meta Platforms has investments in several AI applications.  The tech giant's stock is only valued on its legacy business.  Over the past two-and-a-half years, investors have heard about various artificial intelligence (AI) investments that tech companies are making.\n",
       "\n",
       "**[Doc 2]** *(Ticker: CRM, Provider: Yahoo Finance Video, Date: 2025-05-29, sim=0.505)*\n",
       "\n",
       "> How Salesforce has 'overcorrected' by leaning into AI : D.A. Davidson head of technology research Gil Luria joins Market Domination to discuss Salesforce (CRM) earnings and the company's trajectory. Luria says Salesforce is \"too focused\" on artificial intelligence (AI), as the other parts of its business \"rapidly\" decelerate and the company loses market share to competitors. Luria has the equivalent of a Sell rating on the stock. To watch more expert insights and analysis on the latest market action, check out more Market Domination here.\n",
       "\n",
       "**[Doc 3]** *(Ticker: JKHY, Provider: Insider Monkey, Date: 2025-03-17, sim=0.484)*\n",
       "\n",
       "> Jack Henry (JKHY) Integrates AI-Driven Lending Tech With Algebrik : We recently published a list of 12 AI News Investors Should Not Miss This Week. In this article, we are going to take a look at where Jack Henry & Associates, Inc. (NASDAQ:JKHY) stands against other AI news Investors should not miss this week. Artificial Intelligence (AI) is known to increase productivity, decrease human error, […]\n",
       "\n",
       "**[Doc 4]** *(Ticker: NFLX, Provider: Motley Fool, Date: 2025-05-29, sim=0.463)*\n",
       "\n",
       "> 2 Underrated Artificial Intelligence (AI) Stocks to Buy and Hold : Generative AI can simplify and speed up many tasks, including content production.  It's easy to see the potential for Netflix, whose content strategy is integral to its success.  Netflix's creations have attracted millions of viewers and won many awards.\n",
       "\n",
       "**[Doc 5]** *(Ticker: META, Provider: Insider Monkey, Date: 2025-05-30, sim=0.461)*\n",
       "\n",
       "> Meta (META) AI Reaches 1 Billion Users, Eyes Paid Features and Subscriptions : We recently published a list of 10 AI Stocks on Wall Street’s Radar. In this article, we are going to take a look at where Meta Platforms, Inc. (NASDAQ:META) stands against other AI stocks on Wall Street’s radar. Meta Platforms, Inc. (NASDAQ:META) is a global technology company. On May 28, CNBC reported that Meta Platforms, Inc. (NASDAQ:META)’s artificial […]\n"
      ],
      "text/plain": [
       "<IPython.core.display.Markdown object>"
      ]
     },
     "metadata": {},
     "output_type": "display_data"
    },
    {
     "data": {
      "text/markdown": [
       "**Q:** What financial news headlines connect Amazon with automation or logistics?\n",
       "\n",
       "**A:** The context provided does not contain specific financial news headlines that directly connect Amazon with automation or logistics. However, there are mentions of Amazon's use of artificial intelligence in its operations, which may relate to automation indirectly. For instance, in [Doc 2], Matt Garman, CEO of Amazon Web Services, discusses how every aspect of Amazon is leveraging artificial intelligence. Additionally, [Doc 3] mentions automation in the context of Woodward's earnings growth, but it does not specifically link to Amazon. Therefore, the context is insufficient to provide direct headlines connecting Amazon with automation or logistics.\n",
       "\n",
       "**Snippets used:**\n",
       "\n",
       "**[Doc 1]** *(Ticker: TFC, Provider: Insider Monkey, Date: 2025-05-25, sim=0.601)*\n",
       "\n",
       "> Truist Reiterates Buy on Amazon.com (AMZN) as Q2 Revenue Tracks Ahead : We recently published a list of 10 AI Stocks on Wall Street’s Radar. In this article, we are going to take a look at where Amazon.com Inc. (NASDAQ:AMZN) stands against other AI stocks on Wall Street’s radar. Amazon.com Inc. (NASDAQ:AMZN) is an American technology company offering e-commerce, cloud computing, and other services, including digital streaming […]\n",
       "\n",
       "**[Doc 2]** *(Ticker: AMZN, Provider: Bloomberg, Date: 2025-05-30, sim=0.523)*\n",
       "\n",
       "> Amazon's AI Roadmap With AWS CEO Garman : Every aspect of Amazon is leveraging artificial intelligence, says Matt Garman, CEO of Amazon Web Services. Garman discusses Amazon's AI roadmap and reflects on his first year in the role with Ed Ludlow on \"Bloomberg Technology.\"\n",
       "\n",
       "**[Doc 3]** *(Ticker: TFC, Provider: MT Newswires, Date: 2025-05-23, sim=0.516)*\n",
       "\n",
       "> Woodward's Volumes, Automation to Drive Earnings Growth, Truist Says : Woodward's (WWD) increasing volumes, pricing, automation, and products will push its aerospace margi\n",
       "\n",
       "**[Doc 4]** *(Ticker: AON, Provider: Zacks, Date: 2025-04-30, sim=0.513)*\n",
       "\n",
       "> Top Stock Reports for Amazon.com, Johnson & Johnson & Cisco Systems : Today's Research Daily features new research reports on 16 major stocks, including Amazon.com, Inc. (AMZN), Johnson & Johnson (JNJ) and Cisco Systems, Inc. (CSCO), as well as a micro-cap NeurAxis, Inc. (NRXS).\n",
       "\n",
       "**[Doc 5]** *(Ticker: CHRW, Provider: StockStory, Date: 2025-05-23, sim=0.503)*\n",
       "\n",
       "> Winners And Losers Of Q1: C.H. Robinson Worldwide (NASDAQ:CHRW) Vs The Rest Of The Air Freight and Logistics Stocks : As the craze of earnings season draws to a close, here’s a look back at some of the most exciting (and some less so) results from Q1. Today, we are looking at air freight and logistics stocks, starting with C.H. Robinson Worldwide (NASDAQ:CHRW).\n"
      ],
      "text/plain": [
       "<IPython.core.display.Markdown object>"
      ]
     },
     "metadata": {},
     "output_type": "display_data"
    },
    {
     "data": {
      "text/markdown": [
       "# Industry Questions"
      ],
      "text/plain": [
       "<IPython.core.display.Markdown object>"
      ]
     },
     "metadata": {},
     "output_type": "display_data"
    },
    {
     "data": {
      "text/markdown": [
       "**Q:** What are the main themes emerging in financial news about the semiconductor industry?\n",
       "\n",
       "**A:** The main themes emerging in financial news about the semiconductor industry include:\n",
       "\n",
       "1. **International Revenue Trends**: There is a focus on the international revenue trends of ON Semiconductor Corp. and how these trends impact Wall Street's forecasts and the stock's future performance [Doc 1].\n",
       "\n",
       "2. **Investor Attention**: ON Semiconductor is attracting significant attention from investors, indicating a growing interest in its stock and potential future developments [Doc 2].\n",
       "\n",
       "3. **Earnings Performance**: Despite soft earnings reports, there appears to be an optimistic sentiment among shareholders regarding ON Semiconductor, suggesting resilience in investor confidence [Doc 3].\n",
       "\n",
       "4. **Market Assessment**: The end of the earnings season is seen as an opportunity to evaluate how various semiconductor companies, including Vishay Intertechnology, are navigating the current business environment [Doc 4].\n",
       "\n",
       "5. **Stock Picks by Influential Investors**: ON Semiconductor is highlighted as one of the stock picks by billionaire Glenn Russell Dubin, indicating its perceived potential for significant upside [Doc 5]. \n",
       "\n",
       "These themes reflect a mix of financial performance analysis, investor sentiment, and market opportunities within the semiconductor sector.\n",
       "\n",
       "**Snippets used:**\n",
       "\n",
       "**[Doc 1]** *(Ticker: ON, Provider: Zacks, Date: 2025-05-13, sim=0.643)*\n",
       "\n",
       "> Investing in ON Semiconductor Corp. (ON)? Don't Miss Assessing Its International Revenue Trends : Explore ON Semiconductor Corp.'s (ON) international revenue trends and how these numbers impact Wall Street's forecasts and what's ahead for the stock.\n",
       "\n",
       "**[Doc 2]** *(Ticker: ON, Provider: Zacks, Date: 2025-05-21, sim=0.582)*\n",
       "\n",
       "> ON Semiconductor Corporation (ON) is Attracting Investor Attention: Here is What You Should Know : Recently, Zacks.com users have been paying close attention to ON Semiconductor Corp. (ON). This makes it worthwhile to examine what the stock has in store.\n",
       "\n",
       "**[Doc 3]** *(Ticker: ON, Provider: Simply Wall St., Date: 2025-05-12, sim=0.565)*\n",
       "\n",
       "> Some May Be Optimistic About ON Semiconductor's (NASDAQ:ON) Earnings : Soft earnings didn't appear to concern ON Semiconductor Corporation's ( NASDAQ:ON ) shareholders over the last week...\n",
       "\n",
       "**[Doc 4]** *(Ticker: ADI, Provider: StockStory, Date: 2025-05-29, sim=0.548)*\n",
       "\n",
       "> Spotting Winners: Vishay Intertechnology (NYSE:VSH) And Analog Semiconductors Stocks In Q1 : The end of an earnings season can be a great time to discover new stocks and assess how companies are handling the current business environment. Let’s take a look at how Vishay Intertechnology (NYSE:VSH) and the rest of the analog semiconductors stocks fared in Q1.\n",
       "\n",
       "**[Doc 5]** *(Ticker: ON, Provider: Insider Monkey, Date: 2025-05-11, sim=0.528)*\n",
       "\n",
       "> ON Semiconductor (ON): Among Billionaire Glenn Russell Dubin’s Stock Picks with Huge Upside Potential : We recently published a list of Billionaire Glenn Russell Dubin’s 10 Stock Picks with Huge Upside Potential. In this article, we are going to take a look at where ON Semiconductor Corporation (NASDAQ:ON) stands against Billionaire Glenn Russell Dubin’s other stock picks with huge upside potential. Glenn Russell Dubin is one of the industry’s most […]\n"
      ],
      "text/plain": [
       "<IPython.core.display.Markdown object>"
      ]
     },
     "metadata": {},
     "output_type": "display_data"
    },
    {
     "data": {
      "text/markdown": [
       "**Q:** What trends are being reported in the retail industry?\n",
       "\n",
       "**A:** The retail industry is currently experiencing several notable trends:\n",
       "\n",
       "1. **Adaptation to Technology**: Retailers are modifying their business models in response to technological changes that affect consumer shopping habits. This adaptation is crucial as demand remains volatile, influenced by fluctuations in consumer spending [Doc 1].\n",
       "\n",
       "2. **Impact of Economic Cycles**: The performance of consumer discretionary businesses is closely tied to economic cycles. Recently, demand trends have been unfavorable, with the industry experiencing a decline of 12.3% over the past six months, which is significantly worse than the S&P 500's 2.1% decline [Doc 3].\n",
       "\n",
       "3. **Supply Chain Adjustments**: In light of ongoing trade tensions and tariff policies, retail executives are shifting their supply chains. Many price increases have already been implemented in response to these changes [Doc 2].\n",
       "\n",
       "Overall, the retail sector is facing challenges due to economic conditions and the need to adapt to technological advancements and trade-related issues.\n",
       "\n",
       "**Snippets used:**\n",
       "\n",
       "**[Doc 1]** *(Ticker: KMX, Provider: StockStory, Date: 2025-05-12, sim=0.590)*\n",
       "\n",
       "> 3 Consumer Stocks That Concern Us : Retailers are adapting their business models as technology changes how people shop. Still, demand can be volatile as the industry is exposed to the ups and downs of consumer spending. This has stirred some uncertainty lately as retail stocks have tumbled by 13.7% over the past six months. This performance was worse than the S&P 500’s 5.5% loss.\n",
       "\n",
       "**[Doc 2]** *(Ticker: BBY, Provider: The Wall Street Journal, Date: 2025-05-29, sim=0.506)*\n",
       "\n",
       "> Retailers, Ducking Trade-War Curveballs, Stick to Their Plans : As legal rulings roll in on Trump’s tariff policies, retail executives say they have shifted their supply chains and many price increases already have hit shelves.\n",
       "\n",
       "**[Doc 3]** *(Ticker: HLT, Provider: StockStory, Date: 2025-05-22, sim=0.500)*\n",
       "\n",
       "> 3 Consumer Stocks Skating on Thin Ice : The performance of consumer discretionary businesses is closely linked to economic cycles. Over the past six months, it seems like demand trends are working against their favor as the industry has tumbled by 12.3%. This drop was significantly worse than the S&P 500’s 2.1% decline.\n",
       "\n",
       "**[Doc 4]** *(Ticker: PKG, Provider: Simply Wall St., Date: 2025-04-26, sim=0.476)*\n",
       "\n",
       "> Packaging Corporation of America (NYSE:PKG) Hasn't Managed To Accelerate Its Returns : What trends should we look for it we want to identify stocks that can multiply in value over the long term? Amongst...\n",
       "\n",
       "**[Doc 5]** *(Ticker: APD, Provider: Simply Wall St., Date: 2025-05-14, sim=0.476)*\n",
       "\n",
       "> Air Products and Chemicals (NYSE:APD) Will Be Hoping To Turn Its Returns On Capital Around : To find a multi-bagger stock, what are the underlying trends we should look for in a business? Firstly, we'll want to...\n"
      ],
      "text/plain": [
       "<IPython.core.display.Markdown object>"
      ]
     },
     "metadata": {},
     "output_type": "display_data"
    },
    {
     "data": {
      "text/markdown": [
       "**Q:** What risks or challenges are discussed in recent news about the energy industry?\n",
       "\n",
       "**A:** Recent news about the energy industry highlights several risks and challenges:\n",
       "\n",
       "1. **Legislative Risks for Renewable Energy**: A bill advancing in Congress could significantly harm the renewable energy sector by repealing crucial subsidies, making many projects uneconomical. This has led to a sharp decline in renewable energy stocks as companies had just increased production and generation capabilities [Doc 1][Doc 2].\n",
       "\n",
       "2. **Oilfield Service Challenges**: Companies in the oilfield service sector, such as SLB, HAL, and BKR, are facing difficulties due to sliding oil prices, rising tariffs, and shrinking drilling budgets. There are concerns about whether demand from LNG and AI can provide sufficient support to counter these challenges [Doc 3][Doc 4].\n",
       "\n",
       "3. **Tariff Uncertainties**: The ongoing trade conflicts and tariff wars are creating an unpredictable landscape for the energy sector, particularly affecting companies reliant on critical materials like copper [Doc 5]. \n",
       "\n",
       "These factors collectively pose significant risks to both renewable and traditional energy sectors.\n",
       "\n",
       "**Snippets used:**\n",
       "\n",
       "**[Doc 1]** *(Ticker: NEE, Provider: Motley Fool, Date: 2025-05-23, sim=0.536)*\n",
       "\n",
       "> Renewable Energy Stocks Crash as U.S. Advances Bill That Could Decimate the Industry : Congress is pushing forward a bill that could upend the renewable energy industry.  Just as companies have ramped up production and renewable electricity generation in the U.S., those projects may become uneconomical.  The news was about as bad as it could get for renewable energy stocks this week as the U.S. House of Representatives early Thursday passed a bill that will repeal some of the most important subsidies for the industry if it becomes law.\n",
       "\n",
       "**[Doc 2]** *(Ticker: ENPH, Provider: Motley Fool, Date: 2025-05-23, sim=0.536)*\n",
       "\n",
       "> Renewable Energy Stocks Crash as U.S. Advances Bill That Could Decimate the Industry : Congress is pushing forward a bill that could upend the renewable energy industry.  Just as companies have ramped up production and renewable electricity generation in the U.S., those projects may become uneconomical.  The news was about as bad as it could get for renewable energy stocks this week as the U.S. House of Representatives early Thursday passed a bill that will repeal some of the most important subsidies for the industry if it becomes law.\n",
       "\n",
       "**[Doc 3]** *(Ticker: HAL, Provider: Zacks, Date: 2025-05-21, sim=0.482)*\n",
       "\n",
       "> Tariffs, Prices, and Pain: What's Next for Oilfield Service? : The likes of SLB, HAL and BKR face a tough future as oil prices slide, tariffs rise and drilling budgets shrink - can LNG and AI demand offer enough support?\n",
       "\n",
       "**[Doc 4]** *(Ticker: BKR, Provider: Zacks, Date: 2025-05-21, sim=0.482)*\n",
       "\n",
       "> Tariffs, Prices, and Pain: What's Next for Oilfield Service? : The likes of SLB, HAL and BKR face a tough future as oil prices slide, tariffs rise and drilling budgets shrink - can LNG and AI demand offer enough support?\n",
       "\n",
       "**[Doc 5]** *(Ticker: FCX, Provider: Motley Fool, Date: 2025-05-21, sim=0.478)*\n",
       "\n",
       "> 3 American Companies Investors Need to Know Amid Trump's Tariff Wars : Copper is a critical metal for the U.S. industrial economy.  This American appliance maker expects the Trump administration to close loopholes that will improve its competitive positioning.  It's difficult to predict precisely what the tariff landscape will look like when the dust settles on the trade conflict, but we can say some things with a high degree of certainty.\n"
      ],
      "text/plain": [
       "<IPython.core.display.Markdown object>"
      ]
     },
     "metadata": {},
     "output_type": "display_data"
    }
   ],
   "source": [
    "# ---- Execute for each category ----\n",
    "run_question_list(questions_topic, \"Topic Questions\")\n",
    "run_question_list(questions_company, \"Company Questions\")\n",
    "run_question_list(questions_industry, \"Industry Questions\")"
   ]
  },
  {
   "cell_type": "markdown",
   "id": "ae77df2b",
   "metadata": {},
   "source": [
    "## Analysis & Questions - Section 1"
   ]
  },
  {
   "cell_type": "markdown",
   "id": "3d3a75ee",
   "metadata": {},
   "source": [
    "### Analysis and Reflection on Retrieval and Generation Results\n",
    "After running the RAG pipeline and obtaining answers along with their supporting news excerpts, take some time to carefully review both the generated responses and the retrieved contexts.\n",
    "\n",
    "- **For each question, read the answer and then the corresponding news snippets used as context.**\n",
    "\n",
    "- Reflect on the following points and document your observations:\n",
    "1. **Relevance** \n",
    "2. **Completeness**  \n",
    "3. **Bias or Noise** \n",
    "4. **Consistency**  \n",
    "5. **Improvement Ideas**   \n",
    "\n",
    "and answer the questions below:"
   ]
  },
  {
   "cell_type": "markdown",
   "id": "e8f667ed",
   "metadata": {},
   "source": [
    "#### **Question 1.** How well do the retrieved news snippets support the generated answer? Are the key facts or themes in the answer clearly grounded in the context?"
   ]
  },
  {
   "cell_type": "markdown",
   "id": "992b9fe1",
   "metadata": {},
   "source": [
    "**Answer:** I think that, in general, the snippets support the generated answers by the LLM; on the other hand, the LLM is correctly saying that it doesn't have enough context to answer some questions, when it doesn't.\n",
    "\n",
    "One thing that I could notice is that for some questions (e.g. the first question), some articles are duplicated; I think that this can mislead users to innacurate conclusiones due to the repetition of a specific topic (i.e. relavance based on repetition and not in precision)."
   ]
  },
  {
   "cell_type": "markdown",
   "id": "fe09d3d0",
   "metadata": {},
   "source": [
    "#### **Question 2.** Does the answer fully address the question, or does it leave important aspects out? Consider if the retrieved context provided enough information to generate a thorough response."
   ]
  },
  {
   "cell_type": "markdown",
   "id": "736e20f5",
   "metadata": {},
   "source": [
    "**Answer:** Besides the questions that were not fully answered, the RAG model is fully addressing the questions on the different topics. However, I can see that some answers are more detailed than others, maybe because the retrieved documents are more relevant and complete in some cases. One example of this is the first question where the articles are duplicated, so I think that this caused that the answer is reduced to only two key themes: food and persistent us inflation."
   ]
  },
  {
   "cell_type": "markdown",
   "id": "a7690337",
   "metadata": {},
   "source": [
    "#### **Question 3.** Are there any irrelevant or misleading snippets retrieved that may have influenced the answer? How might this affect the quality of the output?"
   ]
  },
  {
   "cell_type": "markdown",
   "id": "2513c47c",
   "metadata": {},
   "source": [
    "**Answer:** Yes, as I said in previous questions, one example of misleading snippets is the first question where articles are duplicated. This can affect the diversity or detail of the answer, centering only in one key theme (or a few). \n",
    "\n",
    "On the other hand, I could see that in some cases (e.g. Amazon question about automation and logistics) the retrieved documents are not even talking about Amazon or automation and logistics. This can also cause misleading or inaccurate conclusions; however, the model is correctly saying that it doesn't have enough context to answer in a trustworthy way.\n"
   ]
  },
  {
   "cell_type": "markdown",
   "id": "1035b3c6",
   "metadata": {},
   "source": [
    "#### **Question 4.**  Do the news snippets show consistent information, or are there conflicting viewpoints? How does the LLM handle potential contradictions in the context?"
   ]
  },
  {
   "cell_type": "markdown",
   "id": "52891908",
   "metadata": {},
   "source": [
    "**Answer:** I couldn't detect some conflicting viewpoints between the different retrieved snippets in the questions. I think that the model is showing consistent information in all the answers. Maybe one case could be the one talking about the investor sentiment described in recent financial headlines; however, the model is just summarizing what the articles say: there is positive sentiment, but it should be treated with skepticism."
   ]
  },
  {
   "cell_type": "markdown",
   "id": "fd7b2d64",
   "metadata": {},
   "source": [
    "#### **Question 5.**  Based on your observations, suggest ways the retrieval or generation process could be improved (e.g., better filtering, adjusting `k`, refining prompt design)."
   ]
  },
  {
   "cell_type": "markdown",
   "id": "350d12cb",
   "metadata": {},
   "source": [
    "**Answer:** Some of the improvements I would include are:\n",
    "\n",
    "- Deduplication: Before retrieving the top-k news, I would include a function that depluicates the articles (repeated on many tickers). This could give us more detailed information related with every questions, without giving more weight to specific terms only because the duplicated articles.\n",
    "\n",
    "- Filtering: When doing questions about a specific company (e.g. Amazon), include filters to only retrieve articles of that specific ticker.\n",
    "\n",
    "- Prompting: Include some instructions to delimit the retrieved documents to talk about only for the involved company (explicit guardrails) and to avoid redundancy.\n",
    "\n",
    "- Adjusting k: I think that a k of 5 could be a little bit small to answer accurately one of the formulated questions. Also, maybe I would use a different k for every type of question; I think that some topics need more articles than others.\n",
    "  "
   ]
  },
  {
   "cell_type": "markdown",
   "id": "c08635e8",
   "metadata": {},
   "source": [
    "## 🧠 Retrieval-Augmented Generation (RAG) v2: Adding Financial Metadata to Improve Generation\n",
    "\n",
    "👉 **Instructions**:\n",
    "\n",
    "In this part of the assignment, you’ll enhance your Retrieval-Augmented Generation (RAG) pipeline by incorporating *financial metadata* to provide more contextually rich answers.\n",
    "\n",
    "Your goal is to evaluate whether metadata such as **company name**, **sector**, and **industry** helps the LLM generate **more accurate and grounded answers** to financial questions.\n",
    "\n",
    "---\n",
    "\n",
    "### ✅ What your updated pipeline should do:\n",
    "\n",
    "- Retrieve relevant financial news articles using semantic similarity with FAISS.\n",
    "- Enrich each retrieved document with financial metadata:\n",
    "  - Ticker symbol\n",
    "  - Full company name\n",
    "  - Sector (e.g., Technology, Energy)\n",
    "  - Industry (e.g., Semiconductors, Retail)\n",
    "- Construct prompts that include both:\n",
    "  - Retrieved news text\n",
    "  - Associated metadata\n",
    "- Send the prompt to the OpenAI model to generate an informed response.\n",
    "- Return:\n",
    "  - The final answer\n",
    "  - The exact set of contextual documents used to produce that answer\n",
    "\n",
    "---\n",
    "\n",
    "### 🧪 Evaluation and Comparison:\n",
    "\n",
    "You will test your improved RAG pipeline on the same three types of questions provided earlier:\n",
    "- **Topic-focused** (e.g., inflation, interest rates)\n",
    "- **Company-focused** (e.g., questions about Tesla, Nvidia)\n",
    "- **Industry-focused** (e.g., semiconductors, utilities)\n"
   ]
  },
  {
   "cell_type": "code",
   "execution_count": 23,
   "id": "e3d062bc",
   "metadata": {},
   "outputs": [
    {
     "data": {
      "text/plain": [
       "490"
      ]
     },
     "execution_count": 23,
     "metadata": {},
     "output_type": "execute_result"
    }
   ],
   "source": [
    "len(tickers)"
   ]
  },
  {
   "cell_type": "code",
   "execution_count": 24,
   "id": "0afb46df",
   "metadata": {},
   "outputs": [],
   "source": [
    "rows = []\n",
    "for t in tickers:\n",
    "    try:\n",
    "        tk = yf.Ticker(t)\n",
    "        info = tk.info \n",
    "        rows.append({\n",
    "            \"TICKER\": t,\n",
    "            \"COMPANY\": info.get(\"longName\"),\n",
    "            \"SECTOR\": info.get(\"sector\"),\n",
    "            \"INDUSTRY\": info.get(\"industry\")\n",
    "        })\n",
    "        time.sleep(0.5)\n",
    "    except Exception as e:\n",
    "        print(f\"⚠️ Error fetching {t}: {e}\")\n",
    "        rows.append({\"TICKER\": t, \"COMPANY\": None, \"SECTOR\": None, \"INDUSTRY\": None})\n",
    "\n",
    "df_meta = pd.DataFrame(rows)"
   ]
  },
  {
   "cell_type": "code",
   "execution_count": 25,
   "id": "09545b0f",
   "metadata": {},
   "outputs": [
    {
     "data": {
      "text/html": [
       "<div>\n",
       "<style scoped>\n",
       "    .dataframe tbody tr th:only-of-type {\n",
       "        vertical-align: middle;\n",
       "    }\n",
       "\n",
       "    .dataframe tbody tr th {\n",
       "        vertical-align: top;\n",
       "    }\n",
       "\n",
       "    .dataframe thead th {\n",
       "        text-align: right;\n",
       "    }\n",
       "</style>\n",
       "<table border=\"1\" class=\"dataframe\">\n",
       "  <thead>\n",
       "    <tr style=\"text-align: right;\">\n",
       "      <th></th>\n",
       "      <th>TICKER</th>\n",
       "      <th>TITLE</th>\n",
       "      <th>SUMMARY</th>\n",
       "      <th>PUBLICATION_DATE</th>\n",
       "      <th>PROVIDER</th>\n",
       "      <th>URL</th>\n",
       "      <th>EMBEDDED_TEXT</th>\n",
       "      <th>COMPANY</th>\n",
       "      <th>SECTOR</th>\n",
       "      <th>INDUSTRY</th>\n",
       "    </tr>\n",
       "  </thead>\n",
       "  <tbody>\n",
       "    <tr>\n",
       "      <th>0</th>\n",
       "      <td>MMM</td>\n",
       "      <td>2 Dow Jones Stocks with Promising Prospects an...</td>\n",
       "      <td>The Dow Jones (^DJI) is made up of 30 of the m...</td>\n",
       "      <td>2025-05-29</td>\n",
       "      <td>StockStory</td>\n",
       "      <td>https://finance.yahoo.com/news/2-dow-jones-sto...</td>\n",
       "      <td>2 Dow Jones Stocks with Promising Prospects an...</td>\n",
       "      <td>3M Company</td>\n",
       "      <td>Industrials</td>\n",
       "      <td>Conglomerates</td>\n",
       "    </tr>\n",
       "    <tr>\n",
       "      <th>1</th>\n",
       "      <td>MMM</td>\n",
       "      <td>3 S&amp;P 500 Stocks Skating on Thin Ice</td>\n",
       "      <td>The S&amp;P 500 (^GSPC) is often seen as a benchma...</td>\n",
       "      <td>2025-05-27</td>\n",
       "      <td>StockStory</td>\n",
       "      <td>https://finance.yahoo.com/news/3-p-500-stocks-...</td>\n",
       "      <td>3 S&amp;P 500 Stocks Skating on Thin Ice : The S&amp;P...</td>\n",
       "      <td>3M Company</td>\n",
       "      <td>Industrials</td>\n",
       "      <td>Conglomerates</td>\n",
       "    </tr>\n",
       "    <tr>\n",
       "      <th>2</th>\n",
       "      <td>MMM</td>\n",
       "      <td>3M Rises 15.8% YTD: Should You Buy the Stock N...</td>\n",
       "      <td>MMM is making strides in the aerospace, indust...</td>\n",
       "      <td>2025-05-22</td>\n",
       "      <td>Zacks</td>\n",
       "      <td>https://finance.yahoo.com/news/3m-rises-15-8-y...</td>\n",
       "      <td>3M Rises 15.8% YTD: Should You Buy the Stock N...</td>\n",
       "      <td>3M Company</td>\n",
       "      <td>Industrials</td>\n",
       "      <td>Conglomerates</td>\n",
       "    </tr>\n",
       "    <tr>\n",
       "      <th>3</th>\n",
       "      <td>MMM</td>\n",
       "      <td>Q1 Earnings Roundup: 3M (NYSE:MMM) And The Res...</td>\n",
       "      <td>Quarterly earnings results are a good time to ...</td>\n",
       "      <td>2025-05-22</td>\n",
       "      <td>StockStory</td>\n",
       "      <td>https://finance.yahoo.com/news/q1-earnings-rou...</td>\n",
       "      <td>Q1 Earnings Roundup: 3M (NYSE:MMM) And The Res...</td>\n",
       "      <td>3M Company</td>\n",
       "      <td>Industrials</td>\n",
       "      <td>Conglomerates</td>\n",
       "    </tr>\n",
       "    <tr>\n",
       "      <th>4</th>\n",
       "      <td>MMM</td>\n",
       "      <td>3 Cash-Producing Stocks with Questionable Fund...</td>\n",
       "      <td>While strong cash flow is a key indicator of s...</td>\n",
       "      <td>2025-05-19</td>\n",
       "      <td>StockStory</td>\n",
       "      <td>https://finance.yahoo.com/news/3-cash-producin...</td>\n",
       "      <td>3 Cash-Producing Stocks with Questionable Fund...</td>\n",
       "      <td>3M Company</td>\n",
       "      <td>Industrials</td>\n",
       "      <td>Conglomerates</td>\n",
       "    </tr>\n",
       "  </tbody>\n",
       "</table>\n",
       "</div>"
      ],
      "text/plain": [
       "  TICKER                                              TITLE  \\\n",
       "0    MMM  2 Dow Jones Stocks with Promising Prospects an...   \n",
       "1    MMM               3 S&P 500 Stocks Skating on Thin Ice   \n",
       "2    MMM  3M Rises 15.8% YTD: Should You Buy the Stock N...   \n",
       "3    MMM  Q1 Earnings Roundup: 3M (NYSE:MMM) And The Res...   \n",
       "4    MMM  3 Cash-Producing Stocks with Questionable Fund...   \n",
       "\n",
       "                                             SUMMARY PUBLICATION_DATE  \\\n",
       "0  The Dow Jones (^DJI) is made up of 30 of the m...       2025-05-29   \n",
       "1  The S&P 500 (^GSPC) is often seen as a benchma...       2025-05-27   \n",
       "2  MMM is making strides in the aerospace, indust...       2025-05-22   \n",
       "3  Quarterly earnings results are a good time to ...       2025-05-22   \n",
       "4  While strong cash flow is a key indicator of s...       2025-05-19   \n",
       "\n",
       "     PROVIDER                                                URL  \\\n",
       "0  StockStory  https://finance.yahoo.com/news/2-dow-jones-sto...   \n",
       "1  StockStory  https://finance.yahoo.com/news/3-p-500-stocks-...   \n",
       "2       Zacks  https://finance.yahoo.com/news/3m-rises-15-8-y...   \n",
       "3  StockStory  https://finance.yahoo.com/news/q1-earnings-rou...   \n",
       "4  StockStory  https://finance.yahoo.com/news/3-cash-producin...   \n",
       "\n",
       "                                       EMBEDDED_TEXT     COMPANY       SECTOR  \\\n",
       "0  2 Dow Jones Stocks with Promising Prospects an...  3M Company  Industrials   \n",
       "1  3 S&P 500 Stocks Skating on Thin Ice : The S&P...  3M Company  Industrials   \n",
       "2  3M Rises 15.8% YTD: Should You Buy the Stock N...  3M Company  Industrials   \n",
       "3  Q1 Earnings Roundup: 3M (NYSE:MMM) And The Res...  3M Company  Industrials   \n",
       "4  3 Cash-Producing Stocks with Questionable Fund...  3M Company  Industrials   \n",
       "\n",
       "        INDUSTRY  \n",
       "0  Conglomerates  \n",
       "1  Conglomerates  \n",
       "2  Conglomerates  \n",
       "3  Conglomerates  \n",
       "4  Conglomerates  "
      ]
     },
     "execution_count": 25,
     "metadata": {},
     "output_type": "execute_result"
    }
   ],
   "source": [
    "df_news_md = df_news.merge(df_meta, on=\"TICKER\", how=\"left\")\n",
    "df_news_md.head()"
   ]
  },
  {
   "cell_type": "code",
   "execution_count": 26,
   "id": "7e84608b",
   "metadata": {},
   "outputs": [],
   "source": [
    "ticker_lookup = (\n",
    "    df_meta.set_index(\"TICKER\")[[\"COMPANY\", \"SECTOR\", \"INDUSTRY\"]]\n",
    "    .to_dict(orient=\"index\")\n",
    ")"
   ]
  },
  {
   "cell_type": "code",
   "execution_count": 27,
   "id": "5cdd7697",
   "metadata": {},
   "outputs": [],
   "source": [
    "def enrich_meta(meta, lookup):\n",
    "    \"\"\"Attach COMPANY, SECTOR, INDUSTRY from ticker_lookup (non-destructive).\"\"\"\n",
    "    m = dict(meta or {})\n",
    "    t = m.get(\"TICKER\")\n",
    "    if t and t in lookup:\n",
    "        for key, val in lookup[t].items():\n",
    "            if val is not None:\n",
    "                m[key] = val\n",
    "    return m\n",
    "\n",
    "def format_docs_v2(docs, lookup, max_chars=600):\n",
    "    \"\"\"Same idea as format_docs, but prints richer metadata into the prompt context.\"\"\"\n",
    "    if not docs:\n",
    "        return \"No context found.\"\n",
    "    out = []\n",
    "    for i, d in enumerate(docs, 1):\n",
    "        txt = d.page_content.replace(\"\\n\", \" \").strip()\n",
    "        if len(txt) > max_chars:\n",
    "            txt = txt[:max_chars] + \"…\"\n",
    "        m = enrich_meta(d.metadata, lookup)\n",
    "        ticker = m.get(\"TICKER\", \"—\")\n",
    "        company = m.get(\"COMPANY\", \"—\")\n",
    "        sector = m.get(\"SECTOR\", \"—\")\n",
    "        industry = m.get(\"INDUSTRY\", \"—\")\n",
    "        provider = m.get(\"PROVIDER\", \"—\")\n",
    "        date = m.get(\"PUBLICATION_DATE\", \"—\")\n",
    "        sim = m.get(\"similarity\")\n",
    "        sim_txt = f\", sim={sim:.3f}\" if isinstance(sim, (int, float)) else \"\"\n",
    "        out.append(\n",
    "            f\"[Doc {i}] {txt}\\n\"\n",
    "            f\"(Ticker: {ticker}, Company: {company}, Sector: {sector}, Industry: {industry}, \"\n",
    "            f\"Provider: {provider}, Date: {date}{sim_txt})\"\n",
    "        )\n",
    "    return \"\\n\\n\".join(out)\n",
    "\n",
    "def prepare_context_v2(inputs, lookup):\n",
    "    \"\"\"Build {question, context, snippets} with enriched metadata, for the v2 chain.\"\"\"\n",
    "    docs = inputs[\"docs\"]\n",
    "    context_text = format_docs_v2(docs, lookup)\n",
    "    snippets = []\n",
    "    for d in docs:\n",
    "        m = enrich_meta(d.metadata, lookup)\n",
    "        # normalize date to str for display\n",
    "        if \"PUBLICATION_DATE\" in m and not isinstance(m[\"PUBLICATION_DATE\"], str):\n",
    "            try: m[\"PUBLICATION_DATE\"] = str(m[\"PUBLICATION_DATE\"])\n",
    "            except: pass\n",
    "        snippets.append({\"text\": d.page_content, \"metadata\": m})\n",
    "    return {\"question\": inputs[\"question\"], \"context\": context_text, \"snippets\": snippets}\n"
   ]
  },
  {
   "cell_type": "code",
   "execution_count": 28,
   "id": "ed46485f",
   "metadata": {},
   "outputs": [],
   "source": [
    "prompt_v2 = ChatPromptTemplate.from_template(\n",
    "    \"\"\"You are a financial research assistant.\n",
    "Use ONLY the provided news snippets and their metadata (ticker, company, sector, industry) to answer.\n",
    "If the context is insufficient, say so explicitly. Cite snippets as [Doc i].\n",
    "\n",
    "Question: {question}\n",
    "\n",
    "Context:\n",
    "{context}\n",
    "\n",
    "Answer (concise, factual, with [Doc i] citations):\"\"\"\n",
    ")\n"
   ]
  },
  {
   "cell_type": "code",
   "execution_count": 29,
   "id": "2ffda79a",
   "metadata": {},
   "outputs": [],
   "source": [
    "def make_rag_chain_v2(lookup):\n",
    "    return (\n",
    "        {\"question\": RunnablePassthrough(), \"docs\": retriever}\n",
    "        | RunnableLambda(lambda x: prepare_context_v2(x, lookup))\n",
    "        | {\n",
    "            \"answer\": ({\"question\": RunnablePassthrough(), \"context\": RunnablePassthrough()}\n",
    "                       | prompt_v2\n",
    "                       | llm\n",
    "                       | StrOutputParser()),\n",
    "            \"snippets\": RunnableLambda(lambda x: x[\"snippets\"])\n",
    "        }\n",
    "    )\n",
    "\n",
    "rag_chain_v2 = make_rag_chain_v2(ticker_lookup)\n"
   ]
  },
  {
   "cell_type": "code",
   "execution_count": 30,
   "id": "c255cc58",
   "metadata": {},
   "outputs": [],
   "source": [
    "#Function to run a list of questions and print answers in Markdown format from both versions of the chain\n",
    "def run_and_compare(question_list, title, chain_v1, chain_v2):\n",
    "    print_markdown(f\"# {title}\")\n",
    "    for q in question_list:\n",
    "        out1 = chain_v1.invoke(q)\n",
    "        out2 = chain_v2.invoke(q)\n",
    "\n",
    "        if isinstance(out1, str):\n",
    "            ans1, snips1 = out1, []\n",
    "        else:\n",
    "            ans1, snips1 = out1.get(\"answer\",\"\"), out1.get(\"snippets\",[])\n",
    "        ans2, snips2 = out2[\"answer\"], out2[\"snippets\"]\n",
    "\n",
    "        # quick diagnostics\n",
    "        uniq_tickers_v1 = len({(s[\"metadata\"] or {}).get(\"TICKER\") for s in snips1})\n",
    "        uniq_tickers_v2 = len({(s[\"metadata\"] or {}).get(\"TICKER\") for s in snips2})\n",
    "        sectors_v2 = { (s[\"metadata\"] or {}).get(\"SECTOR\") for s in snips2 } - {None}\n",
    "\n",
    "        print_markdown(f\"## Q: {q}\")\n",
    "        print_markdown(f\"**V1 Answer**\\n\\n{ans1}\\n\\n**V1 Snippets**\\n\\n{snippets_to_markdown(snips1)}\")\n",
    "        print_markdown(f\"**V2 Answer (with financial metadata)**\\n\\n{ans2}\\n\\n**V2 Snippets**\\n\\n{snippets_to_markdown(snips2)}\")\n",
    "        print_markdown(f\"_Coverage hint_: V1 unique tickers={uniq_tickers_v1} • V2 unique tickers={uniq_tickers_v2} • V2 sectors seen={', '.join([s for s in sectors_v2 if s]) or '—'}\")\n"
   ]
  },
  {
   "cell_type": "code",
   "execution_count": 31,
   "id": "be2ab315",
   "metadata": {},
   "outputs": [
    {
     "data": {
      "text/markdown": [
       "# Topic Questions — V1 vs V2"
      ],
      "text/plain": [
       "<IPython.core.display.Markdown object>"
      ]
     },
     "metadata": {},
     "output_type": "display_data"
    },
    {
     "data": {
      "text/markdown": [
       "## Q: What are the major concerns expressed in financial news about inflation?"
      ],
      "text/plain": [
       "<IPython.core.display.Markdown object>"
      ]
     },
     "metadata": {},
     "output_type": "display_data"
    },
    {
     "data": {
      "text/markdown": [
       "**V1 Answer**\n",
       "\n",
       "The major concerns expressed in financial news about inflation include:\n",
       "\n",
       "1. Persistent US inflation and its potential to lead to an economic slowdown, as highlighted in the Federal Reserve's May policy meeting [Doc 1].\n",
       "2. Food inflation dampening hopes for a rate cut, indicating that rising food prices are complicating monetary policy decisions [Doc 2], [Doc 3], [Doc 4], [Doc 5].\n",
       "\n",
       "**V1 Snippets**\n",
       "\n",
       "**[Doc 1]** *(Ticker: BLK, Provider: Yahoo Finance UK, Date: 2025-05-29, sim=0.577)*\n",
       "\n",
       "> Bitcoin price slips as Fed minutes flag US inflation risks : The Federal Reserve’s May policy meeting revealed mounting concern over persistent US inflation and the potential for economic slowdown.\n",
       "\n",
       "**[Doc 2]** *(Ticker: TSLA, Provider: Yahoo Finance UK, Date: 2025-05-31, sim=0.492)*\n",
       "\n",
       "> The Weekend: Food inflation dampens hopes of a rate cut as tariff twists and turns continue : Key moments from the last seven days, plus a glimpse at the week ahead\n",
       "\n",
       "**[Doc 3]** *(Ticker: NVDA, Provider: Yahoo Finance UK, Date: 2025-05-31, sim=0.492)*\n",
       "\n",
       "> The Weekend: Food inflation dampens hopes of a rate cut as tariff twists and turns continue : Key moments from the last seven days, plus a glimpse at the week ahead\n",
       "\n",
       "**[Doc 4]** *(Ticker: LULU, Provider: Yahoo Finance UK, Date: 2025-05-31, sim=0.492)*\n",
       "\n",
       "> The Weekend: Food inflation dampens hopes of a rate cut as tariff twists and turns continue : Key moments from the last seven days, plus a glimpse at the week ahead\n",
       "\n",
       "**[Doc 5]** *(Ticker: AVGO, Provider: Yahoo Finance UK, Date: 2025-05-31, sim=0.492)*\n",
       "\n",
       "> The Weekend: Food inflation dampens hopes of a rate cut as tariff twists and turns continue : Key moments from the last seven days, plus a glimpse at the week ahead\n"
      ],
      "text/plain": [
       "<IPython.core.display.Markdown object>"
      ]
     },
     "metadata": {},
     "output_type": "display_data"
    },
    {
     "data": {
      "text/markdown": [
       "**V2 Answer (with financial metadata)**\n",
       "\n",
       "The major concerns expressed in financial news about inflation include:\n",
       "\n",
       "1. Persistent US inflation and the potential for economic slowdown, as highlighted by the Federal Reserve's May policy meeting [Doc 1].\n",
       "2. Food inflation dampening hopes for a rate cut, indicating ongoing inflationary pressures that could affect monetary policy decisions [Doc 2, Doc 3, Doc 4, Doc 5].\n",
       "\n",
       "**V2 Snippets**\n",
       "\n",
       "**[Doc 1]** *(Ticker: BLK, Provider: Yahoo Finance UK, Date: 2025-05-29, sim=0.577)*\n",
       "\n",
       "> Bitcoin price slips as Fed minutes flag US inflation risks : The Federal Reserve’s May policy meeting revealed mounting concern over persistent US inflation and the potential for economic slowdown.\n",
       "\n",
       "**[Doc 2]** *(Ticker: TSLA, Provider: Yahoo Finance UK, Date: 2025-05-31, sim=0.492)*\n",
       "\n",
       "> The Weekend: Food inflation dampens hopes of a rate cut as tariff twists and turns continue : Key moments from the last seven days, plus a glimpse at the week ahead\n",
       "\n",
       "**[Doc 3]** *(Ticker: NVDA, Provider: Yahoo Finance UK, Date: 2025-05-31, sim=0.492)*\n",
       "\n",
       "> The Weekend: Food inflation dampens hopes of a rate cut as tariff twists and turns continue : Key moments from the last seven days, plus a glimpse at the week ahead\n",
       "\n",
       "**[Doc 4]** *(Ticker: LULU, Provider: Yahoo Finance UK, Date: 2025-05-31, sim=0.492)*\n",
       "\n",
       "> The Weekend: Food inflation dampens hopes of a rate cut as tariff twists and turns continue : Key moments from the last seven days, plus a glimpse at the week ahead\n",
       "\n",
       "**[Doc 5]** *(Ticker: AVGO, Provider: Yahoo Finance UK, Date: 2025-05-31, sim=0.492)*\n",
       "\n",
       "> The Weekend: Food inflation dampens hopes of a rate cut as tariff twists and turns continue : Key moments from the last seven days, plus a glimpse at the week ahead\n"
      ],
      "text/plain": [
       "<IPython.core.display.Markdown object>"
      ]
     },
     "metadata": {},
     "output_type": "display_data"
    },
    {
     "data": {
      "text/markdown": [
       "_Coverage hint_: V1 unique tickers=5 • V2 unique tickers=5 • V2 sectors seen=Financial Services, Technology, Consumer Cyclical"
      ],
      "text/plain": [
       "<IPython.core.display.Markdown object>"
      ]
     },
     "metadata": {},
     "output_type": "display_data"
    },
    {
     "data": {
      "text/markdown": [
       "## Q: How is investor sentiment described in recent financial headlines?"
      ],
      "text/plain": [
       "<IPython.core.display.Markdown object>"
      ]
     },
     "metadata": {},
     "output_type": "display_data"
    },
    {
     "data": {
      "text/markdown": [
       "**V1 Answer**\n",
       "\n",
       "Investor sentiment in recent financial headlines is characterized by a mix of optimism and skepticism. Many articles highlight ambitious price targets and bullish forecasts from analysts, suggesting attractive upside potential for certain stocks. However, there is a cautionary tone, emphasizing the need to remain skeptical due to institutional pressures that may lead to overly optimistic forecasts [Doc 1], [Doc 3], [Doc 5]. Additionally, some stocks are noted for their strong performance driven by positive catalysts, yet the overall sentiment reflects a wariness about the reliability of analyst ratings, particularly when they are overwhelmingly positive [Doc 2], [Doc 5]. Conversely, bearish sentiments are also acknowledged, indicating that when Wall Street turns negative on a stock, it is significant due to the rarity of such ratings [Doc 4].\n",
       "\n",
       "**V1 Snippets**\n",
       "\n",
       "**[Doc 1]** *(Ticker: KMX, Provider: StockStory, Date: 2025-05-26, sim=0.612)*\n",
       "\n",
       "> 3 of Wall Street’s Favorite Stocks Facing Headwinds : Wall Street has set ambitious price targets for the stocks in this article. While this suggests attractive upside potential, it’s important to remain skeptical because analysts face institutional pressures that can sometimes lead to overly optimistic forecasts.\n",
       "\n",
       "**[Doc 2]** *(Ticker: MCHP, Provider: StockStory, Date: 2025-05-20, sim=0.598)*\n",
       "\n",
       "> 3 Hyped Up  Stocks Facing Headwinds : Great things are happening to the stocks in this article. They’re all outperforming the market over the last month because of positive catalysts such as a new product line, constructive news flow, or even a loyal Reddit fanbase.\n",
       "\n",
       "**[Doc 3]** *(Ticker: MPWR, Provider: StockStory, Date: 2025-05-06, sim=0.589)*\n",
       "\n",
       "> 1 of Wall Street’s Favorite Stock with Impressive Fundamentals and 2 to Think Twice About : The stocks in this article have caught Wall Street’s attention in a big way, with price targets implying returns above 20%. But investors should take these forecasts with a grain of salt because analysts typically say nice things about companies so their firms can win business in other product lines like M&A advisory.\n",
       "\n",
       "**[Doc 4]** *(Ticker: DRI, Provider: StockStory, Date: 2025-05-21, sim=0.577)*\n",
       "\n",
       "> 1 Unpopular Stock that Should Get More Attention and 2 to Steer Clear Of : When Wall Street turns bearish on a stock, it’s worth paying attention. These calls stand out because analysts rarely issue grim ratings on companies for fear their firms will lose out in other business lines such as M&A advisory.\n",
       "\n",
       "**[Doc 5]** *(Ticker: RVTY, Provider: StockStory, Date: 2025-05-23, sim=0.570)*\n",
       "\n",
       "> 3 of Wall Street’s Favorite Stocks with Questionable Fundamentals : Wall Street is overwhelmingly bullish on the stocks in this article, with price targets suggesting significant upside potential. However, it’s worth remembering that analysts rarely issue sell ratings, partly because their firms often seek other business from the same companies they cover.\n"
      ],
      "text/plain": [
       "<IPython.core.display.Markdown object>"
      ]
     },
     "metadata": {},
     "output_type": "display_data"
    },
    {
     "data": {
      "text/markdown": [
       "**V2 Answer (with financial metadata)**\n",
       "\n",
       "Investor sentiment in recent financial headlines is mixed. On one hand, there is a bullish outlook with Wall Street setting ambitious price targets and highlighting stocks that are outperforming the market due to positive catalysts, suggesting attractive upside potential [Doc 1][Doc 2][Doc 5]. However, there is also a note of skepticism, as analysts face institutional pressures that may lead to overly optimistic forecasts, and there are warnings to take these forecasts with a grain of salt [Doc 1][Doc 3]. Additionally, bearish sentiments are noted when analysts issue grim ratings, which are rare due to concerns about losing business from the companies they cover [Doc 4]. Overall, while there is enthusiasm for certain stocks, caution is advised due to potential biases in analyst ratings.\n",
       "\n",
       "**V2 Snippets**\n",
       "\n",
       "**[Doc 1]** *(Ticker: KMX, Provider: StockStory, Date: 2025-05-26, sim=0.612)*\n",
       "\n",
       "> 3 of Wall Street’s Favorite Stocks Facing Headwinds : Wall Street has set ambitious price targets for the stocks in this article. While this suggests attractive upside potential, it’s important to remain skeptical because analysts face institutional pressures that can sometimes lead to overly optimistic forecasts.\n",
       "\n",
       "**[Doc 2]** *(Ticker: MCHP, Provider: StockStory, Date: 2025-05-20, sim=0.598)*\n",
       "\n",
       "> 3 Hyped Up  Stocks Facing Headwinds : Great things are happening to the stocks in this article. They’re all outperforming the market over the last month because of positive catalysts such as a new product line, constructive news flow, or even a loyal Reddit fanbase.\n",
       "\n",
       "**[Doc 3]** *(Ticker: MPWR, Provider: StockStory, Date: 2025-05-06, sim=0.589)*\n",
       "\n",
       "> 1 of Wall Street’s Favorite Stock with Impressive Fundamentals and 2 to Think Twice About : The stocks in this article have caught Wall Street’s attention in a big way, with price targets implying returns above 20%. But investors should take these forecasts with a grain of salt because analysts typically say nice things about companies so their firms can win business in other product lines like M&A advisory.\n",
       "\n",
       "**[Doc 4]** *(Ticker: DRI, Provider: StockStory, Date: 2025-05-21, sim=0.577)*\n",
       "\n",
       "> 1 Unpopular Stock that Should Get More Attention and 2 to Steer Clear Of : When Wall Street turns bearish on a stock, it’s worth paying attention. These calls stand out because analysts rarely issue grim ratings on companies for fear their firms will lose out in other business lines such as M&A advisory.\n",
       "\n",
       "**[Doc 5]** *(Ticker: RVTY, Provider: StockStory, Date: 2025-05-23, sim=0.570)*\n",
       "\n",
       "> 3 of Wall Street’s Favorite Stocks with Questionable Fundamentals : Wall Street is overwhelmingly bullish on the stocks in this article, with price targets suggesting significant upside potential. However, it’s worth remembering that analysts rarely issue sell ratings, partly because their firms often seek other business from the same companies they cover.\n"
      ],
      "text/plain": [
       "<IPython.core.display.Markdown object>"
      ]
     },
     "metadata": {},
     "output_type": "display_data"
    },
    {
     "data": {
      "text/markdown": [
       "_Coverage hint_: V1 unique tickers=5 • V2 unique tickers=5 • V2 sectors seen=Healthcare, Technology, Consumer Cyclical"
      ],
      "text/plain": [
       "<IPython.core.display.Markdown object>"
      ]
     },
     "metadata": {},
     "output_type": "display_data"
    },
    {
     "data": {
      "text/markdown": [
       "## Q: What role is artificial intelligence playing in recent finance-related news stories?"
      ],
      "text/plain": [
       "<IPython.core.display.Markdown object>"
      ]
     },
     "metadata": {},
     "output_type": "display_data"
    },
    {
     "data": {
      "text/markdown": [
       "**V1 Answer**\n",
       "\n",
       "Artificial intelligence (AI) is playing a significant role in recent finance-related news stories by enhancing productivity, reducing human error, and driving investment strategies. For instance, Jack Henry & Associates is integrating AI-driven lending technology to improve efficiency in financial services [Doc 1]. Additionally, companies like Meta Platforms are investing in various AI applications, which could potentially increase their stock value beyond their legacy businesses [Doc 2]. \n",
       "\n",
       "Billionaire hedge fund managers are also investing in AI stocks such as Palantir and Upstart, with analysts predicting substantial upside due to their AI capabilities in government and commercial sectors, as well as in credit risk assessment for lenders [Doc 3]. Furthermore, Palantir's stock has seen significant gains as it helps clients integrate generative AI into their operations [Doc 4]. Lastly, generative AI is recognized for its potential to streamline content production, which is crucial for companies like Netflix [Doc 5].\n",
       "\n",
       "**V1 Snippets**\n",
       "\n",
       "**[Doc 1]** *(Ticker: JKHY, Provider: Insider Monkey, Date: 2025-03-17, sim=0.697)*\n",
       "\n",
       "> Jack Henry (JKHY) Integrates AI-Driven Lending Tech With Algebrik : We recently published a list of 12 AI News Investors Should Not Miss This Week. In this article, we are going to take a look at where Jack Henry & Associates, Inc. (NASDAQ:JKHY) stands against other AI news Investors should not miss this week. Artificial Intelligence (AI) is known to increase productivity, decrease human error, […]\n",
       "\n",
       "**[Doc 2]** *(Ticker: META, Provider: Motley Fool, Date: 2025-05-31, sim=0.626)*\n",
       "\n",
       "> This \"Magnificent Seven\" Stock Is Set to Skyrocket If Its AI Investments Pay Off : Meta Platforms has investments in several AI applications.  The tech giant's stock is only valued on its legacy business.  Over the past two-and-a-half years, investors have heard about various artificial intelligence (AI) investments that tech companies are making.\n",
       "\n",
       "**[Doc 3]** *(Ticker: PLTR, Provider: Motley Fool, Date: 2025-05-31, sim=0.619)*\n",
       "\n",
       "> Billionaires Are Buying 2 Artificial Intelligence (AI) Stocks That Wall Street Analysts Say Can Soar Up to 240% : Several billionaire hedge fund managers bought shares of Palantir and/or Upstart in the first quarter -- stocks where certain analysts anticipate substantial upside.  Palantir is successfully tapping demand for artificial intelligence (AI) with government and commercial customers, but the stock trades at a very expensive valuation.  Upstart is generating attractive returns for lenders by helping them quantify credit risk with artificial intelligence, and the stock trades at a very …\n",
       "\n",
       "**[Doc 4]** *(Ticker: PLTR, Provider: Motley Fool, Date: 2025-05-31, sim=0.618)*\n",
       "\n",
       "> Better Artificial Intelligence (AI) Stock: Palantir vs. Snowflake : Shares of both Palantir and Snowflake have delivered healthy gains in 2025 despite the broader stock market weakness.  Palantir stock has shot up 63% this year despite bouts of volatility.  Palantir Technologies helps commercial and government clients integrate generative AI capabilities into their operations with its Artificial Intelligence Platform (AIP), which was launched roughly two years ago.\n",
       "\n",
       "**[Doc 5]** *(Ticker: NFLX, Provider: Motley Fool, Date: 2025-05-29, sim=0.580)*\n",
       "\n",
       "> 2 Underrated Artificial Intelligence (AI) Stocks to Buy and Hold : Generative AI can simplify and speed up many tasks, including content production.  It's easy to see the potential for Netflix, whose content strategy is integral to its success.  Netflix's creations have attracted millions of viewers and won many awards.\n"
      ],
      "text/plain": [
       "<IPython.core.display.Markdown object>"
      ]
     },
     "metadata": {},
     "output_type": "display_data"
    },
    {
     "data": {
      "text/markdown": [
       "**V2 Answer (with financial metadata)**\n",
       "\n",
       "Artificial intelligence (AI) is playing a significant role in recent finance-related news stories by enhancing productivity, reducing human error, and driving investment opportunities. For instance, Jack Henry & Associates is integrating AI-driven lending technology to improve efficiency in financial services [Doc 1]. Meta Platforms is focusing on AI investments, which could potentially increase its stock value beyond its legacy business [Doc 2]. Additionally, Palantir Technologies is leveraging AI to meet demand from government and commercial clients, while Upstart is using AI to help lenders assess credit risk effectively [Doc 3]. Furthermore, Palantir's generative AI capabilities have contributed to substantial stock gains despite market volatility [Doc 4]. Lastly, generative AI is also recognized for its potential in content production, as seen with Netflix's strategy [Doc 5].\n",
       "\n",
       "**V2 Snippets**\n",
       "\n",
       "**[Doc 1]** *(Ticker: JKHY, Provider: Insider Monkey, Date: 2025-03-17, sim=0.697)*\n",
       "\n",
       "> Jack Henry (JKHY) Integrates AI-Driven Lending Tech With Algebrik : We recently published a list of 12 AI News Investors Should Not Miss This Week. In this article, we are going to take a look at where Jack Henry & Associates, Inc. (NASDAQ:JKHY) stands against other AI news Investors should not miss this week. Artificial Intelligence (AI) is known to increase productivity, decrease human error, […]\n",
       "\n",
       "**[Doc 2]** *(Ticker: META, Provider: Motley Fool, Date: 2025-05-31, sim=0.626)*\n",
       "\n",
       "> This \"Magnificent Seven\" Stock Is Set to Skyrocket If Its AI Investments Pay Off : Meta Platforms has investments in several AI applications.  The tech giant's stock is only valued on its legacy business.  Over the past two-and-a-half years, investors have heard about various artificial intelligence (AI) investments that tech companies are making.\n",
       "\n",
       "**[Doc 3]** *(Ticker: PLTR, Provider: Motley Fool, Date: 2025-05-31, sim=0.619)*\n",
       "\n",
       "> Billionaires Are Buying 2 Artificial Intelligence (AI) Stocks That Wall Street Analysts Say Can Soar Up to 240% : Several billionaire hedge fund managers bought shares of Palantir and/or Upstart in the first quarter -- stocks where certain analysts anticipate substantial upside.  Palantir is successfully tapping demand for artificial intelligence (AI) with government and commercial customers, but the stock trades at a very expensive valuation.  Upstart is generating attractive returns for lenders by helping them quantify credit risk with artificial intelligence, and the stock trades at a very …\n",
       "\n",
       "**[Doc 4]** *(Ticker: PLTR, Provider: Motley Fool, Date: 2025-05-31, sim=0.618)*\n",
       "\n",
       "> Better Artificial Intelligence (AI) Stock: Palantir vs. Snowflake : Shares of both Palantir and Snowflake have delivered healthy gains in 2025 despite the broader stock market weakness.  Palantir stock has shot up 63% this year despite bouts of volatility.  Palantir Technologies helps commercial and government clients integrate generative AI capabilities into their operations with its Artificial Intelligence Platform (AIP), which was launched roughly two years ago.\n",
       "\n",
       "**[Doc 5]** *(Ticker: NFLX, Provider: Motley Fool, Date: 2025-05-29, sim=0.580)*\n",
       "\n",
       "> 2 Underrated Artificial Intelligence (AI) Stocks to Buy and Hold : Generative AI can simplify and speed up many tasks, including content production.  It's easy to see the potential for Netflix, whose content strategy is integral to its success.  Netflix's creations have attracted millions of viewers and won many awards.\n"
      ],
      "text/plain": [
       "<IPython.core.display.Markdown object>"
      ]
     },
     "metadata": {},
     "output_type": "display_data"
    },
    {
     "data": {
      "text/markdown": [
       "_Coverage hint_: V1 unique tickers=4 • V2 unique tickers=4 • V2 sectors seen=Communication Services, Technology"
      ],
      "text/plain": [
       "<IPython.core.display.Markdown object>"
      ]
     },
     "metadata": {},
     "output_type": "display_data"
    },
    {
     "data": {
      "text/markdown": [
       "# Company Questions — V1 vs V2"
      ],
      "text/plain": [
       "<IPython.core.display.Markdown object>"
      ]
     },
     "metadata": {},
     "output_type": "display_data"
    },
    {
     "data": {
      "text/markdown": [
       "## Q: How is Microsoft being portrayed in news stories about artificial intelligence?"
      ],
      "text/plain": [
       "<IPython.core.display.Markdown object>"
      ]
     },
     "metadata": {},
     "output_type": "display_data"
    },
    {
     "data": {
      "text/markdown": [
       "**V1 Answer**\n",
       "\n",
       "The provided context does not contain any information about Microsoft or its portrayal in news stories about artificial intelligence. Therefore, I cannot answer the question based on the given context.\n",
       "\n",
       "**V1 Snippets**\n",
       "\n",
       "**[Doc 1]** *(Ticker: META, Provider: Motley Fool, Date: 2025-05-31, sim=0.543)*\n",
       "\n",
       "> This \"Magnificent Seven\" Stock Is Set to Skyrocket If Its AI Investments Pay Off : Meta Platforms has investments in several AI applications.  The tech giant's stock is only valued on its legacy business.  Over the past two-and-a-half years, investors have heard about various artificial intelligence (AI) investments that tech companies are making.\n",
       "\n",
       "**[Doc 2]** *(Ticker: CRM, Provider: Yahoo Finance Video, Date: 2025-05-29, sim=0.505)*\n",
       "\n",
       "> How Salesforce has 'overcorrected' by leaning into AI : D.A. Davidson head of technology research Gil Luria joins Market Domination to discuss Salesforce (CRM) earnings and the company's trajectory. Luria says Salesforce is \"too focused\" on artificial intelligence (AI), as the other parts of its business \"rapidly\" decelerate and the company loses market share to competitors. Luria has the equivalent of a Sell rating on the stock. To watch more expert insights and analysis on the latest market action, check out more Market Domination here.\n",
       "\n",
       "**[Doc 3]** *(Ticker: JKHY, Provider: Insider Monkey, Date: 2025-03-17, sim=0.484)*\n",
       "\n",
       "> Jack Henry (JKHY) Integrates AI-Driven Lending Tech With Algebrik : We recently published a list of 12 AI News Investors Should Not Miss This Week. In this article, we are going to take a look at where Jack Henry & Associates, Inc. (NASDAQ:JKHY) stands against other AI news Investors should not miss this week. Artificial Intelligence (AI) is known to increase productivity, decrease human error, […]\n",
       "\n",
       "**[Doc 4]** *(Ticker: NFLX, Provider: Motley Fool, Date: 2025-05-29, sim=0.463)*\n",
       "\n",
       "> 2 Underrated Artificial Intelligence (AI) Stocks to Buy and Hold : Generative AI can simplify and speed up many tasks, including content production.  It's easy to see the potential for Netflix, whose content strategy is integral to its success.  Netflix's creations have attracted millions of viewers and won many awards.\n",
       "\n",
       "**[Doc 5]** *(Ticker: META, Provider: Insider Monkey, Date: 2025-05-30, sim=0.461)*\n",
       "\n",
       "> Meta (META) AI Reaches 1 Billion Users, Eyes Paid Features and Subscriptions : We recently published a list of 10 AI Stocks on Wall Street’s Radar. In this article, we are going to take a look at where Meta Platforms, Inc. (NASDAQ:META) stands against other AI stocks on Wall Street’s radar. Meta Platforms, Inc. (NASDAQ:META) is a global technology company. On May 28, CNBC reported that Meta Platforms, Inc. (NASDAQ:META)’s artificial […]\n"
      ],
      "text/plain": [
       "<IPython.core.display.Markdown object>"
      ]
     },
     "metadata": {},
     "output_type": "display_data"
    },
    {
     "data": {
      "text/markdown": [
       "**V2 Answer (with financial metadata)**\n",
       "\n",
       "The context provided does not contain any information about Microsoft or its portrayal in news stories about artificial intelligence. Therefore, I cannot answer the question based on the given snippets.\n",
       "\n",
       "**V2 Snippets**\n",
       "\n",
       "**[Doc 1]** *(Ticker: META, Provider: Motley Fool, Date: 2025-05-31, sim=0.543)*\n",
       "\n",
       "> This \"Magnificent Seven\" Stock Is Set to Skyrocket If Its AI Investments Pay Off : Meta Platforms has investments in several AI applications.  The tech giant's stock is only valued on its legacy business.  Over the past two-and-a-half years, investors have heard about various artificial intelligence (AI) investments that tech companies are making.\n",
       "\n",
       "**[Doc 2]** *(Ticker: CRM, Provider: Yahoo Finance Video, Date: 2025-05-29, sim=0.505)*\n",
       "\n",
       "> How Salesforce has 'overcorrected' by leaning into AI : D.A. Davidson head of technology research Gil Luria joins Market Domination to discuss Salesforce (CRM) earnings and the company's trajectory. Luria says Salesforce is \"too focused\" on artificial intelligence (AI), as the other parts of its business \"rapidly\" decelerate and the company loses market share to competitors. Luria has the equivalent of a Sell rating on the stock. To watch more expert insights and analysis on the latest market action, check out more Market Domination here.\n",
       "\n",
       "**[Doc 3]** *(Ticker: JKHY, Provider: Insider Monkey, Date: 2025-03-17, sim=0.484)*\n",
       "\n",
       "> Jack Henry (JKHY) Integrates AI-Driven Lending Tech With Algebrik : We recently published a list of 12 AI News Investors Should Not Miss This Week. In this article, we are going to take a look at where Jack Henry & Associates, Inc. (NASDAQ:JKHY) stands against other AI news Investors should not miss this week. Artificial Intelligence (AI) is known to increase productivity, decrease human error, […]\n",
       "\n",
       "**[Doc 4]** *(Ticker: NFLX, Provider: Motley Fool, Date: 2025-05-29, sim=0.463)*\n",
       "\n",
       "> 2 Underrated Artificial Intelligence (AI) Stocks to Buy and Hold : Generative AI can simplify and speed up many tasks, including content production.  It's easy to see the potential for Netflix, whose content strategy is integral to its success.  Netflix's creations have attracted millions of viewers and won many awards.\n",
       "\n",
       "**[Doc 5]** *(Ticker: META, Provider: Insider Monkey, Date: 2025-05-30, sim=0.461)*\n",
       "\n",
       "> Meta (META) AI Reaches 1 Billion Users, Eyes Paid Features and Subscriptions : We recently published a list of 10 AI Stocks on Wall Street’s Radar. In this article, we are going to take a look at where Meta Platforms, Inc. (NASDAQ:META) stands against other AI stocks on Wall Street’s radar. Meta Platforms, Inc. (NASDAQ:META) is a global technology company. On May 28, CNBC reported that Meta Platforms, Inc. (NASDAQ:META)’s artificial […]\n"
      ],
      "text/plain": [
       "<IPython.core.display.Markdown object>"
      ]
     },
     "metadata": {},
     "output_type": "display_data"
    },
    {
     "data": {
      "text/markdown": [
       "_Coverage hint_: V1 unique tickers=4 • V2 unique tickers=4 • V2 sectors seen=Communication Services, Technology"
      ],
      "text/plain": [
       "<IPython.core.display.Markdown object>"
      ]
     },
     "metadata": {},
     "output_type": "display_data"
    },
    {
     "data": {
      "text/markdown": [
       "## Q: What financial news headlines connect Amazon with automation or logistics?"
      ],
      "text/plain": [
       "<IPython.core.display.Markdown object>"
      ]
     },
     "metadata": {},
     "output_type": "display_data"
    },
    {
     "data": {
      "text/markdown": [
       "**V1 Answer**\n",
       "\n",
       "The context provided does not contain specific financial news headlines that directly connect Amazon with automation or logistics. However, there are mentions of Amazon's use of artificial intelligence, which may relate to automation in a broader sense. For example, in [Doc 2], Matt Garman, CEO of Amazon Web Services, discusses how every aspect of Amazon is leveraging artificial intelligence. Additionally, [Doc 3] mentions automation in the context of Woodward's earnings growth, but it does not directly link to Amazon. Therefore, the context is insufficient to provide specific headlines connecting Amazon with automation or logistics.\n",
       "\n",
       "**V1 Snippets**\n",
       "\n",
       "**[Doc 1]** *(Ticker: TFC, Provider: Insider Monkey, Date: 2025-05-25, sim=0.601)*\n",
       "\n",
       "> Truist Reiterates Buy on Amazon.com (AMZN) as Q2 Revenue Tracks Ahead : We recently published a list of 10 AI Stocks on Wall Street’s Radar. In this article, we are going to take a look at where Amazon.com Inc. (NASDAQ:AMZN) stands against other AI stocks on Wall Street’s radar. Amazon.com Inc. (NASDAQ:AMZN) is an American technology company offering e-commerce, cloud computing, and other services, including digital streaming […]\n",
       "\n",
       "**[Doc 2]** *(Ticker: AMZN, Provider: Bloomberg, Date: 2025-05-30, sim=0.523)*\n",
       "\n",
       "> Amazon's AI Roadmap With AWS CEO Garman : Every aspect of Amazon is leveraging artificial intelligence, says Matt Garman, CEO of Amazon Web Services. Garman discusses Amazon's AI roadmap and reflects on his first year in the role with Ed Ludlow on \"Bloomberg Technology.\"\n",
       "\n",
       "**[Doc 3]** *(Ticker: TFC, Provider: MT Newswires, Date: 2025-05-23, sim=0.516)*\n",
       "\n",
       "> Woodward's Volumes, Automation to Drive Earnings Growth, Truist Says : Woodward's (WWD) increasing volumes, pricing, automation, and products will push its aerospace margi\n",
       "\n",
       "**[Doc 4]** *(Ticker: AON, Provider: Zacks, Date: 2025-04-30, sim=0.513)*\n",
       "\n",
       "> Top Stock Reports for Amazon.com, Johnson & Johnson & Cisco Systems : Today's Research Daily features new research reports on 16 major stocks, including Amazon.com, Inc. (AMZN), Johnson & Johnson (JNJ) and Cisco Systems, Inc. (CSCO), as well as a micro-cap NeurAxis, Inc. (NRXS).\n",
       "\n",
       "**[Doc 5]** *(Ticker: CHRW, Provider: StockStory, Date: 2025-05-23, sim=0.503)*\n",
       "\n",
       "> Winners And Losers Of Q1: C.H. Robinson Worldwide (NASDAQ:CHRW) Vs The Rest Of The Air Freight and Logistics Stocks : As the craze of earnings season draws to a close, here’s a look back at some of the most exciting (and some less so) results from Q1. Today, we are looking at air freight and logistics stocks, starting with C.H. Robinson Worldwide (NASDAQ:CHRW).\n"
      ],
      "text/plain": [
       "<IPython.core.display.Markdown object>"
      ]
     },
     "metadata": {},
     "output_type": "display_data"
    },
    {
     "data": {
      "text/markdown": [
       "**V2 Answer (with financial metadata)**\n",
       "\n",
       "The financial news headlines that connect Amazon with automation or logistics are:\n",
       "\n",
       "1. \"Amazon's AI Roadmap With AWS CEO Garman: Every aspect of Amazon is leveraging artificial intelligence,\" which highlights Amazon's use of AI, potentially impacting its logistics and operational efficiency [Doc 2].\n",
       "\n",
       "2. While not directly mentioning Amazon, the snippet \"Woodward's Volumes, Automation to Drive Earnings Growth, Truist Says\" discusses automation in a broader context, which may relate to trends affecting companies like Amazon in the logistics sector [Doc 3].\n",
       "\n",
       "The other snippets do not specifically connect Amazon with automation or logistics.\n",
       "\n",
       "**V2 Snippets**\n",
       "\n",
       "**[Doc 1]** *(Ticker: TFC, Provider: Insider Monkey, Date: 2025-05-25, sim=0.601)*\n",
       "\n",
       "> Truist Reiterates Buy on Amazon.com (AMZN) as Q2 Revenue Tracks Ahead : We recently published a list of 10 AI Stocks on Wall Street’s Radar. In this article, we are going to take a look at where Amazon.com Inc. (NASDAQ:AMZN) stands against other AI stocks on Wall Street’s radar. Amazon.com Inc. (NASDAQ:AMZN) is an American technology company offering e-commerce, cloud computing, and other services, including digital streaming […]\n",
       "\n",
       "**[Doc 2]** *(Ticker: AMZN, Provider: Bloomberg, Date: 2025-05-30, sim=0.523)*\n",
       "\n",
       "> Amazon's AI Roadmap With AWS CEO Garman : Every aspect of Amazon is leveraging artificial intelligence, says Matt Garman, CEO of Amazon Web Services. Garman discusses Amazon's AI roadmap and reflects on his first year in the role with Ed Ludlow on \"Bloomberg Technology.\"\n",
       "\n",
       "**[Doc 3]** *(Ticker: TFC, Provider: MT Newswires, Date: 2025-05-23, sim=0.516)*\n",
       "\n",
       "> Woodward's Volumes, Automation to Drive Earnings Growth, Truist Says : Woodward's (WWD) increasing volumes, pricing, automation, and products will push its aerospace margi\n",
       "\n",
       "**[Doc 4]** *(Ticker: AON, Provider: Zacks, Date: 2025-04-30, sim=0.513)*\n",
       "\n",
       "> Top Stock Reports for Amazon.com, Johnson & Johnson & Cisco Systems : Today's Research Daily features new research reports on 16 major stocks, including Amazon.com, Inc. (AMZN), Johnson & Johnson (JNJ) and Cisco Systems, Inc. (CSCO), as well as a micro-cap NeurAxis, Inc. (NRXS).\n",
       "\n",
       "**[Doc 5]** *(Ticker: CHRW, Provider: StockStory, Date: 2025-05-23, sim=0.503)*\n",
       "\n",
       "> Winners And Losers Of Q1: C.H. Robinson Worldwide (NASDAQ:CHRW) Vs The Rest Of The Air Freight and Logistics Stocks : As the craze of earnings season draws to a close, here’s a look back at some of the most exciting (and some less so) results from Q1. Today, we are looking at air freight and logistics stocks, starting with C.H. Robinson Worldwide (NASDAQ:CHRW).\n"
      ],
      "text/plain": [
       "<IPython.core.display.Markdown object>"
      ]
     },
     "metadata": {},
     "output_type": "display_data"
    },
    {
     "data": {
      "text/markdown": [
       "_Coverage hint_: V1 unique tickers=4 • V2 unique tickers=4 • V2 sectors seen=Financial Services, Industrials, Consumer Cyclical"
      ],
      "text/plain": [
       "<IPython.core.display.Markdown object>"
      ]
     },
     "metadata": {},
     "output_type": "display_data"
    },
    {
     "data": {
      "text/markdown": [
       "# Industry Questions — V1 vs V2"
      ],
      "text/plain": [
       "<IPython.core.display.Markdown object>"
      ]
     },
     "metadata": {},
     "output_type": "display_data"
    },
    {
     "data": {
      "text/markdown": [
       "## Q: What are the main themes emerging in financial news about the semiconductor industry?"
      ],
      "text/plain": [
       "<IPython.core.display.Markdown object>"
      ]
     },
     "metadata": {},
     "output_type": "display_data"
    },
    {
     "data": {
      "text/markdown": [
       "**V1 Answer**\n",
       "\n",
       "The main themes emerging in financial news about the semiconductor industry include:\n",
       "\n",
       "1. **International Revenue Trends**: There is a focus on how international revenue trends for companies like ON Semiconductor Corp. impact Wall Street's forecasts and stock performance [Doc 1].\n",
       "\n",
       "2. **Investor Attention**: ON Semiconductor is attracting significant investor interest, prompting analyses of its stock potential and future outlook [Doc 2].\n",
       "\n",
       "3. **Earnings Performance**: Despite some soft earnings reports, there appears to be optimism among shareholders regarding ON Semiconductor's future prospects [Doc 3].\n",
       "\n",
       "4. **Market Assessment**: The end of earnings seasons is seen as an opportunity to evaluate how various semiconductor companies, including Vishay Intertechnology, are navigating the current business environment [Doc 4].\n",
       "\n",
       "5. **Stock Picks by Influential Investors**: ON Semiconductor is highlighted as a stock with potential upside, as noted in the context of investment choices made by notable investors like Glenn Russell Dubin [Doc 5]. \n",
       "\n",
       "These themes reflect a mix of financial performance analysis, investor sentiment, and market opportunities within the semiconductor sector.\n",
       "\n",
       "**V1 Snippets**\n",
       "\n",
       "**[Doc 1]** *(Ticker: ON, Provider: Zacks, Date: 2025-05-13, sim=0.643)*\n",
       "\n",
       "> Investing in ON Semiconductor Corp. (ON)? Don't Miss Assessing Its International Revenue Trends : Explore ON Semiconductor Corp.'s (ON) international revenue trends and how these numbers impact Wall Street's forecasts and what's ahead for the stock.\n",
       "\n",
       "**[Doc 2]** *(Ticker: ON, Provider: Zacks, Date: 2025-05-21, sim=0.582)*\n",
       "\n",
       "> ON Semiconductor Corporation (ON) is Attracting Investor Attention: Here is What You Should Know : Recently, Zacks.com users have been paying close attention to ON Semiconductor Corp. (ON). This makes it worthwhile to examine what the stock has in store.\n",
       "\n",
       "**[Doc 3]** *(Ticker: ON, Provider: Simply Wall St., Date: 2025-05-12, sim=0.565)*\n",
       "\n",
       "> Some May Be Optimistic About ON Semiconductor's (NASDAQ:ON) Earnings : Soft earnings didn't appear to concern ON Semiconductor Corporation's ( NASDAQ:ON ) shareholders over the last week...\n",
       "\n",
       "**[Doc 4]** *(Ticker: ADI, Provider: StockStory, Date: 2025-05-29, sim=0.548)*\n",
       "\n",
       "> Spotting Winners: Vishay Intertechnology (NYSE:VSH) And Analog Semiconductors Stocks In Q1 : The end of an earnings season can be a great time to discover new stocks and assess how companies are handling the current business environment. Let’s take a look at how Vishay Intertechnology (NYSE:VSH) and the rest of the analog semiconductors stocks fared in Q1.\n",
       "\n",
       "**[Doc 5]** *(Ticker: ON, Provider: Insider Monkey, Date: 2025-05-11, sim=0.528)*\n",
       "\n",
       "> ON Semiconductor (ON): Among Billionaire Glenn Russell Dubin’s Stock Picks with Huge Upside Potential : We recently published a list of Billionaire Glenn Russell Dubin’s 10 Stock Picks with Huge Upside Potential. In this article, we are going to take a look at where ON Semiconductor Corporation (NASDAQ:ON) stands against Billionaire Glenn Russell Dubin’s other stock picks with huge upside potential. Glenn Russell Dubin is one of the industry’s most […]\n"
      ],
      "text/plain": [
       "<IPython.core.display.Markdown object>"
      ]
     },
     "metadata": {},
     "output_type": "display_data"
    },
    {
     "data": {
      "text/markdown": [
       "**V2 Answer (with financial metadata)**\n",
       "\n",
       "The main themes emerging in financial news about the semiconductor industry include:\n",
       "\n",
       "1. **International Revenue Trends**: There is a focus on assessing international revenue trends for ON Semiconductor Corporation and how these trends impact Wall Street's forecasts and stock performance [Doc 1].\n",
       "\n",
       "2. **Investor Attention**: ON Semiconductor is attracting significant investor interest, prompting discussions about the stock's potential and future performance [Doc 2].\n",
       "\n",
       "3. **Earnings Performance**: Despite soft earnings, there seems to be an optimistic outlook among shareholders regarding ON Semiconductor, indicating a resilience in investor sentiment [Doc 3].\n",
       "\n",
       "4. **Stock Picks and Potential**: ON Semiconductor is highlighted as a stock with huge upside potential, particularly in the context of being among the picks of notable investors like Glenn Russell Dubin [Doc 5].\n",
       "\n",
       "5. **Market Assessment**: The end of the earnings season is seen as an opportunity to evaluate how companies, including those in the analog semiconductor sector, are navigating the current business environment [Doc 4]. \n",
       "\n",
       "These themes reflect a mix of financial performance analysis, investor sentiment, and market opportunities within the semiconductor industry.\n",
       "\n",
       "**V2 Snippets**\n",
       "\n",
       "**[Doc 1]** *(Ticker: ON, Provider: Zacks, Date: 2025-05-13, sim=0.643)*\n",
       "\n",
       "> Investing in ON Semiconductor Corp. (ON)? Don't Miss Assessing Its International Revenue Trends : Explore ON Semiconductor Corp.'s (ON) international revenue trends and how these numbers impact Wall Street's forecasts and what's ahead for the stock.\n",
       "\n",
       "**[Doc 2]** *(Ticker: ON, Provider: Zacks, Date: 2025-05-21, sim=0.582)*\n",
       "\n",
       "> ON Semiconductor Corporation (ON) is Attracting Investor Attention: Here is What You Should Know : Recently, Zacks.com users have been paying close attention to ON Semiconductor Corp. (ON). This makes it worthwhile to examine what the stock has in store.\n",
       "\n",
       "**[Doc 3]** *(Ticker: ON, Provider: Simply Wall St., Date: 2025-05-12, sim=0.565)*\n",
       "\n",
       "> Some May Be Optimistic About ON Semiconductor's (NASDAQ:ON) Earnings : Soft earnings didn't appear to concern ON Semiconductor Corporation's ( NASDAQ:ON ) shareholders over the last week...\n",
       "\n",
       "**[Doc 4]** *(Ticker: ADI, Provider: StockStory, Date: 2025-05-29, sim=0.548)*\n",
       "\n",
       "> Spotting Winners: Vishay Intertechnology (NYSE:VSH) And Analog Semiconductors Stocks In Q1 : The end of an earnings season can be a great time to discover new stocks and assess how companies are handling the current business environment. Let’s take a look at how Vishay Intertechnology (NYSE:VSH) and the rest of the analog semiconductors stocks fared in Q1.\n",
       "\n",
       "**[Doc 5]** *(Ticker: ON, Provider: Insider Monkey, Date: 2025-05-11, sim=0.528)*\n",
       "\n",
       "> ON Semiconductor (ON): Among Billionaire Glenn Russell Dubin’s Stock Picks with Huge Upside Potential : We recently published a list of Billionaire Glenn Russell Dubin’s 10 Stock Picks with Huge Upside Potential. In this article, we are going to take a look at where ON Semiconductor Corporation (NASDAQ:ON) stands against Billionaire Glenn Russell Dubin’s other stock picks with huge upside potential. Glenn Russell Dubin is one of the industry’s most […]\n"
      ],
      "text/plain": [
       "<IPython.core.display.Markdown object>"
      ]
     },
     "metadata": {},
     "output_type": "display_data"
    },
    {
     "data": {
      "text/markdown": [
       "_Coverage hint_: V1 unique tickers=2 • V2 unique tickers=2 • V2 sectors seen=Technology"
      ],
      "text/plain": [
       "<IPython.core.display.Markdown object>"
      ]
     },
     "metadata": {},
     "output_type": "display_data"
    },
    {
     "data": {
      "text/markdown": [
       "## Q: What trends are being reported in the retail industry?"
      ],
      "text/plain": [
       "<IPython.core.display.Markdown object>"
      ]
     },
     "metadata": {},
     "output_type": "display_data"
    },
    {
     "data": {
      "text/markdown": [
       "**V1 Answer**\n",
       "\n",
       "The retail industry is currently experiencing several notable trends:\n",
       "\n",
       "1. **Adaptation to Technology**: Retailers are modifying their business models in response to technological changes that affect consumer shopping behaviors. This adaptation is crucial as demand remains volatile, influenced by fluctuations in consumer spending [Doc 1].\n",
       "\n",
       "2. **Impact of Economic Cycles**: The performance of consumer discretionary businesses is closely tied to economic cycles. Recently, demand trends have been unfavorable, with the industry seeing a decline of 12.3% over the past six months, which is significantly worse than the S&P 500's 2.1% decline [Doc 3].\n",
       "\n",
       "3. **Supply Chain Adjustments**: In light of ongoing trade tensions and tariff policies, retail executives are shifting their supply chains. Many price increases have already been implemented in response to these changes [Doc 2].\n",
       "\n",
       "Overall, the retail sector is facing challenges due to economic conditions and the need to adapt to technological advancements while managing supply chain disruptions.\n",
       "\n",
       "**V1 Snippets**\n",
       "\n",
       "**[Doc 1]** *(Ticker: KMX, Provider: StockStory, Date: 2025-05-12, sim=0.590)*\n",
       "\n",
       "> 3 Consumer Stocks That Concern Us : Retailers are adapting their business models as technology changes how people shop. Still, demand can be volatile as the industry is exposed to the ups and downs of consumer spending. This has stirred some uncertainty lately as retail stocks have tumbled by 13.7% over the past six months. This performance was worse than the S&P 500’s 5.5% loss.\n",
       "\n",
       "**[Doc 2]** *(Ticker: BBY, Provider: The Wall Street Journal, Date: 2025-05-29, sim=0.506)*\n",
       "\n",
       "> Retailers, Ducking Trade-War Curveballs, Stick to Their Plans : As legal rulings roll in on Trump’s tariff policies, retail executives say they have shifted their supply chains and many price increases already have hit shelves.\n",
       "\n",
       "**[Doc 3]** *(Ticker: HLT, Provider: StockStory, Date: 2025-05-22, sim=0.500)*\n",
       "\n",
       "> 3 Consumer Stocks Skating on Thin Ice : The performance of consumer discretionary businesses is closely linked to economic cycles. Over the past six months, it seems like demand trends are working against their favor as the industry has tumbled by 12.3%. This drop was significantly worse than the S&P 500’s 2.1% decline.\n",
       "\n",
       "**[Doc 4]** *(Ticker: PKG, Provider: Simply Wall St., Date: 2025-04-26, sim=0.476)*\n",
       "\n",
       "> Packaging Corporation of America (NYSE:PKG) Hasn't Managed To Accelerate Its Returns : What trends should we look for it we want to identify stocks that can multiply in value over the long term? Amongst...\n",
       "\n",
       "**[Doc 5]** *(Ticker: APD, Provider: Simply Wall St., Date: 2025-05-14, sim=0.476)*\n",
       "\n",
       "> Air Products and Chemicals (NYSE:APD) Will Be Hoping To Turn Its Returns On Capital Around : To find a multi-bagger stock, what are the underlying trends we should look for in a business? Firstly, we'll want to...\n"
      ],
      "text/plain": [
       "<IPython.core.display.Markdown object>"
      ]
     },
     "metadata": {},
     "output_type": "display_data"
    },
    {
     "data": {
      "text/markdown": [
       "**V2 Answer (with financial metadata)**\n",
       "\n",
       "The retail industry is currently facing several trends:\n",
       "\n",
       "1. **Adaptation to Technology**: Retailers are changing their business models in response to technological advancements that alter consumer shopping behaviors. This adaptation is crucial as demand remains volatile, influenced by fluctuations in consumer spending [Doc 1].\n",
       "\n",
       "2. **Impact of Trade Policies**: Retail executives are adjusting their supply chains due to ongoing trade war implications, particularly related to tariff policies. Many price increases have already been implemented in response to these changes [Doc 2].\n",
       "\n",
       "3. **Economic Cycles**: The performance of consumer discretionary businesses, including retail, is closely tied to economic cycles. Recently, demand trends have not favored the industry, leading to a significant decline in performance compared to broader market indices [Doc 3]. \n",
       "\n",
       "Overall, the retail sector is experiencing uncertainty and challenges due to technological changes, trade policy impacts, and economic conditions.\n",
       "\n",
       "**V2 Snippets**\n",
       "\n",
       "**[Doc 1]** *(Ticker: KMX, Provider: StockStory, Date: 2025-05-12, sim=0.590)*\n",
       "\n",
       "> 3 Consumer Stocks That Concern Us : Retailers are adapting their business models as technology changes how people shop. Still, demand can be volatile as the industry is exposed to the ups and downs of consumer spending. This has stirred some uncertainty lately as retail stocks have tumbled by 13.7% over the past six months. This performance was worse than the S&P 500’s 5.5% loss.\n",
       "\n",
       "**[Doc 2]** *(Ticker: BBY, Provider: The Wall Street Journal, Date: 2025-05-29, sim=0.506)*\n",
       "\n",
       "> Retailers, Ducking Trade-War Curveballs, Stick to Their Plans : As legal rulings roll in on Trump’s tariff policies, retail executives say they have shifted their supply chains and many price increases already have hit shelves.\n",
       "\n",
       "**[Doc 3]** *(Ticker: HLT, Provider: StockStory, Date: 2025-05-22, sim=0.500)*\n",
       "\n",
       "> 3 Consumer Stocks Skating on Thin Ice : The performance of consumer discretionary businesses is closely linked to economic cycles. Over the past six months, it seems like demand trends are working against their favor as the industry has tumbled by 12.3%. This drop was significantly worse than the S&P 500’s 2.1% decline.\n",
       "\n",
       "**[Doc 4]** *(Ticker: PKG, Provider: Simply Wall St., Date: 2025-04-26, sim=0.476)*\n",
       "\n",
       "> Packaging Corporation of America (NYSE:PKG) Hasn't Managed To Accelerate Its Returns : What trends should we look for it we want to identify stocks that can multiply in value over the long term? Amongst...\n",
       "\n",
       "**[Doc 5]** *(Ticker: APD, Provider: Simply Wall St., Date: 2025-05-14, sim=0.476)*\n",
       "\n",
       "> Air Products and Chemicals (NYSE:APD) Will Be Hoping To Turn Its Returns On Capital Around : To find a multi-bagger stock, what are the underlying trends we should look for in a business? Firstly, we'll want to...\n"
      ],
      "text/plain": [
       "<IPython.core.display.Markdown object>"
      ]
     },
     "metadata": {},
     "output_type": "display_data"
    },
    {
     "data": {
      "text/markdown": [
       "_Coverage hint_: V1 unique tickers=5 • V2 unique tickers=5 • V2 sectors seen=Basic Materials, Consumer Cyclical"
      ],
      "text/plain": [
       "<IPython.core.display.Markdown object>"
      ]
     },
     "metadata": {},
     "output_type": "display_data"
    },
    {
     "data": {
      "text/markdown": [
       "## Q: What risks or challenges are discussed in recent news about the energy industry?"
      ],
      "text/plain": [
       "<IPython.core.display.Markdown object>"
      ]
     },
     "metadata": {},
     "output_type": "display_data"
    },
    {
     "data": {
      "text/markdown": [
       "**V1 Answer**\n",
       "\n",
       "Recent news about the energy industry highlights several risks and challenges:\n",
       "\n",
       "1. **Legislative Risks for Renewable Energy**: A bill advancing in Congress could significantly harm the renewable energy sector by repealing crucial subsidies. This change may render many renewable energy projects uneconomical, leading to a crash in renewable energy stocks as companies have recently increased production and generation capabilities in the U.S. [Doc 1], [Doc 2].\n",
       "\n",
       "2. **Oilfield Service Challenges**: Companies in the oilfield service sector, such as SLB, HAL, and BKR, are facing difficulties due to sliding oil prices, rising tariffs, and shrinking drilling budgets. There is uncertainty about whether demand for liquefied natural gas (LNG) and artificial intelligence (AI) can provide sufficient support to mitigate these challenges [Doc 3], [Doc 4].\n",
       "\n",
       "These factors indicate a turbulent environment for both renewable and traditional energy sectors.\n",
       "\n",
       "**V1 Snippets**\n",
       "\n",
       "**[Doc 1]** *(Ticker: NEE, Provider: Motley Fool, Date: 2025-05-23, sim=0.536)*\n",
       "\n",
       "> Renewable Energy Stocks Crash as U.S. Advances Bill That Could Decimate the Industry : Congress is pushing forward a bill that could upend the renewable energy industry.  Just as companies have ramped up production and renewable electricity generation in the U.S., those projects may become uneconomical.  The news was about as bad as it could get for renewable energy stocks this week as the U.S. House of Representatives early Thursday passed a bill that will repeal some of the most important subsidies for the industry if it becomes law.\n",
       "\n",
       "**[Doc 2]** *(Ticker: ENPH, Provider: Motley Fool, Date: 2025-05-23, sim=0.536)*\n",
       "\n",
       "> Renewable Energy Stocks Crash as U.S. Advances Bill That Could Decimate the Industry : Congress is pushing forward a bill that could upend the renewable energy industry.  Just as companies have ramped up production and renewable electricity generation in the U.S., those projects may become uneconomical.  The news was about as bad as it could get for renewable energy stocks this week as the U.S. House of Representatives early Thursday passed a bill that will repeal some of the most important subsidies for the industry if it becomes law.\n",
       "\n",
       "**[Doc 3]** *(Ticker: HAL, Provider: Zacks, Date: 2025-05-21, sim=0.482)*\n",
       "\n",
       "> Tariffs, Prices, and Pain: What's Next for Oilfield Service? : The likes of SLB, HAL and BKR face a tough future as oil prices slide, tariffs rise and drilling budgets shrink - can LNG and AI demand offer enough support?\n",
       "\n",
       "**[Doc 4]** *(Ticker: BKR, Provider: Zacks, Date: 2025-05-21, sim=0.482)*\n",
       "\n",
       "> Tariffs, Prices, and Pain: What's Next for Oilfield Service? : The likes of SLB, HAL and BKR face a tough future as oil prices slide, tariffs rise and drilling budgets shrink - can LNG and AI demand offer enough support?\n",
       "\n",
       "**[Doc 5]** *(Ticker: FCX, Provider: Motley Fool, Date: 2025-05-21, sim=0.478)*\n",
       "\n",
       "> 3 American Companies Investors Need to Know Amid Trump's Tariff Wars : Copper is a critical metal for the U.S. industrial economy.  This American appliance maker expects the Trump administration to close loopholes that will improve its competitive positioning.  It's difficult to predict precisely what the tariff landscape will look like when the dust settles on the trade conflict, but we can say some things with a high degree of certainty.\n"
      ],
      "text/plain": [
       "<IPython.core.display.Markdown object>"
      ]
     },
     "metadata": {},
     "output_type": "display_data"
    },
    {
     "data": {
      "text/markdown": [
       "**V2 Answer (with financial metadata)**\n",
       "\n",
       "Recent news highlights several risks and challenges in the energy industry:\n",
       "\n",
       "1. **Legislative Risks for Renewable Energy**: A bill advancing in Congress could significantly harm the renewable energy sector by repealing crucial subsidies, making many projects uneconomical. This has led to a sharp decline in renewable energy stocks as companies had just ramped up production and generation capabilities [Doc 1][Doc 2].\n",
       "\n",
       "2. **Market Challenges for Oilfield Services**: Companies in the oilfield service sector, such as Halliburton and Baker Hughes, are facing difficulties due to sliding oil prices, rising tariffs, and shrinking drilling budgets. These factors pose significant challenges to their profitability and operational viability [Doc 3][Doc 4]. \n",
       "\n",
       "These snippets indicate a turbulent environment for both renewable and traditional energy sectors, driven by legislative changes and market dynamics.\n",
       "\n",
       "**V2 Snippets**\n",
       "\n",
       "**[Doc 1]** *(Ticker: NEE, Provider: Motley Fool, Date: 2025-05-23, sim=0.536)*\n",
       "\n",
       "> Renewable Energy Stocks Crash as U.S. Advances Bill That Could Decimate the Industry : Congress is pushing forward a bill that could upend the renewable energy industry.  Just as companies have ramped up production and renewable electricity generation in the U.S., those projects may become uneconomical.  The news was about as bad as it could get for renewable energy stocks this week as the U.S. House of Representatives early Thursday passed a bill that will repeal some of the most important subsidies for the industry if it becomes law.\n",
       "\n",
       "**[Doc 2]** *(Ticker: ENPH, Provider: Motley Fool, Date: 2025-05-23, sim=0.536)*\n",
       "\n",
       "> Renewable Energy Stocks Crash as U.S. Advances Bill That Could Decimate the Industry : Congress is pushing forward a bill that could upend the renewable energy industry.  Just as companies have ramped up production and renewable electricity generation in the U.S., those projects may become uneconomical.  The news was about as bad as it could get for renewable energy stocks this week as the U.S. House of Representatives early Thursday passed a bill that will repeal some of the most important subsidies for the industry if it becomes law.\n",
       "\n",
       "**[Doc 3]** *(Ticker: HAL, Provider: Zacks, Date: 2025-05-21, sim=0.482)*\n",
       "\n",
       "> Tariffs, Prices, and Pain: What's Next for Oilfield Service? : The likes of SLB, HAL and BKR face a tough future as oil prices slide, tariffs rise and drilling budgets shrink - can LNG and AI demand offer enough support?\n",
       "\n",
       "**[Doc 4]** *(Ticker: BKR, Provider: Zacks, Date: 2025-05-21, sim=0.482)*\n",
       "\n",
       "> Tariffs, Prices, and Pain: What's Next for Oilfield Service? : The likes of SLB, HAL and BKR face a tough future as oil prices slide, tariffs rise and drilling budgets shrink - can LNG and AI demand offer enough support?\n",
       "\n",
       "**[Doc 5]** *(Ticker: FCX, Provider: Motley Fool, Date: 2025-05-21, sim=0.478)*\n",
       "\n",
       "> 3 American Companies Investors Need to Know Amid Trump's Tariff Wars : Copper is a critical metal for the U.S. industrial economy.  This American appliance maker expects the Trump administration to close loopholes that will improve its competitive positioning.  It's difficult to predict precisely what the tariff landscape will look like when the dust settles on the trade conflict, but we can say some things with a high degree of certainty.\n"
      ],
      "text/plain": [
       "<IPython.core.display.Markdown object>"
      ]
     },
     "metadata": {},
     "output_type": "display_data"
    },
    {
     "data": {
      "text/markdown": [
       "_Coverage hint_: V1 unique tickers=5 • V2 unique tickers=5 • V2 sectors seen=Energy, Basic Materials, Technology, Utilities"
      ],
      "text/plain": [
       "<IPython.core.display.Markdown object>"
      ]
     },
     "metadata": {},
     "output_type": "display_data"
    }
   ],
   "source": [
    "run_and_compare(questions_topic,   \"Topic Questions — V1 vs V2\", rag_chain, rag_chain_v2)\n",
    "run_and_compare(questions_company, \"Company Questions — V1 vs V2\", rag_chain, rag_chain_v2)\n",
    "run_and_compare(questions_industry,\"Industry Questions — V1 vs V2\", rag_chain, rag_chain_v2)"
   ]
  },
  {
   "cell_type": "markdown",
   "id": "80f53c26",
   "metadata": {},
   "source": [
    "## Analysis & Questions - Section 2"
   ]
  },
  {
   "cell_type": "markdown",
   "id": "cfbff478",
   "metadata": {},
   "source": [
    "### Instructions: Evaluate Answers With and Without Metadata\n",
    "\n",
    "For each question, compare the two answers provided:\n",
    "- One generated **without** metadata\n",
    "- One generated **with** metadata\n",
    "\n",
    "---\n",
    "\n",
    "### Steps:\n",
    "\n",
    "1. Use the following evaluation criteria:\n",
    "   - Clarity\n",
    "   - Detail & Depth\n",
    "   - Use of Context\n",
    "   - Accuracy & Grounding\n",
    "   - Relevance\n",
    "   - Narrrative Flow\n",
    "\n",
    "2. For each criterion, write brief notes comparing how the answer **without metadata** performs versus the answer **with metadata**.\n",
    "\n",
    "3. Summarize your evaluation in a markdown table with the following columns:\n",
    "\n",
    "| Criteria       | WITHOUT METADATA            | WITH METADATA             |\n",
    "|----------------|----------------------------|--------------------------|\n",
    "| Clarity        | [Your brief note here]     | [Your brief note here]   |\n",
    "| Detail & Depth         | [Your brief note here]     | [Your brief note here]   |\n",
    "| Use of Context        | [Your brief note here]     | [Your brief note here]   |\n",
    "| Accuracy & Grounding       | [Your brief note here]     | [Your brief note here]   |\n",
    "| Relevance      | [Your brief note here]     | [Your brief note here]   |\n",
    "| Narrative Flow      | [Your brief note here]     | [Your brief note here]   |\n",
    "\n",
    "---\n",
    "\n",
    "**Note:** Keep comments short and clear for easy comparison.\n",
    "\n"
   ]
  },
  {
   "cell_type": "markdown",
   "id": "84c509f2",
   "metadata": {},
   "source": [
    "| Criteria       | WITHOUT METADATA | WITH METADATA |\n",
    "|----------------|------------------|---------------|\n",
    "| Clarity        | Clear summaries but sometimes generic; lacks company identifiers, which can make references less precise. | Equally clear but adds company names, sectors, and industries, making references more precise and easier to follow. |\n",
    "| Detail & Depth | Covers key points well but omits extra identifiers and market context; less depth on company specifics. | Adds depth with sector/industry info and exact company names, giving richer context to each reference. |\n",
    "| Use of Context | Uses only textual content from snippets; context is sometimes weaker when entities aren’t explicitly named. | Stronger use of context by linking facts to specific companies and industries, enhancing grounding and reader understanding. |\n",
    "| Accuracy & Grounding | Accurate in summarizing snippet content, but grounding is weaker without explicit entity data. | Maintains accuracy while improving grounding through explicit metadata connections to companies/sectors. |\n",
    "| Relevance      | Stays relevant to the question, but without metadata some connections (e.g., to industries) are implied, not explicit. | Stays relevant and reinforces relevance by tying themes directly to named companies and industry classifications. |\n",
    "| Narrative Flow | Logical flow but can feel slightly repetitive in phrasing; transitions rely mostly on snippet content. | Flow is similar but smoother when metadata is used, since named entities and industries make transitions more natural and coherent. |\n"
   ]
  },
  {
   "cell_type": "markdown",
   "id": "0fac8e6a",
   "metadata": {},
   "source": [
    "We can see that the the model improves significantly if we add metadata to the context that is given to the LLM. We could see, for example, that the Amazon question is answered in a more detailed and accurate way than with the first RAG model.\n",
    "\n",
    "With the first model, the LLM answered that it didn't have enough context (or understanding) to answer the question; however, with the second model, although the retrieved documents were the same, the LLM tied the question with the articles and the additional metadata to make a match between Amazon, AI and logistics (sector).\n",
    "\n",
    "With all the mentioned before, we could conclude that the model can provide better answers if fed with a richer or more complete context. We, as Data Scientists (or Data Analysts) should pay special attention to prompt engineering, document retrieval, chunking and context generation to improve our models in a production environment."
   ]
  },
  {
   "cell_type": "markdown",
   "id": "db597ca1",
   "metadata": {},
   "source": []
  }
 ],
 "metadata": {
  "kernelspec": {
   "display_name": "Python 3",
   "language": "python",
   "name": "python3"
  },
  "language_info": {
   "codemirror_mode": {
    "name": "ipython",
    "version": 3
   },
   "file_extension": ".py",
   "mimetype": "text/x-python",
   "name": "python",
   "nbconvert_exporter": "python",
   "pygments_lexer": "ipython3",
   "version": "3.9.6"
  }
 },
 "nbformat": 4,
 "nbformat_minor": 5
}
