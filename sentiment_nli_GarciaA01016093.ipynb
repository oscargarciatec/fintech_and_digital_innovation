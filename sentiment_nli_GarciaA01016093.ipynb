{
  "cells": [
    {
      "cell_type": "markdown",
      "id": "rGTQpg8PKHUJ",
      "metadata": {
        "id": "rGTQpg8PKHUJ"
      },
      "source": [
        "# 🎓 **Applied Artificial Intelligence Master**\n",
        "\n",
        "## 🤖 **Course: Fintech and Digital Innovation in Finance (Gpo 10)**\n",
        "\n",
        "### 🏛️ Tecnológico de Monterrey\n",
        "\n",
        "#### 👨‍🏫 **Lead Professor:** Marie-Ève Malette\n",
        "#### 👩‍🏫 **Assistant Professor:** Yetnalezi Quintas Ruiz\n",
        "\n",
        "### 📊 **Project 4 |  Section B: Advanced RAG techniques & Sentiment Analysis on S&P 500 news**\n",
        "\n",
        "#### 📅 **August 13th, 2025**\n",
        "\n",
        "#### **Student:**\n",
        "* 🧑‍💻 Oscar Enrique García García (A01016093)"
      ]
    },
    {
      "cell_type": "markdown",
      "id": "635703ee",
      "metadata": {
        "id": "635703ee"
      },
      "source": [
        "# Introduction to sentiment analysis with NLI"
      ]
    },
    {
      "cell_type": "markdown",
      "id": "2040c08f",
      "metadata": {
        "id": "2040c08f"
      },
      "source": [
        "In this notebook, you will implement a sentiment scoring pipeline using a Natural Language Inference (NLI) model.\n",
        "You will analyze whether news headlines about S&P 500 companies have positive or negative sentiment and explore how this sentiment correlates with market returns.\n"
      ]
    },
    {
      "cell_type": "markdown",
      "id": "beca6d2d",
      "metadata": {
        "id": "beca6d2d"
      },
      "source": [
        "## Install and Import librairies\n",
        "Install necessary packages and import the required libraries for:\n",
        "- Loading data\n",
        "- Using transformer models\n",
        "- Plotting and visualizing results\n",
        "- Downloading financial data"
      ]
    },
    {
      "cell_type": "code",
      "execution_count": 1,
      "id": "ffffdf87",
      "metadata": {
        "colab": {
          "base_uri": "https://localhost:8080/"
        },
        "executionInfo": {
          "elapsed": 24921,
          "status": "ok",
          "timestamp": 1755150948330,
          "user": {
            "displayName": "Oscar Enrique García García",
            "userId": "06906500907139536184"
          },
          "user_tz": 360
        },
        "id": "ffffdf87",
        "outputId": "8b624704-5bc5-411c-a03e-702e3d1b1301"
      },
      "outputs": [
        {
          "name": "stdout",
          "output_type": "stream",
          "text": [
            "Defaulting to user installation because normal site-packages is not writeable\n",
            "Requirement already satisfied: hf_xet in /Users/oscar.garcia@digitalfemsa.com/Library/Python/3.9/lib/python/site-packages (1.1.5)\n",
            "\u001b[33mWARNING: You are using pip version 21.2.4; however, version 25.2 is available.\n",
            "You should consider upgrading via the '/Library/Developer/CommandLineTools/usr/bin/python3 -m pip install --upgrade pip' command.\u001b[0m\n",
            "Note: you may need to restart the kernel to use updated packages.\n",
            "Defaulting to user installation because normal site-packages is not writeable\n",
            "Requirement already satisfied: yfinance in /Users/oscar.garcia@digitalfemsa.com/Library/Python/3.9/lib/python/site-packages (0.2.65)\n",
            "Requirement already satisfied: protobuf>=3.19.0 in /Users/oscar.garcia@digitalfemsa.com/Library/Python/3.9/lib/python/site-packages (from yfinance) (4.25.1)\n",
            "Requirement already satisfied: curl_cffi>=0.7 in /Users/oscar.garcia@digitalfemsa.com/Library/Python/3.9/lib/python/site-packages (from yfinance) (0.12.0)\n",
            "Requirement already satisfied: pandas>=1.3.0 in /Users/oscar.garcia@digitalfemsa.com/Library/Python/3.9/lib/python/site-packages (from yfinance) (2.0.3)\n",
            "Requirement already satisfied: websockets>=13.0 in /Users/oscar.garcia@digitalfemsa.com/Library/Python/3.9/lib/python/site-packages (from yfinance) (15.0.1)\n",
            "Requirement already satisfied: numpy>=1.16.5 in /Users/oscar.garcia@digitalfemsa.com/Library/Python/3.9/lib/python/site-packages (from yfinance) (1.26.4)\n",
            "Requirement already satisfied: multitasking>=0.0.7 in /Users/oscar.garcia@digitalfemsa.com/Library/Python/3.9/lib/python/site-packages (from yfinance) (0.0.11)\n",
            "Requirement already satisfied: frozendict>=2.3.4 in /Users/oscar.garcia@digitalfemsa.com/Library/Python/3.9/lib/python/site-packages (from yfinance) (2.4.6)\n",
            "Requirement already satisfied: requests>=2.31 in /Users/oscar.garcia@digitalfemsa.com/Library/Python/3.9/lib/python/site-packages (from yfinance) (2.31.0)\n",
            "Requirement already satisfied: pytz>=2022.5 in /Users/oscar.garcia@digitalfemsa.com/Library/Python/3.9/lib/python/site-packages (from yfinance) (2023.3.post1)\n",
            "Requirement already satisfied: peewee>=3.16.2 in /Users/oscar.garcia@digitalfemsa.com/Library/Python/3.9/lib/python/site-packages (from yfinance) (3.18.2)\n",
            "Requirement already satisfied: platformdirs>=2.0.0 in /Users/oscar.garcia@digitalfemsa.com/Library/Python/3.9/lib/python/site-packages (from yfinance) (4.2.1)\n",
            "Requirement already satisfied: beautifulsoup4>=4.11.1 in /Users/oscar.garcia@digitalfemsa.com/Library/Python/3.9/lib/python/site-packages (from yfinance) (4.12.3)\n",
            "Requirement already satisfied: soupsieve>1.2 in /Users/oscar.garcia@digitalfemsa.com/Library/Python/3.9/lib/python/site-packages (from beautifulsoup4>=4.11.1->yfinance) (2.5)\n",
            "Requirement already satisfied: cffi>=1.12.0 in /Users/oscar.garcia@digitalfemsa.com/Library/Python/3.9/lib/python/site-packages (from curl_cffi>=0.7->yfinance) (1.16.0)\n",
            "Requirement already satisfied: certifi>=2024.2.2 in /Users/oscar.garcia@digitalfemsa.com/Library/Python/3.9/lib/python/site-packages (from curl_cffi>=0.7->yfinance) (2025.7.14)\n",
            "Requirement already satisfied: pycparser in /Users/oscar.garcia@digitalfemsa.com/Library/Python/3.9/lib/python/site-packages (from cffi>=1.12.0->curl_cffi>=0.7->yfinance) (2.21)\n",
            "Requirement already satisfied: tzdata>=2022.1 in /Users/oscar.garcia@digitalfemsa.com/Library/Python/3.9/lib/python/site-packages (from pandas>=1.3.0->yfinance) (2023.3)\n",
            "Requirement already satisfied: python-dateutil>=2.8.2 in /Users/oscar.garcia@digitalfemsa.com/Library/Python/3.9/lib/python/site-packages (from pandas>=1.3.0->yfinance) (2.8.2)\n",
            "Requirement already satisfied: six>=1.5 in /Library/Developer/CommandLineTools/Library/Frameworks/Python3.framework/Versions/3.9/lib/python3.9/site-packages (from python-dateutil>=2.8.2->pandas>=1.3.0->yfinance) (1.15.0)\n",
            "Requirement already satisfied: charset-normalizer<4,>=2 in /Users/oscar.garcia@digitalfemsa.com/Library/Python/3.9/lib/python/site-packages (from requests>=2.31->yfinance) (3.3.2)\n",
            "Requirement already satisfied: urllib3<3,>=1.21.1 in /Users/oscar.garcia@digitalfemsa.com/Library/Python/3.9/lib/python/site-packages (from requests>=2.31->yfinance) (2.1.0)\n",
            "Requirement already satisfied: idna<4,>=2.5 in /Users/oscar.garcia@digitalfemsa.com/Library/Python/3.9/lib/python/site-packages (from requests>=2.31->yfinance) (3.6)\n",
            "\u001b[33mWARNING: You are using pip version 21.2.4; however, version 25.2 is available.\n",
            "You should consider upgrading via the '/Library/Developer/CommandLineTools/usr/bin/python3 -m pip install --upgrade pip' command.\u001b[0m\n",
            "Note: you may need to restart the kernel to use updated packages.\n",
            "Defaulting to user installation because normal site-packages is not writeable\n",
            "Requirement already satisfied: sentence-transformers in /Users/oscar.garcia@digitalfemsa.com/Library/Python/3.9/lib/python/site-packages (5.0.0)\n",
            "Requirement already satisfied: scipy in /Users/oscar.garcia@digitalfemsa.com/Library/Python/3.9/lib/python/site-packages (from sentence-transformers) (1.11.4)\n",
            "Requirement already satisfied: Pillow in /Users/oscar.garcia@digitalfemsa.com/Library/Python/3.9/lib/python/site-packages (from sentence-transformers) (10.4.0)\n",
            "Requirement already satisfied: tqdm in /Users/oscar.garcia@digitalfemsa.com/Library/Python/3.9/lib/python/site-packages (from sentence-transformers) (4.66.4)\n",
            "Requirement already satisfied: scikit-learn in /Users/oscar.garcia@digitalfemsa.com/Library/Python/3.9/lib/python/site-packages (from sentence-transformers) (1.6.1)\n",
            "Requirement already satisfied: transformers<5.0.0,>=4.41.0 in /Users/oscar.garcia@digitalfemsa.com/Library/Python/3.9/lib/python/site-packages (from sentence-transformers) (4.53.2)\n",
            "Requirement already satisfied: huggingface-hub>=0.20.0 in /Users/oscar.garcia@digitalfemsa.com/Library/Python/3.9/lib/python/site-packages (from sentence-transformers) (0.33.4)\n",
            "Requirement already satisfied: torch>=1.11.0 in /Users/oscar.garcia@digitalfemsa.com/Library/Python/3.9/lib/python/site-packages (from sentence-transformers) (2.7.1)\n",
            "Requirement already satisfied: typing_extensions>=4.5.0 in /Users/oscar.garcia@digitalfemsa.com/Library/Python/3.9/lib/python/site-packages (from sentence-transformers) (4.14.1)\n",
            "Requirement already satisfied: requests in /Users/oscar.garcia@digitalfemsa.com/Library/Python/3.9/lib/python/site-packages (from huggingface-hub>=0.20.0->sentence-transformers) (2.31.0)\n",
            "Requirement already satisfied: fsspec>=2023.5.0 in /Users/oscar.garcia@digitalfemsa.com/Library/Python/3.9/lib/python/site-packages (from huggingface-hub>=0.20.0->sentence-transformers) (2025.7.0)\n",
            "Requirement already satisfied: filelock in /Users/oscar.garcia@digitalfemsa.com/Library/Python/3.9/lib/python/site-packages (from huggingface-hub>=0.20.0->sentence-transformers) (3.18.0)\n",
            "Requirement already satisfied: pyyaml>=5.1 in /Users/oscar.garcia@digitalfemsa.com/Library/Python/3.9/lib/python/site-packages (from huggingface-hub>=0.20.0->sentence-transformers) (6.0.1)\n",
            "Requirement already satisfied: packaging>=20.9 in /Users/oscar.garcia@digitalfemsa.com/Library/Python/3.9/lib/python/site-packages (from huggingface-hub>=0.20.0->sentence-transformers) (23.2)\n",
            "Requirement already satisfied: hf-xet<2.0.0,>=1.1.2 in /Users/oscar.garcia@digitalfemsa.com/Library/Python/3.9/lib/python/site-packages (from huggingface-hub>=0.20.0->sentence-transformers) (1.1.5)\n",
            "Requirement already satisfied: networkx in /Users/oscar.garcia@digitalfemsa.com/Library/Python/3.9/lib/python/site-packages (from torch>=1.11.0->sentence-transformers) (3.2.1)\n",
            "Requirement already satisfied: sympy>=1.13.3 in /Users/oscar.garcia@digitalfemsa.com/Library/Python/3.9/lib/python/site-packages (from torch>=1.11.0->sentence-transformers) (1.14.0)\n",
            "Requirement already satisfied: jinja2 in /Users/oscar.garcia@digitalfemsa.com/Library/Python/3.9/lib/python/site-packages (from torch>=1.11.0->sentence-transformers) (3.1.4)\n",
            "Requirement already satisfied: mpmath<1.4,>=1.1.0 in /Users/oscar.garcia@digitalfemsa.com/Library/Python/3.9/lib/python/site-packages (from sympy>=1.13.3->torch>=1.11.0->sentence-transformers) (1.3.0)\n",
            "Requirement already satisfied: tokenizers<0.22,>=0.21 in /Users/oscar.garcia@digitalfemsa.com/Library/Python/3.9/lib/python/site-packages (from transformers<5.0.0,>=4.41.0->sentence-transformers) (0.21.2)\n",
            "Requirement already satisfied: safetensors>=0.4.3 in /Users/oscar.garcia@digitalfemsa.com/Library/Python/3.9/lib/python/site-packages (from transformers<5.0.0,>=4.41.0->sentence-transformers) (0.5.3)\n",
            "Requirement already satisfied: numpy>=1.17 in /Users/oscar.garcia@digitalfemsa.com/Library/Python/3.9/lib/python/site-packages (from transformers<5.0.0,>=4.41.0->sentence-transformers) (1.26.4)\n",
            "Requirement already satisfied: regex!=2019.12.17 in /Users/oscar.garcia@digitalfemsa.com/Library/Python/3.9/lib/python/site-packages (from transformers<5.0.0,>=4.41.0->sentence-transformers) (2024.11.6)\n",
            "Requirement already satisfied: MarkupSafe>=2.0 in /Users/oscar.garcia@digitalfemsa.com/Library/Python/3.9/lib/python/site-packages (from jinja2->torch>=1.11.0->sentence-transformers) (2.1.5)\n",
            "Requirement already satisfied: certifi>=2017.4.17 in /Users/oscar.garcia@digitalfemsa.com/Library/Python/3.9/lib/python/site-packages (from requests->huggingface-hub>=0.20.0->sentence-transformers) (2025.7.14)\n",
            "Requirement already satisfied: idna<4,>=2.5 in /Users/oscar.garcia@digitalfemsa.com/Library/Python/3.9/lib/python/site-packages (from requests->huggingface-hub>=0.20.0->sentence-transformers) (3.6)\n",
            "Requirement already satisfied: charset-normalizer<4,>=2 in /Users/oscar.garcia@digitalfemsa.com/Library/Python/3.9/lib/python/site-packages (from requests->huggingface-hub>=0.20.0->sentence-transformers) (3.3.2)\n",
            "Requirement already satisfied: urllib3<3,>=1.21.1 in /Users/oscar.garcia@digitalfemsa.com/Library/Python/3.9/lib/python/site-packages (from requests->huggingface-hub>=0.20.0->sentence-transformers) (2.1.0)\n",
            "Requirement already satisfied: threadpoolctl>=3.1.0 in /Users/oscar.garcia@digitalfemsa.com/Library/Python/3.9/lib/python/site-packages (from scikit-learn->sentence-transformers) (3.5.0)\n",
            "Requirement already satisfied: joblib>=1.2.0 in /Users/oscar.garcia@digitalfemsa.com/Library/Python/3.9/lib/python/site-packages (from scikit-learn->sentence-transformers) (1.4.2)\n",
            "\u001b[33mWARNING: You are using pip version 21.2.4; however, version 25.2 is available.\n",
            "You should consider upgrading via the '/Library/Developer/CommandLineTools/usr/bin/python3 -m pip install --upgrade pip' command.\u001b[0m\n",
            "Note: you may need to restart the kernel to use updated packages.\n"
          ]
        }
      ],
      "source": [
        "%pip install hf_xet\n",
        "%pip install yfinance\n",
        "%pip install sentence-transformers"
      ]
    },
    {
      "cell_type": "code",
      "execution_count": 2,
      "id": "faf52327",
      "metadata": {
        "executionInfo": {
          "elapsed": 31393,
          "status": "ok",
          "timestamp": 1755180691129,
          "user": {
            "displayName": "Oscar Enrique García García",
            "userId": "06906500907139536184"
          },
          "user_tz": 360
        },
        "id": "faf52327"
      },
      "outputs": [
        {
          "name": "stderr",
          "output_type": "stream",
          "text": [
            "/Users/oscar.garcia@digitalfemsa.com/Library/Python/3.9/lib/python/site-packages/urllib3/__init__.py:34: NotOpenSSLWarning: urllib3 v2 only supports OpenSSL 1.1.1+, currently the 'ssl' module is compiled with 'LibreSSL 2.8.3'. See: https://github.com/urllib3/urllib3/issues/3020\n",
            "  warnings.warn(\n"
          ]
        }
      ],
      "source": [
        "import pandas as pd\n",
        "from transformers import AutoTokenizer, AutoModelForSequenceClassification\n",
        "import torch\n",
        "import math\n",
        "import matplotlib.pyplot as plt\n",
        "import yfinance as yf\n",
        "import numpy as np"
      ]
    },
    {
      "cell_type": "markdown",
      "id": "d0c7745b",
      "metadata": {
        "id": "d0c7745b"
      },
      "source": [
        "## Load news data\n",
        "Load two datasets:\n",
        "- `df_news.csv`: contains headlines and summaries\n",
        "- `df_metadata.csv`: contains ticker symbols and company sector info\n",
        "\n",
        "We drop duplicate summaries to avoid redundant sentiment scoring."
      ]
    },
    {
      "cell_type": "code",
      "execution_count": 3,
      "id": "1dc91a43",
      "metadata": {
        "colab": {
          "base_uri": "https://localhost:8080/",
          "height": 589
        },
        "executionInfo": {
          "elapsed": 442,
          "status": "ok",
          "timestamp": 1755180706488,
          "user": {
            "displayName": "Oscar Enrique García García",
            "userId": "06906500907139536184"
          },
          "user_tz": 360
        },
        "id": "1dc91a43",
        "outputId": "57ea3116-8521-435e-d6ee-0f72f0ce8d92"
      },
      "outputs": [
        {
          "data": {
            "text/html": [
              "<div>\n",
              "<style scoped>\n",
              "    .dataframe tbody tr th:only-of-type {\n",
              "        vertical-align: middle;\n",
              "    }\n",
              "\n",
              "    .dataframe tbody tr th {\n",
              "        vertical-align: top;\n",
              "    }\n",
              "\n",
              "    .dataframe thead th {\n",
              "        text-align: right;\n",
              "    }\n",
              "</style>\n",
              "<table border=\"1\" class=\"dataframe\">\n",
              "  <thead>\n",
              "    <tr style=\"text-align: right;\">\n",
              "      <th></th>\n",
              "      <th>TICKER</th>\n",
              "      <th>TITLE</th>\n",
              "      <th>SUMMARY</th>\n",
              "      <th>PUBLICATION_DATE</th>\n",
              "      <th>PROVIDER</th>\n",
              "      <th>URL</th>\n",
              "    </tr>\n",
              "  </thead>\n",
              "  <tbody>\n",
              "    <tr>\n",
              "      <th>0</th>\n",
              "      <td>MMM</td>\n",
              "      <td>2 Dow Jones Stocks with Promising Prospects an...</td>\n",
              "      <td>The Dow Jones (^DJI) is made up of 30 of the m...</td>\n",
              "      <td>2025-05-29 04:33:58+00:00</td>\n",
              "      <td>StockStory</td>\n",
              "      <td>https://finance.yahoo.com/news/2-dow-jones-sto...</td>\n",
              "    </tr>\n",
              "    <tr>\n",
              "      <th>1</th>\n",
              "      <td>MMM</td>\n",
              "      <td>3 S&amp;P 500 Stocks Skating on Thin Ice</td>\n",
              "      <td>The S&amp;P 500 (^GSPC) is often seen as a benchma...</td>\n",
              "      <td>2025-05-27 04:34:42+00:00</td>\n",
              "      <td>StockStory</td>\n",
              "      <td>https://finance.yahoo.com/news/3-p-500-stocks-...</td>\n",
              "    </tr>\n",
              "    <tr>\n",
              "      <th>2</th>\n",
              "      <td>MMM</td>\n",
              "      <td>3M Rises 15.8% YTD: Should You Buy the Stock N...</td>\n",
              "      <td>MMM is making strides in the aerospace, indust...</td>\n",
              "      <td>2025-05-22 14:08:00+00:00</td>\n",
              "      <td>Zacks</td>\n",
              "      <td>https://finance.yahoo.com/news/3m-rises-15-8-y...</td>\n",
              "    </tr>\n",
              "    <tr>\n",
              "      <th>3</th>\n",
              "      <td>MMM</td>\n",
              "      <td>Q1 Earnings Roundup: 3M (NYSE:MMM) And The Res...</td>\n",
              "      <td>Quarterly earnings results are a good time to ...</td>\n",
              "      <td>2025-05-22 03:31:21+00:00</td>\n",
              "      <td>StockStory</td>\n",
              "      <td>https://finance.yahoo.com/news/q1-earnings-rou...</td>\n",
              "    </tr>\n",
              "    <tr>\n",
              "      <th>4</th>\n",
              "      <td>MMM</td>\n",
              "      <td>3 Cash-Producing Stocks with Questionable Fund...</td>\n",
              "      <td>While strong cash flow is a key indicator of s...</td>\n",
              "      <td>2025-05-19 04:41:32+00:00</td>\n",
              "      <td>StockStory</td>\n",
              "      <td>https://finance.yahoo.com/news/3-cash-producin...</td>\n",
              "    </tr>\n",
              "    <tr>\n",
              "      <th>...</th>\n",
              "      <td>...</td>\n",
              "      <td>...</td>\n",
              "      <td>...</td>\n",
              "      <td>...</td>\n",
              "      <td>...</td>\n",
              "      <td>...</td>\n",
              "    </tr>\n",
              "    <tr>\n",
              "      <th>4866</th>\n",
              "      <td>ZTS</td>\n",
              "      <td>2 Dividend Stocks to Buy With $500 and Hold Fo...</td>\n",
              "      <td>Zoetis is a leading animal health company with...</td>\n",
              "      <td>2025-05-23 10:30:00+00:00</td>\n",
              "      <td>Motley Fool</td>\n",
              "      <td>https://www.fool.com/investing/2025/05/23/2-di...</td>\n",
              "    </tr>\n",
              "    <tr>\n",
              "      <th>4867</th>\n",
              "      <td>ZTS</td>\n",
              "      <td>Zoetis (NYSE:ZTS) Declares US$0.50 Dividend Pe...</td>\n",
              "      <td>Zoetis (NYSE:ZTS) recently affirmed a dividend...</td>\n",
              "      <td>2025-05-22 17:49:43+00:00</td>\n",
              "      <td>Simply Wall St.</td>\n",
              "      <td>https://finance.yahoo.com/news/zoetis-nyse-zts...</td>\n",
              "    </tr>\n",
              "    <tr>\n",
              "      <th>4868</th>\n",
              "      <td>ZTS</td>\n",
              "      <td>Jim Cramer on Zoetis (ZTS): “It Does Seem to B...</td>\n",
              "      <td>We recently published a list of Jim Cramer Tal...</td>\n",
              "      <td>2025-05-21 18:14:38+00:00</td>\n",
              "      <td>Insider Monkey</td>\n",
              "      <td>https://finance.yahoo.com/news/jim-cramer-zoet...</td>\n",
              "    </tr>\n",
              "    <tr>\n",
              "      <th>4869</th>\n",
              "      <td>ZTS</td>\n",
              "      <td>Zoetis (ZTS) Upgraded to Buy: Here's Why</td>\n",
              "      <td>Zoetis (ZTS) might move higher on growing opti...</td>\n",
              "      <td>2025-05-21 16:00:08+00:00</td>\n",
              "      <td>Zacks</td>\n",
              "      <td>https://finance.yahoo.com/news/zoetis-zts-upgr...</td>\n",
              "    </tr>\n",
              "    <tr>\n",
              "      <th>4870</th>\n",
              "      <td>ZTS</td>\n",
              "      <td>ZTS Q1 Earnings Call: Guidance Raised as Platf...</td>\n",
              "      <td>Animal health company Zoetis (NYSE:ZTS) report...</td>\n",
              "      <td>2025-05-19 12:58:02+00:00</td>\n",
              "      <td>StockStory</td>\n",
              "      <td>https://finance.yahoo.com/news/zts-q1-earnings...</td>\n",
              "    </tr>\n",
              "  </tbody>\n",
              "</table>\n",
              "<p>3976 rows × 6 columns</p>\n",
              "</div>"
            ],
            "text/plain": [
              "     TICKER                                              TITLE  \\\n",
              "0       MMM  2 Dow Jones Stocks with Promising Prospects an...   \n",
              "1       MMM               3 S&P 500 Stocks Skating on Thin Ice   \n",
              "2       MMM  3M Rises 15.8% YTD: Should You Buy the Stock N...   \n",
              "3       MMM  Q1 Earnings Roundup: 3M (NYSE:MMM) And The Res...   \n",
              "4       MMM  3 Cash-Producing Stocks with Questionable Fund...   \n",
              "...     ...                                                ...   \n",
              "4866    ZTS  2 Dividend Stocks to Buy With $500 and Hold Fo...   \n",
              "4867    ZTS  Zoetis (NYSE:ZTS) Declares US$0.50 Dividend Pe...   \n",
              "4868    ZTS  Jim Cramer on Zoetis (ZTS): “It Does Seem to B...   \n",
              "4869    ZTS           Zoetis (ZTS) Upgraded to Buy: Here's Why   \n",
              "4870    ZTS  ZTS Q1 Earnings Call: Guidance Raised as Platf...   \n",
              "\n",
              "                                                SUMMARY  \\\n",
              "0     The Dow Jones (^DJI) is made up of 30 of the m...   \n",
              "1     The S&P 500 (^GSPC) is often seen as a benchma...   \n",
              "2     MMM is making strides in the aerospace, indust...   \n",
              "3     Quarterly earnings results are a good time to ...   \n",
              "4     While strong cash flow is a key indicator of s...   \n",
              "...                                                 ...   \n",
              "4866  Zoetis is a leading animal health company with...   \n",
              "4867  Zoetis (NYSE:ZTS) recently affirmed a dividend...   \n",
              "4868  We recently published a list of Jim Cramer Tal...   \n",
              "4869  Zoetis (ZTS) might move higher on growing opti...   \n",
              "4870  Animal health company Zoetis (NYSE:ZTS) report...   \n",
              "\n",
              "               PUBLICATION_DATE         PROVIDER  \\\n",
              "0     2025-05-29 04:33:58+00:00       StockStory   \n",
              "1     2025-05-27 04:34:42+00:00       StockStory   \n",
              "2     2025-05-22 14:08:00+00:00            Zacks   \n",
              "3     2025-05-22 03:31:21+00:00       StockStory   \n",
              "4     2025-05-19 04:41:32+00:00       StockStory   \n",
              "...                         ...              ...   \n",
              "4866  2025-05-23 10:30:00+00:00      Motley Fool   \n",
              "4867  2025-05-22 17:49:43+00:00  Simply Wall St.   \n",
              "4868  2025-05-21 18:14:38+00:00   Insider Monkey   \n",
              "4869  2025-05-21 16:00:08+00:00            Zacks   \n",
              "4870  2025-05-19 12:58:02+00:00       StockStory   \n",
              "\n",
              "                                                    URL  \n",
              "0     https://finance.yahoo.com/news/2-dow-jones-sto...  \n",
              "1     https://finance.yahoo.com/news/3-p-500-stocks-...  \n",
              "2     https://finance.yahoo.com/news/3m-rises-15-8-y...  \n",
              "3     https://finance.yahoo.com/news/q1-earnings-rou...  \n",
              "4     https://finance.yahoo.com/news/3-cash-producin...  \n",
              "...                                                 ...  \n",
              "4866  https://www.fool.com/investing/2025/05/23/2-di...  \n",
              "4867  https://finance.yahoo.com/news/zoetis-nyse-zts...  \n",
              "4868  https://finance.yahoo.com/news/jim-cramer-zoet...  \n",
              "4869  https://finance.yahoo.com/news/zoetis-zts-upgr...  \n",
              "4870  https://finance.yahoo.com/news/zts-q1-earnings...  \n",
              "\n",
              "[3976 rows x 6 columns]"
            ]
          },
          "metadata": {},
          "output_type": "display_data"
        }
      ],
      "source": [
        "df_news = pd.read_csv('df_news.csv')\n",
        "df_news.drop_duplicates('SUMMARY', inplace=True)\n",
        "display(df_news)"
      ]
    },
    {
      "cell_type": "code",
      "execution_count": 4,
      "id": "7dfa76f5",
      "metadata": {
        "colab": {
          "base_uri": "https://localhost:8080/",
          "height": 419
        },
        "executionInfo": {
          "elapsed": 8,
          "status": "ok",
          "timestamp": 1755180720465,
          "user": {
            "displayName": "Oscar Enrique García García",
            "userId": "06906500907139536184"
          },
          "user_tz": 360
        },
        "id": "7dfa76f5",
        "outputId": "8376b126-6014-4373-aba7-aa1d1ba3dc95"
      },
      "outputs": [
        {
          "data": {
            "text/html": [
              "<div>\n",
              "<style scoped>\n",
              "    .dataframe tbody tr th:only-of-type {\n",
              "        vertical-align: middle;\n",
              "    }\n",
              "\n",
              "    .dataframe tbody tr th {\n",
              "        vertical-align: top;\n",
              "    }\n",
              "\n",
              "    .dataframe thead th {\n",
              "        text-align: right;\n",
              "    }\n",
              "</style>\n",
              "<table border=\"1\" class=\"dataframe\">\n",
              "  <thead>\n",
              "    <tr style=\"text-align: right;\">\n",
              "      <th></th>\n",
              "      <th>TICKER</th>\n",
              "      <th>COMPANY_NAME</th>\n",
              "      <th>SECTOR</th>\n",
              "      <th>INDUSTRY</th>\n",
              "    </tr>\n",
              "  </thead>\n",
              "  <tbody>\n",
              "    <tr>\n",
              "      <th>0</th>\n",
              "      <td>MMM</td>\n",
              "      <td>3M Company</td>\n",
              "      <td>Industrials</td>\n",
              "      <td>Conglomerates</td>\n",
              "    </tr>\n",
              "    <tr>\n",
              "      <th>1</th>\n",
              "      <td>AOS</td>\n",
              "      <td>A. O. Smith Corporation</td>\n",
              "      <td>Industrials</td>\n",
              "      <td>Specialty Industrial Machinery</td>\n",
              "    </tr>\n",
              "    <tr>\n",
              "      <th>2</th>\n",
              "      <td>ABT</td>\n",
              "      <td>Abbott Laboratories</td>\n",
              "      <td>Healthcare</td>\n",
              "      <td>Medical Devices</td>\n",
              "    </tr>\n",
              "    <tr>\n",
              "      <th>3</th>\n",
              "      <td>ABBV</td>\n",
              "      <td>AbbVie Inc.</td>\n",
              "      <td>Healthcare</td>\n",
              "      <td>Drug Manufacturers - General</td>\n",
              "    </tr>\n",
              "    <tr>\n",
              "      <th>4</th>\n",
              "      <td>ACN</td>\n",
              "      <td>Accenture plc</td>\n",
              "      <td>Technology</td>\n",
              "      <td>Information Technology Services</td>\n",
              "    </tr>\n",
              "    <tr>\n",
              "      <th>...</th>\n",
              "      <td>...</td>\n",
              "      <td>...</td>\n",
              "      <td>...</td>\n",
              "      <td>...</td>\n",
              "    </tr>\n",
              "    <tr>\n",
              "      <th>485</th>\n",
              "      <td>XEL</td>\n",
              "      <td>Xcel Energy Inc.</td>\n",
              "      <td>Utilities</td>\n",
              "      <td>Utilities - Regulated Electric</td>\n",
              "    </tr>\n",
              "    <tr>\n",
              "      <th>486</th>\n",
              "      <td>XYL</td>\n",
              "      <td>Xylem Inc.</td>\n",
              "      <td>Industrials</td>\n",
              "      <td>Specialty Industrial Machinery</td>\n",
              "    </tr>\n",
              "    <tr>\n",
              "      <th>487</th>\n",
              "      <td>YUM</td>\n",
              "      <td>Yum! Brands, Inc.</td>\n",
              "      <td>Consumer Cyclical</td>\n",
              "      <td>Restaurants</td>\n",
              "    </tr>\n",
              "    <tr>\n",
              "      <th>488</th>\n",
              "      <td>ZBH</td>\n",
              "      <td>Zimmer Biomet Holdings, Inc.</td>\n",
              "      <td>Healthcare</td>\n",
              "      <td>Medical Devices</td>\n",
              "    </tr>\n",
              "    <tr>\n",
              "      <th>489</th>\n",
              "      <td>ZTS</td>\n",
              "      <td>Zoetis Inc.</td>\n",
              "      <td>Healthcare</td>\n",
              "      <td>Drug Manufacturers - Specialty &amp; Generic</td>\n",
              "    </tr>\n",
              "  </tbody>\n",
              "</table>\n",
              "<p>490 rows × 4 columns</p>\n",
              "</div>"
            ],
            "text/plain": [
              "    TICKER                  COMPANY_NAME             SECTOR  \\\n",
              "0      MMM                    3M Company        Industrials   \n",
              "1      AOS       A. O. Smith Corporation        Industrials   \n",
              "2      ABT           Abbott Laboratories         Healthcare   \n",
              "3     ABBV                   AbbVie Inc.         Healthcare   \n",
              "4      ACN                 Accenture plc         Technology   \n",
              "..     ...                           ...                ...   \n",
              "485    XEL              Xcel Energy Inc.          Utilities   \n",
              "486    XYL                    Xylem Inc.        Industrials   \n",
              "487    YUM             Yum! Brands, Inc.  Consumer Cyclical   \n",
              "488    ZBH  Zimmer Biomet Holdings, Inc.         Healthcare   \n",
              "489    ZTS                   Zoetis Inc.         Healthcare   \n",
              "\n",
              "                                     INDUSTRY  \n",
              "0                               Conglomerates  \n",
              "1              Specialty Industrial Machinery  \n",
              "2                             Medical Devices  \n",
              "3                Drug Manufacturers - General  \n",
              "4             Information Technology Services  \n",
              "..                                        ...  \n",
              "485            Utilities - Regulated Electric  \n",
              "486            Specialty Industrial Machinery  \n",
              "487                               Restaurants  \n",
              "488                           Medical Devices  \n",
              "489  Drug Manufacturers - Specialty & Generic  \n",
              "\n",
              "[490 rows x 4 columns]"
            ]
          },
          "metadata": {},
          "output_type": "display_data"
        }
      ],
      "source": [
        "df_meta = pd.read_csv('df_metadata.csv')\n",
        "display(df_meta)"
      ]
    },
    {
      "cell_type": "markdown",
      "id": "3daf8233",
      "metadata": {
        "id": "3daf8233"
      },
      "source": [
        "## Sentiment Analysis with NLI\n",
        "\n",
        "In this section, you will apply a CrossEncoder NLI model (`cross-encoder/nli-deberta-v3-base`) to estimate sentiment from news headlines.\n",
        "\n",
        "👉 **Instructions**:\n",
        "\n",
        "1. Use a CrossEncoder NLI model to compute how much a news headline implies a **positive** or **negative** sentiment.\n",
        "2. For each news title, compute the probability of it being **positive** and **negative**, and store them in `POSITIVE_PROB` and `NEGATIVE_PROB`.\n",
        "3. Derive a final sentiment score by subtracting: `SENTIMENT = POSITIVE_PROB - NEGATIVE_PROB`.\n",
        "\n",
        "✅ This score will serve as your sentiment signal, ranging from negative to positive.\n",
        "\n",
        "> ℹ️ You are free to decide how to structure the input pairs and how to apply the model.\n"
      ]
    },
    {
      "cell_type": "code",
      "execution_count": 5,
      "id": "952f5670",
      "metadata": {
        "colab": {
          "base_uri": "https://localhost:8080/",
          "height": 395,
          "referenced_widgets": [
            "9e5b62081249409e92cec4c1f787d10c",
            "58fc173fd949412280cfe05a59a690fd",
            "ddb6f6dc12f74a828c51ca3575d39e60",
            "99cd5297f2cd489cb47957b679bf60bb",
            "d1542972a7b14d4e8fa19b5310aaf73b",
            "a766fecf24964d989381d3beaa8125d1",
            "9b94901f7d294aefab29043d95f8298a",
            "2799c3da404945f1ad1fb8452ae31db7",
            "d8bce0318d9b44a48f762ef8cf41a535",
            "ef78736249b14faa9c068c02f64156c9",
            "24bc783fa8274c7c9e8d00e64bf87452",
            "45d56caa1c6e4a738e4f1bb16931ad40",
            "089b2c0d1e214435a3f2f461f65ff21d",
            "eb0663d3006840a09b93a1c55f4d577d",
            "73224ce7ff014bb98ada07d89ec41138",
            "26a56b04b1b54c8885db7ea581bec1aa",
            "a65bba15c27b4df78bc9cb019b2520b4",
            "e965233c3144429980a52826f26e3ec9",
            "9ed1be7de2de4c1c9d099724a297ca30",
            "c508f1cff04341b2b7e20012ef8c16f2",
            "517192ade7c34b338ea0b35f48fdb367",
            "f9c7258d800848ab92f53002fc3a6453",
            "da569b3f25c14f5abfa4c80d9768e927",
            "423147c203f34a50b48d1cf3bdac72a8",
            "f3d65786e1ea4375b9929d92de2330a4",
            "0d0030fc19a04534b7edb3d6ef3010c0",
            "939daafecb7a4b51a501453f66d4c295",
            "011f811824b9485295e655b3e11ac74d",
            "7bad4a4f76c24bc1b0b0bc90763af19f",
            "2625bc829a2e43d78d9d0ba0ddc490fd",
            "cc20cafb7c774ba6afdbfcd56b355f57",
            "2855810227f94143baa1c75d828d87de",
            "88887792917f4a4ba417964828c116ce",
            "1e730f639eeb4a7b952ba75f5a4d5a06",
            "d31626b04022421a808b674c592b454c",
            "cdb351933c4a4ca38e83449e818bd7dd",
            "656d4a9c771d4cb9adec0239f73cebcb",
            "b26dc70ad4d445bbb4a361507297601f",
            "b34de66d703a454fa166b81b9d050d05",
            "8c3dcc53d7804ce4b2e45d99bc795336",
            "81d9142808024bd49837c6238620d918",
            "8ec24410a3524ea58e462acc4aaf77b8",
            "b79d39244a5f4754bffe18b8454fff85",
            "6d9de002599d4ed9b85e63706bf3b290",
            "8851dd6bebad4ae3b1ae81053e36efab",
            "16fb86e56d4d4ed78d0941951eeb8c80",
            "140edb59a0c947f190d857054761b910",
            "e04d3edb2fb54bfea16e749aab6563e7",
            "fa1c69d565dc473581b5721c853bc7de",
            "ec4042cc18814bcebf07334931042e8c",
            "8babd83d9f75402eb8984d88448fa54d",
            "46f53a63c607421fabbe70e725e39702",
            "33fb2a8176f8492599fc8764a737b07c",
            "a025b50ae8a94930a4b34e7aba8cccd0",
            "1137ca8ed3f343f392fe1aa0541c51ec",
            "04392dc0cfeb452b9a8a465b43abe8f4",
            "7a0aa2d87f4140ffa1e44d534c1e25fe",
            "6d7a704584d24aafaf1f5967d66d90d4",
            "fdf39344ca0b4265b5e2643dd1f8e915",
            "a270896fe74342919fdede0efbfc628b",
            "0b701e9001cf4be1ad8dddb2157204bf",
            "bf0ffbc0269840a3b31b028a19032dbb",
            "ff78ba7d8f47486d84c7eb0eafed3662",
            "f80dbf075bae42ec8d2602390c11c9ef",
            "bfbb6f73dc4849c6bc8c9d9d65434d2a",
            "703d5ea5c35a43b8835e82d9e4d0dbab",
            "deef4da4f44741bebdf3425ee519a530",
            "9e5550b3a9d8478f9a7ac14ca70a89cb",
            "404843d6e2f24057b2ff6fc112f0d6c4",
            "6e884b6dc5fe4bee95d230e0134426a9",
            "ebbb43a7fad14ad0a5d336207f16604a",
            "94755c9d9e44495eb4719c6accda468a",
            "947c7dd22b33405db229f6fa86cf5edc",
            "c38e64e950ae45ec9eaf83e5718f6acd",
            "18245a3db70d4fd4a04db063240450f1",
            "f7f453f1584542a7a72dc191c30dac7b",
            "7e6aaccfa9a445f4a32936b6ae97950f",
            "f22f9a573c3d4d558d641166a70d6b2e",
            "4a0fcad1419d4bedbe79bb9d18b193e4",
            "f7fa9a9e5c1f49a18e23a3ca6c5a97cc",
            "5134f36812ff400d8b93b23bc9767c1a",
            "477889291ddc4a84928032f0f6829715",
            "5fa15e428d144ed5abaf42cb1497d012",
            "7663c5b234c843c8888149143e12c3ee",
            "16028ddce297481898711138c8c21ae1",
            "8d78fcdd637a4a6ea1523cc775a2185c",
            "e551c4e213a84fa2a4f48319c13a8c39",
            "1fdf3e36c47448109c60b17690764e3e"
          ]
        },
        "executionInfo": {
          "elapsed": 28102,
          "status": "ok",
          "timestamp": 1755180751712,
          "user": {
            "displayName": "Oscar Enrique García García",
            "userId": "06906500907139536184"
          },
          "user_tz": 360
        },
        "id": "952f5670",
        "outputId": "42fc99d6-9e7f-43cd-9966-c0b917902486"
      },
      "outputs": [],
      "source": [
        "from sentence_transformers import CrossEncoder\n",
        "\n",
        "# Load the NLI model\n",
        "nli_model = CrossEncoder(\"cross-encoder/nli-deberta-v3-base\")\n"
      ]
    },
    {
      "cell_type": "code",
      "execution_count": 6,
      "id": "t1HOfK4qZnTq",
      "metadata": {
        "executionInfo": {
          "elapsed": 2,
          "status": "ok",
          "timestamp": 1755180762660,
          "user": {
            "displayName": "Oscar Enrique García García",
            "userId": "06906500907139536184"
          },
          "user_tz": 360
        },
        "id": "t1HOfK4qZnTq"
      },
      "outputs": [],
      "source": [
        "def nli_sentiment_scores(headlines):\n",
        "    \"\"\"\n",
        "    Compute POSITIVE_PROB, NEGATIVE_PROB, and SENTIMENT for each headline.\n",
        "    \"\"\"\n",
        "    pos_hypothesis = \"This is positive.\"\n",
        "    neg_hypothesis = \"This is negative.\"\n",
        "\n",
        "    # Create pairs for NLI: premise=headline, hypothesis=sentiment statement\n",
        "    pos_pairs = [(headline, pos_hypothesis) for headline in headlines]\n",
        "    neg_pairs = [(headline, neg_hypothesis) for headline in headlines]\n",
        "\n",
        "    # Model outputs logits for [contradiction, neutral, entailment]\n",
        "    pos_preds = nli_model.predict(pos_pairs)\n",
        "    neg_preds = nli_model.predict(neg_pairs)\n",
        "\n",
        "    # Convert logits to probabilities (softmax)\n",
        "    pos_probs = np.exp(pos_preds) / np.exp(pos_preds).sum(axis=1, keepdims=True)\n",
        "    neg_probs = np.exp(neg_preds) / np.exp(neg_preds).sum(axis=1, keepdims=True)\n",
        "\n",
        "    # Probability of entailment is index 2\n",
        "    positive_prob = pos_probs[:, 2]\n",
        "    negative_prob = neg_probs[:, 2]\n",
        "\n",
        "    sentiment = positive_prob - negative_prob\n",
        "\n",
        "    return positive_prob, negative_prob, sentiment\n"
      ]
    },
    {
      "cell_type": "code",
      "execution_count": 7,
      "id": "1Hk8HaAmZexO",
      "metadata": {
        "colab": {
          "base_uri": "https://localhost:8080/",
          "height": 350
        },
        "executionInfo": {
          "elapsed": 316091,
          "status": "error",
          "timestamp": 1755181083446,
          "user": {
            "displayName": "Oscar Enrique García García",
            "userId": "06906500907139536184"
          },
          "user_tz": 360
        },
        "id": "1Hk8HaAmZexO",
        "outputId": "a8937017-8031-43a8-f75a-e51e42bf60e7"
      },
      "outputs": [],
      "source": [
        "# Example: using the 'TITLE' column for sentiment\n",
        "positive_prob, negative_prob, sentiment_score = nli_sentiment_scores(df_news[\"TITLE\"].tolist())\n",
        "\n",
        "df_news[\"POSITIVE_PROB\"] = positive_prob\n",
        "df_news[\"NEGATIVE_PROB\"] = negative_prob\n",
        "df_news[\"SENTIMENT\"] = sentiment_score"
      ]
    },
    {
      "cell_type": "code",
      "execution_count": 8,
      "id": "1mSYJR2SZygY",
      "metadata": {
        "executionInfo": {
          "elapsed": 2,
          "status": "aborted",
          "timestamp": 1755181083457,
          "user": {
            "displayName": "Oscar Enrique García García",
            "userId": "06906500907139536184"
          },
          "user_tz": 360
        },
        "id": "1mSYJR2SZygY"
      },
      "outputs": [
        {
          "data": {
            "text/html": [
              "<div>\n",
              "<style scoped>\n",
              "    .dataframe tbody tr th:only-of-type {\n",
              "        vertical-align: middle;\n",
              "    }\n",
              "\n",
              "    .dataframe tbody tr th {\n",
              "        vertical-align: top;\n",
              "    }\n",
              "\n",
              "    .dataframe thead th {\n",
              "        text-align: right;\n",
              "    }\n",
              "</style>\n",
              "<table border=\"1\" class=\"dataframe\">\n",
              "  <thead>\n",
              "    <tr style=\"text-align: right;\">\n",
              "      <th></th>\n",
              "      <th>TICKER</th>\n",
              "      <th>TITLE</th>\n",
              "      <th>SUMMARY</th>\n",
              "      <th>PUBLICATION_DATE</th>\n",
              "      <th>PROVIDER</th>\n",
              "      <th>URL</th>\n",
              "      <th>POSITIVE_PROB</th>\n",
              "      <th>NEGATIVE_PROB</th>\n",
              "      <th>SENTIMENT</th>\n",
              "    </tr>\n",
              "  </thead>\n",
              "  <tbody>\n",
              "    <tr>\n",
              "      <th>0</th>\n",
              "      <td>MMM</td>\n",
              "      <td>2 Dow Jones Stocks with Promising Prospects an...</td>\n",
              "      <td>The Dow Jones (^DJI) is made up of 30 of the m...</td>\n",
              "      <td>2025-05-29 04:33:58+00:00</td>\n",
              "      <td>StockStory</td>\n",
              "      <td>https://finance.yahoo.com/news/2-dow-jones-sto...</td>\n",
              "      <td>0.987454</td>\n",
              "      <td>0.013937</td>\n",
              "      <td>0.973517</td>\n",
              "    </tr>\n",
              "    <tr>\n",
              "      <th>1</th>\n",
              "      <td>MMM</td>\n",
              "      <td>3 S&amp;P 500 Stocks Skating on Thin Ice</td>\n",
              "      <td>The S&amp;P 500 (^GSPC) is often seen as a benchma...</td>\n",
              "      <td>2025-05-27 04:34:42+00:00</td>\n",
              "      <td>StockStory</td>\n",
              "      <td>https://finance.yahoo.com/news/3-p-500-stocks-...</td>\n",
              "      <td>0.995787</td>\n",
              "      <td>0.988881</td>\n",
              "      <td>0.006906</td>\n",
              "    </tr>\n",
              "    <tr>\n",
              "      <th>2</th>\n",
              "      <td>MMM</td>\n",
              "      <td>3M Rises 15.8% YTD: Should You Buy the Stock N...</td>\n",
              "      <td>MMM is making strides in the aerospace, indust...</td>\n",
              "      <td>2025-05-22 14:08:00+00:00</td>\n",
              "      <td>Zacks</td>\n",
              "      <td>https://finance.yahoo.com/news/3m-rises-15-8-y...</td>\n",
              "      <td>0.998477</td>\n",
              "      <td>0.009877</td>\n",
              "      <td>0.988600</td>\n",
              "    </tr>\n",
              "    <tr>\n",
              "      <th>3</th>\n",
              "      <td>MMM</td>\n",
              "      <td>Q1 Earnings Roundup: 3M (NYSE:MMM) And The Res...</td>\n",
              "      <td>Quarterly earnings results are a good time to ...</td>\n",
              "      <td>2025-05-22 03:31:21+00:00</td>\n",
              "      <td>StockStory</td>\n",
              "      <td>https://finance.yahoo.com/news/q1-earnings-rou...</td>\n",
              "      <td>0.999765</td>\n",
              "      <td>0.996698</td>\n",
              "      <td>0.003067</td>\n",
              "    </tr>\n",
              "    <tr>\n",
              "      <th>4</th>\n",
              "      <td>MMM</td>\n",
              "      <td>3 Cash-Producing Stocks with Questionable Fund...</td>\n",
              "      <td>While strong cash flow is a key indicator of s...</td>\n",
              "      <td>2025-05-19 04:41:32+00:00</td>\n",
              "      <td>StockStory</td>\n",
              "      <td>https://finance.yahoo.com/news/3-cash-producin...</td>\n",
              "      <td>0.977834</td>\n",
              "      <td>0.995446</td>\n",
              "      <td>-0.017612</td>\n",
              "    </tr>\n",
              "  </tbody>\n",
              "</table>\n",
              "</div>"
            ],
            "text/plain": [
              "  TICKER                                              TITLE  \\\n",
              "0    MMM  2 Dow Jones Stocks with Promising Prospects an...   \n",
              "1    MMM               3 S&P 500 Stocks Skating on Thin Ice   \n",
              "2    MMM  3M Rises 15.8% YTD: Should You Buy the Stock N...   \n",
              "3    MMM  Q1 Earnings Roundup: 3M (NYSE:MMM) And The Res...   \n",
              "4    MMM  3 Cash-Producing Stocks with Questionable Fund...   \n",
              "\n",
              "                                             SUMMARY  \\\n",
              "0  The Dow Jones (^DJI) is made up of 30 of the m...   \n",
              "1  The S&P 500 (^GSPC) is often seen as a benchma...   \n",
              "2  MMM is making strides in the aerospace, indust...   \n",
              "3  Quarterly earnings results are a good time to ...   \n",
              "4  While strong cash flow is a key indicator of s...   \n",
              "\n",
              "            PUBLICATION_DATE    PROVIDER  \\\n",
              "0  2025-05-29 04:33:58+00:00  StockStory   \n",
              "1  2025-05-27 04:34:42+00:00  StockStory   \n",
              "2  2025-05-22 14:08:00+00:00       Zacks   \n",
              "3  2025-05-22 03:31:21+00:00  StockStory   \n",
              "4  2025-05-19 04:41:32+00:00  StockStory   \n",
              "\n",
              "                                                 URL  POSITIVE_PROB  \\\n",
              "0  https://finance.yahoo.com/news/2-dow-jones-sto...       0.987454   \n",
              "1  https://finance.yahoo.com/news/3-p-500-stocks-...       0.995787   \n",
              "2  https://finance.yahoo.com/news/3m-rises-15-8-y...       0.998477   \n",
              "3  https://finance.yahoo.com/news/q1-earnings-rou...       0.999765   \n",
              "4  https://finance.yahoo.com/news/3-cash-producin...       0.977834   \n",
              "\n",
              "   NEGATIVE_PROB  SENTIMENT  \n",
              "0       0.013937   0.973517  \n",
              "1       0.988881   0.006906  \n",
              "2       0.009877   0.988600  \n",
              "3       0.996698   0.003067  \n",
              "4       0.995446  -0.017612  "
            ]
          },
          "execution_count": 8,
          "metadata": {},
          "output_type": "execute_result"
        }
      ],
      "source": [
        "df_news.head()"
      ]
    },
    {
      "cell_type": "markdown",
      "id": "cb0c6c11",
      "metadata": {
        "id": "cb0c6c11"
      },
      "source": [
        "## Compare Sentiment with Returns\n",
        "\n",
        "In this section, you'll explore how daily news sentiment aligns with market behavior.\n",
        "\n",
        "👉 **Instructions**:\n",
        "\n",
        "1. Group the news data by **publication date** and compute the **average sentiment per day**.\n",
        "2. Download **daily stock prices** for the relevant tickers using `yfinance`.\n",
        "3. Compute **daily returns** and use their average as a proxy for the market (e.g., S\\&P 500).\n",
        "4. Visualize both **daily sentiment** and **daily returns** over time using line plots.\n",
        "5. Create a **dual y-axis chart** to compare trends more effectively.\n",
        "\n",
        "✅ This section helps you assess whether changes in sentiment coincide with market movements.\n",
        "\n",
        "> ℹ️ Focus on trend relationships, not just visual similarity—this is an opportunity to start thinking about predictive signals."
      ]
    },
    {
      "cell_type": "code",
      "execution_count": 9,
      "id": "8cc0f18c",
      "metadata": {
        "colab": {
          "base_uri": "https://localhost:8080/",
          "height": 204
        },
        "executionInfo": {
          "elapsed": 44,
          "status": "ok",
          "timestamp": 1755151025006,
          "user": {
            "displayName": "Oscar Enrique García García",
            "userId": "06906500907139536184"
          },
          "user_tz": 360
        },
        "id": "8cc0f18c",
        "outputId": "9e0dfea3-604c-465d-bea8-32eb1ba289f9"
      },
      "outputs": [
        {
          "data": {
            "text/html": [
              "<div>\n",
              "<style scoped>\n",
              "    .dataframe tbody tr th:only-of-type {\n",
              "        vertical-align: middle;\n",
              "    }\n",
              "\n",
              "    .dataframe tbody tr th {\n",
              "        vertical-align: top;\n",
              "    }\n",
              "\n",
              "    .dataframe thead th {\n",
              "        text-align: right;\n",
              "    }\n",
              "</style>\n",
              "<table border=\"1\" class=\"dataframe\">\n",
              "  <thead>\n",
              "    <tr style=\"text-align: right;\">\n",
              "      <th></th>\n",
              "      <th>PUBLICATION_DAY</th>\n",
              "      <th>AVG_SENTIMENT</th>\n",
              "    </tr>\n",
              "  </thead>\n",
              "  <tbody>\n",
              "    <tr>\n",
              "      <th>0</th>\n",
              "      <td>2024-07-12</td>\n",
              "      <td>-0.007379</td>\n",
              "    </tr>\n",
              "    <tr>\n",
              "      <th>1</th>\n",
              "      <td>2024-07-22</td>\n",
              "      <td>0.970245</td>\n",
              "    </tr>\n",
              "    <tr>\n",
              "      <th>2</th>\n",
              "      <td>2024-08-19</td>\n",
              "      <td>0.088651</td>\n",
              "    </tr>\n",
              "    <tr>\n",
              "      <th>3</th>\n",
              "      <td>2024-09-13</td>\n",
              "      <td>0.000035</td>\n",
              "    </tr>\n",
              "    <tr>\n",
              "      <th>4</th>\n",
              "      <td>2024-10-26</td>\n",
              "      <td>0.984635</td>\n",
              "    </tr>\n",
              "  </tbody>\n",
              "</table>\n",
              "</div>"
            ],
            "text/plain": [
              "  PUBLICATION_DAY  AVG_SENTIMENT\n",
              "0      2024-07-12      -0.007379\n",
              "1      2024-07-22       0.970245\n",
              "2      2024-08-19       0.088651\n",
              "3      2024-09-13       0.000035\n",
              "4      2024-10-26       0.984635"
            ]
          },
          "execution_count": 9,
          "metadata": {},
          "output_type": "execute_result"
        }
      ],
      "source": [
        "df_news[\"PUBLICATION_DAY\"] = pd.to_datetime(df_news[\"PUBLICATION_DATE\"]).dt.tz_localize(None).dt.floor(\"D\")\n",
        "\n",
        "\n",
        "# Average sentiment per day\n",
        "daily_sentiment = df_news.groupby(\"PUBLICATION_DAY\")[\"SENTIMENT\"].mean().reset_index()\n",
        "daily_sentiment.rename(columns={\"SENTIMENT\": \"AVG_SENTIMENT\"}, inplace=True)\n",
        "\n",
        "daily_sentiment.head()"
      ]
    },
    {
      "cell_type": "code",
      "execution_count": 10,
      "id": "4e754d0b",
      "metadata": {},
      "outputs": [
        {
          "name": "stdout",
          "output_type": "stream",
          "text": [
            "Min date:  2024-07-12 00:00:00\n",
            "Max date:  2025-05-31 00:00:00\n"
          ]
        }
      ],
      "source": [
        "print(\"Min date: \",daily_sentiment['PUBLICATION_DAY'].min())\n",
        "print(\"Max date: \",daily_sentiment['PUBLICATION_DAY'].max())"
      ]
    },
    {
      "cell_type": "code",
      "execution_count": 11,
      "id": "PCFD_pDVkIN2",
      "metadata": {
        "colab": {
          "base_uri": "https://localhost:8080/"
        },
        "executionInfo": {
          "elapsed": 23061,
          "status": "ok",
          "timestamp": 1755151048066,
          "user": {
            "displayName": "Oscar Enrique García García",
            "userId": "06906500907139536184"
          },
          "user_tz": 360
        },
        "id": "PCFD_pDVkIN2",
        "outputId": "d6ea4dd4-5e02-4c11-810d-36fba3604c6f"
      },
      "outputs": [
        {
          "name": "stderr",
          "output_type": "stream",
          "text": [
            "[*********************100%***********************]  487 of 487 completed\n",
            "/var/folders/0v/1gw18h8j4rxc7jrl2gth00n40000gp/T/ipykernel_38710/4228032076.py:11: PerformanceWarning: DataFrame is highly fragmented.  This is usually the result of calling `frame.insert` many times, which has poor performance.  Consider joining all columns at once using pd.concat(axis=1) instead. To get a de-fragmented frame, use `newframe = frame.copy()`\n",
            "  price_data[\"MARKET_AVG\"] = price_data.mean(axis=1)\n"
          ]
        }
      ],
      "source": [
        "import yfinance as yf\n",
        "\n",
        "tickers = df_news[\"TICKER\"].unique().tolist()\n",
        "\n",
        "# Download adjusted close prices\n",
        "price_data = yf.download(tickers, start=daily_sentiment[\"PUBLICATION_DAY\"].min(),\n",
        "                         end=daily_sentiment[\"PUBLICATION_DAY\"].max(), auto_adjust=False)\n",
        "\n",
        "# If multiple tickers, take the average price as \"market proxy\"\n",
        "if isinstance(price_data, pd.DataFrame):\n",
        "    price_data[\"MARKET_AVG\"] = price_data.mean(axis=1)\n",
        "else:\n",
        "    price_data = price_data.to_frame(name=\"MARKET_AVG\")"
      ]
    },
    {
      "cell_type": "code",
      "execution_count": 12,
      "id": "yStG91CZkIYL",
      "metadata": {
        "colab": {
          "base_uri": "https://localhost:8080/",
          "height": 204
        },
        "executionInfo": {
          "elapsed": 102,
          "status": "ok",
          "timestamp": 1755151048176,
          "user": {
            "displayName": "Oscar Enrique García García",
            "userId": "06906500907139536184"
          },
          "user_tz": 360
        },
        "id": "yStG91CZkIYL",
        "outputId": "03314f6d-b022-4e49-cf13-572224dbc7c5"
      },
      "outputs": [
        {
          "data": {
            "text/html": [
              "<div>\n",
              "<style scoped>\n",
              "    .dataframe tbody tr th:only-of-type {\n",
              "        vertical-align: middle;\n",
              "    }\n",
              "\n",
              "    .dataframe tbody tr th {\n",
              "        vertical-align: top;\n",
              "    }\n",
              "\n",
              "    .dataframe thead th {\n",
              "        text-align: right;\n",
              "    }\n",
              "</style>\n",
              "<table border=\"1\" class=\"dataframe\">\n",
              "  <thead>\n",
              "    <tr style=\"text-align: right;\">\n",
              "      <th></th>\n",
              "      <th>PUBLICATION_DAY</th>\n",
              "      <th>DAILY_RETURN</th>\n",
              "    </tr>\n",
              "  </thead>\n",
              "  <tbody>\n",
              "    <tr>\n",
              "      <th>0</th>\n",
              "      <td>2024-07-15</td>\n",
              "      <td>-0.026501</td>\n",
              "    </tr>\n",
              "    <tr>\n",
              "      <th>1</th>\n",
              "      <td>2024-07-16</td>\n",
              "      <td>0.024505</td>\n",
              "    </tr>\n",
              "    <tr>\n",
              "      <th>2</th>\n",
              "      <td>2024-07-17</td>\n",
              "      <td>0.262180</td>\n",
              "    </tr>\n",
              "    <tr>\n",
              "      <th>3</th>\n",
              "      <td>2024-07-18</td>\n",
              "      <td>-0.070937</td>\n",
              "    </tr>\n",
              "    <tr>\n",
              "      <th>4</th>\n",
              "      <td>2024-07-19</td>\n",
              "      <td>-0.090015</td>\n",
              "    </tr>\n",
              "  </tbody>\n",
              "</table>\n",
              "</div>"
            ],
            "text/plain": [
              "  PUBLICATION_DAY  DAILY_RETURN\n",
              "0      2024-07-15     -0.026501\n",
              "1      2024-07-16      0.024505\n",
              "2      2024-07-17      0.262180\n",
              "3      2024-07-18     -0.070937\n",
              "4      2024-07-19     -0.090015"
            ]
          },
          "execution_count": 12,
          "metadata": {},
          "output_type": "execute_result"
        }
      ],
      "source": [
        "market_returns = price_data[\"MARKET_AVG\"].pct_change().dropna()\n",
        "market_returns = market_returns.reset_index()\n",
        "market_returns.rename(columns={\"Date\": \"PUBLICATION_DAY\", \"MARKET_AVG\": \"DAILY_RETURN\"}, inplace=True)\n",
        "market_returns.head()"
      ]
    },
    {
      "cell_type": "code",
      "execution_count": 13,
      "id": "1ed6d73f",
      "metadata": {},
      "outputs": [
        {
          "name": "stdout",
          "output_type": "stream",
          "text": [
            "Min date:  2024-07-15 00:00:00\n",
            "Max date:  2025-05-30 00:00:00\n"
          ]
        }
      ],
      "source": [
        "print(\"Min date: \",market_returns['PUBLICATION_DAY'].min())\n",
        "print(\"Max date: \",market_returns['PUBLICATION_DAY'].max())"
      ]
    },
    {
      "cell_type": "code",
      "execution_count": 14,
      "id": "XHvFmeHPsxd2",
      "metadata": {
        "colab": {
          "base_uri": "https://localhost:8080/",
          "height": 586
        },
        "executionInfo": {
          "elapsed": 2775,
          "status": "ok",
          "timestamp": 1755151051038,
          "user": {
            "displayName": "Oscar Enrique García García",
            "userId": "06906500907139536184"
          },
          "user_tz": 360
        },
        "id": "XHvFmeHPsxd2",
        "outputId": "3d98133f-c43a-41c1-c910-b84e191db8a5"
      },
      "outputs": [
        {
          "data": {
            "image/png": "[encoded data removed]",
            "text/plain": [
              "<Figure size 1200x600 with 2 Axes>"
            ]
          },
          "metadata": {},
          "output_type": "display_data"
        }
      ],
      "source": [
        "import matplotlib.pyplot as plt\n",
        "\n",
        "fig, ax1 = plt.subplots(figsize=(12, 6))\n",
        "\n",
        "# Plot sentiment\n",
        "ax1.set_xlabel(\"Date\")\n",
        "ax1.set_ylabel(\"Average Sentiment\", color=\"tab:blue\")\n",
        "ax1.plot(daily_sentiment[\"PUBLICATION_DAY\"], daily_sentiment[\"AVG_SENTIMENT\"], color=\"tab:blue\", label=\"Avg Sentiment\")\n",
        "ax1.tick_params(axis=\"y\", labelcolor=\"tab:blue\")\n",
        "\n",
        "# Create a second y-axis for returns\n",
        "ax2 = ax1.twinx()\n",
        "ax2.set_ylabel(\"Daily Return\", color=\"tab:red\")\n",
        "ax2.plot(market_returns[\"PUBLICATION_DAY\"], market_returns[\"DAILY_RETURN\"], color=\"tab:red\", label=\"Daily Return\")\n",
        "ax2.tick_params(axis=\"y\", labelcolor=\"tab:red\")\n",
        "\n",
        "# Title and layout\n",
        "plt.title(\"Daily Average Sentiment vs Market Returns\")\n",
        "fig.tight_layout()\n",
        "plt.show()\n"
      ]
    },
    {
      "cell_type": "markdown",
      "id": "58ba84f1",
      "metadata": {},
      "source": [
        "> ℹ️ In the graph above we can see that sentiment reacts in a direct way to market returns; better returns result in more positive sentiments and vice versa."
      ]
    },
    {
      "cell_type": "markdown",
      "id": "8b74e233",
      "metadata": {
        "id": "8b74e233"
      },
      "source": [
        "## Compare Daily Portfolio Value Against Daily Average Sentiment\n",
        "\n",
        "In this section, you will simulate a simple market portfolio and explore how its performance aligns with daily sentiment scores.\n",
        "\n",
        "👉 **Instructions**:\n",
        "\n",
        "1. Simulate a **market portfolio** by computing the cumulative return of the average daily return across all tickers.\n",
        "2. Start the portfolio with an **initial value of 1.0** and track its value over time.\n",
        "3. Plot the **daily average sentiment** and the **portfolio value** using a dual-axis line chart.\n",
        "\n",
        "✅ This visualization lets you explore whether market sentiment leads or lags behind portfolio movements.\n",
        "\n",
        "> ℹ️ Think about how this setup could inform a basic trading strategy—or whether sentiment could serve as a timing signal.\n"
      ]
    },
    {
      "cell_type": "code",
      "execution_count": 15,
      "id": "f2b275cc",
      "metadata": {
        "colab": {
          "base_uri": "https://localhost:8080/",
          "height": 586
        },
        "executionInfo": {
          "elapsed": 1977,
          "status": "ok",
          "timestamp": 1755151053010,
          "user": {
            "displayName": "Oscar Enrique García García",
            "userId": "06906500907139536184"
          },
          "user_tz": 360
        },
        "id": "f2b275cc",
        "outputId": "8e474ba8-ed31-49b1-c154-ab94f8aeb02e"
      },
      "outputs": [
        {
          "data": {
            "image/png": "[encoded data removed]",
            "text/plain": [
              "<Figure size 1200x600 with 2 Axes>"
            ]
          },
          "metadata": {},
          "output_type": "display_data"
        }
      ],
      "source": [
        "# Compute Portfolio Value (start at 1)\n",
        "market_returns[\"Portfolio Value\"] = (1 + market_returns[\"DAILY_RETURN\"]).cumprod()\n",
        "\n",
        "# Plot Sentiment vs Portfolio Value\n",
        "fig, ax1 = plt.subplots(figsize=(12, 6))\n",
        "\n",
        "# Left y-axis: daily average sentiment\n",
        "ax1.plot(daily_sentiment[\"PUBLICATION_DAY\"], daily_sentiment[\"AVG_SENTIMENT\"], color=\"tab:blue\", label=\"Avg Sentiment\")\n",
        "ax1.set_xlabel(\"Date\")\n",
        "ax1.set_ylabel(\"Average Sentiment\", color=\"tab:blue\")\n",
        "ax1.tick_params(axis=\"y\", labelcolor=\"tab:blue\")\n",
        "\n",
        "# Right y-axis: simulated portfolio value\n",
        "ax2 = ax1.twinx()\n",
        "ax2.plot(market_returns[\"PUBLICATION_DAY\"], market_returns[\"Portfolio Value\"], color=\"tab:orange\", label=\"Portfolio Value\")\n",
        "ax2.set_ylabel(\"Portfolio Value\", color=\"tab:orange\")\n",
        "ax2.tick_params(axis=\"y\", labelcolor=\"tab:orange\")\n",
        "\n",
        "plt.title(\"Daily Average Sentiment vs Simulated Portfolio Value\")\n",
        "fig.tight_layout()\n",
        "plt.show()\n"
      ]
    },
    {
      "cell_type": "markdown",
      "id": "64df55e8",
      "metadata": {},
      "source": [
        "> ℹ️ In this graph above we can also see that sentiment reacts to portfolio value in a direct way; better portfolio value results in a more positive sentiment and vice - versa."
      ]
    },
    {
      "cell_type": "markdown",
      "id": "3b5a2603",
      "metadata": {
        "id": "3b5a2603"
      },
      "source": [
        "## Compute Sector-Level Sentiment and Returns\n",
        "\n",
        "In this section, you’ll analyze how sector-level news sentiment compares to market performance for May. You’ll also measure whether sentiment correlates with returns.\n",
        "\n",
        "👉 **Instructions**:\n",
        "\n",
        "1. Group companies by **sector** using the metadata.\n",
        "2. For each sector:\n",
        "\n",
        "   * Compute **monthly average sentiment** (Feb to May).\n",
        "   * (Optional) Count the number of headlines per month.\n",
        "3. Compute **monthly stock returns** from price data and extract **May returns**.\n",
        "4. Build a comparison table with:\n",
        "\n",
        "   * `SECTOR`\n",
        "   * `SENTIMENT` (May sentiment)\n",
        "   * `RETURN` (May return)\n",
        "5. Compute and print the **correlation** between May sentiment and May returns.\n",
        "\n",
        "✅ This step helps evaluate whether optimistic news coverage for a sector is associated with better performance.\n",
        "\n",
        "> 💡 Once your analysis is complete, consider:\n",
        ">\n",
        "> * Which sectors *looked* good in the news but didn’t perform?\n",
        "> * Which sectors performed well despite neutral/negative sentiment?\n",
        "> * Would you invest based on sentiment alone? Why or why not?\n",
        "\n"
      ]
    },
    {
      "cell_type": "code",
      "execution_count": 16,
      "id": "QRKsCUM04_m4",
      "metadata": {
        "executionInfo": {
          "elapsed": 2,
          "status": "ok",
          "timestamp": 1755151053014,
          "user": {
            "displayName": "Oscar Enrique García García",
            "userId": "06906500907139536184"
          },
          "user_tz": 360
        },
        "id": "QRKsCUM04_m4"
      },
      "outputs": [],
      "source": [
        "MAY_PERIOD = pd.Period(\"2025-05\", \"M\")"
      ]
    },
    {
      "cell_type": "code",
      "execution_count": 17,
      "id": "80Ijv8Hb4o_w",
      "metadata": {
        "colab": {
          "base_uri": "https://localhost:8080/",
          "height": 238
        },
        "executionInfo": {
          "elapsed": 191,
          "status": "ok",
          "timestamp": 1755151053208,
          "user": {
            "displayName": "Oscar Enrique García García",
            "userId": "06906500907139536184"
          },
          "user_tz": 360
        },
        "id": "80Ijv8Hb4o_w",
        "outputId": "f43ac6bb-ebf8-48d7-b5c0-ba26e53620fe"
      },
      "outputs": [
        {
          "name": "stderr",
          "output_type": "stream",
          "text": [
            "/var/folders/0v/1gw18h8j4rxc7jrl2gth00n40000gp/T/ipykernel_38710/884943462.py:6: UserWarning: Converting to PeriodArray/Index representation will drop timezone information.\n",
            "  news[\"YM\"] = news[\"PUBLICATION_DATE\"].dt.to_period(\"M\")\n"
          ]
        },
        {
          "data": {
            "text/html": [
              "<div>\n",
              "<style scoped>\n",
              "    .dataframe tbody tr th:only-of-type {\n",
              "        vertical-align: middle;\n",
              "    }\n",
              "\n",
              "    .dataframe tbody tr th {\n",
              "        vertical-align: top;\n",
              "    }\n",
              "\n",
              "    .dataframe thead th {\n",
              "        text-align: right;\n",
              "    }\n",
              "</style>\n",
              "<table border=\"1\" class=\"dataframe\">\n",
              "  <thead>\n",
              "    <tr style=\"text-align: right;\">\n",
              "      <th></th>\n",
              "      <th>SECTOR</th>\n",
              "      <th>YM</th>\n",
              "      <th>SENTIMENT</th>\n",
              "    </tr>\n",
              "  </thead>\n",
              "  <tbody>\n",
              "    <tr>\n",
              "      <th>0</th>\n",
              "      <td>Basic Materials</td>\n",
              "      <td>2025-01</td>\n",
              "      <td>0.667093</td>\n",
              "    </tr>\n",
              "    <tr>\n",
              "      <th>1</th>\n",
              "      <td>Basic Materials</td>\n",
              "      <td>2025-02</td>\n",
              "      <td>-0.114956</td>\n",
              "    </tr>\n",
              "    <tr>\n",
              "      <th>2</th>\n",
              "      <td>Basic Materials</td>\n",
              "      <td>2025-03</td>\n",
              "      <td>0.288597</td>\n",
              "    </tr>\n",
              "    <tr>\n",
              "      <th>3</th>\n",
              "      <td>Basic Materials</td>\n",
              "      <td>2025-04</td>\n",
              "      <td>0.197456</td>\n",
              "    </tr>\n",
              "    <tr>\n",
              "      <th>4</th>\n",
              "      <td>Basic Materials</td>\n",
              "      <td>2025-05</td>\n",
              "      <td>0.312181</td>\n",
              "    </tr>\n",
              "  </tbody>\n",
              "</table>\n",
              "</div>"
            ],
            "text/plain": [
              "            SECTOR       YM  SENTIMENT\n",
              "0  Basic Materials  2025-01   0.667093\n",
              "1  Basic Materials  2025-02  -0.114956\n",
              "2  Basic Materials  2025-03   0.288597\n",
              "3  Basic Materials  2025-04   0.197456\n",
              "4  Basic Materials  2025-05   0.312181"
            ]
          },
          "execution_count": 17,
          "metadata": {},
          "output_type": "execute_result"
        }
      ],
      "source": [
        "news = df_news.copy()\n",
        "news[\"PUBLICATION_DATE\"] = pd.to_datetime(news[\"PUBLICATION_DATE\"], errors=\"coerce\")\n",
        "news = news.merge(df_meta[[\"TICKER\", \"SECTOR\"]], on=\"TICKER\", how=\"left\")\n",
        "\n",
        "# Monthly average sentiment per sector\n",
        "news[\"YM\"] = news[\"PUBLICATION_DATE\"].dt.to_period(\"M\")\n",
        "monthly_sector_sentiment = (\n",
        "    news.groupby([\"SECTOR\", \"YM\"])[\"SENTIMENT\"]\n",
        "        .mean()\n",
        "        .reset_index()\n",
        ")\n",
        "\n",
        "monthly_sector_sentiment.head()"
      ]
    },
    {
      "cell_type": "code",
      "execution_count": 18,
      "id": "pzZ7VCFJ_OYn",
      "metadata": {
        "colab": {
          "base_uri": "https://localhost:8080/",
          "height": 421
        },
        "executionInfo": {
          "elapsed": 1745,
          "status": "ok",
          "timestamp": 1755151054956,
          "user": {
            "displayName": "Oscar Enrique García García",
            "userId": "06906500907139536184"
          },
          "user_tz": 360
        },
        "id": "pzZ7VCFJ_OYn",
        "outputId": "74daeebc-79d1-41f9-d597-4c5444cc50a8"
      },
      "outputs": [
        {
          "data": {
            "text/html": [
              "<div>\n",
              "<style scoped>\n",
              "    .dataframe tbody tr th:only-of-type {\n",
              "        vertical-align: middle;\n",
              "    }\n",
              "\n",
              "    .dataframe tbody tr th {\n",
              "        vertical-align: top;\n",
              "    }\n",
              "\n",
              "    .dataframe thead th {\n",
              "        text-align: right;\n",
              "    }\n",
              "</style>\n",
              "<table border=\"1\" class=\"dataframe\">\n",
              "  <thead>\n",
              "    <tr style=\"text-align: right;\">\n",
              "      <th></th>\n",
              "      <th>SECTOR</th>\n",
              "      <th>YM</th>\n",
              "      <th>AVG_SENTIMENT</th>\n",
              "    </tr>\n",
              "  </thead>\n",
              "  <tbody>\n",
              "    <tr>\n",
              "      <th>0</th>\n",
              "      <td>Basic Materials</td>\n",
              "      <td>2025-02</td>\n",
              "      <td>-0.114956</td>\n",
              "    </tr>\n",
              "    <tr>\n",
              "      <th>1</th>\n",
              "      <td>Basic Materials</td>\n",
              "      <td>2025-03</td>\n",
              "      <td>0.288597</td>\n",
              "    </tr>\n",
              "    <tr>\n",
              "      <th>2</th>\n",
              "      <td>Basic Materials</td>\n",
              "      <td>2025-04</td>\n",
              "      <td>0.197456</td>\n",
              "    </tr>\n",
              "    <tr>\n",
              "      <th>3</th>\n",
              "      <td>Basic Materials</td>\n",
              "      <td>2025-05</td>\n",
              "      <td>0.312181</td>\n",
              "    </tr>\n",
              "    <tr>\n",
              "      <th>4</th>\n",
              "      <td>Communication Services</td>\n",
              "      <td>2025-03</td>\n",
              "      <td>0.015375</td>\n",
              "    </tr>\n",
              "    <tr>\n",
              "      <th>5</th>\n",
              "      <td>Communication Services</td>\n",
              "      <td>2025-04</td>\n",
              "      <td>0.211529</td>\n",
              "    </tr>\n",
              "    <tr>\n",
              "      <th>6</th>\n",
              "      <td>Communication Services</td>\n",
              "      <td>2025-05</td>\n",
              "      <td>0.204507</td>\n",
              "    </tr>\n",
              "    <tr>\n",
              "      <th>7</th>\n",
              "      <td>Consumer Cyclical</td>\n",
              "      <td>2025-02</td>\n",
              "      <td>-0.332790</td>\n",
              "    </tr>\n",
              "    <tr>\n",
              "      <th>8</th>\n",
              "      <td>Consumer Cyclical</td>\n",
              "      <td>2025-03</td>\n",
              "      <td>-0.009642</td>\n",
              "    </tr>\n",
              "    <tr>\n",
              "      <th>9</th>\n",
              "      <td>Consumer Cyclical</td>\n",
              "      <td>2025-04</td>\n",
              "      <td>0.091782</td>\n",
              "    </tr>\n",
              "    <tr>\n",
              "      <th>10</th>\n",
              "      <td>Consumer Cyclical</td>\n",
              "      <td>2025-05</td>\n",
              "      <td>0.220057</td>\n",
              "    </tr>\n",
              "    <tr>\n",
              "      <th>11</th>\n",
              "      <td>Consumer Defensive</td>\n",
              "      <td>2025-03</td>\n",
              "      <td>-0.051337</td>\n",
              "    </tr>\n",
              "  </tbody>\n",
              "</table>\n",
              "</div>"
            ],
            "text/plain": [
              "                    SECTOR       YM  AVG_SENTIMENT\n",
              "0          Basic Materials  2025-02      -0.114956\n",
              "1          Basic Materials  2025-03       0.288597\n",
              "2          Basic Materials  2025-04       0.197456\n",
              "3          Basic Materials  2025-05       0.312181\n",
              "4   Communication Services  2025-03       0.015375\n",
              "5   Communication Services  2025-04       0.211529\n",
              "6   Communication Services  2025-05       0.204507\n",
              "7        Consumer Cyclical  2025-02      -0.332790\n",
              "8        Consumer Cyclical  2025-03      -0.009642\n",
              "9        Consumer Cyclical  2025-04       0.091782\n",
              "10       Consumer Cyclical  2025-05       0.220057\n",
              "11      Consumer Defensive  2025-03      -0.051337"
            ]
          },
          "metadata": {},
          "output_type": "display_data"
        }
      ],
      "source": [
        "# Target months\n",
        "MONTHS = pd.PeriodIndex([\"2025-02\",\"2025-03\",\"2025-04\",\"2025-05\"], freq=\"M\")\n",
        "\n",
        "# Filter to target months\n",
        "sent_feb_may_sector = (\n",
        "    monthly_sector_sentiment[\n",
        "        monthly_sector_sentiment[\"YM\"].isin(MONTHS)\n",
        "    ].copy()\n",
        ")\n",
        "\n",
        "# Compute average sentiment by sector for each month\n",
        "avg_sentiment_sector = (\n",
        "    sent_feb_may_sector.groupby([\"SECTOR\", \"YM\"])[\"SENTIMENT\"]\n",
        "        .mean()\n",
        "        .reset_index()\n",
        "        .rename(columns={\"SENTIMENT\": \"AVG_SENTIMENT\"})\n",
        ")\n",
        "\n",
        "# Convert YM (Period) to timestamp for plotting later\n",
        "#avg_sentiment_sector[\"YM\"] = avg_sentiment_sector[\"YM\"].dt.to_timestamp(\"M\")\n",
        "\n",
        "display(avg_sentiment_sector.head(12))"
      ]
    },
    {
      "cell_type": "code",
      "execution_count": 19,
      "id": "Q22ZIGjg470H",
      "metadata": {
        "colab": {
          "base_uri": "https://localhost:8080/",
          "height": 204
        },
        "executionInfo": {
          "elapsed": 49,
          "status": "ok",
          "timestamp": 1755151055019,
          "user": {
            "displayName": "Oscar Enrique García García",
            "userId": "06906500907139536184"
          },
          "user_tz": 360
        },
        "id": "Q22ZIGjg470H",
        "outputId": "b6922515-19d3-4163-94b9-cfeae08e34c9"
      },
      "outputs": [
        {
          "data": {
            "text/html": [
              "<div>\n",
              "<style scoped>\n",
              "    .dataframe tbody tr th:only-of-type {\n",
              "        vertical-align: middle;\n",
              "    }\n",
              "\n",
              "    .dataframe tbody tr th {\n",
              "        vertical-align: top;\n",
              "    }\n",
              "\n",
              "    .dataframe thead th {\n",
              "        text-align: right;\n",
              "    }\n",
              "</style>\n",
              "<table border=\"1\" class=\"dataframe\">\n",
              "  <thead>\n",
              "    <tr style=\"text-align: right;\">\n",
              "      <th></th>\n",
              "      <th>SECTOR</th>\n",
              "      <th>SENTIMENT_MAY</th>\n",
              "    </tr>\n",
              "  </thead>\n",
              "  <tbody>\n",
              "    <tr>\n",
              "      <th>0</th>\n",
              "      <td>Basic Materials</td>\n",
              "      <td>0.312181</td>\n",
              "    </tr>\n",
              "    <tr>\n",
              "      <th>1</th>\n",
              "      <td>Communication Services</td>\n",
              "      <td>0.204507</td>\n",
              "    </tr>\n",
              "    <tr>\n",
              "      <th>2</th>\n",
              "      <td>Consumer Cyclical</td>\n",
              "      <td>0.220057</td>\n",
              "    </tr>\n",
              "    <tr>\n",
              "      <th>3</th>\n",
              "      <td>Consumer Defensive</td>\n",
              "      <td>0.202022</td>\n",
              "    </tr>\n",
              "    <tr>\n",
              "      <th>4</th>\n",
              "      <td>Energy</td>\n",
              "      <td>0.235367</td>\n",
              "    </tr>\n",
              "  </tbody>\n",
              "</table>\n",
              "</div>"
            ],
            "text/plain": [
              "                   SECTOR  SENTIMENT_MAY\n",
              "0         Basic Materials       0.312181\n",
              "1  Communication Services       0.204507\n",
              "2       Consumer Cyclical       0.220057\n",
              "3      Consumer Defensive       0.202022\n",
              "4                  Energy       0.235367"
            ]
          },
          "execution_count": 19,
          "metadata": {},
          "output_type": "execute_result"
        }
      ],
      "source": [
        "may_sentiment = (\n",
        "    monthly_sector_sentiment.loc[monthly_sector_sentiment[\"YM\"] == MAY_PERIOD, [\"SECTOR\", \"SENTIMENT\"]]\n",
        "    .rename(columns={\"SENTIMENT\": \"SENTIMENT_MAY\"})\n",
        "    .reset_index(drop=True)\n",
        ")\n",
        "\n",
        "may_sentiment.head()"
      ]
    },
    {
      "cell_type": "code",
      "execution_count": 20,
      "id": "yJP8useA4njf",
      "metadata": {
        "colab": {
          "base_uri": "https://localhost:8080/",
          "height": 204
        },
        "executionInfo": {
          "elapsed": 49,
          "status": "ok",
          "timestamp": 1755151055069,
          "user": {
            "displayName": "Oscar Enrique García García",
            "userId": "06906500907139536184"
          },
          "user_tz": 360
        },
        "id": "yJP8useA4njf",
        "outputId": "d67fea26-4927-4bea-eb86-0193c44a98a4"
      },
      "outputs": [
        {
          "data": {
            "text/html": [
              "<div>\n",
              "<style scoped>\n",
              "    .dataframe tbody tr th:only-of-type {\n",
              "        vertical-align: middle;\n",
              "    }\n",
              "\n",
              "    .dataframe tbody tr th {\n",
              "        vertical-align: top;\n",
              "    }\n",
              "\n",
              "    .dataframe thead th {\n",
              "        text-align: right;\n",
              "    }\n",
              "</style>\n",
              "<table border=\"1\" class=\"dataframe\">\n",
              "  <thead>\n",
              "    <tr style=\"text-align: right;\">\n",
              "      <th></th>\n",
              "      <th>SECTOR</th>\n",
              "      <th>HEADLINES_MAY</th>\n",
              "    </tr>\n",
              "  </thead>\n",
              "  <tbody>\n",
              "    <tr>\n",
              "      <th>0</th>\n",
              "      <td>Basic Materials</td>\n",
              "      <td>135</td>\n",
              "    </tr>\n",
              "    <tr>\n",
              "      <th>1</th>\n",
              "      <td>Communication Services</td>\n",
              "      <td>144</td>\n",
              "    </tr>\n",
              "    <tr>\n",
              "      <th>2</th>\n",
              "      <td>Consumer Cyclical</td>\n",
              "      <td>409</td>\n",
              "    </tr>\n",
              "    <tr>\n",
              "      <th>3</th>\n",
              "      <td>Consumer Defensive</td>\n",
              "      <td>270</td>\n",
              "    </tr>\n",
              "    <tr>\n",
              "      <th>4</th>\n",
              "      <td>Energy</td>\n",
              "      <td>172</td>\n",
              "    </tr>\n",
              "  </tbody>\n",
              "</table>\n",
              "</div>"
            ],
            "text/plain": [
              "                   SECTOR  HEADLINES_MAY\n",
              "0         Basic Materials            135\n",
              "1  Communication Services            144\n",
              "2       Consumer Cyclical            409\n",
              "3      Consumer Defensive            270\n",
              "4                  Energy            172"
            ]
          },
          "execution_count": 20,
          "metadata": {},
          "output_type": "execute_result"
        }
      ],
      "source": [
        "may_headlines = (\n",
        "    news.loc[news[\"YM\"] == MAY_PERIOD]\n",
        "        .groupby(\"SECTOR\")[\"SENTIMENT\"]\n",
        "        .size()\n",
        "        .rename(\"HEADLINES_MAY\")\n",
        "        .reset_index()\n",
        ")\n",
        "\n",
        "may_headlines.head()"
      ]
    },
    {
      "cell_type": "code",
      "execution_count": 21,
      "id": "xh-a4g-R5T-z",
      "metadata": {
        "executionInfo": {
          "elapsed": 23,
          "status": "ok",
          "timestamp": 1755151055104,
          "user": {
            "displayName": "Oscar Enrique García García",
            "userId": "06906500907139536184"
          },
          "user_tz": 360
        },
        "id": "xh-a4g-R5T-z"
      },
      "outputs": [],
      "source": [
        "def extract_close_panel(price_df, tickers=None):\n",
        "    \"\"\"\n",
        "    Returns a DataFrame with index=dates (tz-naive), columns=tickers, values=Close (Adj Close preferred).\n",
        "    Handles yfinance MultiIndex variants:\n",
        "      - (field, ticker) e.g., ('Adj Close','AAPL')\n",
        "      - (ticker, field) (less common)\n",
        "      - ('Price', field, ticker) e.g., ('Price','Close','AAPL')\n",
        "    \"\"\"\n",
        "    df = price_df.copy()\n",
        "\n",
        "    # Infer tickers if not provided\n",
        "    if tickers is None:\n",
        "        if isinstance(df.columns, pd.MultiIndex):\n",
        "            # Try to pull tickers from the last level\n",
        "            tickers = sorted(set(df.columns.get_level_values(-1)))\n",
        "        else:\n",
        "            # single ticker case; leave as None\n",
        "            pass\n",
        "\n",
        "    if isinstance(df.columns, pd.MultiIndex):\n",
        "        lv0 = df.columns.get_level_values(0)\n",
        "        lv1 = df.columns.get_level_values(1) if df.columns.nlevels >= 2 else pd.Index([])\n",
        "        # Case A: (field, ticker)\n",
        "        if \"Adj Close\" in lv0:\n",
        "            out = df[\"Adj Close\"]\n",
        "        elif \"Close\" in lv0:\n",
        "            out = df[\"Close\"]\n",
        "        # Case B: (ticker, field)\n",
        "        elif \"Close\" in lv1:\n",
        "            out = df.xs(\"Close\", axis=1, level=1)\n",
        "        elif \"Adj Close\" in lv1:\n",
        "            out = df.xs(\"Adj Close\", axis=1, level=1)\n",
        "        # Case C: ('Price', field, ticker) like your screenshot\n",
        "        elif (\"Price\" in lv0) and (\"Close\" in lv1):\n",
        "            out = df.xs((\"Price\", \"Close\"), axis=1, level=[0, 1])\n",
        "        else:\n",
        "            raise ValueError(\"Could not locate Close/Adj Close in yfinance output.\")\n",
        "    else:\n",
        "        # Single-index columns (likely single ticker)\n",
        "        if \"Adj Close\" in df.columns:\n",
        "            out = df[[\"Adj Close\"]]\n",
        "        elif \"Close\" in df.columns:\n",
        "            out = df[[\"Close\"]]\n",
        "        else:\n",
        "            raise ValueError(\"No 'Adj Close' or 'Close' in single-index yfinance frame.\")\n",
        "\n",
        "        # If we know the single ticker, name the column accordingly\n",
        "        if out.shape[1] == 1 and tickers and len(tickers) == 1:\n",
        "            out.columns = [tickers[0]]\n",
        "\n",
        "    # TZ-naive index\n",
        "    out.index = pd.to_datetime(out.index).tz_localize(None)\n",
        "\n",
        "    return out"
      ]
    },
    {
      "cell_type": "code",
      "execution_count": 22,
      "id": "Ehlvw-cq5Y2g",
      "metadata": {
        "colab": {
          "base_uri": "https://localhost:8080/",
          "height": 238
        },
        "executionInfo": {
          "elapsed": 452,
          "status": "ok",
          "timestamp": 1755151055569,
          "user": {
            "displayName": "Oscar Enrique García García",
            "userId": "06906500907139536184"
          },
          "user_tz": 360
        },
        "id": "Ehlvw-cq5Y2g",
        "outputId": "6035ce90-5587-4e38-da24-39ac6df42d4d"
      },
      "outputs": [
        {
          "data": {
            "text/html": [
              "<div>\n",
              "<style scoped>\n",
              "    .dataframe tbody tr th:only-of-type {\n",
              "        vertical-align: middle;\n",
              "    }\n",
              "\n",
              "    .dataframe tbody tr th {\n",
              "        vertical-align: top;\n",
              "    }\n",
              "\n",
              "    .dataframe thead th {\n",
              "        text-align: right;\n",
              "    }\n",
              "</style>\n",
              "<table border=\"1\" class=\"dataframe\">\n",
              "  <thead>\n",
              "    <tr style=\"text-align: right;\">\n",
              "      <th></th>\n",
              "      <th>SECTOR</th>\n",
              "      <th>RETURN_MAY</th>\n",
              "    </tr>\n",
              "  </thead>\n",
              "  <tbody>\n",
              "    <tr>\n",
              "      <th>0</th>\n",
              "      <td>Basic Materials</td>\n",
              "      <td>0.029613</td>\n",
              "    </tr>\n",
              "    <tr>\n",
              "      <th>1</th>\n",
              "      <td>Communication Services</td>\n",
              "      <td>0.041527</td>\n",
              "    </tr>\n",
              "    <tr>\n",
              "      <th>2</th>\n",
              "      <td>Consumer Cyclical</td>\n",
              "      <td>0.056382</td>\n",
              "    </tr>\n",
              "    <tr>\n",
              "      <th>3</th>\n",
              "      <td>Consumer Defensive</td>\n",
              "      <td>0.000008</td>\n",
              "    </tr>\n",
              "    <tr>\n",
              "      <th>4</th>\n",
              "      <td>Energy</td>\n",
              "      <td>0.029434</td>\n",
              "    </tr>\n",
              "  </tbody>\n",
              "</table>\n",
              "</div>"
            ],
            "text/plain": [
              "                   SECTOR  RETURN_MAY\n",
              "0         Basic Materials    0.029613\n",
              "1  Communication Services    0.041527\n",
              "2       Consumer Cyclical    0.056382\n",
              "3      Consumer Defensive    0.000008\n",
              "4                  Energy    0.029434"
            ]
          },
          "execution_count": 22,
          "metadata": {},
          "output_type": "execute_result"
        }
      ],
      "source": [
        "close_panel = extract_close_panel(price_data, tickers=df_news[\"TICKER\"].unique().tolist())\n",
        "\n",
        "# Monthly close, then monthly % returns per ticker\n",
        "close_m = close_panel.resample(\"M\").last()\n",
        "ret_m = close_m.pct_change()\n",
        "\n",
        "# Map tickers -> sector and average tickers within each sector\n",
        "sector_map = (\n",
        "    df_meta[[\"TICKER\", \"SECTOR\"]]\n",
        "    .dropna()\n",
        "    .drop_duplicates()\n",
        "    .set_index(\"TICKER\")[\"SECTOR\"]\n",
        "    .to_dict()\n",
        ")\n",
        "\n",
        "# Keep only tickers we can map\n",
        "common = [t for t in ret_m.columns if t in sector_map]\n",
        "ret_m = ret_m[common].copy()\n",
        "\n",
        "# Robust aggregation to sector level\n",
        "ret_m_sector = (\n",
        "    ret_m.T\n",
        "        .assign(SECTOR=lambda x: x.index.map(sector_map))\n",
        "        .groupby(\"SECTOR\")\n",
        "        .mean()\n",
        "        .T\n",
        ")\n",
        "\n",
        "# Make sure the index can be interpreted as monthly periods\n",
        "idx_month = pd.PeriodIndex(pd.to_datetime(ret_m_sector.index), freq=\"M\")\n",
        "\n",
        "may_mask = (idx_month == MAY_PERIOD)\n",
        "\n",
        "may_returns = (\n",
        "    ret_m_sector.loc[may_mask]\n",
        "    .T.squeeze()                      # sectors as rows\n",
        "    .rename(\"RETURN_MAY\")\n",
        "    .reset_index()\n",
        "    .rename(columns={\"index\": \"SECTOR\"})\n",
        "    .reset_index(drop=True)\n",
        ")\n",
        "\n",
        "may_returns.head()"
      ]
    },
    {
      "cell_type": "code",
      "execution_count": 23,
      "id": "5oHctejH6CuL",
      "metadata": {
        "colab": {
          "base_uri": "https://localhost:8080/",
          "height": 407
        },
        "executionInfo": {
          "elapsed": 123,
          "status": "ok",
          "timestamp": 1755151055708,
          "user": {
            "displayName": "Oscar Enrique García García",
            "userId": "06906500907139536184"
          },
          "user_tz": 360
        },
        "id": "5oHctejH6CuL",
        "outputId": "c72fa989-100e-4f3e-ba57-255580d6e46e"
      },
      "outputs": [
        {
          "name": "stdout",
          "output_type": "stream",
          "text": [
            "Correlation (May 2025 sentiment vs May 2025 returns): -0.269\n"
          ]
        },
        {
          "data": {
            "text/html": [
              "<div>\n",
              "<style scoped>\n",
              "    .dataframe tbody tr th:only-of-type {\n",
              "        vertical-align: middle;\n",
              "    }\n",
              "\n",
              "    .dataframe tbody tr th {\n",
              "        vertical-align: top;\n",
              "    }\n",
              "\n",
              "    .dataframe thead th {\n",
              "        text-align: right;\n",
              "    }\n",
              "</style>\n",
              "<table border=\"1\" class=\"dataframe\">\n",
              "  <thead>\n",
              "    <tr style=\"text-align: right;\">\n",
              "      <th></th>\n",
              "      <th>SECTOR</th>\n",
              "      <th>SENTIMENT_MAY</th>\n",
              "      <th>HEADLINES_MAY</th>\n",
              "      <th>RETURN_MAY</th>\n",
              "    </tr>\n",
              "  </thead>\n",
              "  <tbody>\n",
              "    <tr>\n",
              "      <th>9</th>\n",
              "      <td>Technology</td>\n",
              "      <td>0.275274</td>\n",
              "      <td>636</td>\n",
              "      <td>0.075271</td>\n",
              "    </tr>\n",
              "    <tr>\n",
              "      <th>7</th>\n",
              "      <td>Industrials</td>\n",
              "      <td>0.237436</td>\n",
              "      <td>539</td>\n",
              "      <td>0.073894</td>\n",
              "    </tr>\n",
              "    <tr>\n",
              "      <th>5</th>\n",
              "      <td>Financial Services</td>\n",
              "      <td>0.225462</td>\n",
              "      <td>453</td>\n",
              "      <td>0.061068</td>\n",
              "    </tr>\n",
              "    <tr>\n",
              "      <th>2</th>\n",
              "      <td>Consumer Cyclical</td>\n",
              "      <td>0.220057</td>\n",
              "      <td>409</td>\n",
              "      <td>0.056382</td>\n",
              "    </tr>\n",
              "    <tr>\n",
              "      <th>1</th>\n",
              "      <td>Communication Services</td>\n",
              "      <td>0.204507</td>\n",
              "      <td>144</td>\n",
              "      <td>0.041527</td>\n",
              "    </tr>\n",
              "    <tr>\n",
              "      <th>10</th>\n",
              "      <td>Utilities</td>\n",
              "      <td>0.292018</td>\n",
              "      <td>209</td>\n",
              "      <td>0.032967</td>\n",
              "    </tr>\n",
              "    <tr>\n",
              "      <th>0</th>\n",
              "      <td>Basic Materials</td>\n",
              "      <td>0.312181</td>\n",
              "      <td>135</td>\n",
              "      <td>0.029613</td>\n",
              "    </tr>\n",
              "    <tr>\n",
              "      <th>4</th>\n",
              "      <td>Energy</td>\n",
              "      <td>0.235367</td>\n",
              "      <td>172</td>\n",
              "      <td>0.029434</td>\n",
              "    </tr>\n",
              "    <tr>\n",
              "      <th>8</th>\n",
              "      <td>Real Estate</td>\n",
              "      <td>0.359962</td>\n",
              "      <td>188</td>\n",
              "      <td>0.010360</td>\n",
              "    </tr>\n",
              "    <tr>\n",
              "      <th>6</th>\n",
              "      <td>Healthcare</td>\n",
              "      <td>0.278522</td>\n",
              "      <td>446</td>\n",
              "      <td>0.000100</td>\n",
              "    </tr>\n",
              "    <tr>\n",
              "      <th>3</th>\n",
              "      <td>Consumer Defensive</td>\n",
              "      <td>0.202022</td>\n",
              "      <td>270</td>\n",
              "      <td>0.000008</td>\n",
              "    </tr>\n",
              "  </tbody>\n",
              "</table>\n",
              "</div>"
            ],
            "text/plain": [
              "                    SECTOR  SENTIMENT_MAY  HEADLINES_MAY  RETURN_MAY\n",
              "9               Technology       0.275274            636    0.075271\n",
              "7              Industrials       0.237436            539    0.073894\n",
              "5       Financial Services       0.225462            453    0.061068\n",
              "2        Consumer Cyclical       0.220057            409    0.056382\n",
              "1   Communication Services       0.204507            144    0.041527\n",
              "10               Utilities       0.292018            209    0.032967\n",
              "0          Basic Materials       0.312181            135    0.029613\n",
              "4                   Energy       0.235367            172    0.029434\n",
              "8              Real Estate       0.359962            188    0.010360\n",
              "6               Healthcare       0.278522            446    0.000100\n",
              "3       Consumer Defensive       0.202022            270    0.000008"
            ]
          },
          "metadata": {},
          "output_type": "display_data"
        }
      ],
      "source": [
        "comparison_table = (\n",
        "    may_sentiment\n",
        "        .merge(may_headlines, on=\"SECTOR\", how=\"left\")\n",
        "        .merge(may_returns,  on=\"SECTOR\", how=\"inner\")\n",
        ")\n",
        "\n",
        "# Pearson correlation (May sentiment vs May returns)\n",
        "if not comparison_table.empty and comparison_table[[\"SENTIMENT_MAY\", \"RETURN_MAY\"]].notna().all().all():\n",
        "    corr = comparison_table[[\"SENTIMENT_MAY\", \"RETURN_MAY\"]].corr(method=\"pearson\").iloc[0, 1]\n",
        "else:\n",
        "    corr = np.nan\n",
        "\n",
        "print(f\"Correlation (May 2025 sentiment vs May 2025 returns): {corr:.3f}\")\n",
        "display(comparison_table.sort_values(\"RETURN_MAY\", ascending=False))"
      ]
    },
    {
      "cell_type": "markdown",
      "id": "f00ef898",
      "metadata": {
        "id": "f00ef898"
      },
      "source": [
        "### **Question 1.** Which sectors *looked* good in the news? How did they perform?\n"
      ]
    },
    {
      "cell_type": "markdown",
      "id": "1d9b5f97",
      "metadata": {
        "id": "1d9b5f97"
      },
      "source": [
        "Real State and Basic Materials were the best-looking in sentiment in May 2025; however, the performance in returns was not so good (only 0.02 and 0.01 respectively). We can conclude with this that sentiment not always shows us an accurate result on investing plans."
      ]
    },
    {
      "cell_type": "markdown",
      "id": "ec996906",
      "metadata": {
        "id": "ec996906"
      },
      "source": [
        "### **Question 2.** Which sectors performed well despite neutral/negative sentiment?\n"
      ]
    },
    {
      "cell_type": "markdown",
      "id": "5365837a",
      "metadata": {
        "id": "5365837a"
      },
      "source": [
        "Technology, Industrial and Financial services was the top-3 in returnings on May 2025, despite we can see that sentiment score was relatively low (more neutral).\n",
        "\n"
      ]
    },
    {
      "cell_type": "markdown",
      "id": "fb4df337",
      "metadata": {
        "id": "fb4df337"
      },
      "source": [
        "### **Question 3.**  Would you invest based on sentiment alone? Why or why not?"
      ]
    },
    {
      "cell_type": "markdown",
      "id": "2ce35f83",
      "metadata": {
        "id": "2ce35f83"
      },
      "source": [
        "No — as we could see on previous answers, sentiment alone is not a reliable indicator for investing plans.\n",
        "\n",
        "The correlation for May sentiment vs returns is negative (-0.269).\n",
        "Several high-sentiment sectors (e.g., Real Estate, Basic Materials) underperformed.\n",
        "\n",
        "Market performance depends on many factors (earnings, macro trends, sector rotation, historical prices, news, etc.) beyond media tone."
      ]
    },
    {
      "cell_type": "markdown",
      "id": "e885fca1",
      "metadata": {
        "id": "e885fca1"
      },
      "source": [
        "### **Question 4.**  How would you go about testing a sentiment analysis strategy in a more robust way?"
      ]
    },
    {
      "cell_type": "markdown",
      "id": "a8125c37",
      "metadata": {
        "id": "a8125c37"
      },
      "source": [
        "For a more robust strategy testing a sentiment analysis we could apply the following\n",
        "\n",
        "- Longer time frame: Test across multiple years, not just one month.\n",
        "- Rolling correlation: See if the sentiment-return relationship changes over time.\n",
        "- Lagged analysis: Test whether sentiment leads returns over the time.\n",
        "- Portfolio simulation: Build long/short portfolios based on sentiment ranks and track performance vs benchmarks.\n",
        "- Sector vs ticker level: Compare results at both the sector and individual stock level.\n",
        "- Risk adjustment: Evaluate Sharpe ratio, drawdowns, and volatility, not just raw returns.\n",
        "- Cross-validation: Use walk-forward testing to avoid lookahead bias."
      ]
    }
  ],
  "metadata": {
    "accelerator": "GPU",
    "colab": {
      "gpuType": "T4",
      "provenance": []
    },
    "kernelspec": {
      "display_name": "Python 3",
      "name": "python3"
    },
    "language_info": {
      "codemirror_mode": {
        "name": "ipython",
        "version": 3
      },
      "file_extension": ".py",
      "mimetype": "text/x-python",
      "name": "python",
      "nbconvert_exporter": "python",
      "pygments_lexer": "ipython3",
      "version": "3.9.6"
    }
  },
  "nbformat": 4,
  "nbformat_minor": 5
}
